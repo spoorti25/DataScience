{
 "cells": [
  {
   "cell_type": "markdown",
   "id": "69777a72",
   "metadata": {},
   "source": [
    "## Write a Python program that checks whether a given number is prime or not¶"
   ]
  },
  {
   "cell_type": "markdown",
   "id": "1de54879",
   "metadata": {},
   "source": [
    "## A Prime number is a natural number greater than 1 that has no positive divisors other than 1 and it itself."
   ]
  },
  {
   "cell_type": "code",
   "execution_count": null,
   "id": "1b74e7d8",
   "metadata": {},
   "outputs": [],
   "source": [
    "num=(int(input(\"Enter the number\"))) if num > 1: for i in range(2,num): if(num % i)==0: print(f\"{num} is not a prime number\") break else: print(f\"{num} is a prime number\") else: print(f\"{num} is not a prime number\")"
   ]
  },
  {
   "cell_type": "markdown",
   "id": "6337b9b6",
   "metadata": {},
   "source": [
    "## Task 2"
   ]
  },
  {
   "cell_type": "markdown",
   "id": "776acd6b",
   "metadata": {},
   "source": [
    "## Develop a Python program that generates two random numbers and asks the user to enter the product of these numbers."
   ]
  },
  {
   "cell_type": "markdown",
   "id": "4ca588c4",
   "metadata": {},
   "source": [
    "## The program should then check if the user's answer is correct and display an appropriate message"
   ]
  },
  {
   "cell_type": "code",
   "execution_count": 1,
   "id": "ab26aa33",
   "metadata": {},
   "outputs": [
    {
     "name": "stdout",
     "output_type": "stream",
     "text": [
      "Enter a string: 4\n",
      "'4' is a palindrome.\n"
     ]
    }
   ],
   "source": [
    "def is_palindrome(s):\n",
    "    s = s.replace(\" \", \" \").lower()\n",
    "    return s == s[::-1]\n",
    "string = input(\"Enter a string: \")\n",
    "if is_palindrome(string):\n",
    "    print(f\"'{string}' is a palindrome.\")\n",
    "else:\n",
    "    print(f\"'{string}' is not a palindrome.\")"
   ]
  },
  {
   "cell_type": "markdown",
   "id": "89e717df",
   "metadata": {},
   "source": [
    "## Task 3"
   ]
  },
  {
   "cell_type": "markdown",
   "id": "9265b217",
   "metadata": {},
   "source": [
    "## Create a Python script that prints the squares of all even or odd numbers within the range of 100 to 200"
   ]
  },
  {
   "cell_type": "markdown",
   "id": "169eb44d",
   "metadata": {},
   "source": [
    "## Choose either even or odd numbers and documents your choice in the code"
   ]
  },
  {
   "cell_type": "code",
   "execution_count": 2,
   "id": "5e83e4f2",
   "metadata": {},
   "outputs": [
    {
     "name": "stdout",
     "output_type": "stream",
     "text": [
      "Enter 1 to print squares of all odd numbers from 100 to 200\n",
      "Enter 2 to print squares of all even numbers from 100 to 200\n",
      "Enter your choice: 1\n",
      "Squares of all odd numbers from 100 to 200:\n",
      "101^2 = 10201\n",
      "103^2 = 10609\n",
      "105^2 = 11025\n",
      "107^2 = 11449\n",
      "109^2 = 11881\n",
      "111^2 = 12321\n",
      "113^2 = 12769\n",
      "115^2 = 13225\n",
      "117^2 = 13689\n",
      "119^2 = 14161\n",
      "121^2 = 14641\n",
      "123^2 = 15129\n",
      "125^2 = 15625\n",
      "127^2 = 16129\n",
      "129^2 = 16641\n",
      "131^2 = 17161\n",
      "133^2 = 17689\n",
      "135^2 = 18225\n",
      "137^2 = 18769\n",
      "139^2 = 19321\n",
      "141^2 = 19881\n",
      "143^2 = 20449\n",
      "145^2 = 21025\n",
      "147^2 = 21609\n",
      "149^2 = 22201\n",
      "151^2 = 22801\n",
      "153^2 = 23409\n",
      "155^2 = 24025\n",
      "157^2 = 24649\n",
      "159^2 = 25281\n",
      "161^2 = 25921\n",
      "163^2 = 26569\n",
      "165^2 = 27225\n",
      "167^2 = 27889\n",
      "169^2 = 28561\n",
      "171^2 = 29241\n",
      "173^2 = 29929\n",
      "175^2 = 30625\n",
      "177^2 = 31329\n",
      "179^2 = 32041\n",
      "181^2 = 32761\n",
      "183^2 = 33489\n",
      "185^2 = 34225\n",
      "187^2 = 34969\n",
      "189^2 = 35721\n",
      "191^2 = 36481\n",
      "193^2 = 37249\n",
      "195^2 = 38025\n",
      "197^2 = 38809\n",
      "199^2 = 39601\n"
     ]
    }
   ],
   "source": [
    "print(\"Enter 1 to print squares of all odd numbers from 100 to 200\")\n",
    "print(\"Enter 2 to print squares of all even numbers from 100 to 200\")\n",
    "choice = int(input(\"Enter your choice: \"))\n",
    "if choice == 1:\n",
    "    print(\"Squares of all odd numbers from 100 to 200:\")\n",
    "    for num in range(101, 201, 2): \n",
    "        square = num ** 2\n",
    "        print(f\"{num}^2 = {square}\")\n",
    "elif choice == 2:\n",
    "    print(\"Squares of all even numbers from 100 to 200:\")\n",
    "    for num in range(100, 201, 2):  # Start from 100 to include only even numbers\n",
    "        square = num ** 2\n",
    "        print(f\"{num}^2 = {square}\")\n",
    "else:\n",
    "    print(\"Invalid choice. Please enter either 1 or 2.\")"
   ]
  },
  {
   "cell_type": "markdown",
   "id": "527df1f2",
   "metadata": {},
   "source": [
    "## Task 4"
   ]
  },
  {
   "cell_type": "markdown",
   "id": "a011869e",
   "metadata": {},
   "source": [
    "## Write a program to count the number of words in given words"
   ]
  },
  {
   "cell_type": "code",
   "execution_count": 3,
   "id": "7c5b8b88",
   "metadata": {},
   "outputs": [
    {
     "name": "stdout",
     "output_type": "stream",
     "text": [
      "Enter some text: This\n",
      "Enter a word to find its occurrences in the text: 4\n",
      "Number of words in the text: 1\n",
      "The word '4' appears 0 time(s) in the text.\n"
     ]
    }
   ],
   "source": [
    "def count_words(text):\n",
    "    words = text.split()\n",
    "    return len(words)\n",
    "def count_occurrences(text, word):\n",
    "        words = text.split()\n",
    "        count = words.count(word)\n",
    "        return count\n",
    "text = input(\"Enter some text: \")\n",
    "word_to_find = input(\"Enter a word to find its occurrences in the text: \")\n",
    "total_words = count_words(text)\n",
    "occurrences = count_occurrences(text, word_to_find)\n",
    "print(f\"Number of words in the text: {total_words}\")\n",
    "print(f\"The word '{word_to_find}' appears {occurrences} time(s) in the text.\")"
   ]
  },
  {
   "cell_type": "markdown",
   "id": "8f01828d",
   "metadata": {},
   "source": [
    "## Task 5"
   ]
  },
  {
   "cell_type": "markdown",
   "id": "6c42f23c",
   "metadata": {},
   "source": [
    "## Check for Palindrome"
   ]
  },
  {
   "cell_type": "code",
   "execution_count": 4,
   "id": "1185272b",
   "metadata": {},
   "outputs": [
    {
     "name": "stdout",
     "output_type": "stream",
     "text": [
      "Enter a string: 1 2 1\n",
      "'1 2 1' is a palindrome.\n"
     ]
    }
   ],
   "source": [
    "def is_palindrome(s):\n",
    "    s = s.replace(\" \", \" \").lower()\n",
    "    return s == s[::-1]\n",
    "string = input(\"Enter a string: \")\n",
    "if is_palindrome(string):\n",
    "    print(f\"'{string}' is a palindrome.\")\n",
    "else:\n",
    "    print(f\"'{string}' is not a palindrome.\")"
   ]
  }
 ],
 "metadata": {
  "kernelspec": {
   "display_name": "Python 3 (ipykernel)",
   "language": "python",
   "name": "python3"
  },
  "language_info": {
   "codemirror_mode": {
    "name": "ipython",
    "version": 3
   },
   "file_extension": ".py",
   "mimetype": "text/x-python",
   "name": "python",
   "nbconvert_exporter": "python",
   "pygments_lexer": "ipython3",
   "version": "3.11.5"
  }
 },
 "nbformat": 4,
 "nbformat_minor": 5
}
