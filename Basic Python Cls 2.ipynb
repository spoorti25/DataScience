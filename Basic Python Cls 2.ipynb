{
 "cells": [
  {
   "cell_type": "markdown",
   "id": "1f99dca2",
   "metadata": {},
   "source": [
    "## Lasso Regression"
   ]
  },
  {
   "cell_type": "code",
   "execution_count": 1,
   "id": "aea6c3d7",
   "metadata": {},
   "outputs": [],
   "source": [
    "# libraries\n",
    "import pandas as pd\n",
    "import numpy as np\n",
    "import seaborn as sns\n",
    "import matplotlib.pyplot as plt\n",
    "from sklearn.model_selection import train_test_split\n",
    "from sklearn.linear_model import LinearRegression, Ridge, Lasso, ElasticNet\n",
    "from sklearn.preprocessing import StandardScaler\n",
    "from sklearn.datasets import fetch_california_housing\n",
    "import sklearn.cross_decomposition as cv\n",
    "import sklearn"
   ]
  },
  {
   "cell_type": "code",
   "execution_count": 2,
   "id": "c8970f21",
   "metadata": {},
   "outputs": [],
   "source": [
    "dataset = fetch_california_housing()\n",
    "X = dataset['data']\n",
    "y = dataset['target']\n",
    "X_train, X_test, y_train, y_test = train_test_split(X, y, test_size=0.20, random_state=15)"
   ]
  },
  {
   "cell_type": "code",
   "execution_count": 3,
   "id": "4a7b2d4a",
   "metadata": {},
   "outputs": [
    {
     "data": {
      "text/plain": [
       "{'data': array([[   8.3252    ,   41.        ,    6.98412698, ...,    2.55555556,\n",
       "           37.88      , -122.23      ],\n",
       "        [   8.3014    ,   21.        ,    6.23813708, ...,    2.10984183,\n",
       "           37.86      , -122.22      ],\n",
       "        [   7.2574    ,   52.        ,    8.28813559, ...,    2.80225989,\n",
       "           37.85      , -122.24      ],\n",
       "        ...,\n",
       "        [   1.7       ,   17.        ,    5.20554273, ...,    2.3256351 ,\n",
       "           39.43      , -121.22      ],\n",
       "        [   1.8672    ,   18.        ,    5.32951289, ...,    2.12320917,\n",
       "           39.43      , -121.32      ],\n",
       "        [   2.3886    ,   16.        ,    5.25471698, ...,    2.61698113,\n",
       "           39.37      , -121.24      ]]),\n",
       " 'target': array([4.526, 3.585, 3.521, ..., 0.923, 0.847, 0.894]),\n",
       " 'frame': None,\n",
       " 'target_names': ['MedHouseVal'],\n",
       " 'feature_names': ['MedInc',\n",
       "  'HouseAge',\n",
       "  'AveRooms',\n",
       "  'AveBedrms',\n",
       "  'Population',\n",
       "  'AveOccup',\n",
       "  'Latitude',\n",
       "  'Longitude'],\n",
       " 'DESCR': '.. _california_housing_dataset:\\n\\nCalifornia Housing dataset\\n--------------------------\\n\\n**Data Set Characteristics:**\\n\\n    :Number of Instances: 20640\\n\\n    :Number of Attributes: 8 numeric, predictive attributes and the target\\n\\n    :Attribute Information:\\n        - MedInc        median income in block group\\n        - HouseAge      median house age in block group\\n        - AveRooms      average number of rooms per household\\n        - AveBedrms     average number of bedrooms per household\\n        - Population    block group population\\n        - AveOccup      average number of household members\\n        - Latitude      block group latitude\\n        - Longitude     block group longitude\\n\\n    :Missing Attribute Values: None\\n\\nThis dataset was obtained from the StatLib repository.\\nhttps://www.dcc.fc.up.pt/~ltorgo/Regression/cal_housing.html\\n\\nThe target variable is the median house value for California districts,\\nexpressed in hundreds of thousands of dollars ($100,000).\\n\\nThis dataset was derived from the 1990 U.S. census, using one row per census\\nblock group. A block group is the smallest geographical unit for which the U.S.\\nCensus Bureau publishes sample data (a block group typically has a population\\nof 600 to 3,000 people).\\n\\nA household is a group of people residing within a home. Since the average\\nnumber of rooms and bedrooms in this dataset are provided per household, these\\ncolumns may take surprisingly large values for block groups with few households\\nand many empty houses, such as vacation resorts.\\n\\nIt can be downloaded/loaded using the\\n:func:`sklearn.datasets.fetch_california_housing` function.\\n\\n.. topic:: References\\n\\n    - Pace, R. Kelley and Ronald Barry, Sparse Spatial Autoregressions,\\n      Statistics and Probability Letters, 33 (1997) 291-297\\n'}"
      ]
     },
     "execution_count": 3,
     "metadata": {},
     "output_type": "execute_result"
    }
   ],
   "source": [
    "dataset"
   ]
  },
  {
   "cell_type": "code",
   "execution_count": 4,
   "id": "f30948c8",
   "metadata": {},
   "outputs": [],
   "source": [
    "LR = LinearRegression()\n",
    "LR.fit(X_train,y_train)\n",
    "train_score_LR= LR.score(X_train,y_train)"
   ]
  },
  {
   "cell_type": "code",
   "execution_count": 5,
   "id": "68769b52",
   "metadata": {},
   "outputs": [
    {
     "name": "stdout",
     "output_type": "stream",
     "text": [
      "\n",
      ".....................Lasso Model.................................\n",
      "\n",
      "The train score for the lasso model is0.5488267992849574\n"
     ]
    }
   ],
   "source": [
    "#Lasso regression model\n",
    "print(\"\\n.....................Lasso Model.................................\\n\")\n",
    "lasso = Lasso(alpha = 0.1)\n",
    "lasso.fit(X_train,y_train)\n",
    "train_score_ls =lasso.score(X_train,y_train)\n",
    "print(\"The train score for the lasso model is{}\".format(train_score_ls))"
   ]
  },
  {
   "cell_type": "code",
   "execution_count": 6,
   "id": "5a8a6cba",
   "metadata": {},
   "outputs": [
    {
     "name": "stdout",
     "output_type": "stream",
     "text": [
      "\n",
      "Ridge Model................................................\n",
      "The train score for the ridge model is0.6090156804624769\n"
     ]
    }
   ],
   "source": [
    "#Ridge Regression Model\n",
    "print(\"\\nRidge Model................................................\")\n",
    "ridgeReg = Ridge(alpha=0.1)\n",
    "ridgeReg.fit(X_train,y_train)\n",
    "train_score_ridge =ridgeReg.score(X_train,y_train)\n",
    "print(\"The train score for the ridge model is{}\".format(train_score_ridge))"
   ]
  },
  {
   "cell_type": "code",
   "execution_count": 7,
   "id": "4ad41efe",
   "metadata": {},
   "outputs": [],
   "source": [
    "enet_model = ElasticNet(alpha = 0.1).fit(X_train,y_train)\n",
    "train_enet_score= enet_model.score(X_train,y_train)"
   ]
  },
  {
   "cell_type": "code",
   "execution_count": 8,
   "id": "7ddab433",
   "metadata": {},
   "outputs": [],
   "source": [
    "# Testing a model on testing data set\n",
    "LR_test_score = LR.score(X_test,y_test)\n",
    "lasso_test_score =lasso.score(X_test,y_test)\n",
    "Ridge_test_score =ridgeReg.score(X_test,y_test)\n",
    "enet_test_score = enet_model.score(X_test,y_test)\n",
    "\n",
    "result = pd.DataFrame({'LR score':[train_score_LR,LR_test_score],\n",
    "                      'Lasso score':[train_score_ls,lasso_test_score],\n",
    "                      'Ridge score':[train_score_ridge,Ridge_test_score],\n",
    "                      'Enet score':[train_enet_score,enet_test_score]},\n",
    "                       index = ['Train score','Test score'])"
   ]
  },
  {
   "cell_type": "code",
   "execution_count": 9,
   "id": "75495271",
   "metadata": {},
   "outputs": [
    {
     "name": "stdout",
     "output_type": "stream",
     "text": [
      "             LR score  Lasso score  Ridge score  Enet score\n",
      "Train score  0.609016     0.548827     0.609016    0.579716\n",
      "Test score   0.594579     0.523638     0.594578    0.557387\n"
     ]
    }
   ],
   "source": [
    "print(result)"
   ]
  },
  {
   "cell_type": "code",
   "execution_count": 10,
   "id": "95916d19",
   "metadata": {},
   "outputs": [
    {
     "data": {
      "image/png": "[encoded data removed]",
      "text/plain": [
       "<Figure size 600x600 with 1 Axes>"
      ]
     },
     "metadata": {},
     "output_type": "display_data"
    }
   ],
   "source": [
    "#Lest plot the coefficient for both the linear and ridge models.\n",
    "plt.figure(figsize = (6,6))\n",
    "plt.plot(dataset.feature_names,ridgeReg.coef_,alpha=1,linestyle='none',\n",
    "         marker='*',markersize=5,color='red',label=r'Ridge; $\\alpha = 0.1$',zorder=7)\n",
    "\n",
    "plt.plot(dataset.feature_names,LR.coef_,alpha=0.6,linestyle='none',\n",
    "         marker='o',markersize=7,color='green',label='Linear Regression')\n",
    "\n",
    "plt.plot(dataset.feature_names,lasso.coef_,alpha=0.8,linestyle='none',\n",
    "          marker='x',markersize=9,color='blue',label='Lasso Regression')\n",
    "\n",
    "\n",
    "plt.plot(dataset.feature_names, enet_model.coef_,alpha=0.9,linestyle='none',\n",
    "          marker='d',markersize=10,color='orange',label='ElasticNet Regression')\n",
    "\n",
    "plt.xticks(rotation = 45)\n",
    "plt.title('Comparing the coefficient values of LR, Lasso, Ridge, Enet models')\n",
    "plt.legend()\n",
    "plt.show()"
   ]
  },
  {
   "cell_type": "markdown",
   "id": "1d1b2e63",
   "metadata": {},
   "source": [
    "## Using Cross Validation"
   ]
  },
  {
   "cell_type": "code",
   "execution_count": 11,
   "id": "50b232ed",
   "metadata": {},
   "outputs": [],
   "source": [
    "from sklearn.linear_model import LassoCV,RidgeCV,ElasticNetCV"
   ]
  },
  {
   "cell_type": "markdown",
   "id": "9ea2a96b",
   "metadata": {},
   "source": [
    "## Lasso Cross Validation"
   ]
  },
  {
   "cell_type": "code",
   "execution_count": 12,
   "id": "15ca3909",
   "metadata": {},
   "outputs": [
    {
     "name": "stdout",
     "output_type": "stream",
     "text": [
      "training score:0.6088668691740275\n",
      "0.002\n"
     ]
    }
   ],
   "source": [
    "#Using the linear CV model\n",
    "from sklearn.linear_model import LassoCV,RidgeCV,ElasticNetCV\n",
    "#lasso Cross validation\n",
    "lasso_cv=LassoCV(alphas=[0.0001,0.0002,0.0009,0.0001,0.002,0.0003,0.01,0.1,1,10],\n",
    "                  random_state=10).fit(X_train,y_train)\n",
    "\n",
    "#score\n",
    "print(f'training score:{lasso_cv.score(X_train,y_train)}')\n",
    "print(lasso_cv.alpha_)"
   ]
  },
  {
   "cell_type": "markdown",
   "id": "f80c6877",
   "metadata": {},
   "source": [
    "## Ridge Cross Validation"
   ]
  },
  {
   "cell_type": "code",
   "execution_count": 13,
   "id": "5ac3b422",
   "metadata": {},
   "outputs": [
    {
     "name": "stdout",
     "output_type": "stream",
     "text": [
      "The train score for elasticnetCV model is 0.60883767847806\n"
     ]
    },
    {
     "data": {
      "text/plain": [
       "0.003"
      ]
     },
     "execution_count": 13,
     "metadata": {},
     "output_type": "execute_result"
    }
   ],
   "source": [
    "#Using th#Using the linear CV model\n",
    "from sklearn.linear_model import ElasticNetCV\n",
    "\n",
    "#ElasticNet Cross validation\n",
    "ElasticNet_cv = ElasticNetCV(alphas = [0.001,0.002,0.003,0.025,0.035,0.01,0.02,0.1,0.2,1.1,1.10]).fit(X_train,y_train)\n",
    "\n",
    "#score\n",
    "print(\"The train score for elasticnetCV model is {}\".format(ElasticNet_cv.score(X_train,y_train)))\n",
    "ElasticNet_cv.alpha_\n"
   ]
  },
  {
   "cell_type": "code",
   "execution_count": 14,
   "id": "80b8675e",
   "metadata": {},
   "outputs": [
    {
     "data": {
      "text/plain": [
       "1.3862943611198906"
      ]
     },
     "execution_count": 14,
     "metadata": {},
     "output_type": "execute_result"
    }
   ],
   "source": [
    "np.log(4)"
   ]
  },
  {
   "cell_type": "code",
   "execution_count": 18,
   "id": "bab96e8a",
   "metadata": {},
   "outputs": [
    {
     "name": "stdout",
     "output_type": "stream",
     "text": [
      "[0.0001     0.00021544 0.00046416 0.001      0.00215443 0.00464159\n",
      " 0.01       0.02154435 0.04641589 0.1       ]\n"
     ]
    }
   ],
   "source": [
    "alpha = np.logspace(-4,-1,10)\n",
    "np.empty_like(alpha)\n",
    "print(alpha)"
   ]
  },
  {
   "cell_type": "code",
   "execution_count": 28,
   "id": "26c720e3",
   "metadata": {},
   "outputs": [
    {
     "name": "stdout",
     "output_type": "stream",
     "text": [
      "[0.59454473 0.59450471 0.59441549 0.59420946 0.59370145 0.59230927\n",
      " 0.58792785 0.57907547 0.5666033  0.52363775]\n"
     ]
    }
   ],
   "source": [
    "alpha = np.logspace(-4,-1,10)\n",
    "score = np.empty_like(alpha)\n",
    "\n",
    "for i, a in enumerate(alpha):\n",
    "    lasso=Lasso()\n",
    "    lasso.set_params(alpha=a)\n",
    "    lasso.fit(X_train, y_train)\n",
    "    score[i] = lasso.score(X_test, y_test)\n",
    "\n",
    "print(score)"
   ]
  },
  {
   "cell_type": "code",
   "execution_count": 31,
   "id": "49dc693e",
   "metadata": {},
   "outputs": [
    {
     "name": "stdout",
     "output_type": "stream",
     "text": [
      "0.03221092661065105\n"
     ]
    },
    {
     "data": {
      "image/png": "[encoded data removed]",
      "text/plain": [
       "<Figure size 640x480 with 1 Axes>"
      ]
     },
     "metadata": {},
     "output_type": "display_data"
    }
   ],
   "source": [
    "# comparing alpha values with scores\n",
    "lassocv = LassoCV(random_state=0)\n",
    "lassocv.fit(X,y)\n",
    "lassocv_score = lassocv.score(X,y)\n",
    "lassocv_alpha = lassocv.alpha_\n",
    "print(lasso_alpha)\n",
    "#print('CV', lassocv.coef_)\n",
    "plt.plot(alpha, score, '-ko')\n",
    "plt.axhline(lassocv_score, color='b', ls='--')\n",
    "plt.axvline(lassocv_alpha, color='b', ls='--')\n",
    "plt.xlabel(r'$\\alpha$')\n",
    "plt.ylabel('Score')\n",
    "plt.xscale('log')\n",
    "sns.despine(offset=5)"
   ]
  },
  {
   "cell_type": "markdown",
   "id": "0a913b73",
   "metadata": {},
   "source": [
    "## Model Tuning"
   ]
  },
  {
   "cell_type": "code",
   "execution_count": 34,
   "id": "eeda1247",
   "metadata": {},
   "outputs": [
    {
     "name": "stdout",
     "output_type": "stream",
     "text": [
      "{'fit_time': array([0.1226716 , 0.12167501, 0.09974504, 0.10172701, 0.07080889]), 'score_time': array([0.00099683, 0.00199342, 0.00198388, 0.00199461, 0.0009973 ]), 'estimator': [Pipeline(steps=[('standardscaler', StandardScaler()),\n",
      "                ('ridgecv',\n",
      "                 RidgeCV(alphas=array([1.00000000e-03, 1.37382380e-03, 1.88739182e-03, 2.59294380e-03,\n",
      "       3.56224789e-03, 4.89390092e-03, 6.72335754e-03, 9.23670857e-03,\n",
      "       1.26896100e-02, 1.74332882e-02, 2.39502662e-02, 3.29034456e-02,\n",
      "       4.52035366e-02, 6.21016942e-02, 8.53167852e-02, 1.17210230e-01,\n",
      "       1.61026203e-01, 2.21221629e-01, 3.03919538e-01, 4.17531894e-01,\n",
      "       5.73615251e-01, 7.88046282e-01, 1.08263673e+00, 1.48735211e+00,\n",
      "       2.04335972e+00, 2.80721620e+00, 3.85662042e+00, 5.29831691e+00,\n",
      "       7.27895384e+00, 1.00000000e+01])))]), Pipeline(steps=[('standardscaler', StandardScaler()),\n",
      "                ('ridgecv',\n",
      "                 RidgeCV(alphas=array([1.00000000e-03, 1.37382380e-03, 1.88739182e-03, 2.59294380e-03,\n",
      "       3.56224789e-03, 4.89390092e-03, 6.72335754e-03, 9.23670857e-03,\n",
      "       1.26896100e-02, 1.74332882e-02, 2.39502662e-02, 3.29034456e-02,\n",
      "       4.52035366e-02, 6.21016942e-02, 8.53167852e-02, 1.17210230e-01,\n",
      "       1.61026203e-01, 2.21221629e-01, 3.03919538e-01, 4.17531894e-01,\n",
      "       5.73615251e-01, 7.88046282e-01, 1.08263673e+00, 1.48735211e+00,\n",
      "       2.04335972e+00, 2.80721620e+00, 3.85662042e+00, 5.29831691e+00,\n",
      "       7.27895384e+00, 1.00000000e+01])))]), Pipeline(steps=[('standardscaler', StandardScaler()),\n",
      "                ('ridgecv',\n",
      "                 RidgeCV(alphas=array([1.00000000e-03, 1.37382380e-03, 1.88739182e-03, 2.59294380e-03,\n",
      "       3.56224789e-03, 4.89390092e-03, 6.72335754e-03, 9.23670857e-03,\n",
      "       1.26896100e-02, 1.74332882e-02, 2.39502662e-02, 3.29034456e-02,\n",
      "       4.52035366e-02, 6.21016942e-02, 8.53167852e-02, 1.17210230e-01,\n",
      "       1.61026203e-01, 2.21221629e-01, 3.03919538e-01, 4.17531894e-01,\n",
      "       5.73615251e-01, 7.88046282e-01, 1.08263673e+00, 1.48735211e+00,\n",
      "       2.04335972e+00, 2.80721620e+00, 3.85662042e+00, 5.29831691e+00,\n",
      "       7.27895384e+00, 1.00000000e+01])))]), Pipeline(steps=[('standardscaler', StandardScaler()),\n",
      "                ('ridgecv',\n",
      "                 RidgeCV(alphas=array([1.00000000e-03, 1.37382380e-03, 1.88739182e-03, 2.59294380e-03,\n",
      "       3.56224789e-03, 4.89390092e-03, 6.72335754e-03, 9.23670857e-03,\n",
      "       1.26896100e-02, 1.74332882e-02, 2.39502662e-02, 3.29034456e-02,\n",
      "       4.52035366e-02, 6.21016942e-02, 8.53167852e-02, 1.17210230e-01,\n",
      "       1.61026203e-01, 2.21221629e-01, 3.03919538e-01, 4.17531894e-01,\n",
      "       5.73615251e-01, 7.88046282e-01, 1.08263673e+00, 1.48735211e+00,\n",
      "       2.04335972e+00, 2.80721620e+00, 3.85662042e+00, 5.29831691e+00,\n",
      "       7.27895384e+00, 1.00000000e+01])))]), Pipeline(steps=[('standardscaler', StandardScaler()),\n",
      "                ('ridgecv',\n",
      "                 RidgeCV(alphas=array([1.00000000e-03, 1.37382380e-03, 1.88739182e-03, 2.59294380e-03,\n",
      "       3.56224789e-03, 4.89390092e-03, 6.72335754e-03, 9.23670857e-03,\n",
      "       1.26896100e-02, 1.74332882e-02, 2.39502662e-02, 3.29034456e-02,\n",
      "       4.52035366e-02, 6.21016942e-02, 8.53167852e-02, 1.17210230e-01,\n",
      "       1.61026203e-01, 2.21221629e-01, 3.03919538e-01, 4.17531894e-01,\n",
      "       5.73615251e-01, 7.88046282e-01, 1.08263673e+00, 1.48735211e+00,\n",
      "       2.04335972e+00, 2.80721620e+00, 3.85662042e+00, 5.29831691e+00,\n",
      "       7.27895384e+00, 1.00000000e+01])))])], 'test_score': array([0.63949534, 0.60571284, 0.61115815, 0.56191319, 0.60883357])}\n"
     ]
    }
   ],
   "source": [
    "from sklearn.pipeline import make_pipeline\n",
    "from sklearn.model_selection import cross_validate\n",
    "alphas = np.logspace(-3, 1, num=30)\n",
    "model = make_pipeline(StandardScaler(), RidgeCV(alphas=alphas))\n",
    "cv_results = cross_validate(model,X_train,y_train, return_estimator=True, n_jobs=2)\n",
    "print(cv_results)"
   ]
  },
  {
   "cell_type": "code",
   "execution_count": 36,
   "id": "f761ab30",
   "metadata": {},
   "outputs": [
    {
     "name": "stdout",
     "output_type": "stream",
     "text": [
      "[0.63949534 0.60571284 0.61115815 0.56191319 0.60883357]\n",
      "R2 score: 0.605 ± 0.025\n"
     ]
    }
   ],
   "source": [
    "score = cv_results[\"test_score\"]\n",
    "print(score)\n",
    "print(f\"R2 score: {score.mean():.3f} ± {score.std():.3f}\")"
   ]
  },
  {
   "cell_type": "code",
   "execution_count": 43,
   "id": "104cc99b",
   "metadata": {},
   "outputs": [
    {
     "name": "stdout",
     "output_type": "stream",
     "text": [
      "{'fit_time': array([0.12465882, 0.12266397, 0.11568975, 0.11369538, 0.09275126]), 'score_time': array([0.00199461, 0.00299287, 0.00199556, 0.00199533, 0.00199485]), 'estimator': [Pipeline(steps=[('normalizer', Normalizer()),\n",
      "                ('elasticnetcv',\n",
      "                 ElasticNetCV(alphas=array([1.00000000e-03, 1.37382380e-03, 1.88739182e-03, 2.59294380e-03,\n",
      "       3.56224789e-03, 4.89390092e-03, 6.72335754e-03, 9.23670857e-03,\n",
      "       1.26896100e-02, 1.74332882e-02, 2.39502662e-02, 3.29034456e-02,\n",
      "       4.52035366e-02, 6.21016942e-02, 8.53167852e-02, 1.17210230e-01,\n",
      "       1.61026203e-01, 2.21221629e-01, 3.03919538e-01, 4.17531894e-01,\n",
      "       5.73615251e-01, 7.88046282e-01, 1.08263673e+00, 1.48735211e+00,\n",
      "       2.04335972e+00, 2.80721620e+00, 3.85662042e+00, 5.29831691e+00,\n",
      "       7.27895384e+00, 1.00000000e+01])))]), Pipeline(steps=[('normalizer', Normalizer()),\n",
      "                ('elasticnetcv',\n",
      "                 ElasticNetCV(alphas=array([1.00000000e-03, 1.37382380e-03, 1.88739182e-03, 2.59294380e-03,\n",
      "       3.56224789e-03, 4.89390092e-03, 6.72335754e-03, 9.23670857e-03,\n",
      "       1.26896100e-02, 1.74332882e-02, 2.39502662e-02, 3.29034456e-02,\n",
      "       4.52035366e-02, 6.21016942e-02, 8.53167852e-02, 1.17210230e-01,\n",
      "       1.61026203e-01, 2.21221629e-01, 3.03919538e-01, 4.17531894e-01,\n",
      "       5.73615251e-01, 7.88046282e-01, 1.08263673e+00, 1.48735211e+00,\n",
      "       2.04335972e+00, 2.80721620e+00, 3.85662042e+00, 5.29831691e+00,\n",
      "       7.27895384e+00, 1.00000000e+01])))]), Pipeline(steps=[('normalizer', Normalizer()),\n",
      "                ('elasticnetcv',\n",
      "                 ElasticNetCV(alphas=array([1.00000000e-03, 1.37382380e-03, 1.88739182e-03, 2.59294380e-03,\n",
      "       3.56224789e-03, 4.89390092e-03, 6.72335754e-03, 9.23670857e-03,\n",
      "       1.26896100e-02, 1.74332882e-02, 2.39502662e-02, 3.29034456e-02,\n",
      "       4.52035366e-02, 6.21016942e-02, 8.53167852e-02, 1.17210230e-01,\n",
      "       1.61026203e-01, 2.21221629e-01, 3.03919538e-01, 4.17531894e-01,\n",
      "       5.73615251e-01, 7.88046282e-01, 1.08263673e+00, 1.48735211e+00,\n",
      "       2.04335972e+00, 2.80721620e+00, 3.85662042e+00, 5.29831691e+00,\n",
      "       7.27895384e+00, 1.00000000e+01])))]), Pipeline(steps=[('normalizer', Normalizer()),\n",
      "                ('elasticnetcv',\n",
      "                 ElasticNetCV(alphas=array([1.00000000e-03, 1.37382380e-03, 1.88739182e-03, 2.59294380e-03,\n",
      "       3.56224789e-03, 4.89390092e-03, 6.72335754e-03, 9.23670857e-03,\n",
      "       1.26896100e-02, 1.74332882e-02, 2.39502662e-02, 3.29034456e-02,\n",
      "       4.52035366e-02, 6.21016942e-02, 8.53167852e-02, 1.17210230e-01,\n",
      "       1.61026203e-01, 2.21221629e-01, 3.03919538e-01, 4.17531894e-01,\n",
      "       5.73615251e-01, 7.88046282e-01, 1.08263673e+00, 1.48735211e+00,\n",
      "       2.04335972e+00, 2.80721620e+00, 3.85662042e+00, 5.29831691e+00,\n",
      "       7.27895384e+00, 1.00000000e+01])))]), Pipeline(steps=[('normalizer', Normalizer()),\n",
      "                ('elasticnetcv',\n",
      "                 ElasticNetCV(alphas=array([1.00000000e-03, 1.37382380e-03, 1.88739182e-03, 2.59294380e-03,\n",
      "       3.56224789e-03, 4.89390092e-03, 6.72335754e-03, 9.23670857e-03,\n",
      "       1.26896100e-02, 1.74332882e-02, 2.39502662e-02, 3.29034456e-02,\n",
      "       4.52035366e-02, 6.21016942e-02, 8.53167852e-02, 1.17210230e-01,\n",
      "       1.61026203e-01, 2.21221629e-01, 3.03919538e-01, 4.17531894e-01,\n",
      "       5.73615251e-01, 7.88046282e-01, 1.08263673e+00, 1.48735211e+00,\n",
      "       2.04335972e+00, 2.80721620e+00, 3.85662042e+00, 5.29831691e+00,\n",
      "       7.27895384e+00, 1.00000000e+01])))])], 'test_score': array([0.01279964, 0.01245014, 0.0104701 , 0.01036338, 0.01206318])}\n"
     ]
    }
   ],
   "source": [
    "from sklearn.preprocessing import Normalizer\n",
    "alphas = np.logspace(-3, 1, num=30)\n",
    "model=make_pipeline(Normalizer(), ElasticNetCV(alphas=alphas))\n",
    "cv_results = cross_validate(model,X_train,y_train, return_estimator=True, n_jobs=2)\n",
    "print(cv_results)"
   ]
  },
  {
   "cell_type": "code",
   "execution_count": 44,
   "id": "9c25be11",
   "metadata": {},
   "outputs": [
    {
     "name": "stdout",
     "output_type": "stream",
     "text": [
      "Defaulting to user installation because normal site-packages is not writeable\n",
      "Collecting ucimlrepo\n",
      "  Obtaining dependency information for ucimlrepo from https://files.pythonhosted.org/packages/3b/07/1252560194df2b4fad1cb3c46081b948331c63eb1bb0b97620d508d12a53/ucimlrepo-0.0.7-py3-none-any.whl.metadata\n",
      "  Downloading ucimlrepo-0.0.7-py3-none-any.whl.metadata (5.5 kB)\n",
      "Requirement already satisfied: pandas>=1.0.0 in c:\\programdata\\anaconda3\\lib\\site-packages (from ucimlrepo) (2.0.3)\n",
      "Requirement already satisfied: certifi>=2020.12.5 in c:\\programdata\\anaconda3\\lib\\site-packages (from ucimlrepo) (2024.2.2)\n",
      "Requirement already satisfied: python-dateutil>=2.8.2 in c:\\programdata\\anaconda3\\lib\\site-packages (from pandas>=1.0.0->ucimlrepo) (2.8.2)\n",
      "Requirement already satisfied: pytz>=2020.1 in c:\\programdata\\anaconda3\\lib\\site-packages (from pandas>=1.0.0->ucimlrepo) (2023.3.post1)\n",
      "Requirement already satisfied: tzdata>=2022.1 in c:\\programdata\\anaconda3\\lib\\site-packages (from pandas>=1.0.0->ucimlrepo) (2023.3)\n",
      "Requirement already satisfied: numpy>=1.21.0 in c:\\programdata\\anaconda3\\lib\\site-packages (from pandas>=1.0.0->ucimlrepo) (1.24.3)\n",
      "Requirement already satisfied: six>=1.5 in c:\\programdata\\anaconda3\\lib\\site-packages (from python-dateutil>=2.8.2->pandas>=1.0.0->ucimlrepo) (1.16.0)\n",
      "Downloading ucimlrepo-0.0.7-py3-none-any.whl (8.0 kB)\n",
      "Installing collected packages: ucimlrepo\n",
      "Successfully installed ucimlrepo-0.0.7\n"
     ]
    }
   ],
   "source": [
    "!pip install ucimlrepo\n"
   ]
  },
  {
   "cell_type": "code",
   "execution_count": 45,
   "id": "7449f866",
   "metadata": {},
   "outputs": [
    {
     "ename": "ConnectionError",
     "evalue": "Error connecting to server",
     "output_type": "error",
     "traceback": [
      "\u001b[1;31m---------------------------------------------------------------------------\u001b[0m",
      "\u001b[1;31mTimeoutError\u001b[0m                              Traceback (most recent call last)",
      "File \u001b[1;32mC:\\ProgramData\\anaconda3\\Lib\\urllib\\request.py:1348\u001b[0m, in \u001b[0;36mAbstractHTTPHandler.do_open\u001b[1;34m(self, http_class, req, **http_conn_args)\u001b[0m\n\u001b[0;32m   1347\u001b[0m \u001b[38;5;28;01mtry\u001b[39;00m:\n\u001b[1;32m-> 1348\u001b[0m     h\u001b[38;5;241m.\u001b[39mrequest(req\u001b[38;5;241m.\u001b[39mget_method(), req\u001b[38;5;241m.\u001b[39mselector, req\u001b[38;5;241m.\u001b[39mdata, headers,\n\u001b[0;32m   1349\u001b[0m               encode_chunked\u001b[38;5;241m=\u001b[39mreq\u001b[38;5;241m.\u001b[39mhas_header(\u001b[38;5;124m'\u001b[39m\u001b[38;5;124mTransfer-encoding\u001b[39m\u001b[38;5;124m'\u001b[39m))\n\u001b[0;32m   1350\u001b[0m \u001b[38;5;28;01mexcept\u001b[39;00m \u001b[38;5;167;01mOSError\u001b[39;00m \u001b[38;5;28;01mas\u001b[39;00m err: \u001b[38;5;66;03m# timeout error\u001b[39;00m\n",
      "File \u001b[1;32mC:\\ProgramData\\anaconda3\\Lib\\http\\client.py:1286\u001b[0m, in \u001b[0;36mHTTPConnection.request\u001b[1;34m(self, method, url, body, headers, encode_chunked)\u001b[0m\n\u001b[0;32m   1285\u001b[0m \u001b[38;5;250m\u001b[39m\u001b[38;5;124;03m\"\"\"Send a complete request to the server.\"\"\"\u001b[39;00m\n\u001b[1;32m-> 1286\u001b[0m \u001b[38;5;28mself\u001b[39m\u001b[38;5;241m.\u001b[39m_send_request(method, url, body, headers, encode_chunked)\n",
      "File \u001b[1;32mC:\\ProgramData\\anaconda3\\Lib\\http\\client.py:1332\u001b[0m, in \u001b[0;36mHTTPConnection._send_request\u001b[1;34m(self, method, url, body, headers, encode_chunked)\u001b[0m\n\u001b[0;32m   1331\u001b[0m     body \u001b[38;5;241m=\u001b[39m _encode(body, \u001b[38;5;124m'\u001b[39m\u001b[38;5;124mbody\u001b[39m\u001b[38;5;124m'\u001b[39m)\n\u001b[1;32m-> 1332\u001b[0m \u001b[38;5;28mself\u001b[39m\u001b[38;5;241m.\u001b[39mendheaders(body, encode_chunked\u001b[38;5;241m=\u001b[39mencode_chunked)\n",
      "File \u001b[1;32mC:\\ProgramData\\anaconda3\\Lib\\http\\client.py:1281\u001b[0m, in \u001b[0;36mHTTPConnection.endheaders\u001b[1;34m(self, message_body, encode_chunked)\u001b[0m\n\u001b[0;32m   1280\u001b[0m     \u001b[38;5;28;01mraise\u001b[39;00m CannotSendHeader()\n\u001b[1;32m-> 1281\u001b[0m \u001b[38;5;28mself\u001b[39m\u001b[38;5;241m.\u001b[39m_send_output(message_body, encode_chunked\u001b[38;5;241m=\u001b[39mencode_chunked)\n",
      "File \u001b[1;32mC:\\ProgramData\\anaconda3\\Lib\\http\\client.py:1041\u001b[0m, in \u001b[0;36mHTTPConnection._send_output\u001b[1;34m(self, message_body, encode_chunked)\u001b[0m\n\u001b[0;32m   1040\u001b[0m \u001b[38;5;28;01mdel\u001b[39;00m \u001b[38;5;28mself\u001b[39m\u001b[38;5;241m.\u001b[39m_buffer[:]\n\u001b[1;32m-> 1041\u001b[0m \u001b[38;5;28mself\u001b[39m\u001b[38;5;241m.\u001b[39msend(msg)\n\u001b[0;32m   1043\u001b[0m \u001b[38;5;28;01mif\u001b[39;00m message_body \u001b[38;5;129;01mis\u001b[39;00m \u001b[38;5;129;01mnot\u001b[39;00m \u001b[38;5;28;01mNone\u001b[39;00m:\n\u001b[0;32m   1044\u001b[0m \n\u001b[0;32m   1045\u001b[0m     \u001b[38;5;66;03m# create a consistent interface to message_body\u001b[39;00m\n",
      "File \u001b[1;32mC:\\ProgramData\\anaconda3\\Lib\\http\\client.py:979\u001b[0m, in \u001b[0;36mHTTPConnection.send\u001b[1;34m(self, data)\u001b[0m\n\u001b[0;32m    978\u001b[0m \u001b[38;5;28;01mif\u001b[39;00m \u001b[38;5;28mself\u001b[39m\u001b[38;5;241m.\u001b[39mauto_open:\n\u001b[1;32m--> 979\u001b[0m     \u001b[38;5;28mself\u001b[39m\u001b[38;5;241m.\u001b[39mconnect()\n\u001b[0;32m    980\u001b[0m \u001b[38;5;28;01melse\u001b[39;00m:\n",
      "File \u001b[1;32mC:\\ProgramData\\anaconda3\\Lib\\http\\client.py:1451\u001b[0m, in \u001b[0;36mHTTPSConnection.connect\u001b[1;34m(self)\u001b[0m\n\u001b[0;32m   1449\u001b[0m \u001b[38;5;124m\"\u001b[39m\u001b[38;5;124mConnect to a host on a given (SSL) port.\u001b[39m\u001b[38;5;124m\"\u001b[39m\n\u001b[1;32m-> 1451\u001b[0m \u001b[38;5;28msuper\u001b[39m()\u001b[38;5;241m.\u001b[39mconnect()\n\u001b[0;32m   1453\u001b[0m \u001b[38;5;28;01mif\u001b[39;00m \u001b[38;5;28mself\u001b[39m\u001b[38;5;241m.\u001b[39m_tunnel_host:\n",
      "File \u001b[1;32mC:\\ProgramData\\anaconda3\\Lib\\http\\client.py:945\u001b[0m, in \u001b[0;36mHTTPConnection.connect\u001b[1;34m(self)\u001b[0m\n\u001b[0;32m    944\u001b[0m sys\u001b[38;5;241m.\u001b[39maudit(\u001b[38;5;124m\"\u001b[39m\u001b[38;5;124mhttp.client.connect\u001b[39m\u001b[38;5;124m\"\u001b[39m, \u001b[38;5;28mself\u001b[39m, \u001b[38;5;28mself\u001b[39m\u001b[38;5;241m.\u001b[39mhost, \u001b[38;5;28mself\u001b[39m\u001b[38;5;241m.\u001b[39mport)\n\u001b[1;32m--> 945\u001b[0m \u001b[38;5;28mself\u001b[39m\u001b[38;5;241m.\u001b[39msock \u001b[38;5;241m=\u001b[39m \u001b[38;5;28mself\u001b[39m\u001b[38;5;241m.\u001b[39m_create_connection(\n\u001b[0;32m    946\u001b[0m     (\u001b[38;5;28mself\u001b[39m\u001b[38;5;241m.\u001b[39mhost,\u001b[38;5;28mself\u001b[39m\u001b[38;5;241m.\u001b[39mport), \u001b[38;5;28mself\u001b[39m\u001b[38;5;241m.\u001b[39mtimeout, \u001b[38;5;28mself\u001b[39m\u001b[38;5;241m.\u001b[39msource_address)\n\u001b[0;32m    947\u001b[0m \u001b[38;5;66;03m# Might fail in OSs that don't implement TCP_NODELAY\u001b[39;00m\n",
      "File \u001b[1;32mC:\\ProgramData\\anaconda3\\Lib\\socket.py:851\u001b[0m, in \u001b[0;36mcreate_connection\u001b[1;34m(address, timeout, source_address, all_errors)\u001b[0m\n\u001b[0;32m    850\u001b[0m \u001b[38;5;28;01mif\u001b[39;00m \u001b[38;5;129;01mnot\u001b[39;00m all_errors:\n\u001b[1;32m--> 851\u001b[0m     \u001b[38;5;28;01mraise\u001b[39;00m exceptions[\u001b[38;5;241m0\u001b[39m]\n\u001b[0;32m    852\u001b[0m \u001b[38;5;28;01mraise\u001b[39;00m ExceptionGroup(\u001b[38;5;124m\"\u001b[39m\u001b[38;5;124mcreate_connection failed\u001b[39m\u001b[38;5;124m\"\u001b[39m, exceptions)\n",
      "File \u001b[1;32mC:\\ProgramData\\anaconda3\\Lib\\socket.py:836\u001b[0m, in \u001b[0;36mcreate_connection\u001b[1;34m(address, timeout, source_address, all_errors)\u001b[0m\n\u001b[0;32m    835\u001b[0m     sock\u001b[38;5;241m.\u001b[39mbind(source_address)\n\u001b[1;32m--> 836\u001b[0m sock\u001b[38;5;241m.\u001b[39mconnect(sa)\n\u001b[0;32m    837\u001b[0m \u001b[38;5;66;03m# Break explicitly a reference cycle\u001b[39;00m\n",
      "\u001b[1;31mTimeoutError\u001b[0m: [WinError 10060] A connection attempt failed because the connected party did not properly respond after a period of time, or established connection failed because connected host has failed to respond",
      "\nDuring handling of the above exception, another exception occurred:\n",
      "\u001b[1;31mURLError\u001b[0m                                  Traceback (most recent call last)",
      "File \u001b[1;32m~\\AppData\\Roaming\\Python\\Python311\\site-packages\\ucimlrepo\\fetch.py:68\u001b[0m, in \u001b[0;36mfetch_ucirepo\u001b[1;34m(name, id)\u001b[0m\n\u001b[0;32m     67\u001b[0m \u001b[38;5;28;01mtry\u001b[39;00m:\n\u001b[1;32m---> 68\u001b[0m     response \u001b[38;5;241m=\u001b[39m urllib\u001b[38;5;241m.\u001b[39mrequest\u001b[38;5;241m.\u001b[39murlopen(api_url, context\u001b[38;5;241m=\u001b[39mssl\u001b[38;5;241m.\u001b[39mcreate_default_context(cafile\u001b[38;5;241m=\u001b[39mcertifi\u001b[38;5;241m.\u001b[39mwhere()))\n\u001b[0;32m     69\u001b[0m     data \u001b[38;5;241m=\u001b[39m json\u001b[38;5;241m.\u001b[39mload(response)\n",
      "File \u001b[1;32mC:\\ProgramData\\anaconda3\\Lib\\urllib\\request.py:216\u001b[0m, in \u001b[0;36murlopen\u001b[1;34m(url, data, timeout, cafile, capath, cadefault, context)\u001b[0m\n\u001b[0;32m    215\u001b[0m     opener \u001b[38;5;241m=\u001b[39m _opener\n\u001b[1;32m--> 216\u001b[0m \u001b[38;5;28;01mreturn\u001b[39;00m opener\u001b[38;5;241m.\u001b[39mopen(url, data, timeout)\n",
      "File \u001b[1;32mC:\\ProgramData\\anaconda3\\Lib\\urllib\\request.py:519\u001b[0m, in \u001b[0;36mOpenerDirector.open\u001b[1;34m(self, fullurl, data, timeout)\u001b[0m\n\u001b[0;32m    518\u001b[0m sys\u001b[38;5;241m.\u001b[39maudit(\u001b[38;5;124m'\u001b[39m\u001b[38;5;124murllib.Request\u001b[39m\u001b[38;5;124m'\u001b[39m, req\u001b[38;5;241m.\u001b[39mfull_url, req\u001b[38;5;241m.\u001b[39mdata, req\u001b[38;5;241m.\u001b[39mheaders, req\u001b[38;5;241m.\u001b[39mget_method())\n\u001b[1;32m--> 519\u001b[0m response \u001b[38;5;241m=\u001b[39m \u001b[38;5;28mself\u001b[39m\u001b[38;5;241m.\u001b[39m_open(req, data)\n\u001b[0;32m    521\u001b[0m \u001b[38;5;66;03m# post-process response\u001b[39;00m\n",
      "File \u001b[1;32mC:\\ProgramData\\anaconda3\\Lib\\urllib\\request.py:536\u001b[0m, in \u001b[0;36mOpenerDirector._open\u001b[1;34m(self, req, data)\u001b[0m\n\u001b[0;32m    535\u001b[0m protocol \u001b[38;5;241m=\u001b[39m req\u001b[38;5;241m.\u001b[39mtype\n\u001b[1;32m--> 536\u001b[0m result \u001b[38;5;241m=\u001b[39m \u001b[38;5;28mself\u001b[39m\u001b[38;5;241m.\u001b[39m_call_chain(\u001b[38;5;28mself\u001b[39m\u001b[38;5;241m.\u001b[39mhandle_open, protocol, protocol \u001b[38;5;241m+\u001b[39m\n\u001b[0;32m    537\u001b[0m                           \u001b[38;5;124m'\u001b[39m\u001b[38;5;124m_open\u001b[39m\u001b[38;5;124m'\u001b[39m, req)\n\u001b[0;32m    538\u001b[0m \u001b[38;5;28;01mif\u001b[39;00m result:\n",
      "File \u001b[1;32mC:\\ProgramData\\anaconda3\\Lib\\urllib\\request.py:496\u001b[0m, in \u001b[0;36mOpenerDirector._call_chain\u001b[1;34m(self, chain, kind, meth_name, *args)\u001b[0m\n\u001b[0;32m    495\u001b[0m func \u001b[38;5;241m=\u001b[39m \u001b[38;5;28mgetattr\u001b[39m(handler, meth_name)\n\u001b[1;32m--> 496\u001b[0m result \u001b[38;5;241m=\u001b[39m func(\u001b[38;5;241m*\u001b[39margs)\n\u001b[0;32m    497\u001b[0m \u001b[38;5;28;01mif\u001b[39;00m result \u001b[38;5;129;01mis\u001b[39;00m \u001b[38;5;129;01mnot\u001b[39;00m \u001b[38;5;28;01mNone\u001b[39;00m:\n",
      "File \u001b[1;32mC:\\ProgramData\\anaconda3\\Lib\\urllib\\request.py:1391\u001b[0m, in \u001b[0;36mHTTPSHandler.https_open\u001b[1;34m(self, req)\u001b[0m\n\u001b[0;32m   1390\u001b[0m \u001b[38;5;28;01mdef\u001b[39;00m \u001b[38;5;21mhttps_open\u001b[39m(\u001b[38;5;28mself\u001b[39m, req):\n\u001b[1;32m-> 1391\u001b[0m     \u001b[38;5;28;01mreturn\u001b[39;00m \u001b[38;5;28mself\u001b[39m\u001b[38;5;241m.\u001b[39mdo_open(http\u001b[38;5;241m.\u001b[39mclient\u001b[38;5;241m.\u001b[39mHTTPSConnection, req,\n\u001b[0;32m   1392\u001b[0m         context\u001b[38;5;241m=\u001b[39m\u001b[38;5;28mself\u001b[39m\u001b[38;5;241m.\u001b[39m_context, check_hostname\u001b[38;5;241m=\u001b[39m\u001b[38;5;28mself\u001b[39m\u001b[38;5;241m.\u001b[39m_check_hostname)\n",
      "File \u001b[1;32mC:\\ProgramData\\anaconda3\\Lib\\urllib\\request.py:1351\u001b[0m, in \u001b[0;36mAbstractHTTPHandler.do_open\u001b[1;34m(self, http_class, req, **http_conn_args)\u001b[0m\n\u001b[0;32m   1350\u001b[0m \u001b[38;5;28;01mexcept\u001b[39;00m \u001b[38;5;167;01mOSError\u001b[39;00m \u001b[38;5;28;01mas\u001b[39;00m err: \u001b[38;5;66;03m# timeout error\u001b[39;00m\n\u001b[1;32m-> 1351\u001b[0m     \u001b[38;5;28;01mraise\u001b[39;00m URLError(err)\n\u001b[0;32m   1352\u001b[0m r \u001b[38;5;241m=\u001b[39m h\u001b[38;5;241m.\u001b[39mgetresponse()\n",
      "\u001b[1;31mURLError\u001b[0m: <urlopen error [WinError 10060] A connection attempt failed because the connected party did not properly respond after a period of time, or established connection failed because connected host has failed to respond>",
      "\nDuring handling of the above exception, another exception occurred:\n",
      "\u001b[1;31mConnectionError\u001b[0m                           Traceback (most recent call last)",
      "Cell \u001b[1;32mIn[45], line 3\u001b[0m\n\u001b[0;32m      1\u001b[0m \u001b[38;5;28;01mfrom\u001b[39;00m \u001b[38;5;21;01mucimlrepo\u001b[39;00m \u001b[38;5;28;01mimport\u001b[39;00m fetch_ucirepo\n\u001b[0;32m      2\u001b[0m \u001b[38;5;66;03m# fetch dataset\u001b[39;00m\n\u001b[1;32m----> 3\u001b[0m wine_quality \u001b[38;5;241m=\u001b[39m fetch_ucirepo(\u001b[38;5;28mid\u001b[39m\u001b[38;5;241m=\u001b[39m\u001b[38;5;241m186\u001b[39m)\n",
      "File \u001b[1;32m~\\AppData\\Roaming\\Python\\Python311\\site-packages\\ucimlrepo\\fetch.py:71\u001b[0m, in \u001b[0;36mfetch_ucirepo\u001b[1;34m(name, id)\u001b[0m\n\u001b[0;32m     69\u001b[0m     data \u001b[38;5;241m=\u001b[39m json\u001b[38;5;241m.\u001b[39mload(response)\n\u001b[0;32m     70\u001b[0m \u001b[38;5;28;01mexcept\u001b[39;00m (urllib\u001b[38;5;241m.\u001b[39merror\u001b[38;5;241m.\u001b[39mURLError, urllib\u001b[38;5;241m.\u001b[39merror\u001b[38;5;241m.\u001b[39mHTTPError):\n\u001b[1;32m---> 71\u001b[0m     \u001b[38;5;28;01mraise\u001b[39;00m \u001b[38;5;167;01mConnectionError\u001b[39;00m(\u001b[38;5;124m'\u001b[39m\u001b[38;5;124mError connecting to server\u001b[39m\u001b[38;5;124m'\u001b[39m)\n\u001b[0;32m     73\u001b[0m \u001b[38;5;66;03m# verify that dataset exists \u001b[39;00m\n\u001b[0;32m     74\u001b[0m \u001b[38;5;28;01mif\u001b[39;00m data[\u001b[38;5;124m'\u001b[39m\u001b[38;5;124mstatus\u001b[39m\u001b[38;5;124m'\u001b[39m] \u001b[38;5;241m!=\u001b[39m \u001b[38;5;241m200\u001b[39m:\n",
      "\u001b[1;31mConnectionError\u001b[0m: Error connecting to server"
     ]
    }
   ],
   "source": [
    "from ucimlrepo import fetch_ucirepo\n",
    "# fetch dataset\n",
    "wine_quality = fetch_ucirepo(id=186)\n"
   ]
  },
  {
   "cell_type": "markdown",
   "id": "1722279e",
   "metadata": {},
   "source": [
    "## Task 18th July"
   ]
  },
  {
   "cell_type": "code",
   "execution_count": 1,
   "id": "d172e68b",
   "metadata": {},
   "outputs": [
    {
     "data": {
      "text/html": [
       "<div>\n",
       "<style scoped>\n",
       "    .dataframe tbody tr th:only-of-type {\n",
       "        vertical-align: middle;\n",
       "    }\n",
       "\n",
       "    .dataframe tbody tr th {\n",
       "        vertical-align: top;\n",
       "    }\n",
       "\n",
       "    .dataframe thead th {\n",
       "        text-align: right;\n",
       "    }\n",
       "</style>\n",
       "<table border=\"1\" class=\"dataframe\">\n",
       "  <thead>\n",
       "    <tr style=\"text-align: right;\">\n",
       "      <th></th>\n",
       "      <th>Row ID</th>\n",
       "      <th>Order Priority</th>\n",
       "      <th>Discount</th>\n",
       "      <th>Unit Price</th>\n",
       "      <th>Shipping Cost</th>\n",
       "      <th>Customer ID</th>\n",
       "      <th>Customer Name</th>\n",
       "      <th>Ship Mode</th>\n",
       "      <th>Customer Segment</th>\n",
       "      <th>Product Category</th>\n",
       "      <th>...</th>\n",
       "      <th>Region</th>\n",
       "      <th>State or Province</th>\n",
       "      <th>City</th>\n",
       "      <th>Postal Code</th>\n",
       "      <th>Order Date</th>\n",
       "      <th>Ship Date</th>\n",
       "      <th>Profit</th>\n",
       "      <th>Quantity ordered new</th>\n",
       "      <th>Sales</th>\n",
       "      <th>Order ID</th>\n",
       "    </tr>\n",
       "  </thead>\n",
       "  <tbody>\n",
       "    <tr>\n",
       "      <th>0</th>\n",
       "      <td>20847</td>\n",
       "      <td>High</td>\n",
       "      <td>0.01</td>\n",
       "      <td>2.84</td>\n",
       "      <td>0.93</td>\n",
       "      <td>3</td>\n",
       "      <td>Bonnie Potter</td>\n",
       "      <td>Express Air</td>\n",
       "      <td>Corporate</td>\n",
       "      <td>Office Supplies</td>\n",
       "      <td>...</td>\n",
       "      <td>West</td>\n",
       "      <td>Washington</td>\n",
       "      <td>Anacortes</td>\n",
       "      <td>98221</td>\n",
       "      <td>01 7 2015</td>\n",
       "      <td>01 8 2015</td>\n",
       "      <td>4.5600</td>\n",
       "      <td>4</td>\n",
       "      <td>13.01</td>\n",
       "      <td>88522</td>\n",
       "    </tr>\n",
       "    <tr>\n",
       "      <th>1</th>\n",
       "      <td>20228</td>\n",
       "      <td>Not Specified</td>\n",
       "      <td>0.02</td>\n",
       "      <td>500.98</td>\n",
       "      <td>26.00</td>\n",
       "      <td>5</td>\n",
       "      <td>Ronnie Proctor</td>\n",
       "      <td>Delivery Truck</td>\n",
       "      <td>Home Office</td>\n",
       "      <td>Furniture</td>\n",
       "      <td>...</td>\n",
       "      <td>West</td>\n",
       "      <td>California</td>\n",
       "      <td>San Gabriel</td>\n",
       "      <td>91776</td>\n",
       "      <td>06 13 2015</td>\n",
       "      <td>06 15 2015</td>\n",
       "      <td>4390.3665</td>\n",
       "      <td>12</td>\n",
       "      <td>6362.85</td>\n",
       "      <td>90193</td>\n",
       "    </tr>\n",
       "    <tr>\n",
       "      <th>2</th>\n",
       "      <td>21776</td>\n",
       "      <td>Critical</td>\n",
       "      <td>0.06</td>\n",
       "      <td>9.48</td>\n",
       "      <td>7.29</td>\n",
       "      <td>11</td>\n",
       "      <td>Marcus Dunlap</td>\n",
       "      <td>Regular Air</td>\n",
       "      <td>Home Office</td>\n",
       "      <td>Furniture</td>\n",
       "      <td>...</td>\n",
       "      <td>East</td>\n",
       "      <td>New Jersey</td>\n",
       "      <td>Roselle</td>\n",
       "      <td>7203</td>\n",
       "      <td>02 15 2015</td>\n",
       "      <td>02 17 2015</td>\n",
       "      <td>-53.8096</td>\n",
       "      <td>22</td>\n",
       "      <td>211.15</td>\n",
       "      <td>90192</td>\n",
       "    </tr>\n",
       "    <tr>\n",
       "      <th>3</th>\n",
       "      <td>24844</td>\n",
       "      <td>Medium</td>\n",
       "      <td>0.09</td>\n",
       "      <td>78.69</td>\n",
       "      <td>19.99</td>\n",
       "      <td>14</td>\n",
       "      <td>Gwendolyn F Tyson</td>\n",
       "      <td>Regular Air</td>\n",
       "      <td>Small Business</td>\n",
       "      <td>Furniture</td>\n",
       "      <td>...</td>\n",
       "      <td>Central</td>\n",
       "      <td>Minnesota</td>\n",
       "      <td>Prior Lake</td>\n",
       "      <td>55372</td>\n",
       "      <td>05 12 2015</td>\n",
       "      <td>05 14 2015</td>\n",
       "      <td>803.4705</td>\n",
       "      <td>16</td>\n",
       "      <td>1164.45</td>\n",
       "      <td>86838</td>\n",
       "    </tr>\n",
       "    <tr>\n",
       "      <th>4</th>\n",
       "      <td>24846</td>\n",
       "      <td>Medium</td>\n",
       "      <td>0.08</td>\n",
       "      <td>3.28</td>\n",
       "      <td>2.31</td>\n",
       "      <td>14</td>\n",
       "      <td>Gwendolyn F Tyson</td>\n",
       "      <td>Regular Air</td>\n",
       "      <td>Small Business</td>\n",
       "      <td>Office Supplies</td>\n",
       "      <td>...</td>\n",
       "      <td>Central</td>\n",
       "      <td>Minnesota</td>\n",
       "      <td>Prior Lake</td>\n",
       "      <td>55372</td>\n",
       "      <td>05 12 2015</td>\n",
       "      <td>05 13 2015</td>\n",
       "      <td>-24.0300</td>\n",
       "      <td>7</td>\n",
       "      <td>22.23</td>\n",
       "      <td>86838</td>\n",
       "    </tr>\n",
       "  </tbody>\n",
       "</table>\n",
       "<p>5 rows × 25 columns</p>\n",
       "</div>"
      ],
      "text/plain": [
       "   Row ID Order Priority  Discount  Unit Price  Shipping Cost  Customer ID  \\\n",
       "0   20847           High      0.01        2.84           0.93            3   \n",
       "1   20228  Not Specified      0.02      500.98          26.00            5   \n",
       "2   21776       Critical      0.06        9.48           7.29           11   \n",
       "3   24844         Medium      0.09       78.69          19.99           14   \n",
       "4   24846         Medium      0.08        3.28           2.31           14   \n",
       "\n",
       "       Customer Name       Ship Mode Customer Segment Product Category  ...  \\\n",
       "0      Bonnie Potter     Express Air        Corporate  Office Supplies  ...   \n",
       "1     Ronnie Proctor  Delivery Truck      Home Office        Furniture  ...   \n",
       "2      Marcus Dunlap     Regular Air      Home Office        Furniture  ...   \n",
       "3  Gwendolyn F Tyson     Regular Air   Small Business        Furniture  ...   \n",
       "4  Gwendolyn F Tyson     Regular Air   Small Business  Office Supplies  ...   \n",
       "\n",
       "    Region State or Province         City  Postal Code  Order Date  \\\n",
       "0     West        Washington    Anacortes        98221   01 7 2015   \n",
       "1     West        California  San Gabriel        91776  06 13 2015   \n",
       "2     East        New Jersey      Roselle         7203  02 15 2015   \n",
       "3  Central         Minnesota   Prior Lake        55372  05 12 2015   \n",
       "4  Central         Minnesota   Prior Lake        55372  05 12 2015   \n",
       "\n",
       "    Ship Date     Profit Quantity ordered new    Sales Order ID  \n",
       "0   01 8 2015     4.5600                    4    13.01    88522  \n",
       "1  06 15 2015  4390.3665                   12  6362.85    90193  \n",
       "2  02 17 2015   -53.8096                   22   211.15    90192  \n",
       "3  05 14 2015   803.4705                   16  1164.45    86838  \n",
       "4  05 13 2015   -24.0300                    7    22.23    86838  \n",
       "\n",
       "[5 rows x 25 columns]"
      ]
     },
     "execution_count": 1,
     "metadata": {},
     "output_type": "execute_result"
    }
   ],
   "source": [
    "import pandas as pd\n",
    "import numpy as np\n",
    "# Read dataset using pandas\n",
    "df = pd.read_csv(r\"C:\\Users\\J G TECH\\Downloads\\Sales.csv\")\n",
    "df.head()"
   ]
  },
  {
   "cell_type": "code",
   "execution_count": 2,
   "id": "57561567",
   "metadata": {},
   "outputs": [
    {
     "data": {
      "text/plain": [
       "Row ID                    int64\n",
       "Order Priority           object\n",
       "Discount                float64\n",
       "Unit Price              float64\n",
       "Shipping Cost           float64\n",
       "Customer ID               int64\n",
       "Customer Name            object\n",
       "Ship Mode                object\n",
       "Customer Segment         object\n",
       "Product Category         object\n",
       "Product Sub-Category     object\n",
       "Product Container        object\n",
       "Product Name             object\n",
       "Product Base Margin     float64\n",
       "Country                  object\n",
       "Region                   object\n",
       "State or Province        object\n",
       "City                     object\n",
       "Postal Code               int64\n",
       "Order Date               object\n",
       "Ship Date                object\n",
       "Profit                  float64\n",
       "Quantity ordered new      int64\n",
       "Sales                   float64\n",
       "Order ID                  int64\n",
       "dtype: object"
      ]
     },
     "execution_count": 2,
     "metadata": {},
     "output_type": "execute_result"
    }
   ],
   "source": [
    "df.dtypes"
   ]
  },
  {
   "cell_type": "code",
   "execution_count": 3,
   "id": "37408f7d",
   "metadata": {},
   "outputs": [
    {
     "data": {
      "text/html": [
       "<div>\n",
       "<style scoped>\n",
       "    .dataframe tbody tr th:only-of-type {\n",
       "        vertical-align: middle;\n",
       "    }\n",
       "\n",
       "    .dataframe tbody tr th {\n",
       "        vertical-align: top;\n",
       "    }\n",
       "\n",
       "    .dataframe thead th {\n",
       "        text-align: right;\n",
       "    }\n",
       "</style>\n",
       "<table border=\"1\" class=\"dataframe\">\n",
       "  <thead>\n",
       "    <tr style=\"text-align: right;\">\n",
       "      <th></th>\n",
       "      <th>Row ID</th>\n",
       "      <th>Order Priority</th>\n",
       "      <th>Discount</th>\n",
       "      <th>Unit Price</th>\n",
       "      <th>Shipping Cost</th>\n",
       "      <th>Customer ID</th>\n",
       "      <th>Customer Name</th>\n",
       "      <th>Ship Mode</th>\n",
       "      <th>Customer Segment</th>\n",
       "      <th>Product Category</th>\n",
       "      <th>...</th>\n",
       "      <th>Region</th>\n",
       "      <th>State or Province</th>\n",
       "      <th>City</th>\n",
       "      <th>Postal Code</th>\n",
       "      <th>Order Date</th>\n",
       "      <th>Ship Date</th>\n",
       "      <th>Profit</th>\n",
       "      <th>Quantity ordered new</th>\n",
       "      <th>Sales</th>\n",
       "      <th>Order ID</th>\n",
       "    </tr>\n",
       "  </thead>\n",
       "  <tbody>\n",
       "    <tr>\n",
       "      <th>1947</th>\n",
       "      <td>19842</td>\n",
       "      <td>High</td>\n",
       "      <td>0.01</td>\n",
       "      <td>10.90</td>\n",
       "      <td>7.46</td>\n",
       "      <td>3397</td>\n",
       "      <td>Andrea Shaw</td>\n",
       "      <td>Regular Air</td>\n",
       "      <td>Small Business</td>\n",
       "      <td>Office Supplies</td>\n",
       "      <td>...</td>\n",
       "      <td>Central</td>\n",
       "      <td>Illinois</td>\n",
       "      <td>Danville</td>\n",
       "      <td>61832</td>\n",
       "      <td>03 11 2015</td>\n",
       "      <td>03 12 2015</td>\n",
       "      <td>-116.7600</td>\n",
       "      <td>18</td>\n",
       "      <td>207.31</td>\n",
       "      <td>87536</td>\n",
       "    </tr>\n",
       "    <tr>\n",
       "      <th>1948</th>\n",
       "      <td>19843</td>\n",
       "      <td>High</td>\n",
       "      <td>0.10</td>\n",
       "      <td>7.99</td>\n",
       "      <td>5.03</td>\n",
       "      <td>3397</td>\n",
       "      <td>Andrea Shaw</td>\n",
       "      <td>Regular Air</td>\n",
       "      <td>Small Business</td>\n",
       "      <td>Technology</td>\n",
       "      <td>...</td>\n",
       "      <td>Central</td>\n",
       "      <td>Illinois</td>\n",
       "      <td>Danville</td>\n",
       "      <td>61832</td>\n",
       "      <td>03 11 2015</td>\n",
       "      <td>03 12 2015</td>\n",
       "      <td>-160.9520</td>\n",
       "      <td>22</td>\n",
       "      <td>143.12</td>\n",
       "      <td>87536</td>\n",
       "    </tr>\n",
       "    <tr>\n",
       "      <th>1949</th>\n",
       "      <td>26208</td>\n",
       "      <td>Not Specified</td>\n",
       "      <td>0.08</td>\n",
       "      <td>11.97</td>\n",
       "      <td>5.81</td>\n",
       "      <td>3399</td>\n",
       "      <td>Marvin Reid</td>\n",
       "      <td>Regular Air</td>\n",
       "      <td>Small Business</td>\n",
       "      <td>Office Supplies</td>\n",
       "      <td>...</td>\n",
       "      <td>Central</td>\n",
       "      <td>Illinois</td>\n",
       "      <td>Des Plaines</td>\n",
       "      <td>60016</td>\n",
       "      <td>03 29 2015</td>\n",
       "      <td>03 31 2015</td>\n",
       "      <td>-41.8700</td>\n",
       "      <td>5</td>\n",
       "      <td>59.98</td>\n",
       "      <td>87534</td>\n",
       "    </tr>\n",
       "    <tr>\n",
       "      <th>1950</th>\n",
       "      <td>24911</td>\n",
       "      <td>Medium</td>\n",
       "      <td>0.10</td>\n",
       "      <td>9.38</td>\n",
       "      <td>4.93</td>\n",
       "      <td>3400</td>\n",
       "      <td>Florence Gold</td>\n",
       "      <td>Express Air</td>\n",
       "      <td>Small Business</td>\n",
       "      <td>Furniture</td>\n",
       "      <td>...</td>\n",
       "      <td>East</td>\n",
       "      <td>West Virginia</td>\n",
       "      <td>Fairmont</td>\n",
       "      <td>26554</td>\n",
       "      <td>04 4 2015</td>\n",
       "      <td>04 4 2015</td>\n",
       "      <td>-24.7104</td>\n",
       "      <td>15</td>\n",
       "      <td>135.78</td>\n",
       "      <td>87537</td>\n",
       "    </tr>\n",
       "    <tr>\n",
       "      <th>1951</th>\n",
       "      <td>25914</td>\n",
       "      <td>High</td>\n",
       "      <td>0.10</td>\n",
       "      <td>105.98</td>\n",
       "      <td>13.99</td>\n",
       "      <td>3403</td>\n",
       "      <td>Tammy Buckley</td>\n",
       "      <td>Express Air</td>\n",
       "      <td>Consumer</td>\n",
       "      <td>Furniture</td>\n",
       "      <td>...</td>\n",
       "      <td>West</td>\n",
       "      <td>Wyoming</td>\n",
       "      <td>Cheyenne</td>\n",
       "      <td>82001</td>\n",
       "      <td>02 8 2015</td>\n",
       "      <td>02 11 2015</td>\n",
       "      <td>349.4850</td>\n",
       "      <td>5</td>\n",
       "      <td>506.50</td>\n",
       "      <td>87530</td>\n",
       "    </tr>\n",
       "  </tbody>\n",
       "</table>\n",
       "<p>5 rows × 25 columns</p>\n",
       "</div>"
      ],
      "text/plain": [
       "      Row ID Order Priority  Discount  Unit Price  Shipping Cost  Customer ID  \\\n",
       "1947   19842           High      0.01       10.90           7.46         3397   \n",
       "1948   19843           High      0.10        7.99           5.03         3397   \n",
       "1949   26208  Not Specified      0.08       11.97           5.81         3399   \n",
       "1950   24911         Medium      0.10        9.38           4.93         3400   \n",
       "1951   25914           High      0.10      105.98          13.99         3403   \n",
       "\n",
       "      Customer Name    Ship Mode Customer Segment Product Category  ...  \\\n",
       "1947    Andrea Shaw  Regular Air   Small Business  Office Supplies  ...   \n",
       "1948    Andrea Shaw  Regular Air   Small Business       Technology  ...   \n",
       "1949    Marvin Reid  Regular Air   Small Business  Office Supplies  ...   \n",
       "1950  Florence Gold  Express Air   Small Business        Furniture  ...   \n",
       "1951  Tammy Buckley  Express Air         Consumer        Furniture  ...   \n",
       "\n",
       "       Region State or Province         City  Postal Code  Order Date  \\\n",
       "1947  Central          Illinois     Danville        61832  03 11 2015   \n",
       "1948  Central          Illinois     Danville        61832  03 11 2015   \n",
       "1949  Central          Illinois  Des Plaines        60016  03 29 2015   \n",
       "1950     East     West Virginia     Fairmont        26554   04 4 2015   \n",
       "1951     West           Wyoming     Cheyenne        82001   02 8 2015   \n",
       "\n",
       "       Ship Date    Profit Quantity ordered new   Sales Order ID  \n",
       "1947  03 12 2015 -116.7600                   18  207.31    87536  \n",
       "1948  03 12 2015 -160.9520                   22  143.12    87536  \n",
       "1949  03 31 2015  -41.8700                    5   59.98    87534  \n",
       "1950   04 4 2015  -24.7104                   15  135.78    87537  \n",
       "1951  02 11 2015  349.4850                    5  506.50    87530  \n",
       "\n",
       "[5 rows x 25 columns]"
      ]
     },
     "execution_count": 3,
     "metadata": {},
     "output_type": "execute_result"
    }
   ],
   "source": [
    "df.tail()"
   ]
  },
  {
   "cell_type": "code",
   "execution_count": 4,
   "id": "1647d959",
   "metadata": {},
   "outputs": [
    {
     "data": {
      "text/plain": [
       "Index(['Row ID', 'Order Priority', 'Discount', 'Unit Price', 'Shipping Cost',\n",
       "       'Customer ID', 'Customer Name', 'Ship Mode', 'Customer Segment',\n",
       "       'Product Category', 'Product Sub-Category', 'Product Container',\n",
       "       'Product Name', 'Product Base Margin', 'Country', 'Region',\n",
       "       'State or Province', 'City', 'Postal Code', 'Order Date', 'Ship Date',\n",
       "       'Profit', 'Quantity ordered new', 'Sales', 'Order ID'],\n",
       "      dtype='object')"
      ]
     },
     "execution_count": 4,
     "metadata": {},
     "output_type": "execute_result"
    }
   ],
   "source": [
    "df.columns"
   ]
  },
  {
   "cell_type": "code",
   "execution_count": 5,
   "id": "8d9e3ca3",
   "metadata": {},
   "outputs": [
    {
     "name": "stdout",
     "output_type": "stream",
     "text": [
      "<class 'pandas.core.frame.DataFrame'>\n",
      "RangeIndex: 1952 entries, 0 to 1951\n",
      "Data columns (total 25 columns):\n",
      " #   Column                Non-Null Count  Dtype  \n",
      "---  ------                --------------  -----  \n",
      " 0   Row ID                1952 non-null   int64  \n",
      " 1   Order Priority        1952 non-null   object \n",
      " 2   Discount              1952 non-null   float64\n",
      " 3   Unit Price            1952 non-null   float64\n",
      " 4   Shipping Cost         1952 non-null   float64\n",
      " 5   Customer ID           1952 non-null   int64  \n",
      " 6   Customer Name         1952 non-null   object \n",
      " 7   Ship Mode             1952 non-null   object \n",
      " 8   Customer Segment      1952 non-null   object \n",
      " 9   Product Category      1952 non-null   object \n",
      " 10  Product Sub-Category  1952 non-null   object \n",
      " 11  Product Container     1952 non-null   object \n",
      " 12  Product Name          1952 non-null   object \n",
      " 13  Product Base Margin   1936 non-null   float64\n",
      " 14  Country               1952 non-null   object \n",
      " 15  Region                1952 non-null   object \n",
      " 16  State or Province     1952 non-null   object \n",
      " 17  City                  1952 non-null   object \n",
      " 18  Postal Code           1952 non-null   int64  \n",
      " 19  Order Date            1952 non-null   object \n",
      " 20  Ship Date             1952 non-null   object \n",
      " 21  Profit                1952 non-null   float64\n",
      " 22  Quantity ordered new  1952 non-null   int64  \n",
      " 23  Sales                 1952 non-null   float64\n",
      " 24  Order ID              1952 non-null   int64  \n",
      "dtypes: float64(6), int64(5), object(14)\n",
      "memory usage: 381.4+ KB\n"
     ]
    }
   ],
   "source": [
    "df.info()"
   ]
  },
  {
   "cell_type": "code",
   "execution_count": 6,
   "id": "487e8d59",
   "metadata": {},
   "outputs": [
    {
     "data": {
      "text/plain": [
       "0        01 7 2015\n",
       "1       06 13 2015\n",
       "2       02 15 2015\n",
       "3       05 12 2015\n",
       "4       05 12 2015\n",
       "           ...    \n",
       "1947    03 11 2015\n",
       "1948    03 11 2015\n",
       "1949    03 29 2015\n",
       "1950     04 4 2015\n",
       "1951     02 8 2015\n",
       "Name: Order Date, Length: 1952, dtype: object"
      ]
     },
     "execution_count": 6,
     "metadata": {},
     "output_type": "execute_result"
    }
   ],
   "source": [
    "df['Order Date']"
   ]
  },
  {
   "cell_type": "code",
   "execution_count": 7,
   "id": "d817b5c6",
   "metadata": {},
   "outputs": [],
   "source": [
    "df['Order Date'] = pd.to_datetime(df['Order Date'], format='mixed')"
   ]
  },
  {
   "cell_type": "code",
   "execution_count": 8,
   "id": "e25d8cd4",
   "metadata": {},
   "outputs": [
    {
     "data": {
      "text/plain": [
       "0      2015-01-07\n",
       "1      2015-06-13\n",
       "2      2015-02-15\n",
       "3      2015-05-12\n",
       "4      2015-05-12\n",
       "          ...    \n",
       "1947   2015-03-11\n",
       "1948   2015-03-11\n",
       "1949   2015-03-29\n",
       "1950   2015-04-04\n",
       "1951   2015-02-08\n",
       "Name: Order Date, Length: 1952, dtype: datetime64[ns]"
      ]
     },
     "execution_count": 8,
     "metadata": {},
     "output_type": "execute_result"
    }
   ],
   "source": [
    "df['Order Date']"
   ]
  },
  {
   "cell_type": "code",
   "execution_count": 9,
   "id": "699d9d1e",
   "metadata": {},
   "outputs": [],
   "source": [
    "df['Customer Name'] = df['Customer Name'].astype('string') "
   ]
  },
  {
   "cell_type": "code",
   "execution_count": 10,
   "id": "139a03df",
   "metadata": {},
   "outputs": [
    {
     "data": {
      "text/plain": [
       "0           Bonnie Potter\n",
       "1          Ronnie Proctor\n",
       "2           Marcus Dunlap\n",
       "3       Gwendolyn F Tyson\n",
       "4       Gwendolyn F Tyson\n",
       "              ...        \n",
       "1947          Andrea Shaw\n",
       "1948          Andrea Shaw\n",
       "1949          Marvin Reid\n",
       "1950        Florence Gold\n",
       "1951        Tammy Buckley\n",
       "Name: Customer Name, Length: 1952, dtype: string"
      ]
     },
     "execution_count": 10,
     "metadata": {},
     "output_type": "execute_result"
    }
   ],
   "source": [
    "df['Customer Name']"
   ]
  },
  {
   "cell_type": "code",
   "execution_count": 11,
   "id": "38fe32a2",
   "metadata": {},
   "outputs": [
    {
     "data": {
      "text/plain": [
       "0        Bonnie Potter\n",
       "1       Ronnie Proctor\n",
       "2        Marcus Dunlap\n",
       "3    Gwendolyn F Tyson\n",
       "4    Gwendolyn F Tyson\n",
       "Name: Customer Name, dtype: string"
      ]
     },
     "execution_count": 11,
     "metadata": {},
     "output_type": "execute_result"
    }
   ],
   "source": [
    "df['Customer Name'].head()"
   ]
  },
  {
   "cell_type": "code",
   "execution_count": 12,
   "id": "5abd1cca",
   "metadata": {},
   "outputs": [
    {
     "name": "stdout",
     "output_type": "stream",
     "text": [
      "Help on function astype in module pandas.core.generic:\n",
      "\n",
      "astype(self: 'NDFrameT', dtype, copy: 'bool_t | None' = None, errors: 'IgnoreRaise' = 'raise') -> 'NDFrameT'\n",
      "    Cast a pandas object to a specified dtype ``dtype``.\n",
      "    \n",
      "    Parameters\n",
      "    ----------\n",
      "    dtype : str, data type, Series or Mapping of column name -> data type\n",
      "        Use a str, numpy.dtype, pandas.ExtensionDtype or Python type to\n",
      "        cast entire pandas object to the same type. Alternatively, use a\n",
      "        mapping, e.g. {col: dtype, ...}, where col is a column label and dtype is\n",
      "        a numpy.dtype or Python type to cast one or more of the DataFrame's\n",
      "        columns to column-specific types.\n",
      "    copy : bool, default True\n",
      "        Return a copy when ``copy=True`` (be very careful setting\n",
      "        ``copy=False`` as changes to values then may propagate to other\n",
      "        pandas objects).\n",
      "    errors : {'raise', 'ignore'}, default 'raise'\n",
      "        Control raising of exceptions on invalid data for provided dtype.\n",
      "    \n",
      "        - ``raise`` : allow exceptions to be raised\n",
      "        - ``ignore`` : suppress exceptions. On error return original object.\n",
      "    \n",
      "    Returns\n",
      "    -------\n",
      "    same type as caller\n",
      "    \n",
      "    See Also\n",
      "    --------\n",
      "    to_datetime : Convert argument to datetime.\n",
      "    to_timedelta : Convert argument to timedelta.\n",
      "    to_numeric : Convert argument to a numeric type.\n",
      "    numpy.ndarray.astype : Cast a numpy array to a specified type.\n",
      "    \n",
      "    Notes\n",
      "    -----\n",
      "    .. versionchanged:: 2.0.0\n",
      "    \n",
      "        Using ``astype`` to convert from timezone-naive dtype to\n",
      "        timezone-aware dtype will raise an exception.\n",
      "        Use :meth:`Series.dt.tz_localize` instead.\n",
      "    \n",
      "    Examples\n",
      "    --------\n",
      "    Create a DataFrame:\n",
      "    \n",
      "    >>> d = {'col1': [1, 2], 'col2': [3, 4]}\n",
      "    >>> df = pd.DataFrame(data=d)\n",
      "    >>> df.dtypes\n",
      "    col1    int64\n",
      "    col2    int64\n",
      "    dtype: object\n",
      "    \n",
      "    Cast all columns to int32:\n",
      "    \n",
      "    >>> df.astype('int32').dtypes\n",
      "    col1    int32\n",
      "    col2    int32\n",
      "    dtype: object\n",
      "    \n",
      "    Cast col1 to int32 using a dictionary:\n",
      "    \n",
      "    >>> df.astype({'col1': 'int32'}).dtypes\n",
      "    col1    int32\n",
      "    col2    int64\n",
      "    dtype: object\n",
      "    \n",
      "    Create a series:\n",
      "    \n",
      "    >>> ser = pd.Series([1, 2], dtype='int32')\n",
      "    >>> ser\n",
      "    0    1\n",
      "    1    2\n",
      "    dtype: int32\n",
      "    >>> ser.astype('int64')\n",
      "    0    1\n",
      "    1    2\n",
      "    dtype: int64\n",
      "    \n",
      "    Convert to categorical type:\n",
      "    \n",
      "    >>> ser.astype('category')\n",
      "    0    1\n",
      "    1    2\n",
      "    dtype: category\n",
      "    Categories (2, int32): [1, 2]\n",
      "    \n",
      "    Convert to ordered categorical type with custom ordering:\n",
      "    \n",
      "    >>> from pandas.api.types import CategoricalDtype\n",
      "    >>> cat_dtype = CategoricalDtype(\n",
      "    ...     categories=[2, 1], ordered=True)\n",
      "    >>> ser.astype(cat_dtype)\n",
      "    0    1\n",
      "    1    2\n",
      "    dtype: category\n",
      "    Categories (2, int64): [2 < 1]\n",
      "    \n",
      "    Create a series of dates:\n",
      "    \n",
      "    >>> ser_date = pd.Series(pd.date_range('20200101', periods=3))\n",
      "    >>> ser_date\n",
      "    0   2020-01-01\n",
      "    1   2020-01-02\n",
      "    2   2020-01-03\n",
      "    dtype: datetime64[ns]\n",
      "\n"
     ]
    }
   ],
   "source": [
    "help(pd.Series.astype)"
   ]
  },
  {
   "cell_type": "code",
   "execution_count": 13,
   "id": "fb4a9244",
   "metadata": {},
   "outputs": [],
   "source": [
    "df['Order Priority'] = df['Order Priority'].astype('string') \n",
    "df['Customer ID'] = df['Customer ID'].astype('bool') \n",
    "df['Country'] = df['Country'].astype('string') \n",
    "df['Region'] = df['Region'].astype('string') \n",
    "df['Profit'] = df['Profit'].astype('bool') \n",
    "df['City'] = df['City'].astype('string') "
   ]
  },
  {
   "cell_type": "code",
   "execution_count": 14,
   "id": "7b890f34",
   "metadata": {},
   "outputs": [
    {
     "data": {
      "text/plain": [
       "Row ID                           int64\n",
       "Order Priority          string[python]\n",
       "Discount                       float64\n",
       "Unit Price                     float64\n",
       "Shipping Cost                  float64\n",
       "Customer ID                       bool\n",
       "Customer Name           string[python]\n",
       "Ship Mode                       object\n",
       "Customer Segment                object\n",
       "Product Category                object\n",
       "Product Sub-Category            object\n",
       "Product Container               object\n",
       "Product Name                    object\n",
       "Product Base Margin            float64\n",
       "Country                 string[python]\n",
       "Region                  string[python]\n",
       "State or Province               object\n",
       "City                    string[python]\n",
       "Postal Code                      int64\n",
       "Order Date              datetime64[ns]\n",
       "Ship Date                       object\n",
       "Profit                            bool\n",
       "Quantity ordered new             int64\n",
       "Sales                          float64\n",
       "Order ID                         int64\n",
       "dtype: object"
      ]
     },
     "execution_count": 14,
     "metadata": {},
     "output_type": "execute_result"
    }
   ],
   "source": [
    "df.dtypes"
   ]
  },
  {
   "cell_type": "code",
   "execution_count": 15,
   "id": "3524beb2",
   "metadata": {},
   "outputs": [],
   "source": [
    "columns = {'Customer Name':'Customer_Name', \n",
    "           'Order Date':'Order_date', \n",
    "           'Order Priority':'Order_Priority', \n",
    "            'State or Province':'State/Province', \n",
    "           'Ship Mode':'Ship_Mode'}\n",
    "df.rename(columns = columns, inplace=True)"
   ]
  },
  {
   "cell_type": "code",
   "execution_count": 16,
   "id": "3e98db2d",
   "metadata": {},
   "outputs": [
    {
     "data": {
      "text/plain": [
       "(Index(['Row ID', 'Order_Priority', 'Discount', 'Unit Price', 'Shipping Cost',\n",
       "        'Customer ID', 'Customer_Name', 'Ship_Mode', 'Customer Segment',\n",
       "        'Product Category', 'Product Sub-Category', 'Product Container',\n",
       "        'Product Name', 'Product Base Margin', 'Country', 'Region',\n",
       "        'State/Province', 'City', 'Postal Code', 'Order_date', 'Ship Date',\n",
       "        'Profit', 'Quantity ordered new', 'Sales', 'Order ID'],\n",
       "       dtype='object'),\n",
       " (1952, 25))"
      ]
     },
     "execution_count": 16,
     "metadata": {},
     "output_type": "execute_result"
    }
   ],
   "source": [
    "df.columns, df.shape"
   ]
  },
  {
   "cell_type": "code",
   "execution_count": 17,
   "id": "163a64fb",
   "metadata": {},
   "outputs": [
    {
     "data": {
      "text/plain": [
       "Row ID                  1951\n",
       "Order_Priority             6\n",
       "Discount                  13\n",
       "Unit Price               597\n",
       "Shipping Cost            497\n",
       "Customer ID                1\n",
       "Customer_Name           1130\n",
       "Ship_Mode                  3\n",
       "Customer Segment           4\n",
       "Product Category           3\n",
       "Product Sub-Category      17\n",
       "Product Container          7\n",
       "Product Name             913\n",
       "Product Base Margin       51\n",
       "Country                    1\n",
       "Region                     4\n",
       "State/Province            49\n",
       "City                     869\n",
       "Postal Code              981\n",
       "Order_date               179\n",
       "Ship Date                187\n",
       "Profit                     1\n",
       "Quantity ordered new      76\n",
       "Sales                   1922\n",
       "Order ID                1365\n",
       "dtype: int64"
      ]
     },
     "execution_count": 17,
     "metadata": {},
     "output_type": "execute_result"
    }
   ],
   "source": [
    "df.nunique()"
   ]
  },
  {
   "cell_type": "code",
   "execution_count": 18,
   "id": "39008725",
   "metadata": {},
   "outputs": [
    {
     "data": {
      "text/plain": [
       "Region\n",
       "Central    566\n",
       "East       474\n",
       "West       470\n",
       "South      442\n",
       "Name: count, dtype: Int64"
      ]
     },
     "execution_count": 18,
     "metadata": {},
     "output_type": "execute_result"
    }
   ],
   "source": [
    "df['Region'].value_counts()"
   ]
  },
  {
   "cell_type": "code",
   "execution_count": 19,
   "id": "10393a73",
   "metadata": {},
   "outputs": [
    {
     "data": {
      "text/plain": [
       "Product Category\n",
       "Office Supplies    1071\n",
       "Technology          481\n",
       "Furniture           400\n",
       "Name: count, dtype: int64"
      ]
     },
     "execution_count": 19,
     "metadata": {},
     "output_type": "execute_result"
    }
   ],
   "source": [
    "df['Product Category'].value_counts()"
   ]
  },
  {
   "cell_type": "markdown",
   "id": "a3875f1c",
   "metadata": {},
   "source": [
    "## Handling Missing Values"
   ]
  },
  {
   "cell_type": "code",
   "execution_count": 20,
   "id": "da0ddf60",
   "metadata": {},
   "outputs": [
    {
     "data": {
      "text/plain": [
       "(Row ID                   0\n",
       " Order_Priority           0\n",
       " Discount                 0\n",
       " Unit Price               0\n",
       " Shipping Cost            0\n",
       " Customer ID              0\n",
       " Customer_Name            0\n",
       " Ship_Mode                0\n",
       " Customer Segment         0\n",
       " Product Category         0\n",
       " Product Sub-Category     0\n",
       " Product Container        0\n",
       " Product Name             0\n",
       " Product Base Margin     16\n",
       " Country                  0\n",
       " Region                   0\n",
       " State/Province           0\n",
       " City                     0\n",
       " Postal Code              0\n",
       " Order_date               0\n",
       " Ship Date                0\n",
       " Profit                   0\n",
       " Quantity ordered new     0\n",
       " Sales                    0\n",
       " Order ID                 0\n",
       " dtype: int64,\n",
       " Row ID                   0\n",
       " Order_Priority           0\n",
       " Discount                 0\n",
       " Unit Price               0\n",
       " Shipping Cost            0\n",
       " Customer ID              0\n",
       " Customer_Name            0\n",
       " Ship_Mode                0\n",
       " Customer Segment         0\n",
       " Product Category         0\n",
       " Product Sub-Category     0\n",
       " Product Container        0\n",
       " Product Name             0\n",
       " Product Base Margin     16\n",
       " Country                  0\n",
       " Region                   0\n",
       " State/Province           0\n",
       " City                     0\n",
       " Postal Code              0\n",
       " Order_date               0\n",
       " Ship Date                0\n",
       " Profit                   0\n",
       " Quantity ordered new     0\n",
       " Sales                    0\n",
       " Order ID                 0\n",
       " dtype: int64)"
      ]
     },
     "execution_count": 20,
     "metadata": {},
     "output_type": "execute_result"
    }
   ],
   "source": [
    "df.isnull().sum(), df.isna().sum()"
   ]
  },
  {
   "cell_type": "code",
   "execution_count": 21,
   "id": "2063566d",
   "metadata": {},
   "outputs": [],
   "source": [
    "df[\"Order_Priority\"].fillna(\"Order_Priority\", inplace = True)"
   ]
  },
  {
   "cell_type": "code",
   "execution_count": 22,
   "id": "a30433cd",
   "metadata": {},
   "outputs": [
    {
     "data": {
      "text/plain": [
       "0"
      ]
     },
     "execution_count": 22,
     "metadata": {},
     "output_type": "execute_result"
    }
   ],
   "source": [
    "df[\"Order_Priority\"].isnull().sum()"
   ]
  },
  {
   "cell_type": "code",
   "execution_count": 23,
   "id": "0d42de90",
   "metadata": {},
   "outputs": [
    {
     "data": {
      "text/plain": [
       "'Central'"
      ]
     },
     "execution_count": 23,
     "metadata": {},
     "output_type": "execute_result"
    }
   ],
   "source": [
    "df['Region'].mode()[0]"
   ]
  },
  {
   "cell_type": "code",
   "execution_count": 24,
   "id": "9a4783ab",
   "metadata": {},
   "outputs": [
    {
     "data": {
      "text/plain": [
       "Row ID                   0\n",
       "Order_Priority           0\n",
       "Discount                 0\n",
       "Unit Price               0\n",
       "Shipping Cost            0\n",
       "Customer ID              0\n",
       "Customer_Name            0\n",
       "Ship_Mode                0\n",
       "Customer Segment         0\n",
       "Product Category         0\n",
       "Product Sub-Category     0\n",
       "Product Container        0\n",
       "Product Name             0\n",
       "Product Base Margin     16\n",
       "Country                  0\n",
       "Region                   0\n",
       "State/Province           0\n",
       "City                     0\n",
       "Postal Code              0\n",
       "Order_date               0\n",
       "Ship Date                0\n",
       "Profit                   0\n",
       "Quantity ordered new     0\n",
       "Sales                    0\n",
       "Order ID                 0\n",
       "dtype: int64"
      ]
     },
     "execution_count": 24,
     "metadata": {},
     "output_type": "execute_result"
    }
   ],
   "source": [
    "df.isnull().sum()"
   ]
  },
  {
   "cell_type": "code",
   "execution_count": 25,
   "id": "caf94a13",
   "metadata": {},
   "outputs": [],
   "source": [
    "df = df.dropna(axis = 0, how ='any')"
   ]
  },
  {
   "cell_type": "code",
   "execution_count": 26,
   "id": "08232447",
   "metadata": {},
   "outputs": [
    {
     "data": {
      "text/plain": [
       "Row ID                  0\n",
       "Order_Priority          0\n",
       "Discount                0\n",
       "Unit Price              0\n",
       "Shipping Cost           0\n",
       "Customer ID             0\n",
       "Customer_Name           0\n",
       "Ship_Mode               0\n",
       "Customer Segment        0\n",
       "Product Category        0\n",
       "Product Sub-Category    0\n",
       "Product Container       0\n",
       "Product Name            0\n",
       "Product Base Margin     0\n",
       "Country                 0\n",
       "Region                  0\n",
       "State/Province          0\n",
       "City                    0\n",
       "Postal Code             0\n",
       "Order_date              0\n",
       "Ship Date               0\n",
       "Profit                  0\n",
       "Quantity ordered new    0\n",
       "Sales                   0\n",
       "Order ID                0\n",
       "dtype: int64"
      ]
     },
     "execution_count": 26,
     "metadata": {},
     "output_type": "execute_result"
    }
   ],
   "source": [
    "df.isnull().sum()"
   ]
  },
  {
   "cell_type": "code",
   "execution_count": 27,
   "id": "d931997b",
   "metadata": {},
   "outputs": [
    {
     "name": "stdout",
     "output_type": "stream",
     "text": [
      "<class 'pandas.core.frame.DataFrame'>\n",
      "Index: 1936 entries, 0 to 1951\n",
      "Data columns (total 25 columns):\n",
      " #   Column                Non-Null Count  Dtype         \n",
      "---  ------                --------------  -----         \n",
      " 0   Row ID                1936 non-null   int64         \n",
      " 1   Order_Priority        1936 non-null   string        \n",
      " 2   Discount              1936 non-null   float64       \n",
      " 3   Unit Price            1936 non-null   float64       \n",
      " 4   Shipping Cost         1936 non-null   float64       \n",
      " 5   Customer ID           1936 non-null   bool          \n",
      " 6   Customer_Name         1936 non-null   string        \n",
      " 7   Ship_Mode             1936 non-null   object        \n",
      " 8   Customer Segment      1936 non-null   object        \n",
      " 9   Product Category      1936 non-null   object        \n",
      " 10  Product Sub-Category  1936 non-null   object        \n",
      " 11  Product Container     1936 non-null   object        \n",
      " 12  Product Name          1936 non-null   object        \n",
      " 13  Product Base Margin   1936 non-null   float64       \n",
      " 14  Country               1936 non-null   string        \n",
      " 15  Region                1936 non-null   string        \n",
      " 16  State/Province        1936 non-null   object        \n",
      " 17  City                  1936 non-null   string        \n",
      " 18  Postal Code           1936 non-null   int64         \n",
      " 19  Order_date            1936 non-null   datetime64[ns]\n",
      " 20  Ship Date             1936 non-null   object        \n",
      " 21  Profit                1936 non-null   bool          \n",
      " 22  Quantity ordered new  1936 non-null   int64         \n",
      " 23  Sales                 1936 non-null   float64       \n",
      " 24  Order ID              1936 non-null   int64         \n",
      "dtypes: bool(2), datetime64[ns](1), float64(5), int64(4), object(8), string(5)\n",
      "memory usage: 366.8+ KB\n"
     ]
    }
   ],
   "source": [
    "df.info()"
   ]
  },
  {
   "cell_type": "code",
   "execution_count": 28,
   "id": "e831bbb3",
   "metadata": {},
   "outputs": [],
   "source": [
    "df = df.reset_index()"
   ]
  },
  {
   "cell_type": "code",
   "execution_count": 29,
   "id": "1313e7a1",
   "metadata": {},
   "outputs": [
    {
     "name": "stdout",
     "output_type": "stream",
     "text": [
      "<class 'pandas.core.frame.DataFrame'>\n",
      "RangeIndex: 1936 entries, 0 to 1935\n",
      "Data columns (total 26 columns):\n",
      " #   Column                Non-Null Count  Dtype         \n",
      "---  ------                --------------  -----         \n",
      " 0   index                 1936 non-null   int64         \n",
      " 1   Row ID                1936 non-null   int64         \n",
      " 2   Order_Priority        1936 non-null   string        \n",
      " 3   Discount              1936 non-null   float64       \n",
      " 4   Unit Price            1936 non-null   float64       \n",
      " 5   Shipping Cost         1936 non-null   float64       \n",
      " 6   Customer ID           1936 non-null   bool          \n",
      " 7   Customer_Name         1936 non-null   string        \n",
      " 8   Ship_Mode             1936 non-null   object        \n",
      " 9   Customer Segment      1936 non-null   object        \n",
      " 10  Product Category      1936 non-null   object        \n",
      " 11  Product Sub-Category  1936 non-null   object        \n",
      " 12  Product Container     1936 non-null   object        \n",
      " 13  Product Name          1936 non-null   object        \n",
      " 14  Product Base Margin   1936 non-null   float64       \n",
      " 15  Country               1936 non-null   string        \n",
      " 16  Region                1936 non-null   string        \n",
      " 17  State/Province        1936 non-null   object        \n",
      " 18  City                  1936 non-null   string        \n",
      " 19  Postal Code           1936 non-null   int64         \n",
      " 20  Order_date            1936 non-null   datetime64[ns]\n",
      " 21  Ship Date             1936 non-null   object        \n",
      " 22  Profit                1936 non-null   bool          \n",
      " 23  Quantity ordered new  1936 non-null   int64         \n",
      " 24  Sales                 1936 non-null   float64       \n",
      " 25  Order ID              1936 non-null   int64         \n",
      "dtypes: bool(2), datetime64[ns](1), float64(5), int64(5), object(8), string(5)\n",
      "memory usage: 366.9+ KB\n"
     ]
    }
   ],
   "source": [
    "df.info()"
   ]
  },
  {
   "cell_type": "code",
   "execution_count": 30,
   "id": "27c4ff81",
   "metadata": {},
   "outputs": [
    {
     "data": {
      "text/html": [
       "<div>\n",
       "<style scoped>\n",
       "    .dataframe tbody tr th:only-of-type {\n",
       "        vertical-align: middle;\n",
       "    }\n",
       "\n",
       "    .dataframe tbody tr th {\n",
       "        vertical-align: top;\n",
       "    }\n",
       "\n",
       "    .dataframe thead th {\n",
       "        text-align: right;\n",
       "    }\n",
       "</style>\n",
       "<table border=\"1\" class=\"dataframe\">\n",
       "  <thead>\n",
       "    <tr style=\"text-align: right;\">\n",
       "      <th></th>\n",
       "      <th>index</th>\n",
       "      <th>Row ID</th>\n",
       "      <th>Order_Priority</th>\n",
       "      <th>Discount</th>\n",
       "      <th>Unit Price</th>\n",
       "      <th>Shipping Cost</th>\n",
       "      <th>Customer ID</th>\n",
       "      <th>Customer_Name</th>\n",
       "      <th>Ship_Mode</th>\n",
       "      <th>Customer Segment</th>\n",
       "      <th>...</th>\n",
       "      <th>Region</th>\n",
       "      <th>State/Province</th>\n",
       "      <th>City</th>\n",
       "      <th>Postal Code</th>\n",
       "      <th>Order_date</th>\n",
       "      <th>Ship Date</th>\n",
       "      <th>Profit</th>\n",
       "      <th>Quantity ordered new</th>\n",
       "      <th>Sales</th>\n",
       "      <th>Order ID</th>\n",
       "    </tr>\n",
       "  </thead>\n",
       "  <tbody>\n",
       "    <tr>\n",
       "      <th>0</th>\n",
       "      <td>0</td>\n",
       "      <td>20847</td>\n",
       "      <td>High</td>\n",
       "      <td>0.01</td>\n",
       "      <td>2.84</td>\n",
       "      <td>0.93</td>\n",
       "      <td>True</td>\n",
       "      <td>Bonnie Potter</td>\n",
       "      <td>Express Air</td>\n",
       "      <td>Corporate</td>\n",
       "      <td>...</td>\n",
       "      <td>West</td>\n",
       "      <td>Washington</td>\n",
       "      <td>Anacortes</td>\n",
       "      <td>98221</td>\n",
       "      <td>2015-01-07</td>\n",
       "      <td>01 8 2015</td>\n",
       "      <td>True</td>\n",
       "      <td>4</td>\n",
       "      <td>13.01</td>\n",
       "      <td>88522</td>\n",
       "    </tr>\n",
       "    <tr>\n",
       "      <th>1</th>\n",
       "      <td>1</td>\n",
       "      <td>20228</td>\n",
       "      <td>Not Specified</td>\n",
       "      <td>0.02</td>\n",
       "      <td>500.98</td>\n",
       "      <td>26.00</td>\n",
       "      <td>True</td>\n",
       "      <td>Ronnie Proctor</td>\n",
       "      <td>Delivery Truck</td>\n",
       "      <td>Home Office</td>\n",
       "      <td>...</td>\n",
       "      <td>West</td>\n",
       "      <td>California</td>\n",
       "      <td>San Gabriel</td>\n",
       "      <td>91776</td>\n",
       "      <td>2015-06-13</td>\n",
       "      <td>06 15 2015</td>\n",
       "      <td>True</td>\n",
       "      <td>12</td>\n",
       "      <td>6362.85</td>\n",
       "      <td>90193</td>\n",
       "    </tr>\n",
       "    <tr>\n",
       "      <th>2</th>\n",
       "      <td>2</td>\n",
       "      <td>21776</td>\n",
       "      <td>Critical</td>\n",
       "      <td>0.06</td>\n",
       "      <td>9.48</td>\n",
       "      <td>7.29</td>\n",
       "      <td>True</td>\n",
       "      <td>Marcus Dunlap</td>\n",
       "      <td>Regular Air</td>\n",
       "      <td>Home Office</td>\n",
       "      <td>...</td>\n",
       "      <td>East</td>\n",
       "      <td>New Jersey</td>\n",
       "      <td>Roselle</td>\n",
       "      <td>7203</td>\n",
       "      <td>2015-02-15</td>\n",
       "      <td>02 17 2015</td>\n",
       "      <td>True</td>\n",
       "      <td>22</td>\n",
       "      <td>211.15</td>\n",
       "      <td>90192</td>\n",
       "    </tr>\n",
       "    <tr>\n",
       "      <th>3</th>\n",
       "      <td>3</td>\n",
       "      <td>24844</td>\n",
       "      <td>Medium</td>\n",
       "      <td>0.09</td>\n",
       "      <td>78.69</td>\n",
       "      <td>19.99</td>\n",
       "      <td>True</td>\n",
       "      <td>Gwendolyn F Tyson</td>\n",
       "      <td>Regular Air</td>\n",
       "      <td>Small Business</td>\n",
       "      <td>...</td>\n",
       "      <td>Central</td>\n",
       "      <td>Minnesota</td>\n",
       "      <td>Prior Lake</td>\n",
       "      <td>55372</td>\n",
       "      <td>2015-05-12</td>\n",
       "      <td>05 14 2015</td>\n",
       "      <td>True</td>\n",
       "      <td>16</td>\n",
       "      <td>1164.45</td>\n",
       "      <td>86838</td>\n",
       "    </tr>\n",
       "    <tr>\n",
       "      <th>4</th>\n",
       "      <td>4</td>\n",
       "      <td>24846</td>\n",
       "      <td>Medium</td>\n",
       "      <td>0.08</td>\n",
       "      <td>3.28</td>\n",
       "      <td>2.31</td>\n",
       "      <td>True</td>\n",
       "      <td>Gwendolyn F Tyson</td>\n",
       "      <td>Regular Air</td>\n",
       "      <td>Small Business</td>\n",
       "      <td>...</td>\n",
       "      <td>Central</td>\n",
       "      <td>Minnesota</td>\n",
       "      <td>Prior Lake</td>\n",
       "      <td>55372</td>\n",
       "      <td>2015-05-12</td>\n",
       "      <td>05 13 2015</td>\n",
       "      <td>True</td>\n",
       "      <td>7</td>\n",
       "      <td>22.23</td>\n",
       "      <td>86838</td>\n",
       "    </tr>\n",
       "    <tr>\n",
       "      <th>...</th>\n",
       "      <td>...</td>\n",
       "      <td>...</td>\n",
       "      <td>...</td>\n",
       "      <td>...</td>\n",
       "      <td>...</td>\n",
       "      <td>...</td>\n",
       "      <td>...</td>\n",
       "      <td>...</td>\n",
       "      <td>...</td>\n",
       "      <td>...</td>\n",
       "      <td>...</td>\n",
       "      <td>...</td>\n",
       "      <td>...</td>\n",
       "      <td>...</td>\n",
       "      <td>...</td>\n",
       "      <td>...</td>\n",
       "      <td>...</td>\n",
       "      <td>...</td>\n",
       "      <td>...</td>\n",
       "      <td>...</td>\n",
       "      <td>...</td>\n",
       "    </tr>\n",
       "    <tr>\n",
       "      <th>1931</th>\n",
       "      <td>1947</td>\n",
       "      <td>19842</td>\n",
       "      <td>High</td>\n",
       "      <td>0.01</td>\n",
       "      <td>10.90</td>\n",
       "      <td>7.46</td>\n",
       "      <td>True</td>\n",
       "      <td>Andrea Shaw</td>\n",
       "      <td>Regular Air</td>\n",
       "      <td>Small Business</td>\n",
       "      <td>...</td>\n",
       "      <td>Central</td>\n",
       "      <td>Illinois</td>\n",
       "      <td>Danville</td>\n",
       "      <td>61832</td>\n",
       "      <td>2015-03-11</td>\n",
       "      <td>03 12 2015</td>\n",
       "      <td>True</td>\n",
       "      <td>18</td>\n",
       "      <td>207.31</td>\n",
       "      <td>87536</td>\n",
       "    </tr>\n",
       "    <tr>\n",
       "      <th>1932</th>\n",
       "      <td>1948</td>\n",
       "      <td>19843</td>\n",
       "      <td>High</td>\n",
       "      <td>0.10</td>\n",
       "      <td>7.99</td>\n",
       "      <td>5.03</td>\n",
       "      <td>True</td>\n",
       "      <td>Andrea Shaw</td>\n",
       "      <td>Regular Air</td>\n",
       "      <td>Small Business</td>\n",
       "      <td>...</td>\n",
       "      <td>Central</td>\n",
       "      <td>Illinois</td>\n",
       "      <td>Danville</td>\n",
       "      <td>61832</td>\n",
       "      <td>2015-03-11</td>\n",
       "      <td>03 12 2015</td>\n",
       "      <td>True</td>\n",
       "      <td>22</td>\n",
       "      <td>143.12</td>\n",
       "      <td>87536</td>\n",
       "    </tr>\n",
       "    <tr>\n",
       "      <th>1933</th>\n",
       "      <td>1949</td>\n",
       "      <td>26208</td>\n",
       "      <td>Not Specified</td>\n",
       "      <td>0.08</td>\n",
       "      <td>11.97</td>\n",
       "      <td>5.81</td>\n",
       "      <td>True</td>\n",
       "      <td>Marvin Reid</td>\n",
       "      <td>Regular Air</td>\n",
       "      <td>Small Business</td>\n",
       "      <td>...</td>\n",
       "      <td>Central</td>\n",
       "      <td>Illinois</td>\n",
       "      <td>Des Plaines</td>\n",
       "      <td>60016</td>\n",
       "      <td>2015-03-29</td>\n",
       "      <td>03 31 2015</td>\n",
       "      <td>True</td>\n",
       "      <td>5</td>\n",
       "      <td>59.98</td>\n",
       "      <td>87534</td>\n",
       "    </tr>\n",
       "    <tr>\n",
       "      <th>1934</th>\n",
       "      <td>1950</td>\n",
       "      <td>24911</td>\n",
       "      <td>Medium</td>\n",
       "      <td>0.10</td>\n",
       "      <td>9.38</td>\n",
       "      <td>4.93</td>\n",
       "      <td>True</td>\n",
       "      <td>Florence Gold</td>\n",
       "      <td>Express Air</td>\n",
       "      <td>Small Business</td>\n",
       "      <td>...</td>\n",
       "      <td>East</td>\n",
       "      <td>West Virginia</td>\n",
       "      <td>Fairmont</td>\n",
       "      <td>26554</td>\n",
       "      <td>2015-04-04</td>\n",
       "      <td>04 4 2015</td>\n",
       "      <td>True</td>\n",
       "      <td>15</td>\n",
       "      <td>135.78</td>\n",
       "      <td>87537</td>\n",
       "    </tr>\n",
       "    <tr>\n",
       "      <th>1935</th>\n",
       "      <td>1951</td>\n",
       "      <td>25914</td>\n",
       "      <td>High</td>\n",
       "      <td>0.10</td>\n",
       "      <td>105.98</td>\n",
       "      <td>13.99</td>\n",
       "      <td>True</td>\n",
       "      <td>Tammy Buckley</td>\n",
       "      <td>Express Air</td>\n",
       "      <td>Consumer</td>\n",
       "      <td>...</td>\n",
       "      <td>West</td>\n",
       "      <td>Wyoming</td>\n",
       "      <td>Cheyenne</td>\n",
       "      <td>82001</td>\n",
       "      <td>2015-02-08</td>\n",
       "      <td>02 11 2015</td>\n",
       "      <td>True</td>\n",
       "      <td>5</td>\n",
       "      <td>506.50</td>\n",
       "      <td>87530</td>\n",
       "    </tr>\n",
       "  </tbody>\n",
       "</table>\n",
       "<p>1936 rows × 26 columns</p>\n",
       "</div>"
      ],
      "text/plain": [
       "      index  Row ID Order_Priority  Discount  Unit Price  Shipping Cost  \\\n",
       "0         0   20847           High      0.01        2.84           0.93   \n",
       "1         1   20228  Not Specified      0.02      500.98          26.00   \n",
       "2         2   21776       Critical      0.06        9.48           7.29   \n",
       "3         3   24844         Medium      0.09       78.69          19.99   \n",
       "4         4   24846         Medium      0.08        3.28           2.31   \n",
       "...     ...     ...            ...       ...         ...            ...   \n",
       "1931   1947   19842           High      0.01       10.90           7.46   \n",
       "1932   1948   19843           High      0.10        7.99           5.03   \n",
       "1933   1949   26208  Not Specified      0.08       11.97           5.81   \n",
       "1934   1950   24911         Medium      0.10        9.38           4.93   \n",
       "1935   1951   25914           High      0.10      105.98          13.99   \n",
       "\n",
       "      Customer ID      Customer_Name       Ship_Mode Customer Segment  ...  \\\n",
       "0            True      Bonnie Potter     Express Air        Corporate  ...   \n",
       "1            True     Ronnie Proctor  Delivery Truck      Home Office  ...   \n",
       "2            True      Marcus Dunlap     Regular Air      Home Office  ...   \n",
       "3            True  Gwendolyn F Tyson     Regular Air   Small Business  ...   \n",
       "4            True  Gwendolyn F Tyson     Regular Air   Small Business  ...   \n",
       "...           ...                ...             ...              ...  ...   \n",
       "1931         True        Andrea Shaw     Regular Air   Small Business  ...   \n",
       "1932         True        Andrea Shaw     Regular Air   Small Business  ...   \n",
       "1933         True        Marvin Reid     Regular Air   Small Business  ...   \n",
       "1934         True      Florence Gold     Express Air   Small Business  ...   \n",
       "1935         True      Tammy Buckley     Express Air         Consumer  ...   \n",
       "\n",
       "       Region State/Province         City Postal Code  Order_date   Ship Date  \\\n",
       "0        West     Washington    Anacortes       98221  2015-01-07   01 8 2015   \n",
       "1        West     California  San Gabriel       91776  2015-06-13  06 15 2015   \n",
       "2        East     New Jersey      Roselle        7203  2015-02-15  02 17 2015   \n",
       "3     Central      Minnesota   Prior Lake       55372  2015-05-12  05 14 2015   \n",
       "4     Central      Minnesota   Prior Lake       55372  2015-05-12  05 13 2015   \n",
       "...       ...            ...          ...         ...         ...         ...   \n",
       "1931  Central       Illinois     Danville       61832  2015-03-11  03 12 2015   \n",
       "1932  Central       Illinois     Danville       61832  2015-03-11  03 12 2015   \n",
       "1933  Central       Illinois  Des Plaines       60016  2015-03-29  03 31 2015   \n",
       "1934     East  West Virginia     Fairmont       26554  2015-04-04   04 4 2015   \n",
       "1935     West        Wyoming     Cheyenne       82001  2015-02-08  02 11 2015   \n",
       "\n",
       "     Profit Quantity ordered new    Sales  Order ID  \n",
       "0      True                    4    13.01     88522  \n",
       "1      True                   12  6362.85     90193  \n",
       "2      True                   22   211.15     90192  \n",
       "3      True                   16  1164.45     86838  \n",
       "4      True                    7    22.23     86838  \n",
       "...     ...                  ...      ...       ...  \n",
       "1931   True                   18   207.31     87536  \n",
       "1932   True                   22   143.12     87536  \n",
       "1933   True                    5    59.98     87534  \n",
       "1934   True                   15   135.78     87537  \n",
       "1935   True                    5   506.50     87530  \n",
       "\n",
       "[1936 rows x 26 columns]"
      ]
     },
     "execution_count": 30,
     "metadata": {},
     "output_type": "execute_result"
    }
   ],
   "source": [
    "df"
   ]
  },
  {
   "cell_type": "code",
   "execution_count": 31,
   "id": "5265c219",
   "metadata": {},
   "outputs": [],
   "source": [
    "df.drop(['index'],axis = 1,inplace = True)"
   ]
  },
  {
   "cell_type": "code",
   "execution_count": 32,
   "id": "b0e7699f",
   "metadata": {},
   "outputs": [
    {
     "data": {
      "text/html": [
       "<div>\n",
       "<style scoped>\n",
       "    .dataframe tbody tr th:only-of-type {\n",
       "        vertical-align: middle;\n",
       "    }\n",
       "\n",
       "    .dataframe tbody tr th {\n",
       "        vertical-align: top;\n",
       "    }\n",
       "\n",
       "    .dataframe thead th {\n",
       "        text-align: right;\n",
       "    }\n",
       "</style>\n",
       "<table border=\"1\" class=\"dataframe\">\n",
       "  <thead>\n",
       "    <tr style=\"text-align: right;\">\n",
       "      <th></th>\n",
       "      <th>Row ID</th>\n",
       "      <th>Order_Priority</th>\n",
       "      <th>Discount</th>\n",
       "      <th>Unit Price</th>\n",
       "      <th>Shipping Cost</th>\n",
       "      <th>Customer ID</th>\n",
       "      <th>Customer_Name</th>\n",
       "      <th>Ship_Mode</th>\n",
       "      <th>Customer Segment</th>\n",
       "      <th>Product Category</th>\n",
       "      <th>...</th>\n",
       "      <th>Region</th>\n",
       "      <th>State/Province</th>\n",
       "      <th>City</th>\n",
       "      <th>Postal Code</th>\n",
       "      <th>Order_date</th>\n",
       "      <th>Ship Date</th>\n",
       "      <th>Profit</th>\n",
       "      <th>Quantity ordered new</th>\n",
       "      <th>Sales</th>\n",
       "      <th>Order ID</th>\n",
       "    </tr>\n",
       "  </thead>\n",
       "  <tbody>\n",
       "    <tr>\n",
       "      <th>0</th>\n",
       "      <td>20847</td>\n",
       "      <td>High</td>\n",
       "      <td>0.01</td>\n",
       "      <td>2.84</td>\n",
       "      <td>0.93</td>\n",
       "      <td>True</td>\n",
       "      <td>Bonnie Potter</td>\n",
       "      <td>Express Air</td>\n",
       "      <td>Corporate</td>\n",
       "      <td>Office Supplies</td>\n",
       "      <td>...</td>\n",
       "      <td>West</td>\n",
       "      <td>Washington</td>\n",
       "      <td>Anacortes</td>\n",
       "      <td>98221</td>\n",
       "      <td>2015-01-07</td>\n",
       "      <td>01 8 2015</td>\n",
       "      <td>True</td>\n",
       "      <td>4</td>\n",
       "      <td>13.01</td>\n",
       "      <td>88522</td>\n",
       "    </tr>\n",
       "    <tr>\n",
       "      <th>1</th>\n",
       "      <td>20228</td>\n",
       "      <td>Not Specified</td>\n",
       "      <td>0.02</td>\n",
       "      <td>500.98</td>\n",
       "      <td>26.00</td>\n",
       "      <td>True</td>\n",
       "      <td>Ronnie Proctor</td>\n",
       "      <td>Delivery Truck</td>\n",
       "      <td>Home Office</td>\n",
       "      <td>Furniture</td>\n",
       "      <td>...</td>\n",
       "      <td>West</td>\n",
       "      <td>California</td>\n",
       "      <td>San Gabriel</td>\n",
       "      <td>91776</td>\n",
       "      <td>2015-06-13</td>\n",
       "      <td>06 15 2015</td>\n",
       "      <td>True</td>\n",
       "      <td>12</td>\n",
       "      <td>6362.85</td>\n",
       "      <td>90193</td>\n",
       "    </tr>\n",
       "    <tr>\n",
       "      <th>2</th>\n",
       "      <td>21776</td>\n",
       "      <td>Critical</td>\n",
       "      <td>0.06</td>\n",
       "      <td>9.48</td>\n",
       "      <td>7.29</td>\n",
       "      <td>True</td>\n",
       "      <td>Marcus Dunlap</td>\n",
       "      <td>Regular Air</td>\n",
       "      <td>Home Office</td>\n",
       "      <td>Furniture</td>\n",
       "      <td>...</td>\n",
       "      <td>East</td>\n",
       "      <td>New Jersey</td>\n",
       "      <td>Roselle</td>\n",
       "      <td>7203</td>\n",
       "      <td>2015-02-15</td>\n",
       "      <td>02 17 2015</td>\n",
       "      <td>True</td>\n",
       "      <td>22</td>\n",
       "      <td>211.15</td>\n",
       "      <td>90192</td>\n",
       "    </tr>\n",
       "    <tr>\n",
       "      <th>3</th>\n",
       "      <td>24844</td>\n",
       "      <td>Medium</td>\n",
       "      <td>0.09</td>\n",
       "      <td>78.69</td>\n",
       "      <td>19.99</td>\n",
       "      <td>True</td>\n",
       "      <td>Gwendolyn F Tyson</td>\n",
       "      <td>Regular Air</td>\n",
       "      <td>Small Business</td>\n",
       "      <td>Furniture</td>\n",
       "      <td>...</td>\n",
       "      <td>Central</td>\n",
       "      <td>Minnesota</td>\n",
       "      <td>Prior Lake</td>\n",
       "      <td>55372</td>\n",
       "      <td>2015-05-12</td>\n",
       "      <td>05 14 2015</td>\n",
       "      <td>True</td>\n",
       "      <td>16</td>\n",
       "      <td>1164.45</td>\n",
       "      <td>86838</td>\n",
       "    </tr>\n",
       "    <tr>\n",
       "      <th>4</th>\n",
       "      <td>24846</td>\n",
       "      <td>Medium</td>\n",
       "      <td>0.08</td>\n",
       "      <td>3.28</td>\n",
       "      <td>2.31</td>\n",
       "      <td>True</td>\n",
       "      <td>Gwendolyn F Tyson</td>\n",
       "      <td>Regular Air</td>\n",
       "      <td>Small Business</td>\n",
       "      <td>Office Supplies</td>\n",
       "      <td>...</td>\n",
       "      <td>Central</td>\n",
       "      <td>Minnesota</td>\n",
       "      <td>Prior Lake</td>\n",
       "      <td>55372</td>\n",
       "      <td>2015-05-12</td>\n",
       "      <td>05 13 2015</td>\n",
       "      <td>True</td>\n",
       "      <td>7</td>\n",
       "      <td>22.23</td>\n",
       "      <td>86838</td>\n",
       "    </tr>\n",
       "  </tbody>\n",
       "</table>\n",
       "<p>5 rows × 25 columns</p>\n",
       "</div>"
      ],
      "text/plain": [
       "   Row ID Order_Priority  Discount  Unit Price  Shipping Cost  Customer ID  \\\n",
       "0   20847           High      0.01        2.84           0.93         True   \n",
       "1   20228  Not Specified      0.02      500.98          26.00         True   \n",
       "2   21776       Critical      0.06        9.48           7.29         True   \n",
       "3   24844         Medium      0.09       78.69          19.99         True   \n",
       "4   24846         Medium      0.08        3.28           2.31         True   \n",
       "\n",
       "       Customer_Name       Ship_Mode Customer Segment Product Category  ...  \\\n",
       "0      Bonnie Potter     Express Air        Corporate  Office Supplies  ...   \n",
       "1     Ronnie Proctor  Delivery Truck      Home Office        Furniture  ...   \n",
       "2      Marcus Dunlap     Regular Air      Home Office        Furniture  ...   \n",
       "3  Gwendolyn F Tyson     Regular Air   Small Business        Furniture  ...   \n",
       "4  Gwendolyn F Tyson     Regular Air   Small Business  Office Supplies  ...   \n",
       "\n",
       "    Region State/Province         City  Postal Code Order_date   Ship Date  \\\n",
       "0     West     Washington    Anacortes        98221 2015-01-07   01 8 2015   \n",
       "1     West     California  San Gabriel        91776 2015-06-13  06 15 2015   \n",
       "2     East     New Jersey      Roselle         7203 2015-02-15  02 17 2015   \n",
       "3  Central      Minnesota   Prior Lake        55372 2015-05-12  05 14 2015   \n",
       "4  Central      Minnesota   Prior Lake        55372 2015-05-12  05 13 2015   \n",
       "\n",
       "  Profit Quantity ordered new    Sales Order ID  \n",
       "0   True                    4    13.01    88522  \n",
       "1   True                   12  6362.85    90193  \n",
       "2   True                   22   211.15    90192  \n",
       "3   True                   16  1164.45    86838  \n",
       "4   True                    7    22.23    86838  \n",
       "\n",
       "[5 rows x 25 columns]"
      ]
     },
     "execution_count": 32,
     "metadata": {},
     "output_type": "execute_result"
    }
   ],
   "source": [
    "df.head()"
   ]
  },
  {
   "cell_type": "code",
   "execution_count": 33,
   "id": "6b767999",
   "metadata": {},
   "outputs": [
    {
     "data": {
      "text/plain": [
       "0         11529.72\n",
       "1       5745208.15\n",
       "2        190651.56\n",
       "3       1012349.54\n",
       "4         19326.32\n",
       "           ...    \n",
       "1931     181678.19\n",
       "1932     125424.64\n",
       "1933      52562.87\n",
       "1934     118993.52\n",
       "1935     443845.95\n",
       "Name: Sales_Order_ID, Length: 1936, dtype: float64"
      ]
     },
     "execution_count": 33,
     "metadata": {},
     "output_type": "execute_result"
    }
   ],
   "source": [
    "df['Sales_Order_ID'] = round(df['Sales'] + ((df['Sales'] * df['Order ID'])/100),2)\n",
    "df['Sales_Order_ID']"
   ]
  },
  {
   "cell_type": "code",
   "execution_count": 34,
   "id": "b6bff1d6",
   "metadata": {},
   "outputs": [
    {
     "data": {
      "text/html": [
       "<div>\n",
       "<style scoped>\n",
       "    .dataframe tbody tr th:only-of-type {\n",
       "        vertical-align: middle;\n",
       "    }\n",
       "\n",
       "    .dataframe tbody tr th {\n",
       "        vertical-align: top;\n",
       "    }\n",
       "\n",
       "    .dataframe thead th {\n",
       "        text-align: right;\n",
       "    }\n",
       "</style>\n",
       "<table border=\"1\" class=\"dataframe\">\n",
       "  <thead>\n",
       "    <tr style=\"text-align: right;\">\n",
       "      <th></th>\n",
       "      <th>Row ID</th>\n",
       "      <th>Order_Priority</th>\n",
       "      <th>Discount</th>\n",
       "      <th>Unit Price</th>\n",
       "      <th>Shipping Cost</th>\n",
       "      <th>Customer ID</th>\n",
       "      <th>Customer_Name</th>\n",
       "      <th>Ship_Mode</th>\n",
       "      <th>Customer Segment</th>\n",
       "      <th>Product Category</th>\n",
       "      <th>...</th>\n",
       "      <th>State/Province</th>\n",
       "      <th>City</th>\n",
       "      <th>Postal Code</th>\n",
       "      <th>Order_date</th>\n",
       "      <th>Ship Date</th>\n",
       "      <th>Profit</th>\n",
       "      <th>Quantity ordered new</th>\n",
       "      <th>Sales</th>\n",
       "      <th>Order ID</th>\n",
       "      <th>Sales_Order_ID</th>\n",
       "    </tr>\n",
       "  </thead>\n",
       "  <tbody>\n",
       "    <tr>\n",
       "      <th>0</th>\n",
       "      <td>20847</td>\n",
       "      <td>High</td>\n",
       "      <td>0.01</td>\n",
       "      <td>2.84</td>\n",
       "      <td>0.93</td>\n",
       "      <td>True</td>\n",
       "      <td>Bonnie Potter</td>\n",
       "      <td>Express Air</td>\n",
       "      <td>Corporate</td>\n",
       "      <td>Office Supplies</td>\n",
       "      <td>...</td>\n",
       "      <td>Washington</td>\n",
       "      <td>Anacortes</td>\n",
       "      <td>98221</td>\n",
       "      <td>2015-01-07</td>\n",
       "      <td>01 8 2015</td>\n",
       "      <td>True</td>\n",
       "      <td>4</td>\n",
       "      <td>13.01</td>\n",
       "      <td>88522</td>\n",
       "      <td>11529.72</td>\n",
       "    </tr>\n",
       "    <tr>\n",
       "      <th>1</th>\n",
       "      <td>20228</td>\n",
       "      <td>Not Specified</td>\n",
       "      <td>0.02</td>\n",
       "      <td>500.98</td>\n",
       "      <td>26.00</td>\n",
       "      <td>True</td>\n",
       "      <td>Ronnie Proctor</td>\n",
       "      <td>Delivery Truck</td>\n",
       "      <td>Home Office</td>\n",
       "      <td>Furniture</td>\n",
       "      <td>...</td>\n",
       "      <td>California</td>\n",
       "      <td>San Gabriel</td>\n",
       "      <td>91776</td>\n",
       "      <td>2015-06-13</td>\n",
       "      <td>06 15 2015</td>\n",
       "      <td>True</td>\n",
       "      <td>12</td>\n",
       "      <td>6362.85</td>\n",
       "      <td>90193</td>\n",
       "      <td>5745208.15</td>\n",
       "    </tr>\n",
       "    <tr>\n",
       "      <th>2</th>\n",
       "      <td>21776</td>\n",
       "      <td>Critical</td>\n",
       "      <td>0.06</td>\n",
       "      <td>9.48</td>\n",
       "      <td>7.29</td>\n",
       "      <td>True</td>\n",
       "      <td>Marcus Dunlap</td>\n",
       "      <td>Regular Air</td>\n",
       "      <td>Home Office</td>\n",
       "      <td>Furniture</td>\n",
       "      <td>...</td>\n",
       "      <td>New Jersey</td>\n",
       "      <td>Roselle</td>\n",
       "      <td>7203</td>\n",
       "      <td>2015-02-15</td>\n",
       "      <td>02 17 2015</td>\n",
       "      <td>True</td>\n",
       "      <td>22</td>\n",
       "      <td>211.15</td>\n",
       "      <td>90192</td>\n",
       "      <td>190651.56</td>\n",
       "    </tr>\n",
       "    <tr>\n",
       "      <th>3</th>\n",
       "      <td>24844</td>\n",
       "      <td>Medium</td>\n",
       "      <td>0.09</td>\n",
       "      <td>78.69</td>\n",
       "      <td>19.99</td>\n",
       "      <td>True</td>\n",
       "      <td>Gwendolyn F Tyson</td>\n",
       "      <td>Regular Air</td>\n",
       "      <td>Small Business</td>\n",
       "      <td>Furniture</td>\n",
       "      <td>...</td>\n",
       "      <td>Minnesota</td>\n",
       "      <td>Prior Lake</td>\n",
       "      <td>55372</td>\n",
       "      <td>2015-05-12</td>\n",
       "      <td>05 14 2015</td>\n",
       "      <td>True</td>\n",
       "      <td>16</td>\n",
       "      <td>1164.45</td>\n",
       "      <td>86838</td>\n",
       "      <td>1012349.54</td>\n",
       "    </tr>\n",
       "    <tr>\n",
       "      <th>4</th>\n",
       "      <td>24846</td>\n",
       "      <td>Medium</td>\n",
       "      <td>0.08</td>\n",
       "      <td>3.28</td>\n",
       "      <td>2.31</td>\n",
       "      <td>True</td>\n",
       "      <td>Gwendolyn F Tyson</td>\n",
       "      <td>Regular Air</td>\n",
       "      <td>Small Business</td>\n",
       "      <td>Office Supplies</td>\n",
       "      <td>...</td>\n",
       "      <td>Minnesota</td>\n",
       "      <td>Prior Lake</td>\n",
       "      <td>55372</td>\n",
       "      <td>2015-05-12</td>\n",
       "      <td>05 13 2015</td>\n",
       "      <td>True</td>\n",
       "      <td>7</td>\n",
       "      <td>22.23</td>\n",
       "      <td>86838</td>\n",
       "      <td>19326.32</td>\n",
       "    </tr>\n",
       "  </tbody>\n",
       "</table>\n",
       "<p>5 rows × 26 columns</p>\n",
       "</div>"
      ],
      "text/plain": [
       "   Row ID Order_Priority  Discount  Unit Price  Shipping Cost  Customer ID  \\\n",
       "0   20847           High      0.01        2.84           0.93         True   \n",
       "1   20228  Not Specified      0.02      500.98          26.00         True   \n",
       "2   21776       Critical      0.06        9.48           7.29         True   \n",
       "3   24844         Medium      0.09       78.69          19.99         True   \n",
       "4   24846         Medium      0.08        3.28           2.31         True   \n",
       "\n",
       "       Customer_Name       Ship_Mode Customer Segment Product Category  ...  \\\n",
       "0      Bonnie Potter     Express Air        Corporate  Office Supplies  ...   \n",
       "1     Ronnie Proctor  Delivery Truck      Home Office        Furniture  ...   \n",
       "2      Marcus Dunlap     Regular Air      Home Office        Furniture  ...   \n",
       "3  Gwendolyn F Tyson     Regular Air   Small Business        Furniture  ...   \n",
       "4  Gwendolyn F Tyson     Regular Air   Small Business  Office Supplies  ...   \n",
       "\n",
       "  State/Province         City Postal Code  Order_date   Ship Date Profit  \\\n",
       "0     Washington    Anacortes       98221  2015-01-07   01 8 2015   True   \n",
       "1     California  San Gabriel       91776  2015-06-13  06 15 2015   True   \n",
       "2     New Jersey      Roselle        7203  2015-02-15  02 17 2015   True   \n",
       "3      Minnesota   Prior Lake       55372  2015-05-12  05 14 2015   True   \n",
       "4      Minnesota   Prior Lake       55372  2015-05-12  05 13 2015   True   \n",
       "\n",
       "  Quantity ordered new    Sales  Order ID Sales_Order_ID  \n",
       "0                    4    13.01     88522       11529.72  \n",
       "1                   12  6362.85     90193     5745208.15  \n",
       "2                   22   211.15     90192      190651.56  \n",
       "3                   16  1164.45     86838     1012349.54  \n",
       "4                    7    22.23     86838       19326.32  \n",
       "\n",
       "[5 rows x 26 columns]"
      ]
     },
     "execution_count": 34,
     "metadata": {},
     "output_type": "execute_result"
    }
   ],
   "source": [
    "df.head()"
   ]
  },
  {
   "cell_type": "markdown",
   "id": "6c61ac4b",
   "metadata": {},
   "source": [
    "## Outier Detection"
   ]
  },
  {
   "cell_type": "code",
   "execution_count": 35,
   "id": "3c9be0af",
   "metadata": {},
   "outputs": [
    {
     "data": {
      "text/plain": [
       "<Axes: >"
      ]
     },
     "execution_count": 35,
     "metadata": {},
     "output_type": "execute_result"
    },
    {
     "data": {
      "image/png": "[encoded data removed]",
      "text/plain": [
       "<Figure size 640x480 with 1 Axes>"
      ]
     },
     "metadata": {},
     "output_type": "display_data"
    }
   ],
   "source": [
    "df['Discount'].plot(kind = 'box')"
   ]
  },
  {
   "cell_type": "code",
   "execution_count": 36,
   "id": "24edd3f0",
   "metadata": {},
   "outputs": [
    {
     "data": {
      "text/plain": [
       "count    1936.000000\n",
       "mean       12.965909\n",
       "std        13.913943\n",
       "min         1.000000\n",
       "25%         5.000000\n",
       "50%        10.000000\n",
       "75%        16.000000\n",
       "max       167.000000\n",
       "Name: Quantity ordered new, dtype: float64"
      ]
     },
     "execution_count": 36,
     "metadata": {},
     "output_type": "execute_result"
    }
   ],
   "source": [
    "Q1_Quantity_ordered_new = np.quantile(df['Quantity ordered new'],0.25)\n",
    "Q2_Quantity_ordered_new= np.quantile(df['Quantity ordered new'],0.50)\n",
    "Q3_Quantity_ordered_new = np.quantile(df['Quantity ordered new'],0.75)\n",
    "df['Quantity ordered new'].describe()"
   ]
  },
  {
   "cell_type": "code",
   "execution_count": 37,
   "id": "58ee8c26",
   "metadata": {},
   "outputs": [
    {
     "name": "stdout",
     "output_type": "stream",
     "text": [
      "IQR:  5.5\n"
     ]
    },
    {
     "data": {
      "text/plain": [
       "[-3.25, 24.25]"
      ]
     },
     "execution_count": 37,
     "metadata": {},
     "output_type": "execute_result"
    }
   ],
   "source": [
    "IQR = (Q3_Quantity_ordered_new - Q1_Quantity_ordered_new)/2\n",
    "print(\"IQR: \", IQR)\n",
    "Upper = Q3_Quantity_ordered_new+1.5*IQR\n",
    "lower =  Q1_Quantity_ordered_new-1.5*IQR  \n",
    "[lower,Upper]"
   ]
  },
  {
   "cell_type": "code",
   "execution_count": 38,
   "id": "e9d629f9",
   "metadata": {},
   "outputs": [
    {
     "data": {
      "text/plain": [
       "(1243.29, 17683002.97)"
      ]
     },
     "execution_count": 38,
     "metadata": {},
     "output_type": "execute_result"
    }
   ],
   "source": [
    "df['Sales_Order_ID'].min(),df['Sales_Order_ID'].max()"
   ]
  },
  {
   "cell_type": "markdown",
   "id": "501fafc0",
   "metadata": {},
   "source": [
    "## Data Visualization"
   ]
  },
  {
   "cell_type": "code",
   "execution_count": 39,
   "id": "04c3d803",
   "metadata": {},
   "outputs": [],
   "source": [
    "import warnings\n",
    "warnings.filterwarnings('ignore')"
   ]
  },
  {
   "cell_type": "code",
   "execution_count": 40,
   "id": "79a29bbb",
   "metadata": {},
   "outputs": [
    {
     "data": {
      "text/html": [
       "<div>\n",
       "<style scoped>\n",
       "    .dataframe tbody tr th:only-of-type {\n",
       "        vertical-align: middle;\n",
       "    }\n",
       "\n",
       "    .dataframe tbody tr th {\n",
       "        vertical-align: top;\n",
       "    }\n",
       "\n",
       "    .dataframe thead th {\n",
       "        text-align: right;\n",
       "    }\n",
       "</style>\n",
       "<table border=\"1\" class=\"dataframe\">\n",
       "  <thead>\n",
       "    <tr style=\"text-align: right;\">\n",
       "      <th></th>\n",
       "      <th>Row ID</th>\n",
       "      <th>Discount</th>\n",
       "      <th>Unit Price</th>\n",
       "      <th>Shipping Cost</th>\n",
       "      <th>Product Base Margin</th>\n",
       "      <th>Postal Code</th>\n",
       "      <th>Order_date</th>\n",
       "      <th>Quantity ordered new</th>\n",
       "      <th>Sales</th>\n",
       "      <th>Order ID</th>\n",
       "      <th>Sales_Order_ID</th>\n",
       "    </tr>\n",
       "  </thead>\n",
       "  <tbody>\n",
       "    <tr>\n",
       "      <th>count</th>\n",
       "      <td>1936.000000</td>\n",
       "      <td>1936.000000</td>\n",
       "      <td>1936.000000</td>\n",
       "      <td>1936.000000</td>\n",
       "      <td>1936.000000</td>\n",
       "      <td>1936.000000</td>\n",
       "      <td>1936</td>\n",
       "      <td>1936.000000</td>\n",
       "      <td>1936.000000</td>\n",
       "      <td>1936.000000</td>\n",
       "      <td>1.936000e+03</td>\n",
       "    </tr>\n",
       "    <tr>\n",
       "      <th>mean</th>\n",
       "      <td>19917.548554</td>\n",
       "      <td>0.048858</td>\n",
       "      <td>108.034685</td>\n",
       "      <td>12.783280</td>\n",
       "      <td>0.515186</td>\n",
       "      <td>51545.004132</td>\n",
       "      <td>2015-03-29 01:14:22.809917440</td>\n",
       "      <td>12.965909</td>\n",
       "      <td>971.861968</td>\n",
       "      <td>82347.225207</td>\n",
       "      <td>6.690880e+05</td>\n",
       "    </tr>\n",
       "    <tr>\n",
       "      <th>min</th>\n",
       "      <td>64.000000</td>\n",
       "      <td>0.000000</td>\n",
       "      <td>1.140000</td>\n",
       "      <td>0.490000</td>\n",
       "      <td>0.350000</td>\n",
       "      <td>1001.000000</td>\n",
       "      <td>2015-01-01 00:00:00</td>\n",
       "      <td>1.000000</td>\n",
       "      <td>2.250000</td>\n",
       "      <td>359.000000</td>\n",
       "      <td>1.243290e+03</td>\n",
       "    </tr>\n",
       "    <tr>\n",
       "      <th>25%</th>\n",
       "      <td>19121.000000</td>\n",
       "      <td>0.020000</td>\n",
       "      <td>6.480000</td>\n",
       "      <td>3.032500</td>\n",
       "      <td>0.380000</td>\n",
       "      <td>28560.000000</td>\n",
       "      <td>2015-02-11 00:00:00</td>\n",
       "      <td>5.000000</td>\n",
       "      <td>58.515000</td>\n",
       "      <td>86783.750000</td>\n",
       "      <td>4.728704e+04</td>\n",
       "    </tr>\n",
       "    <tr>\n",
       "      <th>50%</th>\n",
       "      <td>21167.500000</td>\n",
       "      <td>0.050000</td>\n",
       "      <td>20.990000</td>\n",
       "      <td>6.095000</td>\n",
       "      <td>0.525000</td>\n",
       "      <td>48823.000000</td>\n",
       "      <td>2015-03-27 00:00:00</td>\n",
       "      <td>10.000000</td>\n",
       "      <td>200.660000</td>\n",
       "      <td>88376.000000</td>\n",
       "      <td>1.444729e+05</td>\n",
       "    </tr>\n",
       "    <tr>\n",
       "      <th>75%</th>\n",
       "      <td>23499.750000</td>\n",
       "      <td>0.070000</td>\n",
       "      <td>99.230000</td>\n",
       "      <td>14.000000</td>\n",
       "      <td>0.590000</td>\n",
       "      <td>78550.000000</td>\n",
       "      <td>2015-05-15 00:00:00</td>\n",
       "      <td>16.000000</td>\n",
       "      <td>774.920000</td>\n",
       "      <td>89961.000000</td>\n",
       "      <td>6.081278e+05</td>\n",
       "    </tr>\n",
       "    <tr>\n",
       "      <th>max</th>\n",
       "      <td>26389.000000</td>\n",
       "      <td>0.210000</td>\n",
       "      <td>6783.020000</td>\n",
       "      <td>164.730000</td>\n",
       "      <td>0.850000</td>\n",
       "      <td>99362.000000</td>\n",
       "      <td>2015-06-30 00:00:00</td>\n",
       "      <td>167.000000</td>\n",
       "      <td>45737.330000</td>\n",
       "      <td>91586.000000</td>\n",
       "      <td>1.768300e+07</td>\n",
       "    </tr>\n",
       "    <tr>\n",
       "      <th>std</th>\n",
       "      <td>5968.385953</td>\n",
       "      <td>0.031340</td>\n",
       "      <td>394.836173</td>\n",
       "      <td>17.289631</td>\n",
       "      <td>0.137055</td>\n",
       "      <td>29351.770516</td>\n",
       "      <td>NaN</td>\n",
       "      <td>13.913943</td>\n",
       "      <td>2559.347078</td>\n",
       "      <td>19075.071929</td>\n",
       "      <td>1.404986e+06</td>\n",
       "    </tr>\n",
       "  </tbody>\n",
       "</table>\n",
       "</div>"
      ],
      "text/plain": [
       "             Row ID     Discount   Unit Price  Shipping Cost  \\\n",
       "count   1936.000000  1936.000000  1936.000000    1936.000000   \n",
       "mean   19917.548554     0.048858   108.034685      12.783280   \n",
       "min       64.000000     0.000000     1.140000       0.490000   \n",
       "25%    19121.000000     0.020000     6.480000       3.032500   \n",
       "50%    21167.500000     0.050000    20.990000       6.095000   \n",
       "75%    23499.750000     0.070000    99.230000      14.000000   \n",
       "max    26389.000000     0.210000  6783.020000     164.730000   \n",
       "std     5968.385953     0.031340   394.836173      17.289631   \n",
       "\n",
       "       Product Base Margin   Postal Code                     Order_date  \\\n",
       "count          1936.000000   1936.000000                           1936   \n",
       "mean              0.515186  51545.004132  2015-03-29 01:14:22.809917440   \n",
       "min               0.350000   1001.000000            2015-01-01 00:00:00   \n",
       "25%               0.380000  28560.000000            2015-02-11 00:00:00   \n",
       "50%               0.525000  48823.000000            2015-03-27 00:00:00   \n",
       "75%               0.590000  78550.000000            2015-05-15 00:00:00   \n",
       "max               0.850000  99362.000000            2015-06-30 00:00:00   \n",
       "std               0.137055  29351.770516                            NaN   \n",
       "\n",
       "       Quantity ordered new         Sales      Order ID  Sales_Order_ID  \n",
       "count           1936.000000   1936.000000   1936.000000    1.936000e+03  \n",
       "mean              12.965909    971.861968  82347.225207    6.690880e+05  \n",
       "min                1.000000      2.250000    359.000000    1.243290e+03  \n",
       "25%                5.000000     58.515000  86783.750000    4.728704e+04  \n",
       "50%               10.000000    200.660000  88376.000000    1.444729e+05  \n",
       "75%               16.000000    774.920000  89961.000000    6.081278e+05  \n",
       "max              167.000000  45737.330000  91586.000000    1.768300e+07  \n",
       "std               13.913943   2559.347078  19075.071929    1.404986e+06  "
      ]
     },
     "execution_count": 40,
     "metadata": {},
     "output_type": "execute_result"
    }
   ],
   "source": [
    "df.describe()"
   ]
  },
  {
   "cell_type": "code",
   "execution_count": 41,
   "id": "e245e457",
   "metadata": {},
   "outputs": [
    {
     "data": {
      "text/html": [
       "<div>\n",
       "<style scoped>\n",
       "    .dataframe tbody tr th:only-of-type {\n",
       "        vertical-align: middle;\n",
       "    }\n",
       "\n",
       "    .dataframe tbody tr th {\n",
       "        vertical-align: top;\n",
       "    }\n",
       "\n",
       "    .dataframe thead th {\n",
       "        text-align: right;\n",
       "    }\n",
       "</style>\n",
       "<table border=\"1\" class=\"dataframe\">\n",
       "  <thead>\n",
       "    <tr style=\"text-align: right;\">\n",
       "      <th></th>\n",
       "      <th>Order_Priority</th>\n",
       "      <th>Customer ID</th>\n",
       "      <th>Customer_Name</th>\n",
       "      <th>Country</th>\n",
       "      <th>Region</th>\n",
       "      <th>City</th>\n",
       "      <th>Profit</th>\n",
       "    </tr>\n",
       "  </thead>\n",
       "  <tbody>\n",
       "    <tr>\n",
       "      <th>count</th>\n",
       "      <td>1936</td>\n",
       "      <td>1936</td>\n",
       "      <td>1936</td>\n",
       "      <td>1936</td>\n",
       "      <td>1936</td>\n",
       "      <td>1936</td>\n",
       "      <td>1936</td>\n",
       "    </tr>\n",
       "    <tr>\n",
       "      <th>unique</th>\n",
       "      <td>6</td>\n",
       "      <td>1</td>\n",
       "      <td>1124</td>\n",
       "      <td>1</td>\n",
       "      <td>4</td>\n",
       "      <td>865</td>\n",
       "      <td>1</td>\n",
       "    </tr>\n",
       "    <tr>\n",
       "      <th>top</th>\n",
       "      <td>Low</td>\n",
       "      <td>True</td>\n",
       "      <td>Jenny Gold</td>\n",
       "      <td>United States</td>\n",
       "      <td>Central</td>\n",
       "      <td>New York City</td>\n",
       "      <td>True</td>\n",
       "    </tr>\n",
       "    <tr>\n",
       "      <th>freq</th>\n",
       "      <td>396</td>\n",
       "      <td>1936</td>\n",
       "      <td>9</td>\n",
       "      <td>1936</td>\n",
       "      <td>563</td>\n",
       "      <td>47</td>\n",
       "      <td>1936</td>\n",
       "    </tr>\n",
       "  </tbody>\n",
       "</table>\n",
       "</div>"
      ],
      "text/plain": [
       "       Order_Priority Customer ID Customer_Name        Country   Region  \\\n",
       "count            1936        1936          1936           1936     1936   \n",
       "unique              6           1          1124              1        4   \n",
       "top               Low        True    Jenny Gold  United States  Central   \n",
       "freq              396        1936             9           1936      563   \n",
       "\n",
       "                 City Profit  \n",
       "count            1936   1936  \n",
       "unique            865      1  \n",
       "top     New York City   True  \n",
       "freq               47   1936  "
      ]
     },
     "execution_count": 41,
     "metadata": {},
     "output_type": "execute_result"
    }
   ],
   "source": [
    "df.describe(include = ['string','bool'])"
   ]
  },
  {
   "cell_type": "code",
   "execution_count": 42,
   "id": "c55ef0f1",
   "metadata": {},
   "outputs": [
    {
     "data": {
      "image/png": "[encoded data removed]",
      "text/plain": [
       "<Figure size 640x480 with 1 Axes>"
      ]
     },
     "metadata": {},
     "output_type": "display_data"
    }
   ],
   "source": [
    "import seaborn as sns\n",
    "import matplotlib.pyplot as plt\n",
    "sns.histplot(x='Product Base Margin', data=df )\n",
    "plt.show()"
   ]
  },
  {
   "cell_type": "code",
   "execution_count": 43,
   "id": "9fdf7ef6",
   "metadata": {},
   "outputs": [
    {
     "data": {
      "image/png": "[encoded data removed]",
      "text/plain": [
       "<Figure size 640x480 with 1 Axes>"
      ]
     },
     "metadata": {},
     "output_type": "display_data"
    }
   ],
   "source": [
    "sns.histplot(x='Order_date', data=df )\n",
    "plt.show()"
   ]
  },
  {
   "cell_type": "code",
   "execution_count": 44,
   "id": "7551d330",
   "metadata": {},
   "outputs": [
    {
     "data": {
      "image/png": "[encoded data removed]",
      "text/plain": [
       "<Figure size 640x480 with 1 Axes>"
      ]
     },
     "metadata": {},
     "output_type": "display_data"
    }
   ],
   "source": [
    "sns.histplot(x='Product Base Margin', hue = 'Ship_Mode',data=df )\n",
    "plt.show()"
   ]
  },
  {
   "cell_type": "code",
   "execution_count": 45,
   "id": "5095fd47",
   "metadata": {},
   "outputs": [
    {
     "data": {
      "image/png": "[encoded data removed]",
      "text/plain": [
       "<Figure size 640x480 with 1 Axes>"
      ]
     },
     "metadata": {},
     "output_type": "display_data"
    }
   ],
   "source": [
    "sns.histplot(x = 'Discount',hue = 'Region',data = df)\n",
    "plt.show()"
   ]
  },
  {
   "cell_type": "code",
   "execution_count": 46,
   "id": "7a0cb087",
   "metadata": {},
   "outputs": [
    {
     "data": {
      "image/png": "[encoded data removed]",
      "text/plain": [
       "<Figure size 640x480 with 1 Axes>"
      ]
     },
     "metadata": {},
     "output_type": "display_data"
    }
   ],
   "source": [
    "sns.kdeplot(x=\"Product Base Margin\", hue = 'Ship_Mode',data=df )\n",
    "plt.show()"
   ]
  },
  {
   "cell_type": "code",
   "execution_count": 47,
   "id": "51ca14ff",
   "metadata": {},
   "outputs": [
    {
     "data": {
      "image/png": "[encoded data removed]",
      "text/plain": [
       "<Figure size 640x480 with 1 Axes>"
      ]
     },
     "metadata": {},
     "output_type": "display_data"
    }
   ],
   "source": [
    "sns.kdeplot(x=\"Discount\", hue='Region', data=df )\n",
    "plt.show()"
   ]
  },
  {
   "cell_type": "markdown",
   "id": "5c033598",
   "metadata": {},
   "source": [
    "## Relationship Of Variables"
   ]
  },
  {
   "cell_type": "code",
   "execution_count": 48,
   "id": "d04f8542",
   "metadata": {},
   "outputs": [
    {
     "data": {
      "image/png": "[encoded data removed]",
      "text/plain": [
       "<Figure size 640x480 with 1 Axes>"
      ]
     },
     "metadata": {},
     "output_type": "display_data"
    }
   ],
   "source": [
    "sns.scatterplot(x=\"Discount\", y='Shipping Cost', data=df,hue = 'Product Category')\n",
    "# Placing Legend outside the Figure\n",
    "plt.legend(bbox_to_anchor=(1, 1), loc=2)\n",
    "plt.show()"
   ]
  },
  {
   "cell_type": "code",
   "execution_count": 49,
   "id": "a16ecadc",
   "metadata": {},
   "outputs": [
    {
     "data": {
      "text/plain": [
       "0.018656260671621256"
      ]
     },
     "execution_count": 49,
     "metadata": {},
     "output_type": "execute_result"
    }
   ],
   "source": [
    "df['Discount'].corr(df['Product Base Margin'])"
   ]
  },
  {
   "cell_type": "code",
   "execution_count": 50,
   "id": "15be3b30",
   "metadata": {},
   "outputs": [
    {
     "data": {
      "text/plain": [
       "1026"
      ]
     },
     "execution_count": 50,
     "metadata": {},
     "output_type": "execute_result"
    }
   ],
   "source": [
    "len(df[df['Discount']>=0.05])"
   ]
  },
  {
   "cell_type": "code",
   "execution_count": 51,
   "id": "22d9ba4f",
   "metadata": {},
   "outputs": [],
   "source": [
    "bonus19 = df[df['Discount']>0.05].sort_values(['Discount'],ascending = True)"
   ]
  },
  {
   "cell_type": "code",
   "execution_count": 52,
   "id": "268125c6",
   "metadata": {},
   "outputs": [
    {
     "data": {
      "text/html": [
       "<div>\n",
       "<style scoped>\n",
       "    .dataframe tbody tr th:only-of-type {\n",
       "        vertical-align: middle;\n",
       "    }\n",
       "\n",
       "    .dataframe tbody tr th {\n",
       "        vertical-align: top;\n",
       "    }\n",
       "\n",
       "    .dataframe thead th {\n",
       "        text-align: right;\n",
       "    }\n",
       "</style>\n",
       "<table border=\"1\" class=\"dataframe\">\n",
       "  <thead>\n",
       "    <tr style=\"text-align: right;\">\n",
       "      <th></th>\n",
       "      <th>Row ID</th>\n",
       "      <th>Order_Priority</th>\n",
       "      <th>Discount</th>\n",
       "      <th>Unit Price</th>\n",
       "      <th>Shipping Cost</th>\n",
       "      <th>Customer ID</th>\n",
       "      <th>Customer_Name</th>\n",
       "      <th>Ship_Mode</th>\n",
       "      <th>Customer Segment</th>\n",
       "      <th>Product Category</th>\n",
       "      <th>...</th>\n",
       "      <th>State/Province</th>\n",
       "      <th>City</th>\n",
       "      <th>Postal Code</th>\n",
       "      <th>Order_date</th>\n",
       "      <th>Ship Date</th>\n",
       "      <th>Profit</th>\n",
       "      <th>Quantity ordered new</th>\n",
       "      <th>Sales</th>\n",
       "      <th>Order ID</th>\n",
       "      <th>Sales_Order_ID</th>\n",
       "    </tr>\n",
       "  </thead>\n",
       "  <tbody>\n",
       "    <tr>\n",
       "      <th>2</th>\n",
       "      <td>21776</td>\n",
       "      <td>Critical</td>\n",
       "      <td>0.06</td>\n",
       "      <td>9.48</td>\n",
       "      <td>7.29</td>\n",
       "      <td>True</td>\n",
       "      <td>Marcus Dunlap</td>\n",
       "      <td>Regular Air</td>\n",
       "      <td>Home Office</td>\n",
       "      <td>Furniture</td>\n",
       "      <td>...</td>\n",
       "      <td>New Jersey</td>\n",
       "      <td>Roselle</td>\n",
       "      <td>7203</td>\n",
       "      <td>2015-02-15</td>\n",
       "      <td>02 17 2015</td>\n",
       "      <td>True</td>\n",
       "      <td>22</td>\n",
       "      <td>211.15</td>\n",
       "      <td>90192</td>\n",
       "      <td>190651.56</td>\n",
       "    </tr>\n",
       "    <tr>\n",
       "      <th>346</th>\n",
       "      <td>6387</td>\n",
       "      <td>Critical</td>\n",
       "      <td>0.06</td>\n",
       "      <td>65.99</td>\n",
       "      <td>8.80</td>\n",
       "      <td>True</td>\n",
       "      <td>Neal Wolfe</td>\n",
       "      <td>Express Air</td>\n",
       "      <td>Consumer</td>\n",
       "      <td>Technology</td>\n",
       "      <td>...</td>\n",
       "      <td>Washington</td>\n",
       "      <td>Seattle</td>\n",
       "      <td>98119</td>\n",
       "      <td>2015-04-30</td>\n",
       "      <td>05 1 2015</td>\n",
       "      <td>True</td>\n",
       "      <td>34</td>\n",
       "      <td>1912.98</td>\n",
       "      <td>45380</td>\n",
       "      <td>870023.30</td>\n",
       "    </tr>\n",
       "    <tr>\n",
       "      <th>905</th>\n",
       "      <td>24265</td>\n",
       "      <td>Not Specified</td>\n",
       "      <td>0.06</td>\n",
       "      <td>3.29</td>\n",
       "      <td>1.35</td>\n",
       "      <td>True</td>\n",
       "      <td>Eugene Brewer Knox</td>\n",
       "      <td>Regular Air</td>\n",
       "      <td>Small Business</td>\n",
       "      <td>Office Supplies</td>\n",
       "      <td>...</td>\n",
       "      <td>New York</td>\n",
       "      <td>Bethpage</td>\n",
       "      <td>11714</td>\n",
       "      <td>2015-03-15</td>\n",
       "      <td>03 17 2015</td>\n",
       "      <td>True</td>\n",
       "      <td>11</td>\n",
       "      <td>35.97</td>\n",
       "      <td>90932</td>\n",
       "      <td>32744.21</td>\n",
       "    </tr>\n",
       "    <tr>\n",
       "      <th>895</th>\n",
       "      <td>23604</td>\n",
       "      <td>High</td>\n",
       "      <td>0.06</td>\n",
       "      <td>43.57</td>\n",
       "      <td>16.36</td>\n",
       "      <td>True</td>\n",
       "      <td>Aaron Day</td>\n",
       "      <td>Regular Air</td>\n",
       "      <td>Corporate</td>\n",
       "      <td>Office Supplies</td>\n",
       "      <td>...</td>\n",
       "      <td>Tennessee</td>\n",
       "      <td>Greeneville</td>\n",
       "      <td>37743</td>\n",
       "      <td>2015-05-28</td>\n",
       "      <td>05 30 2015</td>\n",
       "      <td>True</td>\n",
       "      <td>17</td>\n",
       "      <td>710.16</td>\n",
       "      <td>90602</td>\n",
       "      <td>644129.32</td>\n",
       "    </tr>\n",
       "    <tr>\n",
       "      <th>369</th>\n",
       "      <td>25059</td>\n",
       "      <td>Critical</td>\n",
       "      <td>0.06</td>\n",
       "      <td>161.55</td>\n",
       "      <td>19.99</td>\n",
       "      <td>True</td>\n",
       "      <td>Albert Frost</td>\n",
       "      <td>Regular Air</td>\n",
       "      <td>Small Business</td>\n",
       "      <td>Office Supplies</td>\n",
       "      <td>...</td>\n",
       "      <td>Missouri</td>\n",
       "      <td>Raytown</td>\n",
       "      <td>64133</td>\n",
       "      <td>2015-01-02</td>\n",
       "      <td>01 3 2015</td>\n",
       "      <td>True</td>\n",
       "      <td>3</td>\n",
       "      <td>485.01</td>\n",
       "      <td>88174</td>\n",
       "      <td>428137.73</td>\n",
       "    </tr>\n",
       "    <tr>\n",
       "      <th>...</th>\n",
       "      <td>...</td>\n",
       "      <td>...</td>\n",
       "      <td>...</td>\n",
       "      <td>...</td>\n",
       "      <td>...</td>\n",
       "      <td>...</td>\n",
       "      <td>...</td>\n",
       "      <td>...</td>\n",
       "      <td>...</td>\n",
       "      <td>...</td>\n",
       "      <td>...</td>\n",
       "      <td>...</td>\n",
       "      <td>...</td>\n",
       "      <td>...</td>\n",
       "      <td>...</td>\n",
       "      <td>...</td>\n",
       "      <td>...</td>\n",
       "      <td>...</td>\n",
       "      <td>...</td>\n",
       "      <td>...</td>\n",
       "      <td>...</td>\n",
       "    </tr>\n",
       "    <tr>\n",
       "      <th>724</th>\n",
       "      <td>19398</td>\n",
       "      <td>Low</td>\n",
       "      <td>0.10</td>\n",
       "      <td>34.23</td>\n",
       "      <td>5.02</td>\n",
       "      <td>True</td>\n",
       "      <td>Joanne Church</td>\n",
       "      <td>Regular Air</td>\n",
       "      <td>Corporate</td>\n",
       "      <td>Furniture</td>\n",
       "      <td>...</td>\n",
       "      <td>California</td>\n",
       "      <td>La Mesa</td>\n",
       "      <td>91941</td>\n",
       "      <td>2015-05-01</td>\n",
       "      <td>05 6 2015</td>\n",
       "      <td>True</td>\n",
       "      <td>7</td>\n",
       "      <td>219.66</td>\n",
       "      <td>88411</td>\n",
       "      <td>194423.26</td>\n",
       "    </tr>\n",
       "    <tr>\n",
       "      <th>846</th>\n",
       "      <td>23471</td>\n",
       "      <td>Critical</td>\n",
       "      <td>0.10</td>\n",
       "      <td>122.99</td>\n",
       "      <td>70.20</td>\n",
       "      <td>True</td>\n",
       "      <td>Earl Watts</td>\n",
       "      <td>Delivery Truck</td>\n",
       "      <td>Consumer</td>\n",
       "      <td>Furniture</td>\n",
       "      <td>...</td>\n",
       "      <td>Minnesota</td>\n",
       "      <td>Hopkins</td>\n",
       "      <td>55305</td>\n",
       "      <td>2015-06-14</td>\n",
       "      <td>06 15 2015</td>\n",
       "      <td>True</td>\n",
       "      <td>17</td>\n",
       "      <td>2026.91</td>\n",
       "      <td>89957</td>\n",
       "      <td>1825374.34</td>\n",
       "    </tr>\n",
       "    <tr>\n",
       "      <th>1935</th>\n",
       "      <td>25914</td>\n",
       "      <td>High</td>\n",
       "      <td>0.10</td>\n",
       "      <td>105.98</td>\n",
       "      <td>13.99</td>\n",
       "      <td>True</td>\n",
       "      <td>Tammy Buckley</td>\n",
       "      <td>Express Air</td>\n",
       "      <td>Consumer</td>\n",
       "      <td>Furniture</td>\n",
       "      <td>...</td>\n",
       "      <td>Wyoming</td>\n",
       "      <td>Cheyenne</td>\n",
       "      <td>82001</td>\n",
       "      <td>2015-02-08</td>\n",
       "      <td>02 11 2015</td>\n",
       "      <td>True</td>\n",
       "      <td>5</td>\n",
       "      <td>506.50</td>\n",
       "      <td>87530</td>\n",
       "      <td>443845.95</td>\n",
       "    </tr>\n",
       "    <tr>\n",
       "      <th>1208</th>\n",
       "      <td>20234</td>\n",
       "      <td>Critical</td>\n",
       "      <td>0.17</td>\n",
       "      <td>14.89</td>\n",
       "      <td>13.56</td>\n",
       "      <td>True</td>\n",
       "      <td>David Hoyle</td>\n",
       "      <td>Regular Air</td>\n",
       "      <td>Small Business</td>\n",
       "      <td>Furniture</td>\n",
       "      <td>...</td>\n",
       "      <td>Minnesota</td>\n",
       "      <td>Bloomington</td>\n",
       "      <td>55420</td>\n",
       "      <td>2015-03-25</td>\n",
       "      <td>03 27 2015</td>\n",
       "      <td>True</td>\n",
       "      <td>1</td>\n",
       "      <td>27.96</td>\n",
       "      <td>86054</td>\n",
       "      <td>24088.66</td>\n",
       "    </tr>\n",
       "    <tr>\n",
       "      <th>1773</th>\n",
       "      <td>21721</td>\n",
       "      <td>Critical</td>\n",
       "      <td>0.21</td>\n",
       "      <td>14.98</td>\n",
       "      <td>8.99</td>\n",
       "      <td>True</td>\n",
       "      <td>Kristine Singleton</td>\n",
       "      <td>Regular Air</td>\n",
       "      <td>Corporate</td>\n",
       "      <td>Furniture</td>\n",
       "      <td>...</td>\n",
       "      <td>Illinois</td>\n",
       "      <td>Naperville</td>\n",
       "      <td>60540</td>\n",
       "      <td>2015-03-04</td>\n",
       "      <td>03 5 2015</td>\n",
       "      <td>True</td>\n",
       "      <td>10</td>\n",
       "      <td>153.87</td>\n",
       "      <td>86792</td>\n",
       "      <td>133700.72</td>\n",
       "    </tr>\n",
       "  </tbody>\n",
       "</table>\n",
       "<p>833 rows × 26 columns</p>\n",
       "</div>"
      ],
      "text/plain": [
       "      Row ID Order_Priority  Discount  Unit Price  Shipping Cost  Customer ID  \\\n",
       "2      21776       Critical      0.06        9.48           7.29         True   \n",
       "346     6387       Critical      0.06       65.99           8.80         True   \n",
       "905    24265  Not Specified      0.06        3.29           1.35         True   \n",
       "895    23604           High      0.06       43.57          16.36         True   \n",
       "369    25059       Critical      0.06      161.55          19.99         True   \n",
       "...      ...            ...       ...         ...            ...          ...   \n",
       "724    19398            Low      0.10       34.23           5.02         True   \n",
       "846    23471       Critical      0.10      122.99          70.20         True   \n",
       "1935   25914           High      0.10      105.98          13.99         True   \n",
       "1208   20234       Critical      0.17       14.89          13.56         True   \n",
       "1773   21721       Critical      0.21       14.98           8.99         True   \n",
       "\n",
       "           Customer_Name       Ship_Mode Customer Segment Product Category  \\\n",
       "2          Marcus Dunlap     Regular Air      Home Office        Furniture   \n",
       "346           Neal Wolfe     Express Air         Consumer       Technology   \n",
       "905   Eugene Brewer Knox     Regular Air   Small Business  Office Supplies   \n",
       "895            Aaron Day     Regular Air        Corporate  Office Supplies   \n",
       "369         Albert Frost     Regular Air   Small Business  Office Supplies   \n",
       "...                  ...             ...              ...              ...   \n",
       "724        Joanne Church     Regular Air        Corporate        Furniture   \n",
       "846           Earl Watts  Delivery Truck         Consumer        Furniture   \n",
       "1935       Tammy Buckley     Express Air         Consumer        Furniture   \n",
       "1208         David Hoyle     Regular Air   Small Business        Furniture   \n",
       "1773  Kristine Singleton     Regular Air        Corporate        Furniture   \n",
       "\n",
       "      ... State/Province         City Postal Code  Order_date   Ship Date  \\\n",
       "2     ...     New Jersey      Roselle        7203  2015-02-15  02 17 2015   \n",
       "346   ...     Washington      Seattle       98119  2015-04-30   05 1 2015   \n",
       "905   ...       New York     Bethpage       11714  2015-03-15  03 17 2015   \n",
       "895   ...      Tennessee  Greeneville       37743  2015-05-28  05 30 2015   \n",
       "369   ...       Missouri      Raytown       64133  2015-01-02   01 3 2015   \n",
       "...   ...            ...          ...         ...         ...         ...   \n",
       "724   ...     California      La Mesa       91941  2015-05-01   05 6 2015   \n",
       "846   ...      Minnesota      Hopkins       55305  2015-06-14  06 15 2015   \n",
       "1935  ...        Wyoming     Cheyenne       82001  2015-02-08  02 11 2015   \n",
       "1208  ...      Minnesota  Bloomington       55420  2015-03-25  03 27 2015   \n",
       "1773  ...       Illinois   Naperville       60540  2015-03-04   03 5 2015   \n",
       "\n",
       "     Profit Quantity ordered new    Sales  Order ID Sales_Order_ID  \n",
       "2      True                   22   211.15     90192      190651.56  \n",
       "346    True                   34  1912.98     45380      870023.30  \n",
       "905    True                   11    35.97     90932       32744.21  \n",
       "895    True                   17   710.16     90602      644129.32  \n",
       "369    True                    3   485.01     88174      428137.73  \n",
       "...     ...                  ...      ...       ...            ...  \n",
       "724    True                    7   219.66     88411      194423.26  \n",
       "846    True                   17  2026.91     89957     1825374.34  \n",
       "1935   True                    5   506.50     87530      443845.95  \n",
       "1208   True                    1    27.96     86054       24088.66  \n",
       "1773   True                   10   153.87     86792      133700.72  \n",
       "\n",
       "[833 rows x 26 columns]"
      ]
     },
     "execution_count": 52,
     "metadata": {},
     "output_type": "execute_result"
    }
   ],
   "source": [
    "bonus19"
   ]
  },
  {
   "cell_type": "code",
   "execution_count": 53,
   "id": "b8da98c4",
   "metadata": {},
   "outputs": [],
   "source": [
    "bonus19 = df[df['Discount']>0.05].sort_values(['Discount'],ascending = False)"
   ]
  },
  {
   "cell_type": "code",
   "execution_count": 54,
   "id": "68975c53",
   "metadata": {},
   "outputs": [
    {
     "data": {
      "text/html": [
       "<div>\n",
       "<style scoped>\n",
       "    .dataframe tbody tr th:only-of-type {\n",
       "        vertical-align: middle;\n",
       "    }\n",
       "\n",
       "    .dataframe tbody tr th {\n",
       "        vertical-align: top;\n",
       "    }\n",
       "\n",
       "    .dataframe thead th {\n",
       "        text-align: right;\n",
       "    }\n",
       "</style>\n",
       "<table border=\"1\" class=\"dataframe\">\n",
       "  <thead>\n",
       "    <tr style=\"text-align: right;\">\n",
       "      <th></th>\n",
       "      <th>Row ID</th>\n",
       "      <th>Order_Priority</th>\n",
       "      <th>Discount</th>\n",
       "      <th>Unit Price</th>\n",
       "      <th>Shipping Cost</th>\n",
       "      <th>Customer ID</th>\n",
       "      <th>Customer_Name</th>\n",
       "      <th>Ship_Mode</th>\n",
       "      <th>Customer Segment</th>\n",
       "      <th>Product Category</th>\n",
       "      <th>...</th>\n",
       "      <th>State/Province</th>\n",
       "      <th>City</th>\n",
       "      <th>Postal Code</th>\n",
       "      <th>Order_date</th>\n",
       "      <th>Ship Date</th>\n",
       "      <th>Profit</th>\n",
       "      <th>Quantity ordered new</th>\n",
       "      <th>Sales</th>\n",
       "      <th>Order ID</th>\n",
       "      <th>Sales_Order_ID</th>\n",
       "    </tr>\n",
       "  </thead>\n",
       "  <tbody>\n",
       "    <tr>\n",
       "      <th>1773</th>\n",
       "      <td>21721</td>\n",
       "      <td>Critical</td>\n",
       "      <td>0.21</td>\n",
       "      <td>14.98</td>\n",
       "      <td>8.99</td>\n",
       "      <td>True</td>\n",
       "      <td>Kristine Singleton</td>\n",
       "      <td>Regular Air</td>\n",
       "      <td>Corporate</td>\n",
       "      <td>Furniture</td>\n",
       "      <td>...</td>\n",
       "      <td>Illinois</td>\n",
       "      <td>Naperville</td>\n",
       "      <td>60540</td>\n",
       "      <td>2015-03-04</td>\n",
       "      <td>03 5 2015</td>\n",
       "      <td>True</td>\n",
       "      <td>10</td>\n",
       "      <td>153.87</td>\n",
       "      <td>86792</td>\n",
       "      <td>133700.72</td>\n",
       "    </tr>\n",
       "    <tr>\n",
       "      <th>1208</th>\n",
       "      <td>20234</td>\n",
       "      <td>Critical</td>\n",
       "      <td>0.17</td>\n",
       "      <td>14.89</td>\n",
       "      <td>13.56</td>\n",
       "      <td>True</td>\n",
       "      <td>David Hoyle</td>\n",
       "      <td>Regular Air</td>\n",
       "      <td>Small Business</td>\n",
       "      <td>Furniture</td>\n",
       "      <td>...</td>\n",
       "      <td>Minnesota</td>\n",
       "      <td>Bloomington</td>\n",
       "      <td>55420</td>\n",
       "      <td>2015-03-25</td>\n",
       "      <td>03 27 2015</td>\n",
       "      <td>True</td>\n",
       "      <td>1</td>\n",
       "      <td>27.96</td>\n",
       "      <td>86054</td>\n",
       "      <td>24088.66</td>\n",
       "    </tr>\n",
       "    <tr>\n",
       "      <th>1935</th>\n",
       "      <td>25914</td>\n",
       "      <td>High</td>\n",
       "      <td>0.10</td>\n",
       "      <td>105.98</td>\n",
       "      <td>13.99</td>\n",
       "      <td>True</td>\n",
       "      <td>Tammy Buckley</td>\n",
       "      <td>Express Air</td>\n",
       "      <td>Consumer</td>\n",
       "      <td>Furniture</td>\n",
       "      <td>...</td>\n",
       "      <td>Wyoming</td>\n",
       "      <td>Cheyenne</td>\n",
       "      <td>82001</td>\n",
       "      <td>2015-02-08</td>\n",
       "      <td>02 11 2015</td>\n",
       "      <td>True</td>\n",
       "      <td>5</td>\n",
       "      <td>506.50</td>\n",
       "      <td>87530</td>\n",
       "      <td>443845.95</td>\n",
       "    </tr>\n",
       "    <tr>\n",
       "      <th>1260</th>\n",
       "      <td>21531</td>\n",
       "      <td>Medium</td>\n",
       "      <td>0.10</td>\n",
       "      <td>6.68</td>\n",
       "      <td>6.93</td>\n",
       "      <td>True</td>\n",
       "      <td>Larry Langston</td>\n",
       "      <td>Regular Air</td>\n",
       "      <td>Corporate</td>\n",
       "      <td>Office Supplies</td>\n",
       "      <td>...</td>\n",
       "      <td>South Carolina</td>\n",
       "      <td>Spartanburg</td>\n",
       "      <td>29301</td>\n",
       "      <td>2015-02-04</td>\n",
       "      <td>02 7 2015</td>\n",
       "      <td>True</td>\n",
       "      <td>3</td>\n",
       "      <td>21.56</td>\n",
       "      <td>90145</td>\n",
       "      <td>19456.82</td>\n",
       "    </tr>\n",
       "    <tr>\n",
       "      <th>288</th>\n",
       "      <td>24133</td>\n",
       "      <td>High</td>\n",
       "      <td>0.10</td>\n",
       "      <td>218.75</td>\n",
       "      <td>69.64</td>\n",
       "      <td>True</td>\n",
       "      <td>Edna Monroe Talley</td>\n",
       "      <td>Delivery Truck</td>\n",
       "      <td>Corporate</td>\n",
       "      <td>Furniture</td>\n",
       "      <td>...</td>\n",
       "      <td>Texas</td>\n",
       "      <td>Seguin</td>\n",
       "      <td>78155</td>\n",
       "      <td>2015-01-30</td>\n",
       "      <td>02 1 2015</td>\n",
       "      <td>True</td>\n",
       "      <td>1</td>\n",
       "      <td>188.51</td>\n",
       "      <td>90909</td>\n",
       "      <td>171561.07</td>\n",
       "    </tr>\n",
       "    <tr>\n",
       "      <th>...</th>\n",
       "      <td>...</td>\n",
       "      <td>...</td>\n",
       "      <td>...</td>\n",
       "      <td>...</td>\n",
       "      <td>...</td>\n",
       "      <td>...</td>\n",
       "      <td>...</td>\n",
       "      <td>...</td>\n",
       "      <td>...</td>\n",
       "      <td>...</td>\n",
       "      <td>...</td>\n",
       "      <td>...</td>\n",
       "      <td>...</td>\n",
       "      <td>...</td>\n",
       "      <td>...</td>\n",
       "      <td>...</td>\n",
       "      <td>...</td>\n",
       "      <td>...</td>\n",
       "      <td>...</td>\n",
       "      <td>...</td>\n",
       "      <td>...</td>\n",
       "    </tr>\n",
       "    <tr>\n",
       "      <th>345</th>\n",
       "      <td>1539</td>\n",
       "      <td>Low</td>\n",
       "      <td>0.06</td>\n",
       "      <td>160.98</td>\n",
       "      <td>35.02</td>\n",
       "      <td>True</td>\n",
       "      <td>Neal Wolfe</td>\n",
       "      <td>Delivery Truck</td>\n",
       "      <td>Consumer</td>\n",
       "      <td>Furniture</td>\n",
       "      <td>...</td>\n",
       "      <td>Washington</td>\n",
       "      <td>Seattle</td>\n",
       "      <td>98119</td>\n",
       "      <td>2015-03-20</td>\n",
       "      <td>03 24 2015</td>\n",
       "      <td>True</td>\n",
       "      <td>30</td>\n",
       "      <td>4620.05</td>\n",
       "      <td>11077</td>\n",
       "      <td>516382.99</td>\n",
       "    </tr>\n",
       "    <tr>\n",
       "      <th>1189</th>\n",
       "      <td>23774</td>\n",
       "      <td>Medium</td>\n",
       "      <td>0.06</td>\n",
       "      <td>55.99</td>\n",
       "      <td>5.00</td>\n",
       "      <td>True</td>\n",
       "      <td>Brenda Jain</td>\n",
       "      <td>Regular Air</td>\n",
       "      <td>Corporate</td>\n",
       "      <td>Technology</td>\n",
       "      <td>...</td>\n",
       "      <td>Pennsylvania</td>\n",
       "      <td>Sharon</td>\n",
       "      <td>16146</td>\n",
       "      <td>2015-05-20</td>\n",
       "      <td>05 22 2015</td>\n",
       "      <td>True</td>\n",
       "      <td>33</td>\n",
       "      <td>1553.70</td>\n",
       "      <td>90387</td>\n",
       "      <td>1405896.52</td>\n",
       "    </tr>\n",
       "    <tr>\n",
       "      <th>1663</th>\n",
       "      <td>25709</td>\n",
       "      <td>Low</td>\n",
       "      <td>0.06</td>\n",
       "      <td>20.99</td>\n",
       "      <td>0.99</td>\n",
       "      <td>True</td>\n",
       "      <td>Ellen Sparks</td>\n",
       "      <td>Regular Air</td>\n",
       "      <td>Corporate</td>\n",
       "      <td>Technology</td>\n",
       "      <td>...</td>\n",
       "      <td>Wisconsin</td>\n",
       "      <td>Neenah</td>\n",
       "      <td>54956</td>\n",
       "      <td>2015-03-23</td>\n",
       "      <td>03 28 2015</td>\n",
       "      <td>True</td>\n",
       "      <td>18</td>\n",
       "      <td>326.03</td>\n",
       "      <td>90265</td>\n",
       "      <td>294617.01</td>\n",
       "    </tr>\n",
       "    <tr>\n",
       "      <th>346</th>\n",
       "      <td>6387</td>\n",
       "      <td>Critical</td>\n",
       "      <td>0.06</td>\n",
       "      <td>65.99</td>\n",
       "      <td>8.80</td>\n",
       "      <td>True</td>\n",
       "      <td>Neal Wolfe</td>\n",
       "      <td>Express Air</td>\n",
       "      <td>Consumer</td>\n",
       "      <td>Technology</td>\n",
       "      <td>...</td>\n",
       "      <td>Washington</td>\n",
       "      <td>Seattle</td>\n",
       "      <td>98119</td>\n",
       "      <td>2015-04-30</td>\n",
       "      <td>05 1 2015</td>\n",
       "      <td>True</td>\n",
       "      <td>34</td>\n",
       "      <td>1912.98</td>\n",
       "      <td>45380</td>\n",
       "      <td>870023.30</td>\n",
       "    </tr>\n",
       "    <tr>\n",
       "      <th>2</th>\n",
       "      <td>21776</td>\n",
       "      <td>Critical</td>\n",
       "      <td>0.06</td>\n",
       "      <td>9.48</td>\n",
       "      <td>7.29</td>\n",
       "      <td>True</td>\n",
       "      <td>Marcus Dunlap</td>\n",
       "      <td>Regular Air</td>\n",
       "      <td>Home Office</td>\n",
       "      <td>Furniture</td>\n",
       "      <td>...</td>\n",
       "      <td>New Jersey</td>\n",
       "      <td>Roselle</td>\n",
       "      <td>7203</td>\n",
       "      <td>2015-02-15</td>\n",
       "      <td>02 17 2015</td>\n",
       "      <td>True</td>\n",
       "      <td>22</td>\n",
       "      <td>211.15</td>\n",
       "      <td>90192</td>\n",
       "      <td>190651.56</td>\n",
       "    </tr>\n",
       "  </tbody>\n",
       "</table>\n",
       "<p>833 rows × 26 columns</p>\n",
       "</div>"
      ],
      "text/plain": [
       "      Row ID Order_Priority  Discount  Unit Price  Shipping Cost  Customer ID  \\\n",
       "1773   21721       Critical      0.21       14.98           8.99         True   \n",
       "1208   20234       Critical      0.17       14.89          13.56         True   \n",
       "1935   25914           High      0.10      105.98          13.99         True   \n",
       "1260   21531         Medium      0.10        6.68           6.93         True   \n",
       "288    24133           High      0.10      218.75          69.64         True   \n",
       "...      ...            ...       ...         ...            ...          ...   \n",
       "345     1539            Low      0.06      160.98          35.02         True   \n",
       "1189   23774         Medium      0.06       55.99           5.00         True   \n",
       "1663   25709            Low      0.06       20.99           0.99         True   \n",
       "346     6387       Critical      0.06       65.99           8.80         True   \n",
       "2      21776       Critical      0.06        9.48           7.29         True   \n",
       "\n",
       "           Customer_Name       Ship_Mode Customer Segment Product Category  \\\n",
       "1773  Kristine Singleton     Regular Air        Corporate        Furniture   \n",
       "1208         David Hoyle     Regular Air   Small Business        Furniture   \n",
       "1935       Tammy Buckley     Express Air         Consumer        Furniture   \n",
       "1260      Larry Langston     Regular Air        Corporate  Office Supplies   \n",
       "288   Edna Monroe Talley  Delivery Truck        Corporate        Furniture   \n",
       "...                  ...             ...              ...              ...   \n",
       "345           Neal Wolfe  Delivery Truck         Consumer        Furniture   \n",
       "1189         Brenda Jain     Regular Air        Corporate       Technology   \n",
       "1663        Ellen Sparks     Regular Air        Corporate       Technology   \n",
       "346           Neal Wolfe     Express Air         Consumer       Technology   \n",
       "2          Marcus Dunlap     Regular Air      Home Office        Furniture   \n",
       "\n",
       "      ...  State/Province         City Postal Code  Order_date   Ship Date  \\\n",
       "1773  ...        Illinois   Naperville       60540  2015-03-04   03 5 2015   \n",
       "1208  ...       Minnesota  Bloomington       55420  2015-03-25  03 27 2015   \n",
       "1935  ...         Wyoming     Cheyenne       82001  2015-02-08  02 11 2015   \n",
       "1260  ...  South Carolina  Spartanburg       29301  2015-02-04   02 7 2015   \n",
       "288   ...           Texas       Seguin       78155  2015-01-30   02 1 2015   \n",
       "...   ...             ...          ...         ...         ...         ...   \n",
       "345   ...      Washington      Seattle       98119  2015-03-20  03 24 2015   \n",
       "1189  ...    Pennsylvania       Sharon       16146  2015-05-20  05 22 2015   \n",
       "1663  ...       Wisconsin       Neenah       54956  2015-03-23  03 28 2015   \n",
       "346   ...      Washington      Seattle       98119  2015-04-30   05 1 2015   \n",
       "2     ...      New Jersey      Roselle        7203  2015-02-15  02 17 2015   \n",
       "\n",
       "     Profit Quantity ordered new    Sales  Order ID Sales_Order_ID  \n",
       "1773   True                   10   153.87     86792      133700.72  \n",
       "1208   True                    1    27.96     86054       24088.66  \n",
       "1935   True                    5   506.50     87530      443845.95  \n",
       "1260   True                    3    21.56     90145       19456.82  \n",
       "288    True                    1   188.51     90909      171561.07  \n",
       "...     ...                  ...      ...       ...            ...  \n",
       "345    True                   30  4620.05     11077      516382.99  \n",
       "1189   True                   33  1553.70     90387     1405896.52  \n",
       "1663   True                   18   326.03     90265      294617.01  \n",
       "346    True                   34  1912.98     45380      870023.30  \n",
       "2      True                   22   211.15     90192      190651.56  \n",
       "\n",
       "[833 rows x 26 columns]"
      ]
     },
     "execution_count": 54,
     "metadata": {},
     "output_type": "execute_result"
    }
   ],
   "source": [
    "bonus19"
   ]
  },
  {
   "cell_type": "markdown",
   "id": "acb28fbe",
   "metadata": {},
   "source": [
    "## Task: Line on shopping cost and product category"
   ]
  },
  {
   "cell_type": "code",
   "execution_count": 55,
   "id": "1f59dff3",
   "metadata": {},
   "outputs": [
    {
     "data": {
      "text/plain": [
       "<Axes: xlabel='Shipping Cost', ylabel='Discount'>"
      ]
     },
     "execution_count": 55,
     "metadata": {},
     "output_type": "execute_result"
    },
    {
     "data": {
      "image/png": "[encoded data removed]",
      "text/plain": [
       "<Figure size 640x480 with 1 Axes>"
      ]
     },
     "metadata": {},
     "output_type": "display_data"
    }
   ],
   "source": [
    "sns.lineplot(x=\"Shipping Cost\", y='Discount', data=df)"
   ]
  },
  {
   "cell_type": "markdown",
   "id": "c4f9ee9d",
   "metadata": {},
   "source": [
    "## Handing Outliers"
   ]
  },
  {
   "cell_type": "code",
   "execution_count": 56,
   "id": "7f1d6fd4",
   "metadata": {},
   "outputs": [
    {
     "name": "stdout",
     "output_type": "stream",
     "text": [
      "   sepal_length  sepal_width  petal_length  petal_width species\n",
      "0           5.1          3.5           1.4          0.2  setosa\n",
      "1           4.9          3.0           1.4          0.2  setosa\n",
      "2           4.7          3.2           1.3          0.2  setosa\n",
      "3           4.6          3.1           1.5          0.2  setosa\n",
      "4           5.0          3.6           1.4          0.2  setosa\n"
     ]
    }
   ],
   "source": [
    "df = sns.load_dataset(\"iris\")\n",
    "print(df.head())"
   ]
  },
  {
   "cell_type": "code",
   "execution_count": 57,
   "id": "c27c1079",
   "metadata": {},
   "outputs": [
    {
     "data": {
      "text/plain": [
       "species\n",
       "setosa        50\n",
       "versicolor    50\n",
       "virginica     50\n",
       "Name: count, dtype: int64"
      ]
     },
     "execution_count": 57,
     "metadata": {},
     "output_type": "execute_result"
    }
   ],
   "source": [
    "df['species'].value_counts()"
   ]
  },
  {
   "cell_type": "code",
   "execution_count": 58,
   "id": "d33a11fe",
   "metadata": {},
   "outputs": [
    {
     "data": {
      "text/plain": [
       "['anagrams',\n",
       " 'anscombe',\n",
       " 'attention',\n",
       " 'brain_networks',\n",
       " 'car_crashes',\n",
       " 'diamonds',\n",
       " 'dots',\n",
       " 'dowjones',\n",
       " 'exercise',\n",
       " 'flights',\n",
       " 'fmri',\n",
       " 'geyser',\n",
       " 'glue',\n",
       " 'healthexp',\n",
       " 'iris',\n",
       " 'mpg',\n",
       " 'penguins',\n",
       " 'planets',\n",
       " 'seaice',\n",
       " 'taxis',\n",
       " 'tips',\n",
       " 'titanic']"
      ]
     },
     "execution_count": 58,
     "metadata": {},
     "output_type": "execute_result"
    }
   ],
   "source": [
    "sns.get_dataset_names()"
   ]
  },
  {
   "cell_type": "code",
   "execution_count": 59,
   "id": "657bbbcb",
   "metadata": {},
   "outputs": [
    {
     "data": {
      "text/plain": [
       "<Axes: >"
      ]
     },
     "execution_count": 59,
     "metadata": {},
     "output_type": "execute_result"
    },
    {
     "data": {
      "image/png": "[encoded data removed]",
      "text/plain": [
       "<Figure size 640x480 with 1 Axes>"
      ]
     },
     "metadata": {},
     "output_type": "display_data"
    }
   ],
   "source": [
    "sns.boxplot(data=df)"
   ]
  },
  {
   "cell_type": "code",
   "execution_count": 60,
   "id": "0e57efe5",
   "metadata": {},
   "outputs": [
    {
     "data": {
      "text/plain": [
       "(150, 5)"
      ]
     },
     "execution_count": 60,
     "metadata": {},
     "output_type": "execute_result"
    }
   ],
   "source": [
    "df.shape"
   ]
  },
  {
   "cell_type": "code",
   "execution_count": 61,
   "id": "ea6c2724",
   "metadata": {},
   "outputs": [
    {
     "name": "stdout",
     "output_type": "stream",
     "text": [
      "Old Shape:  (150, 5)\n"
     ]
    },
    {
     "data": {
      "text/plain": [
       "[2.05, 4.05]"
      ]
     },
     "execution_count": 61,
     "metadata": {},
     "output_type": "execute_result"
    }
   ],
   "source": [
    "# IQR\n",
    "Q1 = np.percentile(df['sepal_width'], 25, method = 'midpoint')\n",
    "Q3 = np.percentile(df['sepal_width'], 75, method = 'midpoint')\n",
    "# print(Q1,Q3)\n",
    "IQR = (Q3 - Q1)\n",
    "print(\"Old Shape: \", df.shape)\n",
    "Upper = Q3+1.5*IQR\n",
    "# print(Upper)\n",
    "lower =  Q1-1.5*IQR  \n",
    "# print(lower)\n",
    "[lower,Upper]"
   ]
  },
  {
   "cell_type": "code",
   "execution_count": 62,
   "id": "2b5b1598",
   "metadata": {},
   "outputs": [
    {
     "data": {
      "text/plain": [
       "(2.0, 4.4)"
      ]
     },
     "execution_count": 62,
     "metadata": {},
     "output_type": "execute_result"
    }
   ],
   "source": [
    "df['sepal_width'].min(),df['sepal_width'].max()"
   ]
  },
  {
   "cell_type": "code",
   "execution_count": 63,
   "id": "82a62470",
   "metadata": {},
   "outputs": [
    {
     "name": "stdout",
     "output_type": "stream",
     "text": [
      "[15 32 33]\n"
     ]
    }
   ],
   "source": [
    "max_Upper_value = np.where(df['sepal_width'] >= Upper)\n",
    "print(max_Upper_value[0]) "
   ]
  },
  {
   "cell_type": "code",
   "execution_count": 64,
   "id": "02df4e2a",
   "metadata": {},
   "outputs": [
    {
     "name": "stdout",
     "output_type": "stream",
     "text": [
      "(array([60], dtype=int64),)\n"
     ]
    }
   ],
   "source": [
    "# Lower bound\n",
    "min_Lower_value = np.where(df['sepal_width'] <= lower)\n",
    "print(min_Lower_value)"
   ]
  },
  {
   "cell_type": "code",
   "execution_count": 72,
   "id": "5c9b32bc",
   "metadata": {},
   "outputs": [
    {
     "data": {
      "text/html": [
       "<div>\n",
       "<style scoped>\n",
       "    .dataframe tbody tr th:only-of-type {\n",
       "        vertical-align: middle;\n",
       "    }\n",
       "\n",
       "    .dataframe tbody tr th {\n",
       "        vertical-align: top;\n",
       "    }\n",
       "\n",
       "    .dataframe thead th {\n",
       "        text-align: right;\n",
       "    }\n",
       "</style>\n",
       "<table border=\"1\" class=\"dataframe\">\n",
       "  <thead>\n",
       "    <tr style=\"text-align: right;\">\n",
       "      <th></th>\n",
       "      <th>sepal_length</th>\n",
       "      <th>sepal_width</th>\n",
       "      <th>petal_length</th>\n",
       "      <th>petal_width</th>\n",
       "      <th>species</th>\n",
       "    </tr>\n",
       "  </thead>\n",
       "  <tbody>\n",
       "    <tr>\n",
       "      <th>0</th>\n",
       "      <td>5.1</td>\n",
       "      <td>3.5</td>\n",
       "      <td>1.4</td>\n",
       "      <td>0.2</td>\n",
       "      <td>setosa</td>\n",
       "    </tr>\n",
       "    <tr>\n",
       "      <th>1</th>\n",
       "      <td>4.9</td>\n",
       "      <td>3.0</td>\n",
       "      <td>1.4</td>\n",
       "      <td>0.2</td>\n",
       "      <td>setosa</td>\n",
       "    </tr>\n",
       "    <tr>\n",
       "      <th>2</th>\n",
       "      <td>4.7</td>\n",
       "      <td>3.2</td>\n",
       "      <td>1.3</td>\n",
       "      <td>0.2</td>\n",
       "      <td>setosa</td>\n",
       "    </tr>\n",
       "    <tr>\n",
       "      <th>3</th>\n",
       "      <td>4.6</td>\n",
       "      <td>3.1</td>\n",
       "      <td>1.5</td>\n",
       "      <td>0.2</td>\n",
       "      <td>setosa</td>\n",
       "    </tr>\n",
       "    <tr>\n",
       "      <th>4</th>\n",
       "      <td>5.0</td>\n",
       "      <td>3.6</td>\n",
       "      <td>1.4</td>\n",
       "      <td>0.2</td>\n",
       "      <td>setosa</td>\n",
       "    </tr>\n",
       "    <tr>\n",
       "      <th>5</th>\n",
       "      <td>5.4</td>\n",
       "      <td>3.9</td>\n",
       "      <td>1.7</td>\n",
       "      <td>0.4</td>\n",
       "      <td>setosa</td>\n",
       "    </tr>\n",
       "    <tr>\n",
       "      <th>6</th>\n",
       "      <td>4.6</td>\n",
       "      <td>3.4</td>\n",
       "      <td>1.4</td>\n",
       "      <td>0.3</td>\n",
       "      <td>setosa</td>\n",
       "    </tr>\n",
       "    <tr>\n",
       "      <th>7</th>\n",
       "      <td>5.0</td>\n",
       "      <td>3.4</td>\n",
       "      <td>1.5</td>\n",
       "      <td>0.2</td>\n",
       "      <td>setosa</td>\n",
       "    </tr>\n",
       "    <tr>\n",
       "      <th>8</th>\n",
       "      <td>4.4</td>\n",
       "      <td>2.9</td>\n",
       "      <td>1.4</td>\n",
       "      <td>0.2</td>\n",
       "      <td>setosa</td>\n",
       "    </tr>\n",
       "    <tr>\n",
       "      <th>9</th>\n",
       "      <td>4.9</td>\n",
       "      <td>3.1</td>\n",
       "      <td>1.5</td>\n",
       "      <td>0.1</td>\n",
       "      <td>setosa</td>\n",
       "    </tr>\n",
       "    <tr>\n",
       "      <th>10</th>\n",
       "      <td>5.4</td>\n",
       "      <td>3.7</td>\n",
       "      <td>1.5</td>\n",
       "      <td>0.2</td>\n",
       "      <td>setosa</td>\n",
       "    </tr>\n",
       "    <tr>\n",
       "      <th>11</th>\n",
       "      <td>4.8</td>\n",
       "      <td>3.4</td>\n",
       "      <td>1.6</td>\n",
       "      <td>0.2</td>\n",
       "      <td>setosa</td>\n",
       "    </tr>\n",
       "    <tr>\n",
       "      <th>12</th>\n",
       "      <td>4.8</td>\n",
       "      <td>3.0</td>\n",
       "      <td>1.4</td>\n",
       "      <td>0.1</td>\n",
       "      <td>setosa</td>\n",
       "    </tr>\n",
       "    <tr>\n",
       "      <th>13</th>\n",
       "      <td>4.3</td>\n",
       "      <td>3.0</td>\n",
       "      <td>1.1</td>\n",
       "      <td>0.1</td>\n",
       "      <td>setosa</td>\n",
       "    </tr>\n",
       "    <tr>\n",
       "      <th>14</th>\n",
       "      <td>5.8</td>\n",
       "      <td>4.0</td>\n",
       "      <td>1.2</td>\n",
       "      <td>0.2</td>\n",
       "      <td>setosa</td>\n",
       "    </tr>\n",
       "    <tr>\n",
       "      <th>15</th>\n",
       "      <td>5.7</td>\n",
       "      <td>4.4</td>\n",
       "      <td>1.5</td>\n",
       "      <td>0.4</td>\n",
       "      <td>setosa</td>\n",
       "    </tr>\n",
       "    <tr>\n",
       "      <th>16</th>\n",
       "      <td>5.4</td>\n",
       "      <td>3.9</td>\n",
       "      <td>1.3</td>\n",
       "      <td>0.4</td>\n",
       "      <td>setosa</td>\n",
       "    </tr>\n",
       "    <tr>\n",
       "      <th>17</th>\n",
       "      <td>5.1</td>\n",
       "      <td>3.5</td>\n",
       "      <td>1.4</td>\n",
       "      <td>0.3</td>\n",
       "      <td>setosa</td>\n",
       "    </tr>\n",
       "    <tr>\n",
       "      <th>18</th>\n",
       "      <td>5.7</td>\n",
       "      <td>3.8</td>\n",
       "      <td>1.7</td>\n",
       "      <td>0.3</td>\n",
       "      <td>setosa</td>\n",
       "    </tr>\n",
       "    <tr>\n",
       "      <th>19</th>\n",
       "      <td>5.1</td>\n",
       "      <td>3.8</td>\n",
       "      <td>1.5</td>\n",
       "      <td>0.3</td>\n",
       "      <td>setosa</td>\n",
       "    </tr>\n",
       "    <tr>\n",
       "      <th>20</th>\n",
       "      <td>5.4</td>\n",
       "      <td>3.4</td>\n",
       "      <td>1.7</td>\n",
       "      <td>0.2</td>\n",
       "      <td>setosa</td>\n",
       "    </tr>\n",
       "    <tr>\n",
       "      <th>21</th>\n",
       "      <td>5.1</td>\n",
       "      <td>3.7</td>\n",
       "      <td>1.5</td>\n",
       "      <td>0.4</td>\n",
       "      <td>setosa</td>\n",
       "    </tr>\n",
       "    <tr>\n",
       "      <th>22</th>\n",
       "      <td>4.6</td>\n",
       "      <td>3.6</td>\n",
       "      <td>1.0</td>\n",
       "      <td>0.2</td>\n",
       "      <td>setosa</td>\n",
       "    </tr>\n",
       "    <tr>\n",
       "      <th>23</th>\n",
       "      <td>5.1</td>\n",
       "      <td>3.3</td>\n",
       "      <td>1.7</td>\n",
       "      <td>0.5</td>\n",
       "      <td>setosa</td>\n",
       "    </tr>\n",
       "    <tr>\n",
       "      <th>24</th>\n",
       "      <td>4.8</td>\n",
       "      <td>3.4</td>\n",
       "      <td>1.9</td>\n",
       "      <td>0.2</td>\n",
       "      <td>setosa</td>\n",
       "    </tr>\n",
       "    <tr>\n",
       "      <th>25</th>\n",
       "      <td>5.0</td>\n",
       "      <td>3.0</td>\n",
       "      <td>1.6</td>\n",
       "      <td>0.2</td>\n",
       "      <td>setosa</td>\n",
       "    </tr>\n",
       "    <tr>\n",
       "      <th>26</th>\n",
       "      <td>5.0</td>\n",
       "      <td>3.4</td>\n",
       "      <td>1.6</td>\n",
       "      <td>0.4</td>\n",
       "      <td>setosa</td>\n",
       "    </tr>\n",
       "    <tr>\n",
       "      <th>27</th>\n",
       "      <td>5.2</td>\n",
       "      <td>3.5</td>\n",
       "      <td>1.5</td>\n",
       "      <td>0.2</td>\n",
       "      <td>setosa</td>\n",
       "    </tr>\n",
       "    <tr>\n",
       "      <th>28</th>\n",
       "      <td>5.2</td>\n",
       "      <td>3.4</td>\n",
       "      <td>1.4</td>\n",
       "      <td>0.2</td>\n",
       "      <td>setosa</td>\n",
       "    </tr>\n",
       "    <tr>\n",
       "      <th>29</th>\n",
       "      <td>4.7</td>\n",
       "      <td>3.2</td>\n",
       "      <td>1.6</td>\n",
       "      <td>0.2</td>\n",
       "      <td>setosa</td>\n",
       "    </tr>\n",
       "    <tr>\n",
       "      <th>30</th>\n",
       "      <td>4.8</td>\n",
       "      <td>3.1</td>\n",
       "      <td>1.6</td>\n",
       "      <td>0.2</td>\n",
       "      <td>setosa</td>\n",
       "    </tr>\n",
       "    <tr>\n",
       "      <th>31</th>\n",
       "      <td>5.4</td>\n",
       "      <td>3.4</td>\n",
       "      <td>1.5</td>\n",
       "      <td>0.4</td>\n",
       "      <td>setosa</td>\n",
       "    </tr>\n",
       "    <tr>\n",
       "      <th>32</th>\n",
       "      <td>5.2</td>\n",
       "      <td>4.1</td>\n",
       "      <td>1.5</td>\n",
       "      <td>0.1</td>\n",
       "      <td>setosa</td>\n",
       "    </tr>\n",
       "    <tr>\n",
       "      <th>33</th>\n",
       "      <td>5.5</td>\n",
       "      <td>4.2</td>\n",
       "      <td>1.4</td>\n",
       "      <td>0.2</td>\n",
       "      <td>setosa</td>\n",
       "    </tr>\n",
       "    <tr>\n",
       "      <th>34</th>\n",
       "      <td>4.9</td>\n",
       "      <td>3.1</td>\n",
       "      <td>1.5</td>\n",
       "      <td>0.2</td>\n",
       "      <td>setosa</td>\n",
       "    </tr>\n",
       "  </tbody>\n",
       "</table>\n",
       "</div>"
      ],
      "text/plain": [
       "    sepal_length  sepal_width  petal_length  petal_width species\n",
       "0            5.1          3.5           1.4          0.2  setosa\n",
       "1            4.9          3.0           1.4          0.2  setosa\n",
       "2            4.7          3.2           1.3          0.2  setosa\n",
       "3            4.6          3.1           1.5          0.2  setosa\n",
       "4            5.0          3.6           1.4          0.2  setosa\n",
       "5            5.4          3.9           1.7          0.4  setosa\n",
       "6            4.6          3.4           1.4          0.3  setosa\n",
       "7            5.0          3.4           1.5          0.2  setosa\n",
       "8            4.4          2.9           1.4          0.2  setosa\n",
       "9            4.9          3.1           1.5          0.1  setosa\n",
       "10           5.4          3.7           1.5          0.2  setosa\n",
       "11           4.8          3.4           1.6          0.2  setosa\n",
       "12           4.8          3.0           1.4          0.1  setosa\n",
       "13           4.3          3.0           1.1          0.1  setosa\n",
       "14           5.8          4.0           1.2          0.2  setosa\n",
       "15           5.7          4.4           1.5          0.4  setosa\n",
       "16           5.4          3.9           1.3          0.4  setosa\n",
       "17           5.1          3.5           1.4          0.3  setosa\n",
       "18           5.7          3.8           1.7          0.3  setosa\n",
       "19           5.1          3.8           1.5          0.3  setosa\n",
       "20           5.4          3.4           1.7          0.2  setosa\n",
       "21           5.1          3.7           1.5          0.4  setosa\n",
       "22           4.6          3.6           1.0          0.2  setosa\n",
       "23           5.1          3.3           1.7          0.5  setosa\n",
       "24           4.8          3.4           1.9          0.2  setosa\n",
       "25           5.0          3.0           1.6          0.2  setosa\n",
       "26           5.0          3.4           1.6          0.4  setosa\n",
       "27           5.2          3.5           1.5          0.2  setosa\n",
       "28           5.2          3.4           1.4          0.2  setosa\n",
       "29           4.7          3.2           1.6          0.2  setosa\n",
       "30           4.8          3.1           1.6          0.2  setosa\n",
       "31           5.4          3.4           1.5          0.4  setosa\n",
       "32           5.2          4.1           1.5          0.1  setosa\n",
       "33           5.5          4.2           1.4          0.2  setosa\n",
       "34           4.9          3.1           1.5          0.2  setosa"
      ]
     },
     "execution_count": 72,
     "metadata": {},
     "output_type": "execute_result"
    }
   ],
   "source": [
    "df.head(35)"
   ]
  },
  {
   "cell_type": "code",
   "execution_count": 73,
   "id": "f1adcf30",
   "metadata": {},
   "outputs": [
    {
     "name": "stdout",
     "output_type": "stream",
     "text": [
      "New Shape:  (150, 5)\n"
     ]
    }
   ],
   "source": [
    "print(\"New Shape: \", df.shape)"
   ]
  },
  {
   "cell_type": "code",
   "execution_count": 74,
   "id": "c3b265b8",
   "metadata": {},
   "outputs": [
    {
     "data": {
      "text/plain": [
       "<Axes: >"
      ]
     },
     "execution_count": 74,
     "metadata": {},
     "output_type": "execute_result"
    },
    {
     "data": {
      "image/png": "[encoded data removed]",
      "text/plain": [
       "<Figure size 640x480 with 1 Axes>"
      ]
     },
     "metadata": {},
     "output_type": "display_data"
    }
   ],
   "source": [
    "sns.boxplot(data=df)"
   ]
  },
  {
   "cell_type": "code",
   "execution_count": 75,
   "id": "f1e69456",
   "metadata": {},
   "outputs": [
    {
     "data": {
      "text/plain": [
       "<Axes: xlabel='sepal_length'>"
      ]
     },
     "execution_count": 75,
     "metadata": {},
     "output_type": "execute_result"
    },
    {
     "data": {
      "image/png": "[encoded data removed]",
      "text/plain": [
       "<Figure size 640x480 with 1 Axes>"
      ]
     },
     "metadata": {},
     "output_type": "display_data"
    }
   ],
   "source": [
    "sns.boxplot(x='sepal_length', data=df)"
   ]
  },
  {
   "cell_type": "code",
   "execution_count": 76,
   "id": "d9cf85be",
   "metadata": {},
   "outputs": [
    {
     "data": {
      "text/plain": [
       "<Axes: xlabel='petal_length'>"
      ]
     },
     "execution_count": 76,
     "metadata": {},
     "output_type": "execute_result"
    },
    {
     "data": {
      "image/png": "[encoded data removed]",
      "text/plain": [
       "<Figure size 640x480 with 1 Axes>"
      ]
     },
     "metadata": {},
     "output_type": "display_data"
    }
   ],
   "source": [
    "sns.boxplot(x='petal_length', data=df)"
   ]
  },
  {
   "cell_type": "code",
   "execution_count": 77,
   "id": "c27129d7",
   "metadata": {},
   "outputs": [
    {
     "data": {
      "text/plain": [
       "<Axes: xlabel='petal_width'>"
      ]
     },
     "execution_count": 77,
     "metadata": {},
     "output_type": "execute_result"
    },
    {
     "data": {
      "image/png": "[encoded data removed]",
      "text/plain": [
       "<Figure size 640x480 with 1 Axes>"
      ]
     },
     "metadata": {},
     "output_type": "display_data"
    }
   ],
   "source": [
    "sns.boxplot(x='petal_width', data=df)"
   ]
  },
  {
   "cell_type": "code",
   "execution_count": 79,
   "id": "0c49361c",
   "metadata": {},
   "outputs": [
    {
     "data": {
      "text/plain": [
       "<seaborn.axisgrid.PairGrid at 0x2086dfe4d10>"
      ]
     },
     "execution_count": 79,
     "metadata": {},
     "output_type": "execute_result"
    },
    {
     "data": {
      "image/png": "[encoded data removed]",
      "text/plain": [
       "<Figure size 1000x1000 with 20 Axes>"
      ]
     },
     "metadata": {},
     "output_type": "display_data"
    }
   ],
   "source": [
    "sns.pairplot(df)"
   ]
  },
  {
   "cell_type": "markdown",
   "id": "0ba08781",
   "metadata": {},
   "source": [
    "## Logistic Regression\n",
    "\n",
    "it belongs to the family suprevised machine leraning model\n",
    "\n",
    "## Types \n",
    "1. Binary Logistic Regression(two possible outcomes)\n",
    "2. Multinomial Logistic Regression\n",
    "3. Ordinal Logistic Regression\n"
   ]
  },
  {
   "cell_type": "code",
   "execution_count": 53,
   "id": "7bac522f",
   "metadata": {},
   "outputs": [],
   "source": [
    "#load all necessary libraries\n",
    "import pandas as pd\n",
    "import numpy as np\n",
    "import scipy as scp\n",
    "import sklearn\n",
    "import statsmodels.api as sm\n",
    "import matplotlib.pyplot as plt\n",
    "from sklearn.model_selection import train_test_split\n",
    "from sklearn.linear_model import LogisticRegression, LinearRegression\n",
    "from sklearn.metrics import classification_report,confusion_matrix"
   ]
  },
  {
   "cell_type": "code",
   "execution_count": 54,
   "id": "d2d5b546",
   "metadata": {},
   "outputs": [
    {
     "data": {
      "text/html": [
       "<div>\n",
       "<style scoped>\n",
       "    .dataframe tbody tr th:only-of-type {\n",
       "        vertical-align: middle;\n",
       "    }\n",
       "\n",
       "    .dataframe tbody tr th {\n",
       "        vertical-align: top;\n",
       "    }\n",
       "\n",
       "    .dataframe thead th {\n",
       "        text-align: right;\n",
       "    }\n",
       "</style>\n",
       "<table border=\"1\" class=\"dataframe\">\n",
       "  <thead>\n",
       "    <tr style=\"text-align: right;\">\n",
       "      <th></th>\n",
       "      <th>CASENUM</th>\n",
       "      <th>ATTORNEY</th>\n",
       "      <th>CLMSEX</th>\n",
       "      <th>CLMINSUR</th>\n",
       "      <th>SEATBELT</th>\n",
       "      <th>CLMAGE</th>\n",
       "      <th>LOSS</th>\n",
       "    </tr>\n",
       "  </thead>\n",
       "  <tbody>\n",
       "    <tr>\n",
       "      <th>0</th>\n",
       "      <td>5</td>\n",
       "      <td>0</td>\n",
       "      <td>0.0</td>\n",
       "      <td>1.0</td>\n",
       "      <td>0.0</td>\n",
       "      <td>50.0</td>\n",
       "      <td>34.940</td>\n",
       "    </tr>\n",
       "    <tr>\n",
       "      <th>1</th>\n",
       "      <td>3</td>\n",
       "      <td>1</td>\n",
       "      <td>1.0</td>\n",
       "      <td>0.0</td>\n",
       "      <td>0.0</td>\n",
       "      <td>18.0</td>\n",
       "      <td>0.891</td>\n",
       "    </tr>\n",
       "    <tr>\n",
       "      <th>2</th>\n",
       "      <td>66</td>\n",
       "      <td>1</td>\n",
       "      <td>0.0</td>\n",
       "      <td>1.0</td>\n",
       "      <td>0.0</td>\n",
       "      <td>5.0</td>\n",
       "      <td>0.330</td>\n",
       "    </tr>\n",
       "    <tr>\n",
       "      <th>3</th>\n",
       "      <td>70</td>\n",
       "      <td>0</td>\n",
       "      <td>0.0</td>\n",
       "      <td>1.0</td>\n",
       "      <td>1.0</td>\n",
       "      <td>31.0</td>\n",
       "      <td>0.037</td>\n",
       "    </tr>\n",
       "    <tr>\n",
       "      <th>4</th>\n",
       "      <td>96</td>\n",
       "      <td>1</td>\n",
       "      <td>0.0</td>\n",
       "      <td>1.0</td>\n",
       "      <td>0.0</td>\n",
       "      <td>30.0</td>\n",
       "      <td>0.038</td>\n",
       "    </tr>\n",
       "  </tbody>\n",
       "</table>\n",
       "</div>"
      ],
      "text/plain": [
       "   CASENUM  ATTORNEY  CLMSEX  CLMINSUR  SEATBELT  CLMAGE    LOSS\n",
       "0        5         0     0.0       1.0       0.0    50.0  34.940\n",
       "1        3         1     1.0       0.0       0.0    18.0   0.891\n",
       "2       66         1     0.0       1.0       0.0     5.0   0.330\n",
       "3       70         0     0.0       1.0       1.0    31.0   0.037\n",
       "4       96         1     0.0       1.0       0.0    30.0   0.038"
      ]
     },
     "execution_count": 54,
     "metadata": {},
     "output_type": "execute_result"
    }
   ],
   "source": [
    "claimants = pd.read_csv(r\"C:\\Users\\J G TECH\\Downloads\\claimants.csv\")\n",
    "claimants.head()"
   ]
  },
  {
   "cell_type": "code",
   "execution_count": 55,
   "id": "3d447a60",
   "metadata": {},
   "outputs": [
    {
     "data": {
      "text/plain": [
       "(1340, 7)"
      ]
     },
     "execution_count": 55,
     "metadata": {},
     "output_type": "execute_result"
    }
   ],
   "source": [
    "claimants.shape"
   ]
  },
  {
   "cell_type": "code",
   "execution_count": 56,
   "id": "8d161057",
   "metadata": {},
   "outputs": [
    {
     "data": {
      "text/plain": [
       "CASENUM     1283\n",
       "ATTORNEY       2\n",
       "CLMSEX         2\n",
       "CLMINSUR       2\n",
       "SEATBELT       2\n",
       "CLMAGE        68\n",
       "LOSS         916\n",
       "dtype: int64"
      ]
     },
     "execution_count": 56,
     "metadata": {},
     "output_type": "execute_result"
    }
   ],
   "source": [
    "claimants.nunique()"
   ]
  },
  {
   "cell_type": "code",
   "execution_count": 57,
   "id": "e33d00d7",
   "metadata": {},
   "outputs": [],
   "source": [
    "## Dropping the case number columns as it is not required\n",
    "claimants.drop([\"CASENUM\"], inplace=True, axis = 1)"
   ]
  },
  {
   "cell_type": "code",
   "execution_count": 58,
   "id": "695c9400",
   "metadata": {},
   "outputs": [
    {
     "data": {
      "text/plain": [
       "(1340, 6)"
      ]
     },
     "execution_count": 58,
     "metadata": {},
     "output_type": "execute_result"
    }
   ],
   "source": [
    "#Shape of the data set\n",
    "claimants.shape"
   ]
  },
  {
   "cell_type": "code",
   "execution_count": 59,
   "id": "b81fc6a7",
   "metadata": {},
   "outputs": [],
   "source": [
    "# Missing values"
   ]
  },
  {
   "cell_type": "code",
   "execution_count": 60,
   "id": "a6f841d9",
   "metadata": {},
   "outputs": [
    {
     "data": {
      "text/plain": [
       "ATTORNEY      0\n",
       "CLMSEX       12\n",
       "CLMINSUR     41\n",
       "SEATBELT     48\n",
       "CLMAGE      189\n",
       "LOSS          0\n",
       "dtype: int64"
      ]
     },
     "execution_count": 60,
     "metadata": {},
     "output_type": "execute_result"
    }
   ],
   "source": [
    "claimants.isnull().sum()"
   ]
  },
  {
   "cell_type": "code",
   "execution_count": 61,
   "id": "d063e438",
   "metadata": {},
   "outputs": [
    {
     "data": {
      "text/plain": [
       "CLMSEX\n",
       "1.0    742\n",
       "0.0    586\n",
       "Name: count, dtype: int64"
      ]
     },
     "execution_count": 61,
     "metadata": {},
     "output_type": "execute_result"
    }
   ],
   "source": [
    "claimants['CLMSEX'].value_counts()"
   ]
  },
  {
   "cell_type": "code",
   "execution_count": 62,
   "id": "276e7623",
   "metadata": {},
   "outputs": [
    {
     "data": {
      "text/plain": [
       "ATTORNEY      int64\n",
       "CLMSEX      float64\n",
       "CLMINSUR    float64\n",
       "SEATBELT    float64\n",
       "CLMAGE      float64\n",
       "LOSS        float64\n",
       "dtype: object"
      ]
     },
     "execution_count": 62,
     "metadata": {},
     "output_type": "execute_result"
    }
   ],
   "source": [
    "claimants.dtypes"
   ]
  },
  {
   "cell_type": "code",
   "execution_count": 63,
   "id": "df0078ca",
   "metadata": {},
   "outputs": [],
   "source": [
    "#Removing NA values in data set\n",
    "claimants = claimants.dropna()"
   ]
  },
  {
   "cell_type": "code",
   "execution_count": 64,
   "id": "bd90e3b5",
   "metadata": {},
   "outputs": [
    {
     "data": {
      "text/plain": [
       "(1096, 6)"
      ]
     },
     "execution_count": 64,
     "metadata": {},
     "output_type": "execute_result"
    }
   ],
   "source": [
    "claimants.shape"
   ]
  },
  {
   "cell_type": "code",
   "execution_count": 65,
   "id": "6ef63534",
   "metadata": {},
   "outputs": [
    {
     "data": {
      "text/plain": [
       "ATTORNEY    0\n",
       "CLMSEX      0\n",
       "CLMINSUR    0\n",
       "SEATBELT    0\n",
       "CLMAGE      0\n",
       "LOSS        0\n",
       "dtype: int64"
      ]
     },
     "execution_count": 65,
     "metadata": {},
     "output_type": "execute_result"
    }
   ],
   "source": [
    "claimants.isnull().sum()"
   ]
  },
  {
   "cell_type": "code",
   "execution_count": 66,
   "id": "61621133",
   "metadata": {},
   "outputs": [
    {
     "data": {
      "text/html": [
       "<div>\n",
       "<style scoped>\n",
       "    .dataframe tbody tr th:only-of-type {\n",
       "        vertical-align: middle;\n",
       "    }\n",
       "\n",
       "    .dataframe tbody tr th {\n",
       "        vertical-align: top;\n",
       "    }\n",
       "\n",
       "    .dataframe thead th {\n",
       "        text-align: right;\n",
       "    }\n",
       "</style>\n",
       "<table border=\"1\" class=\"dataframe\">\n",
       "  <thead>\n",
       "    <tr style=\"text-align: right;\">\n",
       "      <th></th>\n",
       "      <th>ATTORNEY</th>\n",
       "      <th>CLMSEX</th>\n",
       "      <th>CLMINSUR</th>\n",
       "      <th>SEATBELT</th>\n",
       "      <th>CLMAGE</th>\n",
       "      <th>LOSS</th>\n",
       "    </tr>\n",
       "  </thead>\n",
       "  <tbody>\n",
       "    <tr>\n",
       "      <th>0</th>\n",
       "      <td>0</td>\n",
       "      <td>0.0</td>\n",
       "      <td>1.0</td>\n",
       "      <td>0.0</td>\n",
       "      <td>50.0</td>\n",
       "      <td>34.940</td>\n",
       "    </tr>\n",
       "    <tr>\n",
       "      <th>1</th>\n",
       "      <td>1</td>\n",
       "      <td>1.0</td>\n",
       "      <td>0.0</td>\n",
       "      <td>0.0</td>\n",
       "      <td>18.0</td>\n",
       "      <td>0.891</td>\n",
       "    </tr>\n",
       "    <tr>\n",
       "      <th>2</th>\n",
       "      <td>1</td>\n",
       "      <td>0.0</td>\n",
       "      <td>1.0</td>\n",
       "      <td>0.0</td>\n",
       "      <td>5.0</td>\n",
       "      <td>0.330</td>\n",
       "    </tr>\n",
       "    <tr>\n",
       "      <th>3</th>\n",
       "      <td>0</td>\n",
       "      <td>0.0</td>\n",
       "      <td>1.0</td>\n",
       "      <td>1.0</td>\n",
       "      <td>31.0</td>\n",
       "      <td>0.037</td>\n",
       "    </tr>\n",
       "    <tr>\n",
       "      <th>4</th>\n",
       "      <td>1</td>\n",
       "      <td>0.0</td>\n",
       "      <td>1.0</td>\n",
       "      <td>0.0</td>\n",
       "      <td>30.0</td>\n",
       "      <td>0.038</td>\n",
       "    </tr>\n",
       "  </tbody>\n",
       "</table>\n",
       "</div>"
      ],
      "text/plain": [
       "   ATTORNEY  CLMSEX  CLMINSUR  SEATBELT  CLMAGE    LOSS\n",
       "0         0     0.0       1.0       0.0    50.0  34.940\n",
       "1         1     1.0       0.0       0.0    18.0   0.891\n",
       "2         1     0.0       1.0       0.0     5.0   0.330\n",
       "3         0     0.0       1.0       1.0    31.0   0.037\n",
       "4         1     0.0       1.0       0.0    30.0   0.038"
      ]
     },
     "execution_count": 66,
     "metadata": {},
     "output_type": "execute_result"
    }
   ],
   "source": [
    "claimants.head()"
   ]
  },
  {
   "cell_type": "markdown",
   "id": "65cf1a90",
   "metadata": {},
   "source": [
    "## Checking with linear regression model"
   ]
  },
  {
   "cell_type": "code",
   "execution_count": 67,
   "id": "a1bba1ed",
   "metadata": {},
   "outputs": [
    {
     "data": {
      "text/plain": [
       "0.06740699602264077"
      ]
     },
     "execution_count": 67,
     "metadata": {},
     "output_type": "execute_result"
    }
   ],
   "source": [
    "#Dividing our data into input and output variables\n",
    "X = claimants.iloc[:,1:]\n",
    "Y = claimants.iloc[:,0]\n",
    "#Linear regression and fit the model\n",
    "regressor = LinearRegression()\n",
    "regressor.fit(X,Y)\n",
    "regressor.score(X,Y)"
   ]
  },
  {
   "cell_type": "code",
   "execution_count": 68,
   "id": "79bb9d04",
   "metadata": {},
   "outputs": [
    {
     "data": {
      "text/plain": [
       "((1096,), (1096, 5))"
      ]
     },
     "execution_count": 68,
     "metadata": {},
     "output_type": "execute_result"
    }
   ],
   "source": [
    "Y.shape,X.shape"
   ]
  },
  {
   "cell_type": "code",
   "execution_count": 69,
   "id": "cbabce62",
   "metadata": {},
   "outputs": [
    {
     "ename": "NameError",
     "evalue": "name 'y_train' is not defined",
     "output_type": "error",
     "traceback": [
      "\u001b[1;31m---------------------------------------------------------------------------\u001b[0m",
      "\u001b[1;31mNameError\u001b[0m                                 Traceback (most recent call last)",
      "Cell \u001b[1;32mIn[69], line 1\u001b[0m\n\u001b[1;32m----> 1\u001b[0m y_train\n",
      "\u001b[1;31mNameError\u001b[0m: name 'y_train' is not defined"
     ]
    }
   ],
   "source": [
    "y_train"
   ]
  },
  {
   "cell_type": "code",
   "execution_count": 70,
   "id": "e74e9436",
   "metadata": {},
   "outputs": [
    {
     "data": {
      "text/plain": [
       "((1096,), (1096, 5))"
      ]
     },
     "execution_count": 70,
     "metadata": {},
     "output_type": "execute_result"
    }
   ],
   "source": [
    "Y.shape,X.shape"
   ]
  },
  {
   "cell_type": "code",
   "execution_count": 71,
   "id": "d4e3585c",
   "metadata": {},
   "outputs": [],
   "source": [
    "X_train, X_test, y_train, y_test = train_test_split(X, Y, test_size=0.25, random_state = 15)"
   ]
  },
  {
   "cell_type": "code",
   "execution_count": 72,
   "id": "92aa971a",
   "metadata": {},
   "outputs": [
    {
     "data": {
      "text/plain": [
       "(      CLMSEX  CLMINSUR  SEATBELT  CLMAGE    LOSS\n",
       " 321      0.0       1.0       0.0    10.0   0.505\n",
       " 775      1.0       1.0       0.0    19.0   3.777\n",
       " 1007     0.0       1.0       0.0     5.0   0.500\n",
       " 205      1.0       1.0       0.0    11.0   1.100\n",
       " 672      1.0       0.0       0.0    33.0   0.000\n",
       " ...      ...       ...       ...     ...     ...\n",
       " 104      0.0       1.0       0.0     7.0   0.589\n",
       " 815      0.0       0.0       0.0    40.0   1.550\n",
       " 194      1.0       1.0       0.0    33.0   0.617\n",
       " 470      0.0       0.0       0.0     5.0   1.830\n",
       " 787      0.0       1.0       0.0    50.0  51.146\n",
       " \n",
       " [822 rows x 5 columns],\n",
       " (274, 5),\n",
       " (274, 5),\n",
       " (822,),\n",
       " (274,))"
      ]
     },
     "execution_count": 72,
     "metadata": {},
     "output_type": "execute_result"
    }
   ],
   "source": [
    "X_train, X_test.shape, X_test.shape, y_train.shape, y_test.shape"
   ]
  },
  {
   "cell_type": "code",
   "execution_count": 73,
   "id": "1b153f2f",
   "metadata": {},
   "outputs": [
    {
     "name": "stdout",
     "output_type": "stream",
     "text": [
      "training score:, 0.708029197080292\n"
     ]
    }
   ],
   "source": [
    "#Logistic regression and fit the model\n",
    "classifier = LogisticRegression()\n",
    "classifier.fit(X_train,y_train)\n",
    "print('training score:,',classifier.score(X_train,y_train))"
   ]
  },
  {
   "cell_type": "code",
   "execution_count": 74,
   "id": "655ca89c",
   "metadata": {},
   "outputs": [
    {
     "name": "stdout",
     "output_type": "stream",
     "text": [
      "testing score: 0.6970802919708029\n"
     ]
    }
   ],
   "source": [
    "print('testing score:',classifier.score(X_test,y_test))"
   ]
  },
  {
   "cell_type": "code",
   "execution_count": 75,
   "id": "0192aac1",
   "metadata": {},
   "outputs": [
    {
     "data": {
      "text/html": [
       "<div>\n",
       "<style scoped>\n",
       "    .dataframe tbody tr th:only-of-type {\n",
       "        vertical-align: middle;\n",
       "    }\n",
       "\n",
       "    .dataframe tbody tr th {\n",
       "        vertical-align: top;\n",
       "    }\n",
       "\n",
       "    .dataframe thead th {\n",
       "        text-align: right;\n",
       "    }\n",
       "</style>\n",
       "<table border=\"1\" class=\"dataframe\">\n",
       "  <thead>\n",
       "    <tr style=\"text-align: right;\">\n",
       "      <th></th>\n",
       "      <th>actual</th>\n",
       "      <th>predicted_prob</th>\n",
       "    </tr>\n",
       "  </thead>\n",
       "  <tbody>\n",
       "    <tr>\n",
       "      <th>321</th>\n",
       "      <td>1</td>\n",
       "      <td>1</td>\n",
       "    </tr>\n",
       "    <tr>\n",
       "      <th>775</th>\n",
       "      <td>1</td>\n",
       "      <td>0</td>\n",
       "    </tr>\n",
       "    <tr>\n",
       "      <th>1007</th>\n",
       "      <td>1</td>\n",
       "      <td>1</td>\n",
       "    </tr>\n",
       "    <tr>\n",
       "      <th>205</th>\n",
       "      <td>0</td>\n",
       "      <td>1</td>\n",
       "    </tr>\n",
       "    <tr>\n",
       "      <th>672</th>\n",
       "      <td>1</td>\n",
       "      <td>1</td>\n",
       "    </tr>\n",
       "  </tbody>\n",
       "</table>\n",
       "</div>"
      ],
      "text/plain": [
       "      actual  predicted_prob\n",
       "321        1               1\n",
       "775        1               0\n",
       "1007       1               1\n",
       "205        0               1\n",
       "672        1               1"
      ]
     },
     "execution_count": 75,
     "metadata": {},
     "output_type": "execute_result"
    }
   ],
   "source": [
    "y_pred = classifier.predict(X_train)\n",
    "y_pred_df= pd.DataFrame({'actual': y_train,'predicted_prob':y_pred})\n",
    "y_pred_df.head()"
   ]
  },
  {
   "cell_type": "code",
   "execution_count": 76,
   "id": "f0072e7b",
   "metadata": {},
   "outputs": [
    {
     "data": {
      "text/plain": [
       "((822,), (822,))"
      ]
     },
     "execution_count": 76,
     "metadata": {},
     "output_type": "execute_result"
    }
   ],
   "source": [
    "y_train.shape,y_pred.shape"
   ]
  },
  {
   "cell_type": "code",
   "execution_count": 77,
   "id": "d48ba244",
   "metadata": {},
   "outputs": [
    {
     "data": {
      "text/plain": [
       "array([[296, 150],\n",
       "       [ 90, 286]], dtype=int64)"
      ]
     },
     "execution_count": 77,
     "metadata": {},
     "output_type": "execute_result"
    }
   ],
   "source": [
    "# Confusion Matrix for the model accuracy\n",
    "confusion_mt = confusion_matrix(y_train,y_pred)\n",
    "confusion_mt"
   ]
  },
  {
   "cell_type": "code",
   "execution_count": 78,
   "id": "edf99838",
   "metadata": {},
   "outputs": [
    {
     "data": {
      "text/plain": [
       "0.708029197080292"
      ]
     },
     "execution_count": 78,
     "metadata": {},
     "output_type": "execute_result"
    }
   ],
   "source": [
    "(296+286)/(296+150+90+286)"
   ]
  },
  {
   "cell_type": "code",
   "execution_count": 79,
   "id": "0838593e",
   "metadata": {},
   "outputs": [
    {
     "name": "stdout",
     "output_type": "stream",
     "text": [
      "              precision    recall  f1-score   support\n",
      "\n",
      "           0       0.77      0.66      0.71       446\n",
      "           1       0.66      0.76      0.70       376\n",
      "\n",
      "    accuracy                           0.71       822\n",
      "   macro avg       0.71      0.71      0.71       822\n",
      "weighted avg       0.72      0.71      0.71       822\n",
      "\n"
     ]
    }
   ],
   "source": [
    "#Classification report\n",
    "print(classification_report(y_train,y_pred))"
   ]
  },
  {
   "cell_type": "code",
   "execution_count": 80,
   "id": "1cecc333",
   "metadata": {},
   "outputs": [
    {
     "name": "stdout",
     "output_type": "stream",
     "text": [
      "Accuracy: 0.708029197080292\n"
     ]
    }
   ],
   "source": [
    "print('Accuracy:',(296+286)/(296+150+90+286))"
   ]
  },
  {
   "cell_type": "code",
   "execution_count": 81,
   "id": "8dd3d3b6",
   "metadata": {},
   "outputs": [],
   "source": [
    "## Precision – What percent of your predictions were correct?\n",
    "## Recall – What percent of the positive cases did you catch?\n",
    "## F1 score – What percent of positive predictions were correct?"
   ]
  },
  {
   "cell_type": "code",
   "execution_count": 82,
   "id": "4874ccd9",
   "metadata": {},
   "outputs": [
    {
     "data": {
      "text/plain": [
       "array([5.67455246e-01, 3.62088692e-01, 5.62815041e-01, 6.09475412e-01,\n",
       "       5.98049343e-01, 5.75568035e-01, 7.01757647e-01, 6.50167976e-01,\n",
       "       2.98727128e-01, 7.37751685e-01, 1.98829646e-01, 6.68116475e-01,\n",
       "       2.00549555e-01, 6.04742222e-01, 3.16141341e-01, 2.02119393e-06,\n",
       "       5.76051284e-01, 3.18320748e-01, 6.91908757e-01, 6.09815623e-01,\n",
       "       2.41081112e-01, 2.95579321e-01, 4.04537316e-02, 2.67072501e-01,\n",
       "       6.87315617e-01, 4.26300397e-01, 5.88255498e-01, 6.16785846e-01,\n",
       "       5.63450596e-01, 3.67084235e-01, 2.66071428e-01, 6.56649729e-01,\n",
       "       5.67831713e-01, 7.34006072e-01, 4.86693454e-01, 6.57330955e-01,\n",
       "       7.49662608e-01, 6.94738412e-01, 5.77482985e-01, 1.24946100e-01,\n",
       "       3.24853945e-01, 6.39187809e-01, 4.31226394e-01, 8.95279849e-02,\n",
       "       2.20149004e-01, 6.50790431e-01, 6.93076944e-01, 2.87479312e-01,\n",
       "       5.33094896e-01, 7.19694836e-01, 6.59545058e-01, 6.62075740e-01,\n",
       "       2.53007510e-01, 6.70362586e-01, 6.02760646e-01, 7.07170611e-14,\n",
       "       4.48836834e-01, 5.72484659e-01, 5.73794384e-01, 6.49941788e-01,\n",
       "       7.32040732e-01, 3.83880312e-01, 5.70792767e-01, 6.84656166e-01,\n",
       "       4.68918268e-01, 3.51840174e-01, 6.62644757e-01, 7.17320144e-01,\n",
       "       6.43070398e-01, 1.85015174e-03, 5.96772756e-01, 5.63450596e-01,\n",
       "       4.21551766e-01, 1.89780939e-01, 6.59064735e-08, 3.26887507e-01,\n",
       "       6.64867742e-01, 6.20011807e-01, 3.02049334e-01, 5.25039587e-01,\n",
       "       5.78307716e-01, 5.65695188e-01, 1.54711658e-01, 6.10681103e-01,\n",
       "       2.90633667e-01, 6.63044057e-01, 1.94224022e-01, 2.46587248e-01,\n",
       "       6.03826032e-01, 4.12173609e-01, 1.99668894e-01, 6.99245960e-01,\n",
       "       1.06132839e-07, 7.35124988e-01, 5.11593367e-01, 2.43238949e-01,\n",
       "       2.28342788e-02, 5.16233914e-01, 6.94812891e-01, 5.04755389e-01,\n",
       "       2.14884724e-01, 5.20264413e-01, 3.40099908e-01, 6.99567198e-01,\n",
       "       5.62804415e-01, 5.36444045e-01, 1.56151475e-09, 5.24761144e-01,\n",
       "       3.52517469e-01, 5.92757341e-01, 4.00328724e-01, 3.74142346e-01,\n",
       "       6.02133982e-01, 2.07466862e-01, 6.95753872e-01, 6.60343211e-01,\n",
       "       6.99899826e-01, 6.43709844e-01, 8.73836037e-02, 6.80928738e-01,\n",
       "       6.01863808e-01, 2.92162996e-01, 7.57426583e-02, 3.25681597e-01,\n",
       "       6.59433985e-01, 5.70372867e-02, 2.37505641e-01, 5.82097759e-01,\n",
       "       1.83988515e-01, 2.12605446e-01, 1.54228842e-01, 5.10614755e-01,\n",
       "       5.91891969e-01, 2.99323941e-01, 7.16346107e-01, 6.10951559e-01,\n",
       "       6.81413325e-01, 4.15237317e-01, 1.60477842e-01, 5.66807496e-01,\n",
       "       4.30193531e-01, 2.46934641e-01, 5.25330071e-01, 6.35688056e-01,\n",
       "       5.67080164e-01, 5.67923542e-01, 4.68064141e-01, 2.84237424e-01,\n",
       "       1.63108835e-01, 6.64328566e-01, 4.47620022e-01, 4.19324453e-01,\n",
       "       6.49550224e-01, 7.26258140e-01, 6.27304734e-01, 4.27985686e-01,\n",
       "       6.88618373e-01, 6.93940382e-01, 7.29735706e-01, 7.17181984e-01,\n",
       "       7.14197871e-01, 6.07186102e-01, 1.97409682e-01, 3.25203672e-01,\n",
       "       7.31199968e-01, 1.49623566e-01, 4.32828135e-01, 5.44300791e-01,\n",
       "       2.85843343e-01, 8.95734185e-02, 5.80903136e-01, 3.07100287e-01,\n",
       "       6.41651069e-01, 6.67625100e-01, 6.17326120e-01, 5.77798016e-01,\n",
       "       6.61446970e-01, 3.08421910e-01, 7.06782249e-01, 5.06202841e-01,\n",
       "       6.28613335e-01, 3.62828010e-01, 3.85024530e-01, 2.87867874e-01,\n",
       "       1.93950107e-01, 6.97267859e-01, 6.33572272e-01, 3.15433011e-01,\n",
       "       2.73695113e-01, 6.73763267e-01, 6.49941788e-01, 7.32222926e-01,\n",
       "       3.28403453e-01, 5.12448250e-01, 3.77645157e-01, 4.22404574e-01,\n",
       "       3.55890168e-01, 6.58577955e-01, 7.12470258e-01, 5.27547733e-01,\n",
       "       2.01855567e-01, 5.92119022e-01, 6.89802693e-01, 6.98364357e-01,\n",
       "       4.69942273e-01, 5.74747289e-01, 1.35417536e-01, 3.01940621e-07,\n",
       "       2.92717055e-01, 2.16633391e-01, 5.82195376e-01, 4.45221244e-01,\n",
       "       2.33679234e-01, 6.96387640e-01, 7.55170370e-01, 6.52211849e-01,\n",
       "       1.99481856e-01, 4.47858568e-01, 5.51390416e-01, 6.12433531e-01,\n",
       "       4.89092837e-01, 6.24325067e-01, 6.28498063e-01, 2.75321044e-01,\n",
       "       7.59092052e-01, 1.17399902e-01, 3.93009560e-01, 3.21819015e-01,\n",
       "       3.93711265e-01, 6.35574664e-01, 2.92318837e-01, 3.39304083e-01,\n",
       "       5.67323006e-01, 6.67599496e-01, 6.61443165e-01, 7.04148549e-01,\n",
       "       5.82303719e-01, 2.85322290e-01, 6.87127783e-01, 4.92058668e-01,\n",
       "       2.41532025e-01, 8.20717942e-02, 1.69299289e-02, 4.51267819e-01,\n",
       "       5.45587517e-01, 1.78057308e-01, 5.93341118e-01, 1.64681241e-01,\n",
       "       5.59492032e-01, 6.02861787e-01, 2.68611293e-01, 5.07244891e-01,\n",
       "       2.00221543e-01, 6.95148489e-01, 1.83607067e-01, 3.46199054e-01,\n",
       "       6.20037796e-01, 1.08606133e-01, 2.12753172e-01, 6.30222388e-01,\n",
       "       2.82928660e-01, 3.21816036e-01, 8.22989766e-02, 7.27761445e-01,\n",
       "       2.50112947e-01, 2.08580732e-01, 6.43188984e-01, 5.45459418e-01,\n",
       "       6.64707224e-01, 6.06685169e-01, 3.78542877e-01, 5.99175186e-01,\n",
       "       2.42533273e-01, 2.14256749e-01, 5.98236330e-01, 5.68956257e-01,\n",
       "       6.21417163e-01, 6.71196518e-01, 1.92626807e-01, 5.79318083e-01,\n",
       "       6.05356929e-01, 6.98202234e-01, 3.81928938e-01, 6.44870061e-01,\n",
       "       3.04778306e-01, 6.83443217e-01, 6.86390980e-01, 5.24655561e-01,\n",
       "       7.15682277e-01, 6.10163377e-01, 5.01917799e-01, 6.49725371e-01,\n",
       "       6.95807388e-01, 6.75975199e-01, 7.47090433e-01, 1.30962275e-01,\n",
       "       6.46139165e-01, 3.64321146e-01, 6.97541613e-01, 5.69367352e-01,\n",
       "       6.11671076e-02, 3.26089579e-01, 1.52204941e-01, 1.39248390e-01,\n",
       "       3.33081602e-01, 4.46098405e-01, 5.79066005e-01, 6.17476833e-01,\n",
       "       5.45749685e-01, 5.71996217e-01, 6.00540817e-01, 6.98445493e-01,\n",
       "       4.66487174e-01, 6.52408891e-01, 2.14847859e-19, 6.28894342e-01,\n",
       "       4.50460790e-01, 5.40427385e-01, 5.79694354e-01, 7.08523222e-01,\n",
       "       5.52450840e-01, 5.20113415e-01, 3.81935554e-01, 6.01986397e-01,\n",
       "       3.71299694e-01, 3.67416454e-02, 8.98937974e-02, 3.70385160e-01,\n",
       "       7.41463132e-01, 7.10270673e-01, 1.74601423e-01, 6.24288844e-01,\n",
       "       5.51501009e-01, 1.82716134e-01, 2.15188054e-01, 4.56318571e-01,\n",
       "       6.45813593e-01, 4.46875455e-01, 6.23831030e-01, 5.45937721e-01,\n",
       "       6.50505607e-01, 4.50557115e-02, 1.80152022e-01, 2.15807097e-01,\n",
       "       6.90492661e-01, 6.30399138e-01, 1.45427701e-01, 1.82426564e-01,\n",
       "       6.65862687e-01, 4.16420281e-01, 3.47015649e-01, 9.02203569e-02,\n",
       "       1.54918342e-01, 6.72171098e-01, 6.81085730e-02, 5.53730695e-01,\n",
       "       3.86549788e-01, 3.54255087e-01, 2.95128522e-01, 6.96033066e-01,\n",
       "       3.95242119e-01, 3.24682778e-01, 5.71374434e-01, 6.05762632e-01,\n",
       "       8.51135238e-02, 6.49373680e-01, 4.25361748e-01, 7.05564241e-01,\n",
       "       7.07930299e-01, 7.01834705e-01, 6.31128848e-01, 7.26803674e-06,\n",
       "       7.51489175e-01, 6.04199412e-01, 5.95281567e-02, 6.39343731e-01,\n",
       "       5.62768333e-03, 6.88571064e-01, 4.34229957e-01, 3.13702690e-01,\n",
       "       3.46074076e-06, 8.50277544e-17, 6.97724876e-01, 6.74411708e-01,\n",
       "       3.52724507e-01, 5.81815605e-01, 6.22137237e-01, 5.56919166e-01,\n",
       "       6.15930611e-01, 3.34155981e-01, 7.06439273e-01, 5.74431441e-01,\n",
       "       1.85744634e-01, 3.88082302e-01, 1.92419065e-01, 1.19675330e-01,\n",
       "       4.14064588e-01, 6.14879416e-01, 7.46130613e-01, 1.30477642e-01,\n",
       "       5.09447176e-01, 3.56481999e-01, 6.97212160e-01, 4.29374307e-01,\n",
       "       5.59227706e-01, 5.91061698e-01, 6.43276013e-01, 6.72111835e-01,\n",
       "       3.18847507e-01, 7.23418758e-01, 3.58042083e-01, 6.92688606e-01,\n",
       "       2.17480607e-01, 3.04791077e-01, 5.20829544e-01, 5.54436909e-01,\n",
       "       2.85696815e-01, 3.34726485e-01, 5.66283932e-01, 6.91326094e-01,\n",
       "       2.23710683e-01, 2.22832374e-10, 5.57635238e-01, 6.10785569e-01,\n",
       "       3.05254912e-01, 2.95993720e-01, 6.33194417e-01, 3.40325574e-01,\n",
       "       1.14075960e-01, 3.27720068e-01, 5.79863008e-01, 7.15047583e-01,\n",
       "       5.57682528e-01, 6.54834282e-01, 4.06848025e-01, 2.29936317e-01,\n",
       "       1.44326604e-01, 6.69525141e-01, 9.06560478e-02, 3.81305692e-02,\n",
       "       5.90353641e-01, 6.66086526e-01, 1.92579695e-01, 7.05124295e-01,\n",
       "       3.18467494e-01, 3.24250230e-01, 1.32691786e-05, 4.61599897e-01,\n",
       "       1.96826413e-01, 2.15939221e-01, 3.42913614e-03, 6.51222594e-01,\n",
       "       2.94749028e-01, 3.36384286e-01, 5.57705695e-02, 6.59960808e-01,\n",
       "       1.42473772e-07, 2.39835302e-01, 6.69385275e-01, 1.02743031e-01,\n",
       "       1.99155964e-01, 7.08218963e-01, 3.15097111e-01, 5.12225179e-02,\n",
       "       6.75371702e-01, 5.58392321e-01, 3.83365141e-01, 5.12785516e-01,\n",
       "       6.91076195e-01, 3.99292067e-01, 7.00415640e-01, 2.96484203e-01,\n",
       "       4.91022433e-02, 6.29336997e-01, 5.18984214e-01, 2.93225995e-01,\n",
       "       6.19130923e-01, 2.81978467e-01, 3.63771372e-01, 3.01043308e-01,\n",
       "       6.83755908e-01, 5.23925310e-01, 6.95639819e-01, 6.36740147e-01,\n",
       "       5.78180244e-01, 5.51802365e-03, 2.89123677e-01, 6.65253468e-01,\n",
       "       6.93268760e-01, 6.23404084e-01, 6.49496336e-01, 7.05260285e-01,\n",
       "       5.66652295e-01, 2.33956019e-01, 7.06712795e-01, 5.27799376e-01,\n",
       "       3.95150264e-01, 6.72603375e-01, 7.01454984e-01, 5.15644249e-01,\n",
       "       3.25843353e-01, 2.16074724e-01, 7.01315671e-01, 6.09296064e-01,\n",
       "       7.15219044e-01, 5.91518718e-01, 2.53971747e-01, 5.87576379e-01,\n",
       "       6.89000091e-01, 4.14299894e-01, 5.96341502e-01, 6.87597797e-01,\n",
       "       6.05206143e-01, 1.65560179e-01, 6.55214454e-01, 6.90828539e-01,\n",
       "       6.59988038e-01, 8.06723497e-02, 3.60161047e-01, 3.07394109e-01,\n",
       "       6.16077522e-01, 5.77020265e-01, 6.88152644e-01, 6.42814271e-01,\n",
       "       3.77569788e-01, 6.36270817e-01, 1.66668892e-01, 1.54124178e-01,\n",
       "       7.03202980e-01, 3.93572521e-01, 6.69128556e-01, 2.33285420e-07,\n",
       "       6.42342136e-01, 3.96681039e-01, 3.73821970e-01, 2.90548118e-01,\n",
       "       7.01315671e-01, 5.68727816e-01, 7.04312183e-01, 5.19709152e-01,\n",
       "       6.37420037e-01, 4.43137945e-01, 3.07567874e-01, 2.70591019e-01,\n",
       "       6.30040690e-01, 5.67325714e-01, 3.33022992e-01, 5.65723535e-01,\n",
       "       6.27690265e-01, 6.39124411e-01, 5.97839841e-01, 6.22704304e-01,\n",
       "       3.07185129e-01, 6.24234706e-01, 5.68956257e-01, 3.89655180e-01,\n",
       "       2.22859335e-01, 1.10811563e-01, 2.62407056e-01, 6.31855403e-01,\n",
       "       6.25530500e-09, 6.45508070e-01, 6.89407344e-01, 6.67330034e-01,\n",
       "       7.34827358e-01, 6.51120073e-01, 4.66166435e-01, 2.28295433e-02,\n",
       "       6.69961633e-01, 2.91891480e-01, 6.98035412e-01, 5.67172020e-01,\n",
       "       5.50359564e-01, 3.39954254e-01, 5.57363986e-01, 5.77857000e-01,\n",
       "       5.54116436e-01, 6.94594989e-01, 3.84536486e-01, 9.06560478e-02,\n",
       "       5.34824672e-01, 5.20918683e-01, 6.54270082e-01, 6.70882257e-01,\n",
       "       6.94184306e-01, 5.99991975e-01, 2.79548087e-01, 6.04039132e-01,\n",
       "       4.23865976e-01, 2.26017714e-01, 6.00460209e-01, 5.93638105e-01,\n",
       "       6.40100091e-01, 7.47656048e-01, 6.46611565e-01, 6.95126375e-01,\n",
       "       9.03827416e-02, 3.99608549e-01, 1.40030167e-01, 3.41727690e-01,\n",
       "       1.84549651e-01, 7.01365256e-01, 6.94709263e-01, 6.15458464e-01,\n",
       "       5.80492253e-01, 4.13331792e-01, 6.04048249e-01, 6.50821677e-01,\n",
       "       6.65751502e-01, 6.71403087e-02, 1.21583159e-01, 5.51171281e-02,\n",
       "       6.94298665e-01, 4.10415358e-01, 3.33534838e-01, 4.55032792e-01,\n",
       "       2.21809757e-01, 6.48950992e-10, 6.92655920e-01, 3.82716934e-01,\n",
       "       4.21891747e-01, 5.46384570e-02, 6.22992282e-01, 3.23315119e-01,\n",
       "       2.91212608e-01, 6.44256830e-01, 5.40514846e-01, 7.28089098e-01,\n",
       "       5.37478507e-01, 6.09577369e-01, 3.31738658e-01, 6.03919388e-01,\n",
       "       3.39234458e-01, 7.03927389e-01, 6.36268720e-02, 5.77124817e-01,\n",
       "       4.81464539e-01, 8.61950636e-04, 5.98649576e-01, 2.75827634e-01,\n",
       "       2.17902795e-01, 6.61359570e-01, 2.68043624e-01, 3.66939961e-01,\n",
       "       5.23069263e-01, 1.76244914e-01, 4.71089160e-01, 6.64875116e-01,\n",
       "       4.31554173e-01, 4.80360705e-01, 4.78348927e-01, 4.86942081e-01,\n",
       "       7.10813351e-01, 4.30395460e-01, 5.70612334e-01, 1.33432853e-01,\n",
       "       6.54475217e-01, 6.36831595e-01, 5.43070725e-01, 5.02810940e-01,\n",
       "       4.70885174e-01, 7.03249896e-01, 5.45494751e-01, 7.22651493e-01,\n",
       "       5.74046725e-02, 6.56497259e-01, 5.08930669e-01, 6.13271925e-01,\n",
       "       7.03058287e-01, 5.94121928e-12, 5.15344176e-01, 4.16167136e-01,\n",
       "       3.09376219e-01, 1.26198791e-01, 3.86642734e-01, 2.98727128e-01,\n",
       "       5.55786265e-01, 6.43399630e-01, 6.89746232e-01, 1.89437167e-01,\n",
       "       1.83422234e-01, 1.05548179e-01, 5.69128964e-01, 9.59874503e-02,\n",
       "       5.67285316e-01, 6.91386023e-01, 2.48408461e-01, 1.45736397e-01,\n",
       "       5.12006490e-01, 5.43588990e-01, 4.75491889e-01, 3.05657184e-01,\n",
       "       5.90904441e-01, 3.77384970e-01, 2.48968192e-01, 5.89032872e-01,\n",
       "       3.10462209e-01, 2.25857302e-06, 2.01537295e-02, 2.48850973e-01,\n",
       "       5.63641332e-01, 4.35086410e-01, 6.81164087e-01, 3.05551511e-01,\n",
       "       3.29879266e-01, 2.36328569e-01, 6.11361650e-01, 7.34843392e-01,\n",
       "       5.57016707e-01, 3.58052236e-01, 6.05951655e-01, 4.37463607e-01,\n",
       "       4.01786487e-01, 3.49378445e-01, 6.73489998e-01, 6.97135682e-01,\n",
       "       4.03382336e-01, 6.59556105e-01, 6.69030131e-01, 1.84273215e-03,\n",
       "       6.28189765e-01, 5.62777915e-01, 5.45689145e-01, 6.99546519e-01,\n",
       "       2.68598281e-01, 5.60958546e-01, 3.31643686e-01, 9.32936917e-02,\n",
       "       6.48237758e-01, 3.86190535e-01, 3.03359290e-01, 4.79450314e-01,\n",
       "       3.93787406e-01, 4.24473781e-01, 6.59501810e-01, 8.73787262e-02,\n",
       "       6.15993027e-01, 5.59571915e-01, 5.94636287e-01, 6.12550704e-01,\n",
       "       4.42710683e-01, 5.79952709e-01, 6.05145510e-01, 5.99808131e-01,\n",
       "       9.04604730e-02, 5.70480340e-01, 3.13912036e-01, 2.77786395e-01,\n",
       "       3.57165828e-01, 6.56147626e-01, 5.51129333e-01, 3.00055231e-01,\n",
       "       5.03772180e-01, 5.43590247e-01, 3.47871831e-01, 7.10962437e-01,\n",
       "       6.59347471e-01, 2.82521749e-01, 2.20494544e-01, 6.36021417e-01,\n",
       "       2.86759163e-01, 4.46931657e-01, 5.44702090e-02, 1.82474898e-01,\n",
       "       4.77728270e-01, 3.78508160e-01, 6.71134731e-01, 4.08373825e-01,\n",
       "       5.70740165e-01, 4.59463405e-01, 5.38034633e-01, 3.78267486e-01,\n",
       "       2.22733737e-01, 2.01584536e-01, 7.21885133e-01, 8.22190337e-03,\n",
       "       6.59632686e-01, 3.84171280e-01, 3.57698569e-01, 6.51308726e-01,\n",
       "       3.53653660e-01, 6.52709156e-01, 4.18933043e-01, 7.02765602e-01,\n",
       "       3.19042844e-01, 7.09699075e-01, 6.01331659e-01, 5.54245021e-03,\n",
       "       7.44867651e-01, 6.60775795e-01, 5.64219889e-01, 5.98467551e-01,\n",
       "       2.53058330e-01, 6.79441202e-01, 5.81545369e-01, 4.96779057e-01,\n",
       "       1.38175999e-01, 6.64297916e-01, 7.83857056e-02, 6.64856771e-01,\n",
       "       5.54081451e-02, 5.50293025e-01, 7.19166695e-01, 5.97613818e-01,\n",
       "       5.50321567e-01, 6.26552681e-01, 6.49729035e-01, 7.04763069e-01,\n",
       "       2.82118644e-01, 4.15210532e-01, 2.87208124e-01, 2.26183683e-01,\n",
       "       6.47454046e-01, 6.08115125e-01, 3.56096346e-01, 3.54451902e-01,\n",
       "       2.81986193e-01, 5.56308587e-01, 3.58913658e-01, 6.73766806e-01,\n",
       "       3.02549479e-01, 4.04625319e-09])"
      ]
     },
     "execution_count": 82,
     "metadata": {},
     "output_type": "execute_result"
    }
   ],
   "source": [
    "y_predict_prob = classifier.predict_proba(X_train)[:,1]\n",
    "y_predict_prob"
   ]
  },
  {
   "cell_type": "markdown",
   "id": "43ab9bc7",
   "metadata": {},
   "source": [
    "## ROC Curve"
   ]
  },
  {
   "cell_type": "code",
   "execution_count": 83,
   "id": "2a60d45b",
   "metadata": {},
   "outputs": [
    {
     "data": {
      "text/plain": [
       "0.7121577139585916"
      ]
     },
     "execution_count": 83,
     "metadata": {},
     "output_type": "execute_result"
    }
   ],
   "source": [
    "# fpr: false positive rate, tpr:True positive rate.\n",
    "from sklearn.metrics import roc_curve,roc_auc_score\n",
    "fpr, tpr, thresholds = roc_curve(y_train, y_predict_prob)\n",
    "auc = roc_auc_score(y_train, y_pred)\n",
    "auc\n"
   ]
  },
  {
   "cell_type": "code",
   "execution_count": 84,
   "id": "a0be87e2",
   "metadata": {},
   "outputs": [
    {
     "name": "stderr",
     "output_type": "stream",
     "text": [
      "C:\\Users\\J G TECH\\AppData\\Local\\Temp\\ipykernel_13936\\2813920545.py:7: UserWarning: Matplotlib is currently using agg, which is a non-GUI backend, so cannot show the figure.\n",
      "  plt.show()\n"
     ]
    }
   ],
   "source": [
    "import matplotlib.pyplot as plt\n",
    "plt.plot(fpr, tpr, color='red', label='logit model ( area = %0.2f)'%auc)\n",
    "plt.plot([0,1], [0,1], 'k--')\n",
    "plt.xlabel('False Positive Rate or [1 - True Negative Rate]')\n",
    "plt.ylabel('True Positive Rate')\n",
    "plt.legend()\n",
    "plt.show()"
   ]
  },
  {
   "cell_type": "code",
   "execution_count": 85,
   "id": "aebe00ad",
   "metadata": {},
   "outputs": [
    {
     "data": {
      "text/plain": [
       "'C:\\\\Users\\\\J G TECH\\\\ Data Science'"
      ]
     },
     "execution_count": 85,
     "metadata": {},
     "output_type": "execute_result"
    }
   ],
   "source": [
    "import os\n",
    "os.getcwd()"
   ]
  },
  {
   "cell_type": "code",
   "execution_count": 86,
   "id": "cd11c145",
   "metadata": {},
   "outputs": [],
   "source": [
    "# sav the model to disk\n",
    "import pickle\n",
    "filename = 'finalized_model.sav'\n",
    "pickle.dump(classifier,open(filename, 'wb'))  #wb write binary mode"
   ]
  },
  {
   "cell_type": "markdown",
   "id": "c15cb9d8",
   "metadata": {},
   "source": [
    "## Evaluation"
   ]
  },
  {
   "cell_type": "code",
   "execution_count": 87,
   "id": "458b0b84",
   "metadata": {},
   "outputs": [],
   "source": [
    "clf = pickle.load(open('finalized_model.sav', 'rb')) #rb read binary mode"
   ]
  },
  {
   "cell_type": "code",
   "execution_count": 88,
   "id": "0eea1566",
   "metadata": {},
   "outputs": [],
   "source": [
    "#CLMSEX CLMINSUR SEATBELT CLMAGE LOSS"
   ]
  },
  {
   "cell_type": "code",
   "execution_count": 89,
   "id": "adb5e132",
   "metadata": {},
   "outputs": [
    {
     "name": "stderr",
     "output_type": "stream",
     "text": [
      "C:\\ProgramData\\anaconda3\\Lib\\site-packages\\sklearn\\base.py:464: UserWarning: X does not have valid feature names, but LogisticRegression was fitted with feature names\n",
      "  warnings.warn(\n"
     ]
    },
    {
     "data": {
      "text/plain": [
       "array([0, 1], dtype=int64)"
      ]
     },
     "execution_count": 89,
     "metadata": {},
     "output_type": "execute_result"
    }
   ],
   "source": [
    "X =[[0,1,1,54,1500],[1,0,0,25,0]]\n",
    "y_pred = clf.predict(X)\n",
    "y_pred"
   ]
  },
  {
   "cell_type": "code",
   "execution_count": 90,
   "id": "6c2a5b9e",
   "metadata": {},
   "outputs": [
    {
     "data": {
      "text/plain": [
       "array([1, 1, 1, 1, 1, 0, 0, 0, 0, 0, 1, 1, 1, 1, 1, 1, 1, 1, 0, 1, 1, 1,\n",
       "       1, 1, 1, 0, 1, 0, 1, 0, 0, 1, 1, 0, 1, 0, 0, 0, 0, 1, 0, 1, 0, 1,\n",
       "       1, 1, 1, 0, 1, 1, 0, 1, 1, 1, 0, 1, 1, 1, 1, 0, 1, 1, 1, 1, 0, 0,\n",
       "       1, 1, 0, 0, 0, 1, 1, 0, 0, 0, 1, 0, 0, 1, 1, 0, 1, 0, 0, 0, 0, 1,\n",
       "       0, 1, 0, 1, 0, 0, 1, 0, 0, 0, 1, 0, 1, 1, 1, 0, 1, 1, 1, 0, 0, 1,\n",
       "       1, 1, 1, 0, 1, 1, 0, 0, 0, 1, 0, 1, 1, 1, 0, 1, 1, 0, 1, 1, 1, 0,\n",
       "       1, 1, 0, 0, 0, 1, 0, 1, 1, 1, 1, 1, 1, 0, 1, 1, 1, 0, 0, 0, 1, 0,\n",
       "       1, 0, 0, 1, 1, 1, 1, 0, 0, 1, 0, 0, 0, 1, 0, 0, 1, 0, 1, 0, 1, 0,\n",
       "       1, 0, 1, 1, 1, 1, 0, 1, 1, 1, 1, 1, 0, 1, 1, 1, 0, 1, 1, 1, 0, 0,\n",
       "       1, 0, 0, 1, 0, 0, 1, 1, 0, 1, 1, 0, 1, 1, 1, 1, 0, 0, 0, 0, 0, 1,\n",
       "       0, 1, 1, 0, 0, 0, 0, 1, 1, 0, 1, 0, 0, 1, 0, 1, 1, 1, 1, 0, 0, 1,\n",
       "       1, 1, 1, 0, 0, 0, 0, 0, 0, 0, 1, 0, 0, 1, 0, 0, 0, 1, 1, 0, 0, 0,\n",
       "       1, 1, 1, 0, 1, 0, 1, 1, 0, 0], dtype=int64)"
      ]
     },
     "execution_count": 90,
     "metadata": {},
     "output_type": "execute_result"
    }
   ],
   "source": [
    "y_pred1 = clf.predict(X_test)\n",
    "y_pred1"
   ]
  },
  {
   "cell_type": "code",
   "execution_count": 91,
   "id": "8f5d0f0c",
   "metadata": {},
   "outputs": [
    {
     "data": {
      "text/plain": [
       "0.6970802919708029"
      ]
     },
     "execution_count": 91,
     "metadata": {},
     "output_type": "execute_result"
    }
   ],
   "source": [
    "clf.score(X_test,y_test)"
   ]
  },
  {
   "cell_type": "code",
   "execution_count": 92,
   "id": "9087aad8",
   "metadata": {},
   "outputs": [
    {
     "name": "stdout",
     "output_type": "stream",
     "text": [
      "              precision    recall  f1-score   support\n",
      "\n",
      "           0       0.70      0.65      0.67       132\n",
      "           1       0.70      0.74      0.72       142\n",
      "\n",
      "    accuracy                           0.70       274\n",
      "   macro avg       0.70      0.70      0.70       274\n",
      "weighted avg       0.70      0.70      0.70       274\n",
      "\n"
     ]
    }
   ],
   "source": [
    "print(classification_report(y_test,y_pred1))"
   ]
  },
  {
   "cell_type": "code",
   "execution_count": 93,
   "id": "67402d36",
   "metadata": {},
   "outputs": [
    {
     "data": {
      "text/plain": [
       "['.ipynb_checkpoints',\n",
       " 'Basic of python.ipynb',\n",
       " 'Basic Python Cls 2.ipynb',\n",
       " 'finalized_model.sav',\n",
       " 'Untitled Folder']"
      ]
     },
     "execution_count": 93,
     "metadata": {},
     "output_type": "execute_result"
    }
   ],
   "source": [
    "import os\n",
    "os.listdir()"
   ]
  },
  {
   "cell_type": "markdown",
   "id": "cbe1ccf7",
   "metadata": {},
   "source": [
    "## Multinomial logistic regression"
   ]
  },
  {
   "cell_type": "code",
   "execution_count": null,
   "id": "e75dfb87",
   "metadata": {},
   "outputs": [],
   "source": [
    "Description Of Data: \n",
    "The data is sourced from study of Abalone in Tasmania. \n",
    "It can be found at the UCI Machine Learning Repository.\n",
    "The dataset contains 4,177 observations and 9 variables. \n",
    "\n",
    "SEX = M (male), F (female), I (infant) \n",
    "\n",
    "LENGTH = Longest shell length in mm \n",
    "\n",
    "DIAM = Diameter perpendicular to length in mm \n",
    "\n",
    "HEIGHT = Height perpendicular to length and diameter in mm \n",
    "\n",
    "WHOLE = Whole weight of abalone in grams \n",
    "\n",
    "SHUCK = Shucked weight of meat in grams \n",
    "\n",
    "VISCERA = Viscera weight in grams \n",
    "\n",
    "SHELL = Shell weight after drying in grams \n",
    "\n",
    "RINGS = Age (+1.5 gives the age in years) \n",
    "\n",
    "There are 9 variables of which the first - SEX - will be used as the dependent variable.   \n",
    " Additional Information\n",
    "\n",
    "Predicting the age of abalone from physical measurements.  \n",
    "The age of abalone is determined by cutting the shell through the cone, staining it, \n",
    "and counting the number of rings through a microscope -- a boring and time-consuming task.  \n",
    "Other measurements, which are easier to obtain, are used to predict the age.  \n",
    "Further information, such as weather patterns and location \n",
    "(hence food availability) may be required to solve the problem.\n"
   ]
  },
  {
   "cell_type": "code",
   "execution_count": 35,
   "id": "4c55af95",
   "metadata": {},
   "outputs": [
    {
     "ename": "FileNotFoundError",
     "evalue": "[Errno 2] No such file or directory: 'C:\\\\Users\\\\J G TECH\\\\AppData\\\\Local\\\\Microsoft\\\\Windows\\\\INetCache\\\\IE\\\\TA2P48M3\\\\abalone[1].csv'",
     "output_type": "error",
     "traceback": [
      "\u001b[1;31m---------------------------------------------------------------------------\u001b[0m",
      "\u001b[1;31mFileNotFoundError\u001b[0m                         Traceback (most recent call last)",
      "Cell \u001b[1;32mIn[35], line 3\u001b[0m\n\u001b[0;32m      1\u001b[0m \u001b[38;5;66;03m#read the dataset\u001b[39;00m\n\u001b[0;32m      2\u001b[0m \u001b[38;5;28;01mimport\u001b[39;00m \u001b[38;5;21;01mpandas\u001b[39;00m \u001b[38;5;28;01mas\u001b[39;00m \u001b[38;5;21;01mpd\u001b[39;00m\n\u001b[1;32m----> 3\u001b[0m abalone_df \u001b[38;5;241m=\u001b[39m pd\u001b[38;5;241m.\u001b[39mread_csv(\u001b[38;5;124mr\u001b[39m\u001b[38;5;124m\"\u001b[39m\u001b[38;5;124mC:\u001b[39m\u001b[38;5;124m\\\u001b[39m\u001b[38;5;124mUsers\u001b[39m\u001b[38;5;124m\\\u001b[39m\u001b[38;5;124mJ G TECH\u001b[39m\u001b[38;5;124m\\\u001b[39m\u001b[38;5;124mAppData\u001b[39m\u001b[38;5;124m\\\u001b[39m\u001b[38;5;124mLocal\u001b[39m\u001b[38;5;124m\\\u001b[39m\u001b[38;5;124mMicrosoft\u001b[39m\u001b[38;5;124m\\\u001b[39m\u001b[38;5;124mWindows\u001b[39m\u001b[38;5;124m\\\u001b[39m\u001b[38;5;124mINetCache\u001b[39m\u001b[38;5;124m\\\u001b[39m\u001b[38;5;124mIE\u001b[39m\u001b[38;5;124m\\\u001b[39m\u001b[38;5;124mTA2P48M3\u001b[39m\u001b[38;5;124m\\\u001b[39m\u001b[38;5;124mabalone[1].csv\u001b[39m\u001b[38;5;124m\"\u001b[39m) \n\u001b[0;32m      4\u001b[0m abalone_df\u001b[38;5;241m.\u001b[39mhead()\n",
      "File \u001b[1;32mC:\\ProgramData\\anaconda3\\Lib\\site-packages\\pandas\\io\\parsers\\readers.py:912\u001b[0m, in \u001b[0;36mread_csv\u001b[1;34m(filepath_or_buffer, sep, delimiter, header, names, index_col, usecols, dtype, engine, converters, true_values, false_values, skipinitialspace, skiprows, skipfooter, nrows, na_values, keep_default_na, na_filter, verbose, skip_blank_lines, parse_dates, infer_datetime_format, keep_date_col, date_parser, date_format, dayfirst, cache_dates, iterator, chunksize, compression, thousands, decimal, lineterminator, quotechar, quoting, doublequote, escapechar, comment, encoding, encoding_errors, dialect, on_bad_lines, delim_whitespace, low_memory, memory_map, float_precision, storage_options, dtype_backend)\u001b[0m\n\u001b[0;32m    899\u001b[0m kwds_defaults \u001b[38;5;241m=\u001b[39m _refine_defaults_read(\n\u001b[0;32m    900\u001b[0m     dialect,\n\u001b[0;32m    901\u001b[0m     delimiter,\n\u001b[1;32m   (...)\u001b[0m\n\u001b[0;32m    908\u001b[0m     dtype_backend\u001b[38;5;241m=\u001b[39mdtype_backend,\n\u001b[0;32m    909\u001b[0m )\n\u001b[0;32m    910\u001b[0m kwds\u001b[38;5;241m.\u001b[39mupdate(kwds_defaults)\n\u001b[1;32m--> 912\u001b[0m \u001b[38;5;28;01mreturn\u001b[39;00m _read(filepath_or_buffer, kwds)\n",
      "File \u001b[1;32mC:\\ProgramData\\anaconda3\\Lib\\site-packages\\pandas\\io\\parsers\\readers.py:577\u001b[0m, in \u001b[0;36m_read\u001b[1;34m(filepath_or_buffer, kwds)\u001b[0m\n\u001b[0;32m    574\u001b[0m _validate_names(kwds\u001b[38;5;241m.\u001b[39mget(\u001b[38;5;124m\"\u001b[39m\u001b[38;5;124mnames\u001b[39m\u001b[38;5;124m\"\u001b[39m, \u001b[38;5;28;01mNone\u001b[39;00m))\n\u001b[0;32m    576\u001b[0m \u001b[38;5;66;03m# Create the parser.\u001b[39;00m\n\u001b[1;32m--> 577\u001b[0m parser \u001b[38;5;241m=\u001b[39m TextFileReader(filepath_or_buffer, \u001b[38;5;241m*\u001b[39m\u001b[38;5;241m*\u001b[39mkwds)\n\u001b[0;32m    579\u001b[0m \u001b[38;5;28;01mif\u001b[39;00m chunksize \u001b[38;5;129;01mor\u001b[39;00m iterator:\n\u001b[0;32m    580\u001b[0m     \u001b[38;5;28;01mreturn\u001b[39;00m parser\n",
      "File \u001b[1;32mC:\\ProgramData\\anaconda3\\Lib\\site-packages\\pandas\\io\\parsers\\readers.py:1407\u001b[0m, in \u001b[0;36mTextFileReader.__init__\u001b[1;34m(self, f, engine, **kwds)\u001b[0m\n\u001b[0;32m   1404\u001b[0m     \u001b[38;5;28mself\u001b[39m\u001b[38;5;241m.\u001b[39moptions[\u001b[38;5;124m\"\u001b[39m\u001b[38;5;124mhas_index_names\u001b[39m\u001b[38;5;124m\"\u001b[39m] \u001b[38;5;241m=\u001b[39m kwds[\u001b[38;5;124m\"\u001b[39m\u001b[38;5;124mhas_index_names\u001b[39m\u001b[38;5;124m\"\u001b[39m]\n\u001b[0;32m   1406\u001b[0m \u001b[38;5;28mself\u001b[39m\u001b[38;5;241m.\u001b[39mhandles: IOHandles \u001b[38;5;241m|\u001b[39m \u001b[38;5;28;01mNone\u001b[39;00m \u001b[38;5;241m=\u001b[39m \u001b[38;5;28;01mNone\u001b[39;00m\n\u001b[1;32m-> 1407\u001b[0m \u001b[38;5;28mself\u001b[39m\u001b[38;5;241m.\u001b[39m_engine \u001b[38;5;241m=\u001b[39m \u001b[38;5;28mself\u001b[39m\u001b[38;5;241m.\u001b[39m_make_engine(f, \u001b[38;5;28mself\u001b[39m\u001b[38;5;241m.\u001b[39mengine)\n",
      "File \u001b[1;32mC:\\ProgramData\\anaconda3\\Lib\\site-packages\\pandas\\io\\parsers\\readers.py:1661\u001b[0m, in \u001b[0;36mTextFileReader._make_engine\u001b[1;34m(self, f, engine)\u001b[0m\n\u001b[0;32m   1659\u001b[0m     \u001b[38;5;28;01mif\u001b[39;00m \u001b[38;5;124m\"\u001b[39m\u001b[38;5;124mb\u001b[39m\u001b[38;5;124m\"\u001b[39m \u001b[38;5;129;01mnot\u001b[39;00m \u001b[38;5;129;01min\u001b[39;00m mode:\n\u001b[0;32m   1660\u001b[0m         mode \u001b[38;5;241m+\u001b[39m\u001b[38;5;241m=\u001b[39m \u001b[38;5;124m\"\u001b[39m\u001b[38;5;124mb\u001b[39m\u001b[38;5;124m\"\u001b[39m\n\u001b[1;32m-> 1661\u001b[0m \u001b[38;5;28mself\u001b[39m\u001b[38;5;241m.\u001b[39mhandles \u001b[38;5;241m=\u001b[39m get_handle(\n\u001b[0;32m   1662\u001b[0m     f,\n\u001b[0;32m   1663\u001b[0m     mode,\n\u001b[0;32m   1664\u001b[0m     encoding\u001b[38;5;241m=\u001b[39m\u001b[38;5;28mself\u001b[39m\u001b[38;5;241m.\u001b[39moptions\u001b[38;5;241m.\u001b[39mget(\u001b[38;5;124m\"\u001b[39m\u001b[38;5;124mencoding\u001b[39m\u001b[38;5;124m\"\u001b[39m, \u001b[38;5;28;01mNone\u001b[39;00m),\n\u001b[0;32m   1665\u001b[0m     compression\u001b[38;5;241m=\u001b[39m\u001b[38;5;28mself\u001b[39m\u001b[38;5;241m.\u001b[39moptions\u001b[38;5;241m.\u001b[39mget(\u001b[38;5;124m\"\u001b[39m\u001b[38;5;124mcompression\u001b[39m\u001b[38;5;124m\"\u001b[39m, \u001b[38;5;28;01mNone\u001b[39;00m),\n\u001b[0;32m   1666\u001b[0m     memory_map\u001b[38;5;241m=\u001b[39m\u001b[38;5;28mself\u001b[39m\u001b[38;5;241m.\u001b[39moptions\u001b[38;5;241m.\u001b[39mget(\u001b[38;5;124m\"\u001b[39m\u001b[38;5;124mmemory_map\u001b[39m\u001b[38;5;124m\"\u001b[39m, \u001b[38;5;28;01mFalse\u001b[39;00m),\n\u001b[0;32m   1667\u001b[0m     is_text\u001b[38;5;241m=\u001b[39mis_text,\n\u001b[0;32m   1668\u001b[0m     errors\u001b[38;5;241m=\u001b[39m\u001b[38;5;28mself\u001b[39m\u001b[38;5;241m.\u001b[39moptions\u001b[38;5;241m.\u001b[39mget(\u001b[38;5;124m\"\u001b[39m\u001b[38;5;124mencoding_errors\u001b[39m\u001b[38;5;124m\"\u001b[39m, \u001b[38;5;124m\"\u001b[39m\u001b[38;5;124mstrict\u001b[39m\u001b[38;5;124m\"\u001b[39m),\n\u001b[0;32m   1669\u001b[0m     storage_options\u001b[38;5;241m=\u001b[39m\u001b[38;5;28mself\u001b[39m\u001b[38;5;241m.\u001b[39moptions\u001b[38;5;241m.\u001b[39mget(\u001b[38;5;124m\"\u001b[39m\u001b[38;5;124mstorage_options\u001b[39m\u001b[38;5;124m\"\u001b[39m, \u001b[38;5;28;01mNone\u001b[39;00m),\n\u001b[0;32m   1670\u001b[0m )\n\u001b[0;32m   1671\u001b[0m \u001b[38;5;28;01massert\u001b[39;00m \u001b[38;5;28mself\u001b[39m\u001b[38;5;241m.\u001b[39mhandles \u001b[38;5;129;01mis\u001b[39;00m \u001b[38;5;129;01mnot\u001b[39;00m \u001b[38;5;28;01mNone\u001b[39;00m\n\u001b[0;32m   1672\u001b[0m f \u001b[38;5;241m=\u001b[39m \u001b[38;5;28mself\u001b[39m\u001b[38;5;241m.\u001b[39mhandles\u001b[38;5;241m.\u001b[39mhandle\n",
      "File \u001b[1;32mC:\\ProgramData\\anaconda3\\Lib\\site-packages\\pandas\\io\\common.py:859\u001b[0m, in \u001b[0;36mget_handle\u001b[1;34m(path_or_buf, mode, encoding, compression, memory_map, is_text, errors, storage_options)\u001b[0m\n\u001b[0;32m    854\u001b[0m \u001b[38;5;28;01melif\u001b[39;00m \u001b[38;5;28misinstance\u001b[39m(handle, \u001b[38;5;28mstr\u001b[39m):\n\u001b[0;32m    855\u001b[0m     \u001b[38;5;66;03m# Check whether the filename is to be opened in binary mode.\u001b[39;00m\n\u001b[0;32m    856\u001b[0m     \u001b[38;5;66;03m# Binary mode does not support 'encoding' and 'newline'.\u001b[39;00m\n\u001b[0;32m    857\u001b[0m     \u001b[38;5;28;01mif\u001b[39;00m ioargs\u001b[38;5;241m.\u001b[39mencoding \u001b[38;5;129;01mand\u001b[39;00m \u001b[38;5;124m\"\u001b[39m\u001b[38;5;124mb\u001b[39m\u001b[38;5;124m\"\u001b[39m \u001b[38;5;129;01mnot\u001b[39;00m \u001b[38;5;129;01min\u001b[39;00m ioargs\u001b[38;5;241m.\u001b[39mmode:\n\u001b[0;32m    858\u001b[0m         \u001b[38;5;66;03m# Encoding\u001b[39;00m\n\u001b[1;32m--> 859\u001b[0m         handle \u001b[38;5;241m=\u001b[39m \u001b[38;5;28mopen\u001b[39m(\n\u001b[0;32m    860\u001b[0m             handle,\n\u001b[0;32m    861\u001b[0m             ioargs\u001b[38;5;241m.\u001b[39mmode,\n\u001b[0;32m    862\u001b[0m             encoding\u001b[38;5;241m=\u001b[39mioargs\u001b[38;5;241m.\u001b[39mencoding,\n\u001b[0;32m    863\u001b[0m             errors\u001b[38;5;241m=\u001b[39merrors,\n\u001b[0;32m    864\u001b[0m             newline\u001b[38;5;241m=\u001b[39m\u001b[38;5;124m\"\u001b[39m\u001b[38;5;124m\"\u001b[39m,\n\u001b[0;32m    865\u001b[0m         )\n\u001b[0;32m    866\u001b[0m     \u001b[38;5;28;01melse\u001b[39;00m:\n\u001b[0;32m    867\u001b[0m         \u001b[38;5;66;03m# Binary mode\u001b[39;00m\n\u001b[0;32m    868\u001b[0m         handle \u001b[38;5;241m=\u001b[39m \u001b[38;5;28mopen\u001b[39m(handle, ioargs\u001b[38;5;241m.\u001b[39mmode)\n",
      "\u001b[1;31mFileNotFoundError\u001b[0m: [Errno 2] No such file or directory: 'C:\\\\Users\\\\J G TECH\\\\AppData\\\\Local\\\\Microsoft\\\\Windows\\\\INetCache\\\\IE\\\\TA2P48M3\\\\abalone[1].csv'"
     ]
    }
   ],
   "source": [
    "#read the dataset\n",
    "import pandas as pd\n",
    "abalone_df = pd.read_csv(r\"C:\\Users\\J G TECH\\AppData\\Local\\Microsoft\\Windows\\INetCache\\IE\\TA2P48M3\\abalone[1].csv\") \n",
    "abalone_df.head()"
   ]
  },
  {
   "cell_type": "code",
   "execution_count": 8,
   "id": "c59a4720",
   "metadata": {},
   "outputs": [
    {
     "data": {
      "text/plain": [
       "Sex               4177\n",
       "Length            4177\n",
       "Diameter          4177\n",
       "Height            4177\n",
       "Whole weight      4177\n",
       "Shucked weight    4177\n",
       "Viscera weight    4177\n",
       "Shell weight      4177\n",
       "Rings             4177\n",
       "dtype: int64"
      ]
     },
     "execution_count": 8,
     "metadata": {},
     "output_type": "execute_result"
    }
   ],
   "source": [
    "abalone_df.count()"
   ]
  },
  {
   "cell_type": "code",
   "execution_count": 9,
   "id": "16ee6252",
   "metadata": {},
   "outputs": [
    {
     "name": "stdout",
     "output_type": "stream",
     "text": [
      "Sex\n",
      "M    1528\n",
      "I    1342\n",
      "F    1307\n",
      "Name: count, dtype: int64\n"
     ]
    }
   ],
   "source": [
    "#We are now ready to partition the dataset:\n",
    "Abalone_sex = abalone_df['Sex'].value_counts()\n",
    "print(Abalone_sex)"
   ]
  },
  {
   "cell_type": "code",
   "execution_count": 10,
   "id": "af17b9ef",
   "metadata": {},
   "outputs": [
    {
     "data": {
      "text/plain": [
       "(4177, 9)"
      ]
     },
     "execution_count": 10,
     "metadata": {},
     "output_type": "execute_result"
    }
   ],
   "source": [
    "abalone_df.shape"
   ]
  },
  {
   "cell_type": "code",
   "execution_count": 11,
   "id": "f9b9ba41",
   "metadata": {},
   "outputs": [
    {
     "data": {
      "text/plain": [
       "Sex               0\n",
       "Length            0\n",
       "Diameter          0\n",
       "Height            0\n",
       "Whole weight      0\n",
       "Shucked weight    0\n",
       "Viscera weight    0\n",
       "Shell weight      0\n",
       "Rings             0\n",
       "dtype: int64"
      ]
     },
     "execution_count": 11,
     "metadata": {},
     "output_type": "execute_result"
    }
   ],
   "source": [
    "abalone_df.isnull().sum()"
   ]
  },
  {
   "cell_type": "code",
   "execution_count": 12,
   "id": "89289109",
   "metadata": {},
   "outputs": [
    {
     "data": {
      "text/plain": [
       "((4177, 8),)"
      ]
     },
     "execution_count": 12,
     "metadata": {},
     "output_type": "execute_result"
    }
   ],
   "source": [
    "#Create training and test datasets\n",
    "X = abalone_df.drop(['Sex'], axis=1) \n",
    "y = abalone_df['Sex']\n",
    "X.shape,"
   ]
  },
  {
   "cell_type": "code",
   "execution_count": 13,
   "id": "88b2212c",
   "metadata": {},
   "outputs": [],
   "source": [
    "y = y.astype('category').cat.codes"
   ]
  },
  {
   "cell_type": "code",
   "execution_count": 14,
   "id": "551efb0c",
   "metadata": {},
   "outputs": [
    {
     "data": {
      "text/plain": [
       "2    1528\n",
       "1    1342\n",
       "0    1307\n",
       "Name: count, dtype: int64"
      ]
     },
     "execution_count": 14,
     "metadata": {},
     "output_type": "execute_result"
    }
   ],
   "source": [
    "y.value_counts()"
   ]
  },
  {
   "cell_type": "code",
   "execution_count": 15,
   "id": "d97f4319",
   "metadata": {},
   "outputs": [],
   "source": [
    "# y = label_binarize(y, classes=[0,1,2])\n",
    "# n_classes = y.shape[1]"
   ]
  },
  {
   "cell_type": "code",
   "execution_count": 16,
   "id": "0da81d68",
   "metadata": {},
   "outputs": [
    {
     "name": "stdout",
     "output_type": "stream",
     "text": [
      "(3341, 8)\n",
      "(836, 8)\n",
      "(3341,)\n",
      "(836,)\n"
     ]
    }
   ],
   "source": [
    "X_train_ab, X_test_ab, y_train_ab, y_test_ab = train_test_split(X, y, test_size = 0.20, \n",
    "                                                                random_state = 5)\n",
    "print(X_train_ab.shape)\n",
    "print(X_test_ab.shape)\n",
    "print(y_train_ab.shape)\n",
    "print(y_test_ab.shape)"
   ]
  },
  {
   "cell_type": "code",
   "execution_count": 17,
   "id": "871dc497",
   "metadata": {},
   "outputs": [
    {
     "data": {
      "text/html": [
       "<style>#sk-container-id-1 {color: black;}#sk-container-id-1 pre{padding: 0;}#sk-container-id-1 div.sk-toggleable {background-color: white;}#sk-container-id-1 label.sk-toggleable__label {cursor: pointer;display: block;width: 100%;margin-bottom: 0;padding: 0.3em;box-sizing: border-box;text-align: center;}#sk-container-id-1 label.sk-toggleable__label-arrow:before {content: \"▸\";float: left;margin-right: 0.25em;color: #696969;}#sk-container-id-1 label.sk-toggleable__label-arrow:hover:before {color: black;}#sk-container-id-1 div.sk-estimator:hover label.sk-toggleable__label-arrow:before {color: black;}#sk-container-id-1 div.sk-toggleable__content {max-height: 0;max-width: 0;overflow: hidden;text-align: left;background-color: #f0f8ff;}#sk-container-id-1 div.sk-toggleable__content pre {margin: 0.2em;color: black;border-radius: 0.25em;background-color: #f0f8ff;}#sk-container-id-1 input.sk-toggleable__control:checked~div.sk-toggleable__content {max-height: 200px;max-width: 100%;overflow: auto;}#sk-container-id-1 input.sk-toggleable__control:checked~label.sk-toggleable__label-arrow:before {content: \"▾\";}#sk-container-id-1 div.sk-estimator input.sk-toggleable__control:checked~label.sk-toggleable__label {background-color: #d4ebff;}#sk-container-id-1 div.sk-label input.sk-toggleable__control:checked~label.sk-toggleable__label {background-color: #d4ebff;}#sk-container-id-1 input.sk-hidden--visually {border: 0;clip: rect(1px 1px 1px 1px);clip: rect(1px, 1px, 1px, 1px);height: 1px;margin: -1px;overflow: hidden;padding: 0;position: absolute;width: 1px;}#sk-container-id-1 div.sk-estimator {font-family: monospace;background-color: #f0f8ff;border: 1px dotted black;border-radius: 0.25em;box-sizing: border-box;margin-bottom: 0.5em;}#sk-container-id-1 div.sk-estimator:hover {background-color: #d4ebff;}#sk-container-id-1 div.sk-parallel-item::after {content: \"\";width: 100%;border-bottom: 1px solid gray;flex-grow: 1;}#sk-container-id-1 div.sk-label:hover label.sk-toggleable__label {background-color: #d4ebff;}#sk-container-id-1 div.sk-serial::before {content: \"\";position: absolute;border-left: 1px solid gray;box-sizing: border-box;top: 0;bottom: 0;left: 50%;z-index: 0;}#sk-container-id-1 div.sk-serial {display: flex;flex-direction: column;align-items: center;background-color: white;padding-right: 0.2em;padding-left: 0.2em;position: relative;}#sk-container-id-1 div.sk-item {position: relative;z-index: 1;}#sk-container-id-1 div.sk-parallel {display: flex;align-items: stretch;justify-content: center;background-color: white;position: relative;}#sk-container-id-1 div.sk-item::before, #sk-container-id-1 div.sk-parallel-item::before {content: \"\";position: absolute;border-left: 1px solid gray;box-sizing: border-box;top: 0;bottom: 0;left: 50%;z-index: -1;}#sk-container-id-1 div.sk-parallel-item {display: flex;flex-direction: column;z-index: 1;position: relative;background-color: white;}#sk-container-id-1 div.sk-parallel-item:first-child::after {align-self: flex-end;width: 50%;}#sk-container-id-1 div.sk-parallel-item:last-child::after {align-self: flex-start;width: 50%;}#sk-container-id-1 div.sk-parallel-item:only-child::after {width: 0;}#sk-container-id-1 div.sk-dashed-wrapped {border: 1px dashed gray;margin: 0 0.4em 0.5em 0.4em;box-sizing: border-box;padding-bottom: 0.4em;background-color: white;}#sk-container-id-1 div.sk-label label {font-family: monospace;font-weight: bold;display: inline-block;line-height: 1.2em;}#sk-container-id-1 div.sk-label-container {text-align: center;}#sk-container-id-1 div.sk-container {/* jupyter's `normalize.less` sets `[hidden] { display: none; }` but bootstrap.min.css set `[hidden] { display: none !important; }` so we also need the `!important` here to be able to override the default hidden behavior on the sphinx rendered scikit-learn.org. See: https://github.com/scikit-learn/scikit-learn/issues/21755 */display: inline-block !important;position: relative;}#sk-container-id-1 div.sk-text-repr-fallback {display: none;}</style><div id=\"sk-container-id-1\" class=\"sk-top-container\"><div class=\"sk-text-repr-fallback\"><pre>LogisticRegression(multi_class=&#x27;multinomial&#x27;, penalty=None, solver=&#x27;newton-cg&#x27;)</pre><b>In a Jupyter environment, please rerun this cell to show the HTML representation or trust the notebook. <br />On GitHub, the HTML representation is unable to render, please try loading this page with nbviewer.org.</b></div><div class=\"sk-container\" hidden><div class=\"sk-item\"><div class=\"sk-estimator sk-toggleable\"><input class=\"sk-toggleable__control sk-hidden--visually\" id=\"sk-estimator-id-1\" type=\"checkbox\" checked><label for=\"sk-estimator-id-1\" class=\"sk-toggleable__label sk-toggleable__label-arrow\">LogisticRegression</label><div class=\"sk-toggleable__content\"><pre>LogisticRegression(multi_class=&#x27;multinomial&#x27;, penalty=None, solver=&#x27;newton-cg&#x27;)</pre></div></div></div></div></div>"
      ],
      "text/plain": [
       "LogisticRegression(multi_class='multinomial', penalty=None, solver='newton-cg')"
      ]
     },
     "execution_count": 17,
     "metadata": {},
     "output_type": "execute_result"
    }
   ],
   "source": [
    "model1 = LogisticRegression(multi_class='multinomial',penalty= None,solver='newton-cg')\n",
    "model1.fit(X_train_ab, y_train_ab)"
   ]
  },
  {
   "cell_type": "code",
   "execution_count": 18,
   "id": "cd346671",
   "metadata": {},
   "outputs": [
    {
     "data": {
      "text/plain": [
       "0.561807841963484"
      ]
     },
     "execution_count": 18,
     "metadata": {},
     "output_type": "execute_result"
    }
   ],
   "source": [
    "model1.score(X_train_ab, y_train_ab)"
   ]
  },
  {
   "cell_type": "code",
   "execution_count": 19,
   "id": "6482f7af",
   "metadata": {},
   "outputs": [
    {
     "name": "stdout",
     "output_type": "stream",
     "text": [
      "{'C': 1.0, 'class_weight': None, 'dual': False, 'fit_intercept': True, 'intercept_scaling': 1, 'l1_ratio': None, 'max_iter': 100, 'multi_class': 'multinomial', 'n_jobs': None, 'penalty': None, 'random_state': None, 'solver': 'newton-cg', 'tol': 0.0001, 'verbose': 0, 'warm_start': False}\n"
     ]
    }
   ],
   "source": [
    "y_pred_ab = model1.predict(X_test_ab)\n",
    "params = model1.get_params()\n",
    "print(params)"
   ]
  },
  {
   "cell_type": "code",
   "execution_count": 20,
   "id": "ab8fbc94",
   "metadata": {},
   "outputs": [
    {
     "name": "stdout",
     "output_type": "stream",
     "text": [
      "Intercept: \n",
      " [-1.78721481  1.04124861  0.74596621]\n",
      "Coefficients: \n",
      " [[-6.14592869  6.60729191  3.92916352  1.87257753 -2.66890945  5.98939794\n",
      "  -1.50630012  0.06142575]\n",
      " [12.17942933 -6.83042636 -5.45058045 -4.22199828  2.79760283 -8.49325133\n",
      "   3.09534599 -0.12236152]\n",
      " [-6.03350064  0.22313445  1.52141693  2.34942074 -0.12869338  2.50385339\n",
      "  -1.58904588  0.06093577]]\n"
     ]
    }
   ],
   "source": [
    "# Intercept And Coefficients:The intercept and coefficients are stored in model1.intercept and model1.coef_ respectively. Here we need to spend a bit of time, because the output of Sci-Kit Learn is different from what we may expect. \n",
    "#Print model parameters\n",
    "print('Intercept: \\n', model1.intercept_)\n",
    "print('Coefficients: \\n', model1.coef_)"
   ]
  },
  {
   "cell_type": "code",
   "execution_count": 21,
   "id": "9bc9c4a7",
   "metadata": {},
   "outputs": [
    {
     "data": {
      "text/html": [
       "<div>\n",
       "<style scoped>\n",
       "    .dataframe tbody tr th:only-of-type {\n",
       "        vertical-align: middle;\n",
       "    }\n",
       "\n",
       "    .dataframe tbody tr th {\n",
       "        vertical-align: top;\n",
       "    }\n",
       "\n",
       "    .dataframe thead th {\n",
       "        text-align: right;\n",
       "    }\n",
       "</style>\n",
       "<table border=\"1\" class=\"dataframe\">\n",
       "  <thead>\n",
       "    <tr style=\"text-align: right;\">\n",
       "      <th></th>\n",
       "      <th>actual</th>\n",
       "      <th>predicted_prob</th>\n",
       "    </tr>\n",
       "  </thead>\n",
       "  <tbody>\n",
       "    <tr>\n",
       "      <th>3342</th>\n",
       "      <td>2</td>\n",
       "      <td>1</td>\n",
       "    </tr>\n",
       "    <tr>\n",
       "      <th>791</th>\n",
       "      <td>0</td>\n",
       "      <td>2</td>\n",
       "    </tr>\n",
       "    <tr>\n",
       "      <th>1420</th>\n",
       "      <td>0</td>\n",
       "      <td>2</td>\n",
       "    </tr>\n",
       "    <tr>\n",
       "      <th>729</th>\n",
       "      <td>0</td>\n",
       "      <td>0</td>\n",
       "    </tr>\n",
       "    <tr>\n",
       "      <th>1186</th>\n",
       "      <td>0</td>\n",
       "      <td>0</td>\n",
       "    </tr>\n",
       "  </tbody>\n",
       "</table>\n",
       "</div>"
      ],
      "text/plain": [
       "      actual  predicted_prob\n",
       "3342       2               1\n",
       "791        0               2\n",
       "1420       0               2\n",
       "729        0               0\n",
       "1186       0               0"
      ]
     },
     "execution_count": 21,
     "metadata": {},
     "output_type": "execute_result"
    }
   ],
   "source": [
    "y_pred_df= pd.DataFrame({'actual': y_test_ab,'predicted_prob': y_pred_ab})  \n",
    "y_pred_df.head()"
   ]
  },
  {
   "cell_type": "code",
   "execution_count": 22,
   "id": "b2433c96",
   "metadata": {},
   "outputs": [
    {
     "name": "stdout",
     "output_type": "stream",
     "text": [
      "Accuracy Score: 0.5490430622009569\n",
      "              precision    recall  f1-score   support\n",
      "\n",
      "           0       0.48      0.33      0.39       270\n",
      "           1       0.66      0.81      0.72       260\n",
      "           2       0.48      0.53      0.50       306\n",
      "\n",
      "    accuracy                           0.55       836\n",
      "   macro avg       0.54      0.55      0.54       836\n",
      "weighted avg       0.54      0.55      0.54       836\n",
      "\n"
     ]
    }
   ],
   "source": [
    "#Accuracy statistics\n",
    "from sklearn import metrics\n",
    "print('Accuracy Score:', metrics.accuracy_score(y_test_ab, y_pred_ab))  \n",
    "#Create classification report\n",
    "class_report=classification_report(y_test_ab, y_pred_ab)\n",
    "print(class_report)"
   ]
  },
  {
   "cell_type": "code",
   "execution_count": 23,
   "id": "e0439a08",
   "metadata": {},
   "outputs": [
    {
     "name": "stdout",
     "output_type": "stream",
     "text": [
      "[[ 88  44 138]\n",
      " [ 15 210  35]\n",
      " [ 79  66 161]]\n"
     ]
    }
   ],
   "source": [
    "confmtrx = confusion_matrix(y_test_ab,y_pred_ab)\n",
    "print(confmtrx)"
   ]
  },
  {
   "cell_type": "code",
   "execution_count": 24,
   "id": "5848650b",
   "metadata": {},
   "outputs": [
    {
     "name": "stdout",
     "output_type": "stream",
     "text": [
      "        predicted_Female  predicted_Infant  predicted_Male\n",
      "Female                88                44             138\n",
      "Infant                15               210              35\n",
      "Male                  79                66             161\n"
     ]
    }
   ],
   "source": [
    "result = pd.DataFrame(confmtrx, index=['Female','Infant', 'Male'],\n",
    "                      columns=['predicted_Female', 'predicted_Infant', 'predicted_Male'])\n",
    "print(result)"
   ]
  },
  {
   "cell_type": "code",
   "execution_count": 25,
   "id": "eed6e9bd",
   "metadata": {},
   "outputs": [
    {
     "data": {
      "text/plain": [
       "array([[2.14218555e-03, 7.40475029e+02, 5.08644128e+01, 6.50504177e+00,\n",
       "        6.93277894e-02, 3.99174209e+02, 2.21728832e-01, 1.06335153e+00],\n",
       "       [1.94741697e+05, 1.08039738e-03, 4.29381163e-03, 1.46693019e-02,\n",
       "        1.64052733e+01, 2.04846154e-04, 2.20948819e+01, 8.84828429e-01],\n",
       "       [2.39708793e-03, 1.24998862e+00, 4.57870831e+00, 1.04794976e+01,\n",
       "        8.79243520e-01, 1.22295285e+01, 2.04120275e-01, 1.06283065e+00]])"
      ]
     },
     "execution_count": 25,
     "metadata": {},
     "output_type": "execute_result"
    }
   ],
   "source": [
    "# The first array contains three intercepts and the second  array contains three sets of regression coefficients.  \n",
    "# In fact, the sklearn based output is different from the statsmodel version \n",
    "# (A discussion of Multinomial Logistic Regression with statsmodels is available below). \n",
    "\n",
    "\n",
    "# In this solution, there is an equation for each class. \n",
    "# These act as independent binary logistic regression models. \n",
    "# The actual output is log(p(y=c)/1 - p(y=c)), which are multinomial logit coefficients, \n",
    "# hence the three equations.  After exponentiating each regressor coefficient, we in fact get odds ratios. \n",
    "# The interpretation of the coefficients is for a single unit change in the predictor variable, \n",
    "# the log of odds will change by a factor indicated by the beta coefficient, given that all other \n",
    "# variables are held constant.  Log of odds is not really meaningful, so exponentiating the output gets a \n",
    "# slightly more user friendly output: \n",
    "\n",
    "#Calculate odds ratio estimates\n",
    "import numpy as np\n",
    "np.exp(model1.coef_)"
   ]
  },
  {
   "cell_type": "code",
   "execution_count": 26,
   "id": "aadc732b",
   "metadata": {},
   "outputs": [
    {
     "data": {
      "text/html": [
       "<div>\n",
       "<style scoped>\n",
       "    .dataframe tbody tr th:only-of-type {\n",
       "        vertical-align: middle;\n",
       "    }\n",
       "\n",
       "    .dataframe tbody tr th {\n",
       "        vertical-align: top;\n",
       "    }\n",
       "\n",
       "    .dataframe thead th {\n",
       "        text-align: right;\n",
       "    }\n",
       "</style>\n",
       "<table border=\"1\" class=\"dataframe\">\n",
       "  <thead>\n",
       "    <tr style=\"text-align: right;\">\n",
       "      <th></th>\n",
       "      <th>predicted_Female</th>\n",
       "      <th>predicted_Infant</th>\n",
       "      <th>predicted_Male</th>\n",
       "    </tr>\n",
       "  </thead>\n",
       "  <tbody>\n",
       "    <tr>\n",
       "      <th>Female</th>\n",
       "      <td>88</td>\n",
       "      <td>44</td>\n",
       "      <td>138</td>\n",
       "    </tr>\n",
       "    <tr>\n",
       "      <th>Infant</th>\n",
       "      <td>15</td>\n",
       "      <td>210</td>\n",
       "      <td>35</td>\n",
       "    </tr>\n",
       "    <tr>\n",
       "      <th>Male</th>\n",
       "      <td>79</td>\n",
       "      <td>66</td>\n",
       "      <td>161</td>\n",
       "    </tr>\n",
       "  </tbody>\n",
       "</table>\n",
       "</div>"
      ],
      "text/plain": [
       "        predicted_Female  predicted_Infant  predicted_Male\n",
       "Female                88                44             138\n",
       "Infant                15               210              35\n",
       "Male                  79                66             161"
      ]
     },
     "execution_count": 26,
     "metadata": {},
     "output_type": "execute_result"
    }
   ],
   "source": [
    "# Create DataFrame from confmtrx array  rows for test: Male, Female, Infant designation as index \n",
    "# columns for preds: male, predicted_female, predicted_infant as column\n",
    "# confmtrx = confusion_matrix(y_test_ab,y_pred_ab)\n",
    "# print(confmtrx)\n",
    "pd.DataFrame(confmtrx, index=['Female','Infant', 'Male'],columns=['predicted_Female', 'predicted_Infant', 'predicted_Male'])\n"
   ]
  },
  {
   "cell_type": "code",
   "execution_count": 27,
   "id": "c0bf1817",
   "metadata": {},
   "outputs": [],
   "source": [
    "# The accuracy of this model is poor with only 55% of predictions being correct. \n",
    "# The precision and recall of female and male abalone is very concerning as well.     "
   ]
  },
  {
   "cell_type": "code",
   "execution_count": 28,
   "id": "e6575767",
   "metadata": {},
   "outputs": [
    {
     "data": {
      "text/html": [
       "<div>\n",
       "<style scoped>\n",
       "    .dataframe tbody tr th:only-of-type {\n",
       "        vertical-align: middle;\n",
       "    }\n",
       "\n",
       "    .dataframe tbody tr th {\n",
       "        vertical-align: top;\n",
       "    }\n",
       "\n",
       "    .dataframe thead th {\n",
       "        text-align: right;\n",
       "    }\n",
       "</style>\n",
       "<table border=\"1\" class=\"dataframe\">\n",
       "  <thead>\n",
       "    <tr style=\"text-align: right;\">\n",
       "      <th></th>\n",
       "      <th>Sex</th>\n",
       "      <th>Length</th>\n",
       "      <th>Diameter</th>\n",
       "      <th>Height</th>\n",
       "      <th>Whole weight</th>\n",
       "      <th>Shucked weight</th>\n",
       "      <th>Viscera weight</th>\n",
       "      <th>Shell weight</th>\n",
       "      <th>Rings</th>\n",
       "    </tr>\n",
       "  </thead>\n",
       "  <tbody>\n",
       "    <tr>\n",
       "      <th>0</th>\n",
       "      <td>M</td>\n",
       "      <td>0.455</td>\n",
       "      <td>0.365</td>\n",
       "      <td>0.095</td>\n",
       "      <td>0.5140</td>\n",
       "      <td>0.2245</td>\n",
       "      <td>0.1010</td>\n",
       "      <td>0.150</td>\n",
       "      <td>15</td>\n",
       "    </tr>\n",
       "    <tr>\n",
       "      <th>1</th>\n",
       "      <td>M</td>\n",
       "      <td>0.350</td>\n",
       "      <td>0.265</td>\n",
       "      <td>0.090</td>\n",
       "      <td>0.2255</td>\n",
       "      <td>0.0995</td>\n",
       "      <td>0.0485</td>\n",
       "      <td>0.070</td>\n",
       "      <td>7</td>\n",
       "    </tr>\n",
       "    <tr>\n",
       "      <th>2</th>\n",
       "      <td>F</td>\n",
       "      <td>0.530</td>\n",
       "      <td>0.420</td>\n",
       "      <td>0.135</td>\n",
       "      <td>0.6770</td>\n",
       "      <td>0.2565</td>\n",
       "      <td>0.1415</td>\n",
       "      <td>0.210</td>\n",
       "      <td>9</td>\n",
       "    </tr>\n",
       "    <tr>\n",
       "      <th>3</th>\n",
       "      <td>M</td>\n",
       "      <td>0.440</td>\n",
       "      <td>0.365</td>\n",
       "      <td>0.125</td>\n",
       "      <td>0.5160</td>\n",
       "      <td>0.2155</td>\n",
       "      <td>0.1140</td>\n",
       "      <td>0.155</td>\n",
       "      <td>10</td>\n",
       "    </tr>\n",
       "    <tr>\n",
       "      <th>4</th>\n",
       "      <td>I</td>\n",
       "      <td>0.330</td>\n",
       "      <td>0.255</td>\n",
       "      <td>0.080</td>\n",
       "      <td>0.2050</td>\n",
       "      <td>0.0895</td>\n",
       "      <td>0.0395</td>\n",
       "      <td>0.055</td>\n",
       "      <td>7</td>\n",
       "    </tr>\n",
       "  </tbody>\n",
       "</table>\n",
       "</div>"
      ],
      "text/plain": [
       "  Sex  Length  Diameter  Height  Whole weight  Shucked weight  Viscera weight  \\\n",
       "0   M   0.455     0.365   0.095        0.5140          0.2245          0.1010   \n",
       "1   M   0.350     0.265   0.090        0.2255          0.0995          0.0485   \n",
       "2   F   0.530     0.420   0.135        0.6770          0.2565          0.1415   \n",
       "3   M   0.440     0.365   0.125        0.5160          0.2155          0.1140   \n",
       "4   I   0.330     0.255   0.080        0.2050          0.0895          0.0395   \n",
       "\n",
       "   Shell weight  Rings  \n",
       "0         0.150     15  \n",
       "1         0.070      7  \n",
       "2         0.210      9  \n",
       "3         0.155     10  \n",
       "4         0.055      7  "
      ]
     },
     "execution_count": 28,
     "metadata": {},
     "output_type": "execute_result"
    }
   ],
   "source": [
    "import pandas as pd\n",
    "import numpy as np\n",
    "import scipy as scp\n",
    "import sklearn\n",
    "import statsmodels.api as sm\n",
    "import matplotlib.pyplot as plt\n",
    "from sklearn.model_selection import train_test_split\n",
    "from sklearn.linear_model import LogisticRegression, LinearRegression\n",
    "from sklearn.metrics import classification_report,confusion_matrix\n",
    "\n",
    "from sklearn.preprocessing import label_binarize\n",
    "from sklearn.multiclass import OneVsRestClassifier\n",
    "from sklearn.metrics import roc_curve,roc_auc_score,auc\n",
    "\n",
    "abalone_df = pd.read_csv(r\"C:\\Users\\J G TECH\\AppData\\Local\\Microsoft\\Windows\\INetCache\\IE\\47FN4VLF\\abalone[1].csv\")\n",
    "abalone_df.head()"
   ]
  },
  {
   "cell_type": "code",
   "execution_count": 29,
   "id": "feecd335",
   "metadata": {},
   "outputs": [
    {
     "name": "stdout",
     "output_type": "stream",
     "text": [
      "Sex\n",
      "M    1528\n",
      "I    1342\n",
      "F    1307\n",
      "Name: count, dtype: int64\n"
     ]
    }
   ],
   "source": [
    "X_new = abalone_df.drop(['Sex'],axis=1)\n",
    "y_new = abalone_df['Sex']\n",
    "print(y_new.value_counts())"
   ]
  },
  {
   "cell_type": "code",
   "execution_count": 30,
   "id": "99648791",
   "metadata": {},
   "outputs": [],
   "source": [
    "Y = label_binarize(y_new, classes=['M','I','F'])\n",
    "n_classes = Y.shape[1]"
   ]
  },
  {
   "cell_type": "code",
   "execution_count": 31,
   "id": "bba9ba82",
   "metadata": {},
   "outputs": [
    {
     "name": "stdout",
     "output_type": "stream",
     "text": [
      "(3341, 8)\n",
      "(836, 8)\n",
      "(3341,)\n",
      "(836,)\n"
     ]
    }
   ],
   "source": [
    "X_train_ab, X_test_ab, y_train_ab, y_test_ab = train_test_split(X, y, test_size = 0.20, \n",
    "                                                                random_state = 5)\n",
    "print(X_train_ab.shape)\n",
    "print(X_test_ab.shape)\n",
    "print(y_train_ab.shape)\n",
    "print(y_test_ab.shape)"
   ]
  },
  {
   "cell_type": "code",
   "execution_count": 32,
   "id": "7676b54a",
   "metadata": {},
   "outputs": [
    {
     "data": {
      "text/plain": [
       "array([[-1.17365333, -0.39996125, -0.79532622],\n",
       "       [-1.03862518, -0.4066039 , -0.88497684],\n",
       "       [ 0.05674755, -4.37203419,  0.23913321],\n",
       "       ...,\n",
       "       [ 0.73672268, -6.0586992 ,  0.48342514],\n",
       "       [-1.89620557,  0.80541207, -1.14518029],\n",
       "       [-0.54066099, -2.17057039, -0.31831514]])"
      ]
     },
     "execution_count": 32,
     "metadata": {},
     "output_type": "execute_result"
    }
   ],
   "source": [
    "classifier = OneVsRestClassifier(LogisticRegression())\n",
    "y_score = classifier.fit(X_train_ab, y_train_ab).decision_function(X_test_ab)\n",
    "y_score"
   ]
  },
  {
   "cell_type": "code",
   "execution_count": 33,
   "id": "19bec08b",
   "metadata": {},
   "outputs": [
    {
     "ename": "KeyError",
     "evalue": "'key of type tuple not found and not a MultiIndex'",
     "output_type": "error",
     "traceback": [
      "\u001b[1;31m---------------------------------------------------------------------------\u001b[0m",
      "\u001b[1;31mKeyError\u001b[0m                                  Traceback (most recent call last)",
      "Cell \u001b[1;32mIn[33], line 5\u001b[0m\n\u001b[0;32m      3\u001b[0m roc_auc \u001b[38;5;241m=\u001b[39m \u001b[38;5;28mdict\u001b[39m()\n\u001b[0;32m      4\u001b[0m \u001b[38;5;28;01mfor\u001b[39;00m i \u001b[38;5;129;01min\u001b[39;00m \u001b[38;5;28mrange\u001b[39m(n_classes):\n\u001b[1;32m----> 5\u001b[0m     fpr[i], tpr[i], _\u001b[38;5;241m=\u001b[39m roc_curve(y_test_ab[:, i], y_score[:, i])\n\u001b[0;32m      6\u001b[0m     roc_auc[i] \u001b[38;5;241m=\u001b[39m auc(fpr[i], tpr[i])\n\u001b[0;32m      7\u001b[0m \u001b[38;5;66;03m#Compute a micro-average ROC curve and ROC area\u001b[39;00m\n",
      "File \u001b[1;32mC:\\ProgramData\\anaconda3\\Lib\\site-packages\\pandas\\core\\series.py:1033\u001b[0m, in \u001b[0;36mSeries.__getitem__\u001b[1;34m(self, key)\u001b[0m\n\u001b[0;32m   1030\u001b[0m     key \u001b[38;5;241m=\u001b[39m np\u001b[38;5;241m.\u001b[39masarray(key, dtype\u001b[38;5;241m=\u001b[39m\u001b[38;5;28mbool\u001b[39m)\n\u001b[0;32m   1031\u001b[0m     \u001b[38;5;28;01mreturn\u001b[39;00m \u001b[38;5;28mself\u001b[39m\u001b[38;5;241m.\u001b[39m_get_values(key)\n\u001b[1;32m-> 1033\u001b[0m \u001b[38;5;28;01mreturn\u001b[39;00m \u001b[38;5;28mself\u001b[39m\u001b[38;5;241m.\u001b[39m_get_with(key)\n",
      "File \u001b[1;32mC:\\ProgramData\\anaconda3\\Lib\\site-packages\\pandas\\core\\series.py:1048\u001b[0m, in \u001b[0;36mSeries._get_with\u001b[1;34m(self, key)\u001b[0m\n\u001b[0;32m   1043\u001b[0m     \u001b[38;5;28;01mraise\u001b[39;00m \u001b[38;5;167;01mTypeError\u001b[39;00m(\n\u001b[0;32m   1044\u001b[0m         \u001b[38;5;124m\"\u001b[39m\u001b[38;5;124mIndexing a Series with DataFrame is not \u001b[39m\u001b[38;5;124m\"\u001b[39m\n\u001b[0;32m   1045\u001b[0m         \u001b[38;5;124m\"\u001b[39m\u001b[38;5;124msupported, use the appropriate DataFrame column\u001b[39m\u001b[38;5;124m\"\u001b[39m\n\u001b[0;32m   1046\u001b[0m     )\n\u001b[0;32m   1047\u001b[0m \u001b[38;5;28;01melif\u001b[39;00m \u001b[38;5;28misinstance\u001b[39m(key, \u001b[38;5;28mtuple\u001b[39m):\n\u001b[1;32m-> 1048\u001b[0m     \u001b[38;5;28;01mreturn\u001b[39;00m \u001b[38;5;28mself\u001b[39m\u001b[38;5;241m.\u001b[39m_get_values_tuple(key)\n\u001b[0;32m   1050\u001b[0m \u001b[38;5;28;01melif\u001b[39;00m \u001b[38;5;129;01mnot\u001b[39;00m is_list_like(key):\n\u001b[0;32m   1051\u001b[0m     \u001b[38;5;66;03m# e.g. scalars that aren't recognized by lib.is_scalar, GH#32684\u001b[39;00m\n\u001b[0;32m   1052\u001b[0m     \u001b[38;5;28;01mreturn\u001b[39;00m \u001b[38;5;28mself\u001b[39m\u001b[38;5;241m.\u001b[39mloc[key]\n",
      "File \u001b[1;32mC:\\ProgramData\\anaconda3\\Lib\\site-packages\\pandas\\core\\series.py:1086\u001b[0m, in \u001b[0;36mSeries._get_values_tuple\u001b[1;34m(self, key)\u001b[0m\n\u001b[0;32m   1083\u001b[0m     \u001b[38;5;28;01mreturn\u001b[39;00m result\n\u001b[0;32m   1085\u001b[0m \u001b[38;5;28;01mif\u001b[39;00m \u001b[38;5;129;01mnot\u001b[39;00m \u001b[38;5;28misinstance\u001b[39m(\u001b[38;5;28mself\u001b[39m\u001b[38;5;241m.\u001b[39mindex, MultiIndex):\n\u001b[1;32m-> 1086\u001b[0m     \u001b[38;5;28;01mraise\u001b[39;00m \u001b[38;5;167;01mKeyError\u001b[39;00m(\u001b[38;5;124m\"\u001b[39m\u001b[38;5;124mkey of type tuple not found and not a MultiIndex\u001b[39m\u001b[38;5;124m\"\u001b[39m)\n\u001b[0;32m   1088\u001b[0m \u001b[38;5;66;03m# If key is contained, would have returned by now\u001b[39;00m\n\u001b[0;32m   1089\u001b[0m indexer, new_index \u001b[38;5;241m=\u001b[39m \u001b[38;5;28mself\u001b[39m\u001b[38;5;241m.\u001b[39mindex\u001b[38;5;241m.\u001b[39mget_loc_level(key)\n",
      "\u001b[1;31mKeyError\u001b[0m: 'key of type tuple not found and not a MultiIndex'"
     ]
    }
   ],
   "source": [
    "fpr = dict()\n",
    "tpr = dict()\n",
    "roc_auc = dict()\n",
    "for i in range(n_classes):\n",
    "    fpr[i], tpr[i], _= roc_curve(y_test_ab[:, i], y_score[:, i])\n",
    "    roc_auc[i] = auc(fpr[i], tpr[i])\n",
    "#Compute a micro-average ROC curve and ROC area\n",
    "fpr[\"micro\"], tpr[\"micro\"], _=  roc_curve(y_test_ab.ravel(), y_score.ravel())\n",
    "roc_auc[\"micro\"] = auc(fpr[\"micro\"], tpr[\"micro\"])\n",
    "\n",
    "# plot\n",
    "plt.figure()\n",
    "plt.plot(fpr[2], tpr[2],label = 'ROC curve (area = %0.2f)' % roc_auc[2])\n",
    "plt.plot([0,1], [0,1], 'k--')\n",
    "plt.xlim([0.0, 1.0])\n",
    "plt.ylim([0.0, 1.05])\n",
    "plt.xlabel('False Positive Rate')\n",
    "plt.ylabel('True Positive Rate')\n",
    "plt.title('Receiver operating characteristic curve')\n",
    "plt.legend(loc=\"lower right\")\n",
    "plt.show()"
   ]
  },
  {
   "cell_type": "code",
   "execution_count": 34,
   "id": "c3f255d3",
   "metadata": {},
   "outputs": [
    {
     "ename": "KeyError",
     "evalue": "'micro'",
     "output_type": "error",
     "traceback": [
      "\u001b[1;31m---------------------------------------------------------------------------\u001b[0m",
      "\u001b[1;31mKeyError\u001b[0m                                  Traceback (most recent call last)",
      "Cell \u001b[1;32mIn[34], line 3\u001b[0m\n\u001b[0;32m      1\u001b[0m \u001b[38;5;66;03m# Plot ROC Curve\u001b[39;00m\n\u001b[0;32m      2\u001b[0m plt\u001b[38;5;241m.\u001b[39mfigure()\n\u001b[1;32m----> 3\u001b[0m plt\u001b[38;5;241m.\u001b[39mplot(fpr[\u001b[38;5;124m\"\u001b[39m\u001b[38;5;124mmicro\u001b[39m\u001b[38;5;124m\"\u001b[39m], tpr[\u001b[38;5;124m\"\u001b[39m\u001b[38;5;124mmicro\u001b[39m\u001b[38;5;124m\"\u001b[39m],\n\u001b[0;32m      4\u001b[0m         \u001b[38;5;124m'\u001b[39m\u001b[38;5;124m'\u001b[39m\u001b[38;5;241m.\u001b[39mformat(roc_auc[\u001b[38;5;124m\"\u001b[39m\u001b[38;5;124mmicro\u001b[39m\u001b[38;5;124m\"\u001b[39m]))\n\u001b[0;32m      5\u001b[0m \u001b[38;5;28;01mfor\u001b[39;00m i \u001b[38;5;129;01min\u001b[39;00m \u001b[38;5;28mrange\u001b[39m(n_classes):\n\u001b[0;32m      6\u001b[0m     plt\u001b[38;5;241m.\u001b[39mplot(fpr[i], tpr[i], label\u001b[38;5;241m=\u001b[39m\u001b[38;5;124m'\u001b[39m\u001b[38;5;124mROC curve of class \u001b[39m\u001b[38;5;132;01m{0}\u001b[39;00m\u001b[38;5;124m (area = \u001b[39m\u001b[38;5;132;01m{1:0.2f}\u001b[39;00m\u001b[38;5;124m)\u001b[39m\u001b[38;5;124m'\u001b[39m\n\u001b[0;32m      7\u001b[0m                                     \u001b[38;5;124m'\u001b[39m\u001b[38;5;124m'\u001b[39m\u001b[38;5;241m.\u001b[39mformat(i, roc_auc[i]))\n",
      "\u001b[1;31mKeyError\u001b[0m: 'micro'"
     ]
    },
    {
     "data": {
      "text/plain": [
       "<Figure size 640x480 with 0 Axes>"
      ]
     },
     "metadata": {},
     "output_type": "display_data"
    }
   ],
   "source": [
    "# Plot ROC Curve\n",
    "plt.figure()\n",
    "plt.plot(fpr[\"micro\"], tpr[\"micro\"],\n",
    "        ''.format(roc_auc[\"micro\"]))\n",
    "for i in range(n_classes):\n",
    "    plt.plot(fpr[i], tpr[i], label='ROC curve of class {0} (area = {1:0.2f})'\n",
    "                                    ''.format(i, roc_auc[i]))\n",
    "    \n",
    "\n",
    "plt.plot([0, 1], [0,1], 'k--')\n",
    "plt.xlim([0.0, 1.0])\n",
    "plt.ylim([0.0, 1.05])\n",
    "plt.xlabel('False Positive Rate')\n",
    "plt.ylabel('True Positive Rate')\n",
    "plt.title('Receiver operating characteristic Curve')\n",
    "plt.legend(loc=\"lower right\")\n",
    "plt.show()"
   ]
  },
  {
   "cell_type": "code",
   "execution_count": 35,
   "id": "85cada85",
   "metadata": {},
   "outputs": [
    {
     "name": "stdout",
     "output_type": "stream",
     "text": [
      "Defaulting to user installation because normal site-packages is not writeable\n",
      "Requirement already satisfied: flask in c:\\programdata\\anaconda3\\lib\\site-packages (2.2.2)\n",
      "Requirement already satisfied: Werkzeug>=2.2.2 in c:\\programdata\\anaconda3\\lib\\site-packages (from flask) (2.2.3)\n",
      "Requirement already satisfied: Jinja2>=3.0 in c:\\programdata\\anaconda3\\lib\\site-packages (from flask) (3.1.2)\n",
      "Requirement already satisfied: itsdangerous>=2.0 in c:\\programdata\\anaconda3\\lib\\site-packages (from flask) (2.0.1)\n",
      "Requirement already satisfied: click>=8.0 in c:\\programdata\\anaconda3\\lib\\site-packages (from flask) (8.0.4)\n",
      "Requirement already satisfied: colorama in c:\\programdata\\anaconda3\\lib\\site-packages (from click>=8.0->flask) (0.4.6)\n",
      "Requirement already satisfied: MarkupSafe>=2.0 in c:\\programdata\\anaconda3\\lib\\site-packages (from Jinja2>=3.0->flask) (2.1.1)\n",
      "Defaulting to user installation because normal site-packages is not writeable\n",
      "Requirement already satisfied: streamlit in c:\\users\\j g tech\\appdata\\roaming\\python\\python311\\site-packages (1.36.0)\n",
      "Requirement already satisfied: altair<6,>=4.0 in c:\\users\\j g tech\\appdata\\roaming\\python\\python311\\site-packages (from streamlit) (5.3.0)\n",
      "Requirement already satisfied: blinker<2,>=1.0.0 in c:\\users\\j g tech\\appdata\\roaming\\python\\python311\\site-packages (from streamlit) (1.8.2)\n",
      "Requirement already satisfied: cachetools<6,>=4.0 in c:\\users\\j g tech\\appdata\\roaming\\python\\python311\\site-packages (from streamlit) (5.4.0)\n",
      "Requirement already satisfied: click<9,>=7.0 in c:\\programdata\\anaconda3\\lib\\site-packages (from streamlit) (8.0.4)\n",
      "Requirement already satisfied: numpy<3,>=1.20 in c:\\programdata\\anaconda3\\lib\\site-packages (from streamlit) (1.24.3)\n",
      "Requirement already satisfied: packaging<25,>=20 in c:\\programdata\\anaconda3\\lib\\site-packages (from streamlit) (23.1)\n",
      "Requirement already satisfied: pandas<3,>=1.3.0 in c:\\programdata\\anaconda3\\lib\\site-packages (from streamlit) (2.0.3)\n",
      "Requirement already satisfied: pillow<11,>=7.1.0 in c:\\programdata\\anaconda3\\lib\\site-packages (from streamlit) (10.0.1)\n",
      "Requirement already satisfied: protobuf<6,>=3.20 in c:\\users\\j g tech\\appdata\\roaming\\python\\python311\\site-packages (from streamlit) (5.27.2)\n",
      "Requirement already satisfied: pyarrow>=7.0 in c:\\programdata\\anaconda3\\lib\\site-packages (from streamlit) (11.0.0)\n",
      "Requirement already satisfied: requests<3,>=2.27 in c:\\programdata\\anaconda3\\lib\\site-packages (from streamlit) (2.31.0)\n",
      "Requirement already satisfied: rich<14,>=10.14.0 in c:\\users\\j g tech\\appdata\\roaming\\python\\python311\\site-packages (from streamlit) (13.7.1)\n",
      "Requirement already satisfied: tenacity<9,>=8.1.0 in c:\\programdata\\anaconda3\\lib\\site-packages (from streamlit) (8.2.2)\n",
      "Requirement already satisfied: toml<2,>=0.10.1 in c:\\programdata\\anaconda3\\lib\\site-packages (from streamlit) (0.10.2)\n",
      "Requirement already satisfied: typing-extensions<5,>=4.3.0 in c:\\programdata\\anaconda3\\lib\\site-packages (from streamlit) (4.7.1)\n",
      "Requirement already satisfied: gitpython!=3.1.19,<4,>=3.0.7 in c:\\users\\j g tech\\appdata\\roaming\\python\\python311\\site-packages (from streamlit) (3.1.43)\n",
      "Requirement already satisfied: pydeck<1,>=0.8.0b4 in c:\\users\\j g tech\\appdata\\roaming\\python\\python311\\site-packages (from streamlit) (0.9.1)\n",
      "Requirement already satisfied: tornado<7,>=6.0.3 in c:\\programdata\\anaconda3\\lib\\site-packages (from streamlit) (6.3.2)\n",
      "Requirement already satisfied: watchdog<5,>=2.1.5 in c:\\programdata\\anaconda3\\lib\\site-packages (from streamlit) (2.1.6)\n",
      "Requirement already satisfied: jinja2 in c:\\programdata\\anaconda3\\lib\\site-packages (from altair<6,>=4.0->streamlit) (3.1.2)\n",
      "Requirement already satisfied: jsonschema>=3.0 in c:\\programdata\\anaconda3\\lib\\site-packages (from altair<6,>=4.0->streamlit) (4.17.3)\n",
      "Requirement already satisfied: toolz in c:\\programdata\\anaconda3\\lib\\site-packages (from altair<6,>=4.0->streamlit) (0.12.0)\n",
      "Requirement already satisfied: colorama in c:\\programdata\\anaconda3\\lib\\site-packages (from click<9,>=7.0->streamlit) (0.4.6)\n",
      "Requirement already satisfied: gitdb<5,>=4.0.1 in c:\\users\\j g tech\\appdata\\roaming\\python\\python311\\site-packages (from gitpython!=3.1.19,<4,>=3.0.7->streamlit) (4.0.11)\n",
      "Requirement already satisfied: python-dateutil>=2.8.2 in c:\\programdata\\anaconda3\\lib\\site-packages (from pandas<3,>=1.3.0->streamlit) (2.8.2)\n",
      "Requirement already satisfied: pytz>=2020.1 in c:\\programdata\\anaconda3\\lib\\site-packages (from pandas<3,>=1.3.0->streamlit) (2023.3.post1)\n",
      "Requirement already satisfied: tzdata>=2022.1 in c:\\programdata\\anaconda3\\lib\\site-packages (from pandas<3,>=1.3.0->streamlit) (2023.3)\n",
      "Requirement already satisfied: charset-normalizer<4,>=2 in c:\\programdata\\anaconda3\\lib\\site-packages (from requests<3,>=2.27->streamlit) (2.0.4)\n",
      "Requirement already satisfied: idna<4,>=2.5 in c:\\programdata\\anaconda3\\lib\\site-packages (from requests<3,>=2.27->streamlit) (3.4)\n",
      "Requirement already satisfied: urllib3<3,>=1.21.1 in c:\\programdata\\anaconda3\\lib\\site-packages (from requests<3,>=2.27->streamlit) (1.26.16)\n",
      "Requirement already satisfied: certifi>=2017.4.17 in c:\\programdata\\anaconda3\\lib\\site-packages (from requests<3,>=2.27->streamlit) (2024.7.4)\n",
      "Requirement already satisfied: markdown-it-py>=2.2.0 in c:\\programdata\\anaconda3\\lib\\site-packages (from rich<14,>=10.14.0->streamlit) (2.2.0)\n",
      "Requirement already satisfied: pygments<3.0.0,>=2.13.0 in c:\\programdata\\anaconda3\\lib\\site-packages (from rich<14,>=10.14.0->streamlit) (2.15.1)\n",
      "Requirement already satisfied: smmap<6,>=3.0.1 in c:\\users\\j g tech\\appdata\\roaming\\python\\python311\\site-packages (from gitdb<5,>=4.0.1->gitpython!=3.1.19,<4,>=3.0.7->streamlit) (5.0.1)\n",
      "Requirement already satisfied: MarkupSafe>=2.0 in c:\\programdata\\anaconda3\\lib\\site-packages (from jinja2->altair<6,>=4.0->streamlit) (2.1.1)\n",
      "Requirement already satisfied: attrs>=17.4.0 in c:\\programdata\\anaconda3\\lib\\site-packages (from jsonschema>=3.0->altair<6,>=4.0->streamlit) (22.1.0)\n",
      "Requirement already satisfied: pyrsistent!=0.17.0,!=0.17.1,!=0.17.2,>=0.14.0 in c:\\programdata\\anaconda3\\lib\\site-packages (from jsonschema>=3.0->altair<6,>=4.0->streamlit) (0.18.0)\n",
      "Requirement already satisfied: mdurl~=0.1 in c:\\programdata\\anaconda3\\lib\\site-packages (from markdown-it-py>=2.2.0->rich<14,>=10.14.0->streamlit) (0.1.0)\n",
      "Requirement already satisfied: six>=1.5 in c:\\programdata\\anaconda3\\lib\\site-packages (from python-dateutil>=2.8.2->pandas<3,>=1.3.0->streamlit) (1.16.0)\n"
     ]
    }
   ],
   "source": [
    "!pip install flask\n",
    "!pip install streamlit"
   ]
  },
  {
   "cell_type": "code",
   "execution_count": 175,
   "id": "cc74695f",
   "metadata": {},
   "outputs": [],
   "source": [
    "import flask\n",
    "import streamlit"
   ]
  },
  {
   "cell_type": "code",
   "execution_count": 176,
   "id": "a1a7278a",
   "metadata": {},
   "outputs": [
    {
     "name": "stdout",
     "output_type": "stream",
     "text": [
      "Defaulting to user installation because normal site-packages is not writeable\n",
      "Requirement already satisfied: streamlit in c:\\users\\j g tech\\appdata\\roaming\\python\\python311\\site-packages (1.36.0)\n",
      "Requirement already satisfied: altair<6,>=4.0 in c:\\users\\j g tech\\appdata\\roaming\\python\\python311\\site-packages (from streamlit) (5.3.0)\n",
      "Requirement already satisfied: blinker<2,>=1.0.0 in c:\\users\\j g tech\\appdata\\roaming\\python\\python311\\site-packages (from streamlit) (1.8.2)\n",
      "Requirement already satisfied: cachetools<6,>=4.0 in c:\\users\\j g tech\\appdata\\roaming\\python\\python311\\site-packages (from streamlit) (5.4.0)\n",
      "Requirement already satisfied: click<9,>=7.0 in c:\\programdata\\anaconda3\\lib\\site-packages (from streamlit) (8.0.4)\n",
      "Requirement already satisfied: numpy<3,>=1.20 in c:\\programdata\\anaconda3\\lib\\site-packages (from streamlit) (1.24.3)\n",
      "Requirement already satisfied: packaging<25,>=20 in c:\\programdata\\anaconda3\\lib\\site-packages (from streamlit) (23.1)\n",
      "Requirement already satisfied: pandas<3,>=1.3.0 in c:\\programdata\\anaconda3\\lib\\site-packages (from streamlit) (2.0.3)\n",
      "Requirement already satisfied: pillow<11,>=7.1.0 in c:\\programdata\\anaconda3\\lib\\site-packages (from streamlit) (10.0.1)\n",
      "Requirement already satisfied: protobuf<6,>=3.20 in c:\\users\\j g tech\\appdata\\roaming\\python\\python311\\site-packages (from streamlit) (5.27.2)\n",
      "Requirement already satisfied: pyarrow>=7.0 in c:\\programdata\\anaconda3\\lib\\site-packages (from streamlit) (11.0.0)\n",
      "Requirement already satisfied: requests<3,>=2.27 in c:\\programdata\\anaconda3\\lib\\site-packages (from streamlit) (2.31.0)\n",
      "Requirement already satisfied: rich<14,>=10.14.0 in c:\\users\\j g tech\\appdata\\roaming\\python\\python311\\site-packages (from streamlit) (13.7.1)\n",
      "Requirement already satisfied: tenacity<9,>=8.1.0 in c:\\programdata\\anaconda3\\lib\\site-packages (from streamlit) (8.2.2)\n",
      "Requirement already satisfied: toml<2,>=0.10.1 in c:\\programdata\\anaconda3\\lib\\site-packages (from streamlit) (0.10.2)\n",
      "Requirement already satisfied: typing-extensions<5,>=4.3.0 in c:\\programdata\\anaconda3\\lib\\site-packages (from streamlit) (4.7.1)\n",
      "Requirement already satisfied: gitpython!=3.1.19,<4,>=3.0.7 in c:\\users\\j g tech\\appdata\\roaming\\python\\python311\\site-packages (from streamlit) (3.1.43)\n",
      "Requirement already satisfied: pydeck<1,>=0.8.0b4 in c:\\users\\j g tech\\appdata\\roaming\\python\\python311\\site-packages (from streamlit) (0.9.1)\n",
      "Requirement already satisfied: tornado<7,>=6.0.3 in c:\\programdata\\anaconda3\\lib\\site-packages (from streamlit) (6.3.2)\n",
      "Requirement already satisfied: watchdog<5,>=2.1.5 in c:\\programdata\\anaconda3\\lib\\site-packages (from streamlit) (2.1.6)\n",
      "Requirement already satisfied: jinja2 in c:\\programdata\\anaconda3\\lib\\site-packages (from altair<6,>=4.0->streamlit) (3.1.2)\n",
      "Requirement already satisfied: jsonschema>=3.0 in c:\\programdata\\anaconda3\\lib\\site-packages (from altair<6,>=4.0->streamlit) (4.17.3)\n",
      "Requirement already satisfied: toolz in c:\\programdata\\anaconda3\\lib\\site-packages (from altair<6,>=4.0->streamlit) (0.12.0)\n",
      "Requirement already satisfied: colorama in c:\\programdata\\anaconda3\\lib\\site-packages (from click<9,>=7.0->streamlit) (0.4.6)\n",
      "Requirement already satisfied: gitdb<5,>=4.0.1 in c:\\users\\j g tech\\appdata\\roaming\\python\\python311\\site-packages (from gitpython!=3.1.19,<4,>=3.0.7->streamlit) (4.0.11)\n",
      "Requirement already satisfied: python-dateutil>=2.8.2 in c:\\programdata\\anaconda3\\lib\\site-packages (from pandas<3,>=1.3.0->streamlit) (2.8.2)\n",
      "Requirement already satisfied: pytz>=2020.1 in c:\\programdata\\anaconda3\\lib\\site-packages (from pandas<3,>=1.3.0->streamlit) (2023.3.post1)\n",
      "Requirement already satisfied: tzdata>=2022.1 in c:\\programdata\\anaconda3\\lib\\site-packages (from pandas<3,>=1.3.0->streamlit) (2023.3)\n",
      "Requirement already satisfied: charset-normalizer<4,>=2 in c:\\programdata\\anaconda3\\lib\\site-packages (from requests<3,>=2.27->streamlit) (2.0.4)\n",
      "Requirement already satisfied: idna<4,>=2.5 in c:\\programdata\\anaconda3\\lib\\site-packages (from requests<3,>=2.27->streamlit) (3.4)\n",
      "Requirement already satisfied: urllib3<3,>=1.21.1 in c:\\programdata\\anaconda3\\lib\\site-packages (from requests<3,>=2.27->streamlit) (1.26.16)\n",
      "Requirement already satisfied: certifi>=2017.4.17 in c:\\programdata\\anaconda3\\lib\\site-packages (from requests<3,>=2.27->streamlit) (2024.2.2)\n",
      "Requirement already satisfied: markdown-it-py>=2.2.0 in c:\\programdata\\anaconda3\\lib\\site-packages (from rich<14,>=10.14.0->streamlit) (2.2.0)\n",
      "Requirement already satisfied: pygments<3.0.0,>=2.13.0 in c:\\programdata\\anaconda3\\lib\\site-packages (from rich<14,>=10.14.0->streamlit) (2.15.1)\n",
      "Requirement already satisfied: smmap<6,>=3.0.1 in c:\\users\\j g tech\\appdata\\roaming\\python\\python311\\site-packages (from gitdb<5,>=4.0.1->gitpython!=3.1.19,<4,>=3.0.7->streamlit) (5.0.1)\n",
      "Requirement already satisfied: MarkupSafe>=2.0 in c:\\programdata\\anaconda3\\lib\\site-packages (from jinja2->altair<6,>=4.0->streamlit) (2.1.1)\n",
      "Requirement already satisfied: attrs>=17.4.0 in c:\\programdata\\anaconda3\\lib\\site-packages (from jsonschema>=3.0->altair<6,>=4.0->streamlit) (22.1.0)\n",
      "Requirement already satisfied: pyrsistent!=0.17.0,!=0.17.1,!=0.17.2,>=0.14.0 in c:\\programdata\\anaconda3\\lib\\site-packages (from jsonschema>=3.0->altair<6,>=4.0->streamlit) (0.18.0)\n",
      "Requirement already satisfied: mdurl~=0.1 in c:\\programdata\\anaconda3\\lib\\site-packages (from markdown-it-py>=2.2.0->rich<14,>=10.14.0->streamlit) (0.1.0)\n",
      "Requirement already satisfied: six>=1.5 in c:\\programdata\\anaconda3\\lib\\site-packages (from python-dateutil>=2.8.2->pandas<3,>=1.3.0->streamlit) (1.16.0)\n"
     ]
    }
   ],
   "source": [
    "!pip install streamlit"
   ]
  },
  {
   "cell_type": "code",
   "execution_count": null,
   "id": "844dc6c1",
   "metadata": {},
   "outputs": [],
   "source": []
  },
  {
   "cell_type": "code",
   "execution_count": null,
   "id": "56d3562d",
   "metadata": {},
   "outputs": [],
   "source": []
  },
  {
   "cell_type": "code",
   "execution_count": null,
   "id": "c27a1bf8",
   "metadata": {},
   "outputs": [],
   "source": []
  },
  {
   "cell_type": "code",
   "execution_count": null,
   "id": "35569980",
   "metadata": {},
   "outputs": [],
   "source": []
  },
  {
   "cell_type": "code",
   "execution_count": null,
   "id": "cc1bf7b3",
   "metadata": {},
   "outputs": [],
   "source": []
  },
  {
   "cell_type": "code",
   "execution_count": null,
   "id": "23678647",
   "metadata": {},
   "outputs": [],
   "source": []
  }
 ],
 "metadata": {
  "kernelspec": {
   "display_name": "Python 3 (ipykernel)",
   "language": "python",
   "name": "python3"
  },
  "language_info": {
   "codemirror_mode": {
    "name": "ipython",
    "version": 3
   },
   "file_extension": ".py",
   "mimetype": "text/x-python",
   "name": "python",
   "nbconvert_exporter": "python",
   "pygments_lexer": "ipython3",
   "version": "3.11.5"
  }
 },
 "nbformat": 4,
 "nbformat_minor": 5
}
