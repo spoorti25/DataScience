{
 "cells": [
  {
   "cell_type": "markdown",
   "id": "52c7aaa1",
   "metadata": {},
   "source": [
    "## CHI-SQUARE TEST"
   ]
  },
  {
   "cell_type": "code",
   "execution_count": null,
   "id": "36d53266",
   "metadata": {},
   "outputs": [],
   "source": [
    "A Chi-Square test is a statistical method used to assess the differences between categorical variables. \n",
    "It is particularly useful in evaluating whether there is a significant association between two or more categorical variables.\n",
    "There are two main types of Chi-Square tests: \n",
    "     *The Chi-Square Goodness of Fit test and the Chi-Square Test of Independence.\n",
    "\n",
    "Types of Chi-Square Tests:\n",
    "    1.Chi-Square Goodness of Fit Test\n",
    "    2.Chi-Square Test of Independence\n",
    "    "
   ]
  },
  {
   "cell_type": "code",
   "execution_count": 2,
   "id": "efe1aa15",
   "metadata": {},
   "outputs": [],
   "source": [
    "import numpy as np\n",
    "import pandas as pd\n",
    "from scipy.stats import chi2_contingency, chi2"
   ]
  },
  {
   "cell_type": "code",
   "execution_count": 3,
   "id": "43501328",
   "metadata": {},
   "outputs": [
    {
     "name": "stdout",
     "output_type": "stream",
     "text": [
      "Contingency Table:\n",
      "                  Smart Thermostat  Smart Light\n",
      "Satisfaction                                   \n",
      "Very Satisfied                  50           70\n",
      "Satisfied                       80          100\n",
      "Neutral                         60           90\n",
      "Unsatisfied                     30           50\n",
      "Very Unsatisfied                20           50\n"
     ]
    }
   ],
   "source": [
    "# 1. State the Hypotheses:\n",
    "# H0: There is no significant association between the type of device purchased and the customer's satisfaction level.\n",
    "# H1: There is a significant association between the type of device purchased and the customer's satisfaction level.\n",
    "\n",
    "# Data Provided\n",
    "data = {\n",
    "    \"Satisfaction\": [\"Very Satisfied\", \"Satisfied\", \"Neutral\", \"Unsatisfied\", \"Very Unsatisfied\"],\n",
    "    \"Smart Thermostat\": [50, 80, 60, 30, 20],\n",
    "    \"Smart Light\": [70, 100, 90, 50, 50]\n",
    "}\n",
    "\n",
    "# Creating the contingency table\n",
    "df = pd.DataFrame(data)\n",
    "df.set_index(\"Satisfaction\", inplace=True)\n",
    "print(\"Contingency Table:\")\n",
    "print(df)"
   ]
  },
  {
   "cell_type": "code",
   "execution_count": 4,
   "id": "cb243612",
   "metadata": {},
   "outputs": [
    {
     "name": "stdout",
     "output_type": "stream",
     "text": [
      "\n",
      "Chi-Square Test Results:\n",
      "Chi-Square Statistic: 5.638227513227513\n",
      "p-value: 0.22784371130697179\n",
      "Degrees of Freedom: 4\n",
      "Expected Frequencies:\n",
      "                  Smart Thermostat  Smart Light\n",
      "Satisfaction                                   \n",
      "Very Satisfied                48.0         72.0\n",
      "Satisfied                     72.0        108.0\n",
      "Neutral                       60.0         90.0\n",
      "Unsatisfied                   32.0         48.0\n",
      "Very Unsatisfied              28.0         42.0\n"
     ]
    }
   ],
   "source": [
    "# 2. Compute the Chi-Square Statistic:\n",
    "chi2_stat, p, dof, expected = chi2_contingency(df)\n",
    "\n",
    "print(\"\\nChi-Square Test Results:\")\n",
    "print(f\"Chi-Square Statistic: {chi2_stat}\")\n",
    "print(f\"p-value: {p}\")\n",
    "print(f\"Degrees of Freedom: {dof}\")\n",
    "print(\"Expected Frequencies:\")\n",
    "print(pd.DataFrame(expected, index=df.index, columns=df.columns))"
   ]
  },
  {
   "cell_type": "code",
   "execution_count": 5,
   "id": "a6b598e5",
   "metadata": {},
   "outputs": [
    {
     "name": "stdout",
     "output_type": "stream",
     "text": [
      "\n",
      "Critical Value (alpha = 0.05): 9.487729036781154\n"
     ]
    }
   ],
   "source": [
    "# 3. Determine the Critical Value:\n",
    "alpha = 0.05\n",
    "critical_value = chi2.ppf(1 - alpha, dof)\n",
    "print(f\"\\nCritical Value (alpha = {alpha}): {critical_value}\")"
   ]
  },
  {
   "cell_type": "code",
   "execution_count": 6,
   "id": "e2da77cd",
   "metadata": {},
   "outputs": [
    {
     "name": "stdout",
     "output_type": "stream",
     "text": [
      "\n",
      "Decision:\n",
      "Fail to reject the null hypothesis. There is no significant association between the type of device purchased and customer satisfaction.\n"
     ]
    }
   ],
   "source": [
    "# 4. Make a Decision:\n",
    "if chi2_stat > critical_value:\n",
    "    decision = \"Reject the null hypothesis. There is a significant association between the type of device purchased and customer satisfaction.\"\n",
    "else:\n",
    "    decision = \"Fail to reject the null hypothesis. There is no significant association between the type of device purchased and customer satisfaction.\"\n",
    "\n",
    "print(\"\\nDecision:\")\n",
    "print(decision)\n"
   ]
  },
  {
   "cell_type": "markdown",
   "id": "edccda44",
   "metadata": {},
   "source": [
    "## HYPOTHESIS TESTING"
   ]
  },
  {
   "cell_type": "code",
   "execution_count": null,
   "id": "a763e855",
   "metadata": {},
   "outputs": [],
   "source": [
    "Hypothesis testing is a statistical method used to make inferences or draw conclusions about a population based on sample data.\n",
    "It involves making an initial assumption (the null hypothesis), \n",
    "then determining whether the sample data provide enough evidence to reject that assumption in favor of an alternative hypothesis."
   ]
  },
  {
   "cell_type": "code",
   "execution_count": 7,
   "id": "2f3963b3",
   "metadata": {},
   "outputs": [],
   "source": [
    "import numpy as np\n",
    "from scipy.stats import norm"
   ]
  },
  {
   "cell_type": "code",
   "execution_count": 8,
   "id": "ed638e1e",
   "metadata": {},
   "outputs": [
    {
     "name": "stdout",
     "output_type": "stream",
     "text": [
      "Test Statistic: -38.0000\n",
      "Critical Value (alpha = 0.05): 1.6449\n",
      "\n",
      "Decision:\n",
      "Fail to reject the null hypothesis. There is no significant evidence to support the claim that the weekly operating costs are higher than the model suggests.\n",
      "\n",
      "Summary Report:\n",
      "\n",
      "Hypothesis Testing on Weekly Operating Costs\n",
      "\n",
      "Hypotheses:\n",
      "- Null Hypothesis (H0): The actual mean weekly operating cost is equal to the theoretical mean weekly cost (μ = 4000).\n",
      "- Alternative Hypothesis (H1): The actual mean weekly operating cost is greater than the theoretical mean weekly cost (μ > 4000).\n",
      "\n",
      "Provided Data:\n",
      "- Sample Mean Weekly Cost (ˉx): 3050\n",
      "- Theoretical Mean Weekly Cost (μ): 4000\n",
      "- Standard Deviation (σ): 125\n",
      "- Sample Size (n): 25\n",
      "\n",
      "Calculations:\n",
      "- Test Statistic (t): -38.0000\n",
      "- Critical Value (alpha = 0.05): 1.6449\n",
      "\n",
      "Conclusion:\n",
      "Fail to reject the null hypothesis. There is no significant evidence to support the claim that the weekly operating costs are higher than the model suggests.\n",
      "\n"
     ]
    }
   ],
   "source": [
    "# Data Provided\n",
    "sample_mean = 3050\n",
    "X_mean = 600  # Mean number of units produced\n",
    "X_std = 25    # Standard deviation of units produced\n",
    "n = 25        # Sample size\n",
    "\n",
    "# Calculate the theoretical mean weekly cost\n",
    "mu = 1000 + 5 * X_mean  # Theoretical mean weekly cost\n",
    "sigma = 5 * X_std       # Standard deviation of weekly cost\n",
    "\n",
    "# 2. Calculate the Test Statistic:\n",
    "# Test Statistic (t) = (ˉx - μ) / (σ / sqrt(n))\n",
    "t_statistic = (sample_mean - mu) / (sigma / np.sqrt(n))\n",
    "print(f\"Test Statistic: {t_statistic:.4f}\")\n",
    "\n",
    "# 3. Determine the Critical Value:\n",
    "# Using a one-tailed test with alpha = 0.05\n",
    "alpha = 0.05\n",
    "critical_value = norm.ppf(1 - alpha)\n",
    "print(f\"Critical Value (alpha = {alpha}): {critical_value:.4f}\")\n",
    "\n",
    "# 4. Make a Decision:\n",
    "if t_statistic > critical_value:\n",
    "    decision = \"Reject the null hypothesis. There is significant evidence to support the claim that the weekly operating costs are higher than the model suggests.\"\n",
    "else:\n",
    "    decision = \"Fail to reject the null hypothesis. There is no significant evidence to support the claim that the weekly operating costs are higher than the model suggests.\"\n",
    "\n",
    "print(\"\\nDecision:\")\n",
    "print(decision)\n",
    "\n",
    "# The detailed report as a summary\n",
    "def hypothesis_test_summary():\n",
    "    summary = f\"\"\"\n",
    "Hypothesis Testing on Weekly Operating Costs\n",
    "\n",
    "Hypotheses:\n",
    "- Null Hypothesis (H0): The actual mean weekly operating cost is equal to the theoretical mean weekly cost (μ = {mu}).\n",
    "- Alternative Hypothesis (H1): The actual mean weekly operating cost is greater than the theoretical mean weekly cost (μ > {mu}).\n",
    "\n",
    "Provided Data:\n",
    "- Sample Mean Weekly Cost (ˉx): {sample_mean}\n",
    "- Theoretical Mean Weekly Cost (μ): {mu}\n",
    "- Standard Deviation (σ): {sigma}\n",
    "- Sample Size (n): {n}\n",
    "\n",
    "Calculations:\n",
    "- Test Statistic (t): {t_statistic:.4f}\n",
    "- Critical Value (alpha = {alpha}): {critical_value:.4f}\n",
    "\n",
    "Conclusion:\n",
    "{decision}\n",
    "\"\"\"\n",
    "    return summary\n",
    "\n",
    "print(\"\\nSummary Report:\")\n",
    "print(hypothesis_test_summary())\n"
   ]
  },
  {
   "cell_type": "code",
   "execution_count": null,
   "id": "75e0dc52",
   "metadata": {},
   "outputs": [],
   "source": []
  }
 ],
 "metadata": {
  "kernelspec": {
   "display_name": "Python 3 (ipykernel)",
   "language": "python",
   "name": "python3"
  },
  "language_info": {
   "codemirror_mode": {
    "name": "ipython",
    "version": 3
   },
   "file_extension": ".py",
   "mimetype": "text/x-python",
   "name": "python",
   "nbconvert_exporter": "python",
   "pygments_lexer": "ipython3",
   "version": "3.11.5"
  }
 },
 "nbformat": 4,
 "nbformat_minor": 5
}
