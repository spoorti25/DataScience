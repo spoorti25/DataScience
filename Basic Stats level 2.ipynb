{
 "cells": [
  {
   "cell_type": "code",
   "execution_count": 3,
   "id": "e25242f2",
   "metadata": {},
   "outputs": [],
   "source": [
    "import numpy as np\n",
    "from scipy import stats"
   ]
  },
  {
   "cell_type": "code",
   "execution_count": 4,
   "id": "b33a4d2d",
   "metadata": {},
   "outputs": [
    {
     "name": "stdout",
     "output_type": "stream",
     "text": [
      "[1.13, 1.55, 1.43, 0.92, 1.25, 1.36, 1.32, 0.85, 1.07, 1.48, 1.2, 1.33, 1.18, 1.22, 1.29]\n"
     ]
    }
   ],
   "source": [
    "# Data\n",
    "data = [1.13, 1.55, 1.43, 0.92, 1.25, 1.36, 1.32, 0.85, 1.07, 1.48, 1.20, 1.33, 1.18, 1.22, 1.29]\n",
    "print(data)"
   ]
  },
  {
   "cell_type": "markdown",
   "id": "6f018dca",
   "metadata": {},
   "source": [
    "## Confidence Interval Using Sample Standard Deviation"
   ]
  },
  {
   "cell_type": "code",
   "execution_count": 5,
   "id": "3b539fb2",
   "metadata": {},
   "outputs": [
    {
     "name": "stdout",
     "output_type": "stream",
     "text": [
      "1.2386666666666666\n"
     ]
    }
   ],
   "source": [
    "# Confidence Interval Using Sample Standard Deviation\n",
    "\n",
    "# Sample mean\n",
    "sample_mean = np.mean(data)\n",
    "print(sample_mean)\n"
   ]
  },
  {
   "cell_type": "code",
   "execution_count": 6,
   "id": "058f62d3",
   "metadata": {},
   "outputs": [
    {
     "name": "stdout",
     "output_type": "stream",
     "text": [
      "0.19316412956959936\n"
     ]
    }
   ],
   "source": [
    "# Sample standard deviation\n",
    "sample_std = np.std(data, ddof=1)\n",
    "print(sample_std)"
   ]
  },
  {
   "cell_type": "code",
   "execution_count": 7,
   "id": "50e3ebb7",
   "metadata": {},
   "outputs": [
    {
     "name": "stdout",
     "output_type": "stream",
     "text": [
      "15\n"
     ]
    }
   ],
   "source": [
    "# Sample size\n",
    "n = len(data)\n",
    "print(n)"
   ]
  },
  {
   "cell_type": "code",
   "execution_count": 8,
   "id": "24f56f61",
   "metadata": {},
   "outputs": [
    {
     "name": "stdout",
     "output_type": "stream",
     "text": [
      "14\n"
     ]
    }
   ],
   "source": [
    "# Degrees of freedom\n",
    "df = n - 1\n",
    "print(df)"
   ]
  },
  {
   "cell_type": "code",
   "execution_count": 9,
   "id": "53994aaf",
   "metadata": {},
   "outputs": [
    {
     "name": "stdout",
     "output_type": "stream",
     "text": [
      "2.97684273411266\n"
     ]
    }
   ],
   "source": [
    "# t-score for 99% confidence interval\n",
    "t_score = stats.t.ppf(1 - 0.005, df)\n",
    "print(t_score)"
   ]
  },
  {
   "cell_type": "code",
   "execution_count": 10,
   "id": "eb5642a6",
   "metadata": {},
   "outputs": [
    {
     "name": "stdout",
     "output_type": "stream",
     "text": [
      "0.1484693282152996\n"
     ]
    }
   ],
   "source": [
    "# Margin of error\n",
    "margin_of_error_sample = t_score * (sample_std / np.sqrt(n))\n",
    "print(margin_of_error_sample)"
   ]
  },
  {
   "cell_type": "markdown",
   "id": "d4e0f9ee",
   "metadata": {},
   "source": [
    "## Build 99% Confidence Interval using Known Population Standard Deviation"
   ]
  },
  {
   "cell_type": "code",
   "execution_count": 11,
   "id": "4258816e",
   "metadata": {},
   "outputs": [
    {
     "name": "stdout",
     "output_type": "stream",
     "text": [
      "99% Confidence Interval using sample standard deviation: (1.090197338451367, 1.3871359948819662)\n"
     ]
    }
   ],
   "source": [
    "# Confidence interval\n",
    "ci_sample = (sample_mean - margin_of_error_sample, sample_mean + margin_of_error_sample)\n",
    "print(f\"99% Confidence Interval using sample standard deviation: {ci_sample}\")"
   ]
  },
  {
   "cell_type": "code",
   "execution_count": 12,
   "id": "c27e471f",
   "metadata": {},
   "outputs": [
    {
     "name": "stdout",
     "output_type": "stream",
     "text": [
      "0.2\n"
     ]
    }
   ],
   "source": [
    "# b. Confidence Interval Using Known Population Standard Deviation\n",
    "\n",
    "# Known population standard deviation\n",
    "population_std = 0.2\n",
    "print(population_std)"
   ]
  },
  {
   "cell_type": "code",
   "execution_count": 13,
   "id": "5a133bf3",
   "metadata": {},
   "outputs": [
    {
     "name": "stdout",
     "output_type": "stream",
     "text": [
      "2.5758293035489004\n"
     ]
    }
   ],
   "source": [
    "# z-score for 99% confidence interval\n",
    "z_score = stats.norm.ppf(1 - 0.005)\n",
    "print(z_score)"
   ]
  },
  {
   "cell_type": "code",
   "execution_count": 14,
   "id": "722d36dd",
   "metadata": {},
   "outputs": [
    {
     "name": "stdout",
     "output_type": "stream",
     "text": [
      "0.13301525327090588\n"
     ]
    }
   ],
   "source": [
    "# Margin of error\n",
    "margin_of_error_population = z_score * (population_std / np.sqrt(n))\n",
    "print(margin_of_error_population)\n"
   ]
  },
  {
   "cell_type": "code",
   "execution_count": 15,
   "id": "7c1310dc",
   "metadata": {},
   "outputs": [
    {
     "name": "stdout",
     "output_type": "stream",
     "text": [
      "99% Confidence Interval using known population standard deviation: (1.1056514133957607, 1.3716819199375725)\n"
     ]
    }
   ],
   "source": [
    "# Confidence interval\n",
    "ci_population = (sample_mean - margin_of_error_population, sample_mean + margin_of_error_population)\n",
    "\n",
    "print(f\"99% Confidence Interval using known population standard deviation: {ci_population}\")"
   ]
  }
 ],
 "metadata": {
  "kernelspec": {
   "display_name": "Python 3 (ipykernel)",
   "language": "python",
   "name": "python3"
  },
  "language_info": {
   "codemirror_mode": {
    "name": "ipython",
    "version": 3
   },
   "file_extension": ".py",
   "mimetype": "text/x-python",
   "name": "python",
   "nbconvert_exporter": "python",
   "pygments_lexer": "ipython3",
   "version": "3.11.5"
  }
 },
 "nbformat": 4,
 "nbformat_minor": 5
}
