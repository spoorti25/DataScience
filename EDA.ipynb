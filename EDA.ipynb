{
 "cells": [
  {
   "cell_type": "markdown",
   "id": "3bc3961a",
   "metadata": {},
   "source": [
    "# Exploratory Data analysis of Employees dataset\n",
    "\n"
   ]
  },
  {
   "cell_type": "code",
   "execution_count": 3,
   "id": "cd5b074d",
   "metadata": {
    "collapsed": true
   },
   "outputs": [
    {
     "data": {
      "text/html": [
       "<div>\n",
       "<style scoped>\n",
       "    .dataframe tbody tr th:only-of-type {\n",
       "        vertical-align: middle;\n",
       "    }\n",
       "\n",
       "    .dataframe tbody tr th {\n",
       "        vertical-align: top;\n",
       "    }\n",
       "\n",
       "    .dataframe thead th {\n",
       "        text-align: right;\n",
       "    }\n",
       "</style>\n",
       "<table border=\"1\" class=\"dataframe\">\n",
       "  <thead>\n",
       "    <tr style=\"text-align: right;\">\n",
       "      <th></th>\n",
       "      <th>First Name</th>\n",
       "      <th>Gender</th>\n",
       "      <th>Start Date</th>\n",
       "      <th>Last Login Time</th>\n",
       "      <th>Salary</th>\n",
       "      <th>Bonus %</th>\n",
       "      <th>Senior Management</th>\n",
       "      <th>Team</th>\n",
       "    </tr>\n",
       "  </thead>\n",
       "  <tbody>\n",
       "    <tr>\n",
       "      <th>0</th>\n",
       "      <td>Douglas</td>\n",
       "      <td>Male</td>\n",
       "      <td>08-06-1993</td>\n",
       "      <td>12:42 PM</td>\n",
       "      <td>97308</td>\n",
       "      <td>6.945</td>\n",
       "      <td>True</td>\n",
       "      <td>Marketing</td>\n",
       "    </tr>\n",
       "    <tr>\n",
       "      <th>1</th>\n",
       "      <td>Thomas</td>\n",
       "      <td>Male</td>\n",
       "      <td>3/31/1996</td>\n",
       "      <td>6:53 AM</td>\n",
       "      <td>61933</td>\n",
       "      <td>4.170</td>\n",
       "      <td>True</td>\n",
       "      <td>NaN</td>\n",
       "    </tr>\n",
       "    <tr>\n",
       "      <th>2</th>\n",
       "      <td>Maria</td>\n",
       "      <td>Female</td>\n",
       "      <td>4/23/1993</td>\n",
       "      <td>11:17 AM</td>\n",
       "      <td>130590</td>\n",
       "      <td>11.858</td>\n",
       "      <td>False</td>\n",
       "      <td>Finance</td>\n",
       "    </tr>\n",
       "  </tbody>\n",
       "</table>\n",
       "</div>"
      ],
      "text/plain": [
       "  First Name  Gender  Start Date Last Login Time  Salary  Bonus %  \\\n",
       "0    Douglas    Male  08-06-1993        12:42 PM   97308    6.945   \n",
       "1     Thomas    Male   3/31/1996         6:53 AM   61933    4.170   \n",
       "2      Maria  Female   4/23/1993        11:17 AM  130590   11.858   \n",
       "\n",
       "  Senior Management       Team  \n",
       "0              True  Marketing  \n",
       "1              True        NaN  \n",
       "2             False    Finance  "
      ]
     },
     "execution_count": 3,
     "metadata": {},
     "output_type": "execute_result"
    }
   ],
   "source": [
    "#Loading the libraries\n",
    "import pandas as pd\n",
    "import numpy as np\n",
    "# Read dataset using pandas\n",
    "df = pd.read_csv(r\"C:\\Users\\excel\\Downloads\\employees.csv\")\n",
    "df.head(3)"
   ]
  },
  {
   "cell_type": "code",
   "execution_count": 2,
   "id": "bd910c53",
   "metadata": {
    "collapsed": true
   },
   "outputs": [
    {
     "data": {
      "text/plain": [
       "First Name            object\n",
       "Gender                object\n",
       "Start Date            object\n",
       "Last Login Time       object\n",
       "Salary                 int64\n",
       "Bonus %              float64\n",
       "Senior Management     object\n",
       "Team                  object\n",
       "dtype: object"
      ]
     },
     "execution_count": 2,
     "metadata": {},
     "output_type": "execute_result"
    }
   ],
   "source": [
    "df.dtypes"
   ]
  },
  {
   "cell_type": "code",
   "execution_count": 4,
   "id": "9e13f959",
   "metadata": {
    "collapsed": true
   },
   "outputs": [
    {
     "data": {
      "text/html": [
       "<div>\n",
       "<style scoped>\n",
       "    .dataframe tbody tr th:only-of-type {\n",
       "        vertical-align: middle;\n",
       "    }\n",
       "\n",
       "    .dataframe tbody tr th {\n",
       "        vertical-align: top;\n",
       "    }\n",
       "\n",
       "    .dataframe thead th {\n",
       "        text-align: right;\n",
       "    }\n",
       "</style>\n",
       "<table border=\"1\" class=\"dataframe\">\n",
       "  <thead>\n",
       "    <tr style=\"text-align: right;\">\n",
       "      <th></th>\n",
       "      <th>First Name</th>\n",
       "      <th>Gender</th>\n",
       "      <th>Start Date</th>\n",
       "      <th>Last Login Time</th>\n",
       "      <th>Salary</th>\n",
       "      <th>Bonus %</th>\n",
       "      <th>Senior Management</th>\n",
       "      <th>Team</th>\n",
       "    </tr>\n",
       "  </thead>\n",
       "  <tbody>\n",
       "    <tr>\n",
       "      <th>995</th>\n",
       "      <td>Henry</td>\n",
       "      <td>NaN</td>\n",
       "      <td>11/23/2014</td>\n",
       "      <td>6:09 AM</td>\n",
       "      <td>132483</td>\n",
       "      <td>16.655</td>\n",
       "      <td>False</td>\n",
       "      <td>Distribution</td>\n",
       "    </tr>\n",
       "    <tr>\n",
       "      <th>996</th>\n",
       "      <td>Phillip</td>\n",
       "      <td>Male</td>\n",
       "      <td>1/31/1984</td>\n",
       "      <td>6:30 AM</td>\n",
       "      <td>42392</td>\n",
       "      <td>19.675</td>\n",
       "      <td>False</td>\n",
       "      <td>Finance</td>\n",
       "    </tr>\n",
       "    <tr>\n",
       "      <th>997</th>\n",
       "      <td>Russell</td>\n",
       "      <td>Male</td>\n",
       "      <td>5/20/2013</td>\n",
       "      <td>12:39 PM</td>\n",
       "      <td>96914</td>\n",
       "      <td>1.421</td>\n",
       "      <td>False</td>\n",
       "      <td>Product</td>\n",
       "    </tr>\n",
       "    <tr>\n",
       "      <th>998</th>\n",
       "      <td>Larry</td>\n",
       "      <td>Male</td>\n",
       "      <td>4/20/2013</td>\n",
       "      <td>4:45 PM</td>\n",
       "      <td>60500</td>\n",
       "      <td>11.985</td>\n",
       "      <td>False</td>\n",
       "      <td>Business Development</td>\n",
       "    </tr>\n",
       "    <tr>\n",
       "      <th>999</th>\n",
       "      <td>Albert</td>\n",
       "      <td>Male</td>\n",
       "      <td>5/15/2012</td>\n",
       "      <td>6:24 PM</td>\n",
       "      <td>129949</td>\n",
       "      <td>10.169</td>\n",
       "      <td>True</td>\n",
       "      <td>Sales</td>\n",
       "    </tr>\n",
       "  </tbody>\n",
       "</table>\n",
       "</div>"
      ],
      "text/plain": [
       "    First Name Gender  Start Date Last Login Time  Salary  Bonus %  \\\n",
       "995      Henry    NaN  11/23/2014         6:09 AM  132483   16.655   \n",
       "996    Phillip   Male   1/31/1984         6:30 AM   42392   19.675   \n",
       "997    Russell   Male   5/20/2013        12:39 PM   96914    1.421   \n",
       "998      Larry   Male   4/20/2013         4:45 PM   60500   11.985   \n",
       "999     Albert   Male   5/15/2012         6:24 PM  129949   10.169   \n",
       "\n",
       "    Senior Management                  Team  \n",
       "995             False          Distribution  \n",
       "996             False               Finance  \n",
       "997             False               Product  \n",
       "998             False  Business Development  \n",
       "999              True                 Sales  "
      ]
     },
     "execution_count": 4,
     "metadata": {},
     "output_type": "execute_result"
    }
   ],
   "source": [
    "# last five rows of data\n",
    "df.tail()"
   ]
  },
  {
   "cell_type": "code",
   "execution_count": 5,
   "id": "1686e56d",
   "metadata": {
    "collapsed": true
   },
   "outputs": [
    {
     "data": {
      "text/plain": [
       "Index(['First Name', 'Gender', 'Start Date', 'Last Login Time', 'Salary',\n",
       "       'Bonus %', 'Senior Management', 'Team'],\n",
       "      dtype='object')"
      ]
     },
     "execution_count": 5,
     "metadata": {},
     "output_type": "execute_result"
    }
   ],
   "source": [
    "# columns information \n",
    "df.columns"
   ]
  },
  {
   "cell_type": "code",
   "execution_count": 6,
   "id": "8e870bd7",
   "metadata": {
    "collapsed": true
   },
   "outputs": [
    {
     "data": {
      "text/plain": [
       "(1000, 8)"
      ]
     },
     "execution_count": 6,
     "metadata": {},
     "output_type": "execute_result"
    }
   ],
   "source": [
    "# number of rows and columns\n",
    "df.shape"
   ]
  },
  {
   "cell_type": "code",
   "execution_count": 7,
   "id": "80d9cfe8",
   "metadata": {},
   "outputs": [
    {
     "name": "stdout",
     "output_type": "stream",
     "text": [
      "<class 'pandas.core.frame.DataFrame'>\n",
      "RangeIndex: 1000 entries, 0 to 999\n",
      "Data columns (total 8 columns):\n",
      " #   Column             Non-Null Count  Dtype  \n",
      "---  ------             --------------  -----  \n",
      " 0   First Name         933 non-null    object \n",
      " 1   Gender             855 non-null    object \n",
      " 2   Start Date         1000 non-null   object \n",
      " 3   Last Login Time    1000 non-null   object \n",
      " 4   Salary             1000 non-null   int64  \n",
      " 5   Bonus %            1000 non-null   float64\n",
      " 6   Senior Management  933 non-null    object \n",
      " 7   Team               957 non-null    object \n",
      "dtypes: float64(1), int64(1), object(6)\n",
      "memory usage: 62.6+ KB\n"
     ]
    }
   ],
   "source": [
    "# information about the dataset\n",
    "df.info()"
   ]
  },
  {
   "cell_type": "code",
   "execution_count": 8,
   "id": "b20fc981",
   "metadata": {
    "collapsed": true
   },
   "outputs": [
    {
     "data": {
      "text/plain": [
       "0      08-06-1993\n",
       "1       3/31/1996\n",
       "2       4/23/1993\n",
       "3      03-04-2005\n",
       "4       1/24/1998\n",
       "          ...    \n",
       "995    11/23/2014\n",
       "996     1/31/1984\n",
       "997     5/20/2013\n",
       "998     4/20/2013\n",
       "999     5/15/2012\n",
       "Name: Start Date, Length: 1000, dtype: object"
      ]
     },
     "execution_count": 8,
     "metadata": {},
     "output_type": "execute_result"
    }
   ],
   "source": [
    "df['Start Date']"
   ]
  },
  {
   "cell_type": "code",
   "execution_count": 9,
   "id": "98a0426a",
   "metadata": {},
   "outputs": [],
   "source": [
    "# convert \"Start Date\" column to datetime data type\n",
    "df['Start Date'] = pd.to_datetime(df['Start Date'], format='mixed') # '%y/%m/%d"
   ]
  },
  {
   "cell_type": "code",
   "execution_count": 10,
   "id": "56758186",
   "metadata": {
    "collapsed": true
   },
   "outputs": [
    {
     "data": {
      "text/plain": [
       "0     1993-08-06\n",
       "1     1996-03-31\n",
       "2     1993-04-23\n",
       "3     2005-03-04\n",
       "4     1998-01-24\n",
       "         ...    \n",
       "995   2014-11-23\n",
       "996   1984-01-31\n",
       "997   2013-05-20\n",
       "998   2013-04-20\n",
       "999   2012-05-15\n",
       "Name: Start Date, Length: 1000, dtype: datetime64[ns]"
      ]
     },
     "execution_count": 10,
     "metadata": {},
     "output_type": "execute_result"
    }
   ],
   "source": [
    "df['Start Date']"
   ]
  },
  {
   "cell_type": "code",
   "execution_count": 11,
   "id": "c4f06e43",
   "metadata": {},
   "outputs": [],
   "source": [
    "df['First Name'] = df['First Name'].astype('string') "
   ]
  },
  {
   "cell_type": "code",
   "execution_count": 12,
   "id": "9bad5429",
   "metadata": {
    "collapsed": true
   },
   "outputs": [
    {
     "data": {
      "text/plain": [
       "0    Douglas\n",
       "1     Thomas\n",
       "2      Maria\n",
       "3      Jerry\n",
       "4      Larry\n",
       "Name: First Name, dtype: string"
      ]
     },
     "execution_count": 12,
     "metadata": {},
     "output_type": "execute_result"
    }
   ],
   "source": [
    "df['First Name'].head()"
   ]
  },
  {
   "cell_type": "code",
   "execution_count": null,
   "id": "1154fd99",
   "metadata": {},
   "outputs": [],
   "source": [
    "# docs of astype function.\n",
    "help(pd.Series.astype)"
   ]
  },
  {
   "cell_type": "code",
   "execution_count": 13,
   "id": "99232a5f",
   "metadata": {},
   "outputs": [],
   "source": [
    "df['Gender'] = df['Gender'].astype('string') \n",
    "df['Senior Management'] = df['Senior Management'].astype('bool') \n",
    "df['Team'] = df['Team'].astype('string') "
   ]
  },
  {
   "cell_type": "code",
   "execution_count": 14,
   "id": "abff5861",
   "metadata": {
    "collapsed": true
   },
   "outputs": [
    {
     "data": {
      "text/plain": [
       "First Name           string[python]\n",
       "Gender               string[python]\n",
       "Start Date           datetime64[ns]\n",
       "Last Login Time              object\n",
       "Salary                        int64\n",
       "Bonus %                     float64\n",
       "Senior Management              bool\n",
       "Team                 string[python]\n",
       "dtype: object"
      ]
     },
     "execution_count": 14,
     "metadata": {},
     "output_type": "execute_result"
    }
   ],
   "source": [
    "# data type for multiple column\n",
    "df.dtypes"
   ]
  },
  {
   "cell_type": "code",
   "execution_count": 15,
   "id": "72a34705",
   "metadata": {},
   "outputs": [],
   "source": [
    "# renameing the columns\n",
    "columns = {'First Name':'First_Name', \n",
    "           'Start Date':'Start_date', \n",
    "           'Last Login Time':'Last_Login_Time', \n",
    "            'Bonus %':'Bonus_perct', \n",
    "           'Senior Management':'Senior_Management'}\n",
    "df.rename(columns = columns, inplace=True)"
   ]
  },
  {
   "cell_type": "code",
   "execution_count": 17,
   "id": "c73d728d",
   "metadata": {},
   "outputs": [
    {
     "data": {
      "text/plain": [
       "(Index(['First_Name', 'Gender', 'Start_date', 'Last_Login_Time', 'Salary',\n",
       "        'Bonus_perct', 'Senior_Management', 'Team'],\n",
       "       dtype='object'),\n",
       " (1000, 8))"
      ]
     },
     "execution_count": 17,
     "metadata": {},
     "output_type": "execute_result"
    }
   ],
   "source": [
    "df.columns, df.shape"
   ]
  },
  {
   "cell_type": "code",
   "execution_count": null,
   "id": "7b0a6310",
   "metadata": {},
   "outputs": [],
   "source": [
    "df.head(3)"
   ]
  },
  {
   "cell_type": "code",
   "execution_count": 18,
   "id": "44d3ef76",
   "metadata": {
    "collapsed": true
   },
   "outputs": [
    {
     "data": {
      "text/plain": [
       "First_Name           200\n",
       "Gender                 2\n",
       "Start_date           972\n",
       "Last_Login_Time      720\n",
       "Salary               995\n",
       "Bonus_perct          971\n",
       "Senior_Management      2\n",
       "Team                  10\n",
       "dtype: int64"
      ]
     },
     "execution_count": 18,
     "metadata": {},
     "output_type": "execute_result"
    }
   ],
   "source": [
    "# checking for uniques values in every column\n",
    "df.nunique()"
   ]
  },
  {
   "cell_type": "code",
   "execution_count": 19,
   "id": "249a2155",
   "metadata": {
    "collapsed": true
   },
   "outputs": [
    {
     "data": {
      "text/plain": [
       "Gender\n",
       "Female    431\n",
       "Male      424\n",
       "Name: count, dtype: Int64"
      ]
     },
     "execution_count": 19,
     "metadata": {},
     "output_type": "execute_result"
    }
   ],
   "source": [
    "# checking for unique value count in a column.\n",
    "df['Gender'].value_counts()"
   ]
  },
  {
   "cell_type": "code",
   "execution_count": 20,
   "id": "550ec8f0",
   "metadata": {},
   "outputs": [
    {
     "data": {
      "text/plain": [
       "Senior_Management\n",
       "True     535\n",
       "False    465\n",
       "Name: count, dtype: int64"
      ]
     },
     "execution_count": 20,
     "metadata": {},
     "output_type": "execute_result"
    }
   ],
   "source": [
    "df['Senior_Management'].value_counts()"
   ]
  },
  {
   "cell_type": "code",
   "execution_count": 21,
   "id": "e9073055",
   "metadata": {
    "collapsed": true
   },
   "outputs": [
    {
     "data": {
      "text/plain": [
       "Team\n",
       "Client Services         106\n",
       "Finance                 102\n",
       "Business Development    101\n",
       "Marketing                98\n",
       "Product                  95\n",
       "Sales                    94\n",
       "Engineering              92\n",
       "Human Resources          91\n",
       "Distribution             90\n",
       "Legal                    88\n",
       "Name: count, dtype: Int64"
      ]
     },
     "execution_count": 21,
     "metadata": {},
     "output_type": "execute_result"
    }
   ],
   "source": [
    "df['Team'].value_counts()"
   ]
  },
  {
   "cell_type": "code",
   "execution_count": null,
   "id": "3ee42624",
   "metadata": {},
   "outputs": [],
   "source": []
  },
  {
   "cell_type": "markdown",
   "id": "a36c1878",
   "metadata": {},
   "source": [
    "# Handling Missing Values:\n",
    "    \n",
    "isnull() # checking for missing values\n",
    "notnull()# checking for  values\n",
    "dropna() # deleting a missing values\n",
    "fillna() # filling a missing value by other value\n",
    "bfill() # backward filling\n",
    "ffill() # forward filling value\n",
    "replace() #  replacing inplace of missing data.\n",
    "interpolate() # predicting the value for missing value."
   ]
  },
  {
   "cell_type": "code",
   "execution_count": 23,
   "id": "8249765c",
   "metadata": {
    "collapsed": true
   },
   "outputs": [
    {
     "data": {
      "text/plain": [
       "(First_Name            67\n",
       " Gender               145\n",
       " Start_date             0\n",
       " Last_Login_Time        0\n",
       " Salary                 0\n",
       " Bonus_perct            0\n",
       " Senior_Management      0\n",
       " Team                  43\n",
       " dtype: int64,\n",
       " First_Name            67\n",
       " Gender               145\n",
       " Start_date             0\n",
       " Last_Login_Time        0\n",
       " Salary                 0\n",
       " Bonus_perct            0\n",
       " Senior_Management      0\n",
       " Team                  43\n",
       " dtype: int64)"
      ]
     },
     "execution_count": 23,
     "metadata": {},
     "output_type": "execute_result"
    }
   ],
   "source": [
    "df.isnull().sum(), df.isna().sum()"
   ]
  },
  {
   "cell_type": "code",
   "execution_count": 24,
   "id": "490f47ab",
   "metadata": {},
   "outputs": [],
   "source": [
    "df[\"Gender\"].fillna(\"No Gender\", inplace = True)"
   ]
  },
  {
   "cell_type": "code",
   "execution_count": 25,
   "id": "f4f8fbd6",
   "metadata": {
    "collapsed": true
   },
   "outputs": [
    {
     "data": {
      "text/plain": [
       "0"
      ]
     },
     "execution_count": 25,
     "metadata": {},
     "output_type": "execute_result"
    }
   ],
   "source": [
    "df[\"Gender\"].isnull().sum()"
   ]
  },
  {
   "cell_type": "code",
   "execution_count": 27,
   "id": "070be85e",
   "metadata": {},
   "outputs": [
    {
     "data": {
      "text/plain": [
       "True"
      ]
     },
     "execution_count": 27,
     "metadata": {},
     "output_type": "execute_result"
    }
   ],
   "source": [
    "df['Senior_Management'].mode()[0]"
   ]
  },
  {
   "cell_type": "code",
   "execution_count": 28,
   "id": "f300033e",
   "metadata": {},
   "outputs": [],
   "source": [
    "mode = df['Senior_Management'].mode()[0]\n",
    "df['Senior_Management'] = df['Senior_Management'].replace(np.nan, mode)"
   ]
  },
  {
   "cell_type": "code",
   "execution_count": 29,
   "id": "2fa32937",
   "metadata": {
    "collapsed": true
   },
   "outputs": [
    {
     "data": {
      "text/plain": [
       "First_Name           67\n",
       "Gender                0\n",
       "Start_date            0\n",
       "Last_Login_Time       0\n",
       "Salary                0\n",
       "Bonus_perct           0\n",
       "Senior_Management     0\n",
       "Team                 43\n",
       "dtype: int64"
      ]
     },
     "execution_count": 29,
     "metadata": {},
     "output_type": "execute_result"
    }
   ],
   "source": [
    "df.isnull().sum()"
   ]
  },
  {
   "cell_type": "code",
   "execution_count": 30,
   "id": "f904b862",
   "metadata": {},
   "outputs": [],
   "source": [
    "# axis = 0 --> rowise, Axis =1 --> columns wise\n",
    "df = df.dropna(axis = 0, how ='any') "
   ]
  },
  {
   "cell_type": "code",
   "execution_count": 31,
   "id": "60a129ea",
   "metadata": {
    "collapsed": true
   },
   "outputs": [
    {
     "data": {
      "text/plain": [
       "First_Name           0\n",
       "Gender               0\n",
       "Start_date           0\n",
       "Last_Login_Time      0\n",
       "Salary               0\n",
       "Bonus_perct          0\n",
       "Senior_Management    0\n",
       "Team                 0\n",
       "dtype: int64"
      ]
     },
     "execution_count": 31,
     "metadata": {},
     "output_type": "execute_result"
    }
   ],
   "source": [
    "df.isnull().sum()"
   ]
  },
  {
   "cell_type": "code",
   "execution_count": 32,
   "id": "fd5399f3",
   "metadata": {
    "collapsed": true
   },
   "outputs": [
    {
     "name": "stdout",
     "output_type": "stream",
     "text": [
      "<class 'pandas.core.frame.DataFrame'>\n",
      "Index: 899 entries, 0 to 999\n",
      "Data columns (total 8 columns):\n",
      " #   Column             Non-Null Count  Dtype         \n",
      "---  ------             --------------  -----         \n",
      " 0   First_Name         899 non-null    string        \n",
      " 1   Gender             899 non-null    string        \n",
      " 2   Start_date         899 non-null    datetime64[ns]\n",
      " 3   Last_Login_Time    899 non-null    object        \n",
      " 4   Salary             899 non-null    int64         \n",
      " 5   Bonus_perct        899 non-null    float64       \n",
      " 6   Senior_Management  899 non-null    bool          \n",
      " 7   Team               899 non-null    string        \n",
      "dtypes: bool(1), datetime64[ns](1), float64(1), int64(1), object(1), string(3)\n",
      "memory usage: 57.1+ KB\n"
     ]
    }
   ],
   "source": [
    "df.info()"
   ]
  },
  {
   "cell_type": "code",
   "execution_count": 33,
   "id": "53b7bcaa",
   "metadata": {},
   "outputs": [],
   "source": [
    "df = df.reset_index()"
   ]
  },
  {
   "cell_type": "code",
   "execution_count": 34,
   "id": "8ce9c9c0",
   "metadata": {
    "collapsed": true
   },
   "outputs": [
    {
     "name": "stdout",
     "output_type": "stream",
     "text": [
      "<class 'pandas.core.frame.DataFrame'>\n",
      "RangeIndex: 899 entries, 0 to 898\n",
      "Data columns (total 9 columns):\n",
      " #   Column             Non-Null Count  Dtype         \n",
      "---  ------             --------------  -----         \n",
      " 0   index              899 non-null    int64         \n",
      " 1   First_Name         899 non-null    string        \n",
      " 2   Gender             899 non-null    string        \n",
      " 3   Start_date         899 non-null    datetime64[ns]\n",
      " 4   Last_Login_Time    899 non-null    object        \n",
      " 5   Salary             899 non-null    int64         \n",
      " 6   Bonus_perct        899 non-null    float64       \n",
      " 7   Senior_Management  899 non-null    bool          \n",
      " 8   Team               899 non-null    string        \n",
      "dtypes: bool(1), datetime64[ns](1), float64(1), int64(2), object(1), string(3)\n",
      "memory usage: 57.2+ KB\n"
     ]
    }
   ],
   "source": [
    "df.info()"
   ]
  },
  {
   "cell_type": "code",
   "execution_count": 35,
   "id": "074a6aff",
   "metadata": {
    "collapsed": true
   },
   "outputs": [
    {
     "data": {
      "text/html": [
       "<div>\n",
       "<style scoped>\n",
       "    .dataframe tbody tr th:only-of-type {\n",
       "        vertical-align: middle;\n",
       "    }\n",
       "\n",
       "    .dataframe tbody tr th {\n",
       "        vertical-align: top;\n",
       "    }\n",
       "\n",
       "    .dataframe thead th {\n",
       "        text-align: right;\n",
       "    }\n",
       "</style>\n",
       "<table border=\"1\" class=\"dataframe\">\n",
       "  <thead>\n",
       "    <tr style=\"text-align: right;\">\n",
       "      <th></th>\n",
       "      <th>index</th>\n",
       "      <th>First_Name</th>\n",
       "      <th>Gender</th>\n",
       "      <th>Start_date</th>\n",
       "      <th>Last_Login_Time</th>\n",
       "      <th>Salary</th>\n",
       "      <th>Bonus_perct</th>\n",
       "      <th>Senior_Management</th>\n",
       "      <th>Team</th>\n",
       "    </tr>\n",
       "  </thead>\n",
       "  <tbody>\n",
       "    <tr>\n",
       "      <th>0</th>\n",
       "      <td>0</td>\n",
       "      <td>Douglas</td>\n",
       "      <td>Male</td>\n",
       "      <td>1993-08-06</td>\n",
       "      <td>12:42 PM</td>\n",
       "      <td>97308</td>\n",
       "      <td>6.945</td>\n",
       "      <td>True</td>\n",
       "      <td>Marketing</td>\n",
       "    </tr>\n",
       "    <tr>\n",
       "      <th>1</th>\n",
       "      <td>2</td>\n",
       "      <td>Maria</td>\n",
       "      <td>Female</td>\n",
       "      <td>1993-04-23</td>\n",
       "      <td>11:17 AM</td>\n",
       "      <td>130590</td>\n",
       "      <td>11.858</td>\n",
       "      <td>False</td>\n",
       "      <td>Finance</td>\n",
       "    </tr>\n",
       "    <tr>\n",
       "      <th>2</th>\n",
       "      <td>3</td>\n",
       "      <td>Jerry</td>\n",
       "      <td>Male</td>\n",
       "      <td>2005-03-04</td>\n",
       "      <td>1:00 PM</td>\n",
       "      <td>138705</td>\n",
       "      <td>9.340</td>\n",
       "      <td>True</td>\n",
       "      <td>Finance</td>\n",
       "    </tr>\n",
       "    <tr>\n",
       "      <th>3</th>\n",
       "      <td>4</td>\n",
       "      <td>Larry</td>\n",
       "      <td>Male</td>\n",
       "      <td>1998-01-24</td>\n",
       "      <td>4:47 PM</td>\n",
       "      <td>101004</td>\n",
       "      <td>1.389</td>\n",
       "      <td>True</td>\n",
       "      <td>Client Services</td>\n",
       "    </tr>\n",
       "    <tr>\n",
       "      <th>4</th>\n",
       "      <td>5</td>\n",
       "      <td>Dennis</td>\n",
       "      <td>Male</td>\n",
       "      <td>1987-04-18</td>\n",
       "      <td>1:35 AM</td>\n",
       "      <td>115163</td>\n",
       "      <td>10.125</td>\n",
       "      <td>False</td>\n",
       "      <td>Legal</td>\n",
       "    </tr>\n",
       "    <tr>\n",
       "      <th>...</th>\n",
       "      <td>...</td>\n",
       "      <td>...</td>\n",
       "      <td>...</td>\n",
       "      <td>...</td>\n",
       "      <td>...</td>\n",
       "      <td>...</td>\n",
       "      <td>...</td>\n",
       "      <td>...</td>\n",
       "      <td>...</td>\n",
       "    </tr>\n",
       "    <tr>\n",
       "      <th>894</th>\n",
       "      <td>995</td>\n",
       "      <td>Henry</td>\n",
       "      <td>No Gender</td>\n",
       "      <td>2014-11-23</td>\n",
       "      <td>6:09 AM</td>\n",
       "      <td>132483</td>\n",
       "      <td>16.655</td>\n",
       "      <td>False</td>\n",
       "      <td>Distribution</td>\n",
       "    </tr>\n",
       "    <tr>\n",
       "      <th>895</th>\n",
       "      <td>996</td>\n",
       "      <td>Phillip</td>\n",
       "      <td>Male</td>\n",
       "      <td>1984-01-31</td>\n",
       "      <td>6:30 AM</td>\n",
       "      <td>42392</td>\n",
       "      <td>19.675</td>\n",
       "      <td>False</td>\n",
       "      <td>Finance</td>\n",
       "    </tr>\n",
       "    <tr>\n",
       "      <th>896</th>\n",
       "      <td>997</td>\n",
       "      <td>Russell</td>\n",
       "      <td>Male</td>\n",
       "      <td>2013-05-20</td>\n",
       "      <td>12:39 PM</td>\n",
       "      <td>96914</td>\n",
       "      <td>1.421</td>\n",
       "      <td>False</td>\n",
       "      <td>Product</td>\n",
       "    </tr>\n",
       "    <tr>\n",
       "      <th>897</th>\n",
       "      <td>998</td>\n",
       "      <td>Larry</td>\n",
       "      <td>Male</td>\n",
       "      <td>2013-04-20</td>\n",
       "      <td>4:45 PM</td>\n",
       "      <td>60500</td>\n",
       "      <td>11.985</td>\n",
       "      <td>False</td>\n",
       "      <td>Business Development</td>\n",
       "    </tr>\n",
       "    <tr>\n",
       "      <th>898</th>\n",
       "      <td>999</td>\n",
       "      <td>Albert</td>\n",
       "      <td>Male</td>\n",
       "      <td>2012-05-15</td>\n",
       "      <td>6:24 PM</td>\n",
       "      <td>129949</td>\n",
       "      <td>10.169</td>\n",
       "      <td>True</td>\n",
       "      <td>Sales</td>\n",
       "    </tr>\n",
       "  </tbody>\n",
       "</table>\n",
       "<p>899 rows × 9 columns</p>\n",
       "</div>"
      ],
      "text/plain": [
       "     index First_Name     Gender Start_date Last_Login_Time  Salary  \\\n",
       "0        0    Douglas       Male 1993-08-06        12:42 PM   97308   \n",
       "1        2      Maria     Female 1993-04-23        11:17 AM  130590   \n",
       "2        3      Jerry       Male 2005-03-04         1:00 PM  138705   \n",
       "3        4      Larry       Male 1998-01-24         4:47 PM  101004   \n",
       "4        5     Dennis       Male 1987-04-18         1:35 AM  115163   \n",
       "..     ...        ...        ...        ...             ...     ...   \n",
       "894    995      Henry  No Gender 2014-11-23         6:09 AM  132483   \n",
       "895    996    Phillip       Male 1984-01-31         6:30 AM   42392   \n",
       "896    997    Russell       Male 2013-05-20        12:39 PM   96914   \n",
       "897    998      Larry       Male 2013-04-20         4:45 PM   60500   \n",
       "898    999     Albert       Male 2012-05-15         6:24 PM  129949   \n",
       "\n",
       "     Bonus_perct  Senior_Management                  Team  \n",
       "0          6.945               True             Marketing  \n",
       "1         11.858              False               Finance  \n",
       "2          9.340               True               Finance  \n",
       "3          1.389               True       Client Services  \n",
       "4         10.125              False                 Legal  \n",
       "..           ...                ...                   ...  \n",
       "894       16.655              False          Distribution  \n",
       "895       19.675              False               Finance  \n",
       "896        1.421              False               Product  \n",
       "897       11.985              False  Business Development  \n",
       "898       10.169               True                 Sales  \n",
       "\n",
       "[899 rows x 9 columns]"
      ]
     },
     "execution_count": 35,
     "metadata": {},
     "output_type": "execute_result"
    }
   ],
   "source": [
    "df"
   ]
  },
  {
   "cell_type": "code",
   "execution_count": 36,
   "id": "2db25ce2",
   "metadata": {},
   "outputs": [],
   "source": [
    "# dropping index column\n",
    "df.drop(['index'],axis = 1,inplace = True)"
   ]
  },
  {
   "cell_type": "code",
   "execution_count": 37,
   "id": "165798dd",
   "metadata": {},
   "outputs": [
    {
     "data": {
      "text/html": [
       "<div>\n",
       "<style scoped>\n",
       "    .dataframe tbody tr th:only-of-type {\n",
       "        vertical-align: middle;\n",
       "    }\n",
       "\n",
       "    .dataframe tbody tr th {\n",
       "        vertical-align: top;\n",
       "    }\n",
       "\n",
       "    .dataframe thead th {\n",
       "        text-align: right;\n",
       "    }\n",
       "</style>\n",
       "<table border=\"1\" class=\"dataframe\">\n",
       "  <thead>\n",
       "    <tr style=\"text-align: right;\">\n",
       "      <th></th>\n",
       "      <th>First_Name</th>\n",
       "      <th>Gender</th>\n",
       "      <th>Start_date</th>\n",
       "      <th>Last_Login_Time</th>\n",
       "      <th>Salary</th>\n",
       "      <th>Bonus_perct</th>\n",
       "      <th>Senior_Management</th>\n",
       "      <th>Team</th>\n",
       "    </tr>\n",
       "  </thead>\n",
       "  <tbody>\n",
       "    <tr>\n",
       "      <th>0</th>\n",
       "      <td>Douglas</td>\n",
       "      <td>Male</td>\n",
       "      <td>1993-08-06</td>\n",
       "      <td>12:42 PM</td>\n",
       "      <td>97308</td>\n",
       "      <td>6.945</td>\n",
       "      <td>True</td>\n",
       "      <td>Marketing</td>\n",
       "    </tr>\n",
       "    <tr>\n",
       "      <th>1</th>\n",
       "      <td>Maria</td>\n",
       "      <td>Female</td>\n",
       "      <td>1993-04-23</td>\n",
       "      <td>11:17 AM</td>\n",
       "      <td>130590</td>\n",
       "      <td>11.858</td>\n",
       "      <td>False</td>\n",
       "      <td>Finance</td>\n",
       "    </tr>\n",
       "    <tr>\n",
       "      <th>2</th>\n",
       "      <td>Jerry</td>\n",
       "      <td>Male</td>\n",
       "      <td>2005-03-04</td>\n",
       "      <td>1:00 PM</td>\n",
       "      <td>138705</td>\n",
       "      <td>9.340</td>\n",
       "      <td>True</td>\n",
       "      <td>Finance</td>\n",
       "    </tr>\n",
       "    <tr>\n",
       "      <th>3</th>\n",
       "      <td>Larry</td>\n",
       "      <td>Male</td>\n",
       "      <td>1998-01-24</td>\n",
       "      <td>4:47 PM</td>\n",
       "      <td>101004</td>\n",
       "      <td>1.389</td>\n",
       "      <td>True</td>\n",
       "      <td>Client Services</td>\n",
       "    </tr>\n",
       "    <tr>\n",
       "      <th>4</th>\n",
       "      <td>Dennis</td>\n",
       "      <td>Male</td>\n",
       "      <td>1987-04-18</td>\n",
       "      <td>1:35 AM</td>\n",
       "      <td>115163</td>\n",
       "      <td>10.125</td>\n",
       "      <td>False</td>\n",
       "      <td>Legal</td>\n",
       "    </tr>\n",
       "  </tbody>\n",
       "</table>\n",
       "</div>"
      ],
      "text/plain": [
       "  First_Name  Gender Start_date Last_Login_Time  Salary  Bonus_perct  \\\n",
       "0    Douglas    Male 1993-08-06        12:42 PM   97308        6.945   \n",
       "1      Maria  Female 1993-04-23        11:17 AM  130590       11.858   \n",
       "2      Jerry    Male 2005-03-04         1:00 PM  138705        9.340   \n",
       "3      Larry    Male 1998-01-24         4:47 PM  101004        1.389   \n",
       "4     Dennis    Male 1987-04-18         1:35 AM  115163       10.125   \n",
       "\n",
       "   Senior_Management             Team  \n",
       "0               True        Marketing  \n",
       "1              False          Finance  \n",
       "2               True          Finance  \n",
       "3               True  Client Services  \n",
       "4              False            Legal  "
      ]
     },
     "execution_count": 37,
     "metadata": {},
     "output_type": "execute_result"
    }
   ],
   "source": [
    "df.head()"
   ]
  },
  {
   "cell_type": "code",
   "execution_count": 38,
   "id": "cdb65bff",
   "metadata": {
    "collapsed": true
   },
   "outputs": [
    {
     "data": {
      "text/plain": [
       "0      104066.04\n",
       "1      146075.36\n",
       "2      151660.05\n",
       "3      102406.95\n",
       "4      126823.25\n",
       "         ...    \n",
       "894    154548.04\n",
       "895     50732.63\n",
       "896     98291.15\n",
       "897     67750.92\n",
       "898    143163.51\n",
       "Name: Final_salary, Length: 899, dtype: float64"
      ]
     },
     "execution_count": 38,
     "metadata": {},
     "output_type": "execute_result"
    }
   ],
   "source": [
    "# creating new column.\n",
    "df['Final_salary'] = round(df['Salary'] + ((df['Salary'] * df['Bonus_perct'])/100),2)\n",
    "df['Final_salary']"
   ]
  },
  {
   "cell_type": "code",
   "execution_count": 39,
   "id": "937c6d8c",
   "metadata": {
    "collapsed": true
   },
   "outputs": [
    {
     "data": {
      "text/html": [
       "<div>\n",
       "<style scoped>\n",
       "    .dataframe tbody tr th:only-of-type {\n",
       "        vertical-align: middle;\n",
       "    }\n",
       "\n",
       "    .dataframe tbody tr th {\n",
       "        vertical-align: top;\n",
       "    }\n",
       "\n",
       "    .dataframe thead th {\n",
       "        text-align: right;\n",
       "    }\n",
       "</style>\n",
       "<table border=\"1\" class=\"dataframe\">\n",
       "  <thead>\n",
       "    <tr style=\"text-align: right;\">\n",
       "      <th></th>\n",
       "      <th>First_Name</th>\n",
       "      <th>Gender</th>\n",
       "      <th>Start_date</th>\n",
       "      <th>Last_Login_Time</th>\n",
       "      <th>Salary</th>\n",
       "      <th>Bonus_perct</th>\n",
       "      <th>Senior_Management</th>\n",
       "      <th>Team</th>\n",
       "      <th>Final_salary</th>\n",
       "    </tr>\n",
       "  </thead>\n",
       "  <tbody>\n",
       "    <tr>\n",
       "      <th>0</th>\n",
       "      <td>Douglas</td>\n",
       "      <td>Male</td>\n",
       "      <td>1993-08-06</td>\n",
       "      <td>12:42 PM</td>\n",
       "      <td>97308</td>\n",
       "      <td>6.945</td>\n",
       "      <td>True</td>\n",
       "      <td>Marketing</td>\n",
       "      <td>104066.04</td>\n",
       "    </tr>\n",
       "    <tr>\n",
       "      <th>1</th>\n",
       "      <td>Maria</td>\n",
       "      <td>Female</td>\n",
       "      <td>1993-04-23</td>\n",
       "      <td>11:17 AM</td>\n",
       "      <td>130590</td>\n",
       "      <td>11.858</td>\n",
       "      <td>False</td>\n",
       "      <td>Finance</td>\n",
       "      <td>146075.36</td>\n",
       "    </tr>\n",
       "    <tr>\n",
       "      <th>2</th>\n",
       "      <td>Jerry</td>\n",
       "      <td>Male</td>\n",
       "      <td>2005-03-04</td>\n",
       "      <td>1:00 PM</td>\n",
       "      <td>138705</td>\n",
       "      <td>9.340</td>\n",
       "      <td>True</td>\n",
       "      <td>Finance</td>\n",
       "      <td>151660.05</td>\n",
       "    </tr>\n",
       "    <tr>\n",
       "      <th>3</th>\n",
       "      <td>Larry</td>\n",
       "      <td>Male</td>\n",
       "      <td>1998-01-24</td>\n",
       "      <td>4:47 PM</td>\n",
       "      <td>101004</td>\n",
       "      <td>1.389</td>\n",
       "      <td>True</td>\n",
       "      <td>Client Services</td>\n",
       "      <td>102406.95</td>\n",
       "    </tr>\n",
       "    <tr>\n",
       "      <th>4</th>\n",
       "      <td>Dennis</td>\n",
       "      <td>Male</td>\n",
       "      <td>1987-04-18</td>\n",
       "      <td>1:35 AM</td>\n",
       "      <td>115163</td>\n",
       "      <td>10.125</td>\n",
       "      <td>False</td>\n",
       "      <td>Legal</td>\n",
       "      <td>126823.25</td>\n",
       "    </tr>\n",
       "    <tr>\n",
       "      <th>...</th>\n",
       "      <td>...</td>\n",
       "      <td>...</td>\n",
       "      <td>...</td>\n",
       "      <td>...</td>\n",
       "      <td>...</td>\n",
       "      <td>...</td>\n",
       "      <td>...</td>\n",
       "      <td>...</td>\n",
       "      <td>...</td>\n",
       "    </tr>\n",
       "    <tr>\n",
       "      <th>894</th>\n",
       "      <td>Henry</td>\n",
       "      <td>No Gender</td>\n",
       "      <td>2014-11-23</td>\n",
       "      <td>6:09 AM</td>\n",
       "      <td>132483</td>\n",
       "      <td>16.655</td>\n",
       "      <td>False</td>\n",
       "      <td>Distribution</td>\n",
       "      <td>154548.04</td>\n",
       "    </tr>\n",
       "    <tr>\n",
       "      <th>895</th>\n",
       "      <td>Phillip</td>\n",
       "      <td>Male</td>\n",
       "      <td>1984-01-31</td>\n",
       "      <td>6:30 AM</td>\n",
       "      <td>42392</td>\n",
       "      <td>19.675</td>\n",
       "      <td>False</td>\n",
       "      <td>Finance</td>\n",
       "      <td>50732.63</td>\n",
       "    </tr>\n",
       "    <tr>\n",
       "      <th>896</th>\n",
       "      <td>Russell</td>\n",
       "      <td>Male</td>\n",
       "      <td>2013-05-20</td>\n",
       "      <td>12:39 PM</td>\n",
       "      <td>96914</td>\n",
       "      <td>1.421</td>\n",
       "      <td>False</td>\n",
       "      <td>Product</td>\n",
       "      <td>98291.15</td>\n",
       "    </tr>\n",
       "    <tr>\n",
       "      <th>897</th>\n",
       "      <td>Larry</td>\n",
       "      <td>Male</td>\n",
       "      <td>2013-04-20</td>\n",
       "      <td>4:45 PM</td>\n",
       "      <td>60500</td>\n",
       "      <td>11.985</td>\n",
       "      <td>False</td>\n",
       "      <td>Business Development</td>\n",
       "      <td>67750.92</td>\n",
       "    </tr>\n",
       "    <tr>\n",
       "      <th>898</th>\n",
       "      <td>Albert</td>\n",
       "      <td>Male</td>\n",
       "      <td>2012-05-15</td>\n",
       "      <td>6:24 PM</td>\n",
       "      <td>129949</td>\n",
       "      <td>10.169</td>\n",
       "      <td>True</td>\n",
       "      <td>Sales</td>\n",
       "      <td>143163.51</td>\n",
       "    </tr>\n",
       "  </tbody>\n",
       "</table>\n",
       "<p>899 rows × 9 columns</p>\n",
       "</div>"
      ],
      "text/plain": [
       "    First_Name     Gender Start_date Last_Login_Time  Salary  Bonus_perct  \\\n",
       "0      Douglas       Male 1993-08-06        12:42 PM   97308        6.945   \n",
       "1        Maria     Female 1993-04-23        11:17 AM  130590       11.858   \n",
       "2        Jerry       Male 2005-03-04         1:00 PM  138705        9.340   \n",
       "3        Larry       Male 1998-01-24         4:47 PM  101004        1.389   \n",
       "4       Dennis       Male 1987-04-18         1:35 AM  115163       10.125   \n",
       "..         ...        ...        ...             ...     ...          ...   \n",
       "894      Henry  No Gender 2014-11-23         6:09 AM  132483       16.655   \n",
       "895    Phillip       Male 1984-01-31         6:30 AM   42392       19.675   \n",
       "896    Russell       Male 2013-05-20        12:39 PM   96914        1.421   \n",
       "897      Larry       Male 2013-04-20         4:45 PM   60500       11.985   \n",
       "898     Albert       Male 2012-05-15         6:24 PM  129949       10.169   \n",
       "\n",
       "     Senior_Management                  Team  Final_salary  \n",
       "0                 True             Marketing     104066.04  \n",
       "1                False               Finance     146075.36  \n",
       "2                 True               Finance     151660.05  \n",
       "3                 True       Client Services     102406.95  \n",
       "4                False                 Legal     126823.25  \n",
       "..                 ...                   ...           ...  \n",
       "894              False          Distribution     154548.04  \n",
       "895              False               Finance      50732.63  \n",
       "896              False               Product      98291.15  \n",
       "897              False  Business Development      67750.92  \n",
       "898               True                 Sales     143163.51  \n",
       "\n",
       "[899 rows x 9 columns]"
      ]
     },
     "execution_count": 39,
     "metadata": {},
     "output_type": "execute_result"
    }
   ],
   "source": [
    "df"
   ]
  },
  {
   "cell_type": "markdown",
   "id": "1bcc5ede",
   "metadata": {},
   "source": [
    "# outlier detection"
   ]
  },
  {
   "cell_type": "code",
   "execution_count": 42,
   "id": "cef96173",
   "metadata": {
    "collapsed": true
   },
   "outputs": [
    {
     "data": {
      "text/plain": [
       "<Axes: >"
      ]
     },
     "execution_count": 42,
     "metadata": {},
     "output_type": "execute_result"
    },
    {
     "data": {
      "image/png": "[encoded data removed]",
      "text/plain": [
       "<Figure size 640x480 with 1 Axes>"
      ]
     },
     "metadata": {},
     "output_type": "display_data"
    }
   ],
   "source": [
    "df['Final_salary'].plot(kind = 'box')"
   ]
  },
  {
   "cell_type": "code",
   "execution_count": 45,
   "id": "a574c241",
   "metadata": {
    "collapsed": true
   },
   "outputs": [
    {
     "data": {
      "text/plain": [
       "count       899.000000\n",
       "mean      90479.672970\n",
       "std       32743.875488\n",
       "min       35013.000000\n",
       "25%       62412.500000\n",
       "50%       90730.000000\n",
       "75%      118107.500000\n",
       "max      149908.000000\n",
       "Name: Salary, dtype: float64"
      ]
     },
     "execution_count": 45,
     "metadata": {},
     "output_type": "execute_result"
    }
   ],
   "source": [
    "Q1_salary = np.quantile(df['Salary'],0.25)\n",
    "Q2_salary = np.quantile(df['Salary'],0.50)\n",
    "Q3_salary = np.quantile(df['Salary'],0.75)\n",
    "df['Salary'].describe()"
   ]
  },
  {
   "cell_type": "code",
   "execution_count": 44,
   "id": "cc8d2937",
   "metadata": {},
   "outputs": [
    {
     "name": "stdout",
     "output_type": "stream",
     "text": [
      "IQR:  27847.5\n"
     ]
    },
    {
     "data": {
      "text/plain": [
       "[20641.25, 159878.75]"
      ]
     },
     "execution_count": 44,
     "metadata": {},
     "output_type": "execute_result"
    }
   ],
   "source": [
    "IQR = (Q3_salary - Q1_salary)/2\n",
    "print(\"IQR: \", IQR)\n",
    "Upper = Q3_salary+1.5*IQR\n",
    "lower =  Q1_salary-1.5*IQR  \n",
    "[lower,Upper]"
   ]
  },
  {
   "cell_type": "code",
   "execution_count": null,
   "id": "3a242753",
   "metadata": {},
   "outputs": [],
   "source": [
    "df['Final_salary'].min(),df['Final_salary'].max()"
   ]
  },
  {
   "cell_type": "markdown",
   "id": "f0890c7f",
   "metadata": {},
   "source": [
    "# Data visualization\n",
    "Data Visualization is the process of analyzing data in the form of graphs or maps, making it a lot easier to understand the trends or patterns in the data.\n",
    "\n",
    "Matplotlib \n",
    "Python Seaborn "
   ]
  },
  {
   "cell_type": "code",
   "execution_count": null,
   "id": "7e4b02f6",
   "metadata": {},
   "outputs": [],
   "source": [
    "import warnings\n",
    "warnings.filterwarnings('ignore')"
   ]
  },
  {
   "cell_type": "code",
   "execution_count": 46,
   "id": "66807b33",
   "metadata": {
    "collapsed": true
   },
   "outputs": [
    {
     "data": {
      "text/html": [
       "<div>\n",
       "<style scoped>\n",
       "    .dataframe tbody tr th:only-of-type {\n",
       "        vertical-align: middle;\n",
       "    }\n",
       "\n",
       "    .dataframe tbody tr th {\n",
       "        vertical-align: top;\n",
       "    }\n",
       "\n",
       "    .dataframe thead th {\n",
       "        text-align: right;\n",
       "    }\n",
       "</style>\n",
       "<table border=\"1\" class=\"dataframe\">\n",
       "  <thead>\n",
       "    <tr style=\"text-align: right;\">\n",
       "      <th></th>\n",
       "      <th>Start_date</th>\n",
       "      <th>Salary</th>\n",
       "      <th>Bonus_perct</th>\n",
       "      <th>Final_salary</th>\n",
       "    </tr>\n",
       "  </thead>\n",
       "  <tbody>\n",
       "    <tr>\n",
       "      <th>count</th>\n",
       "      <td>899</td>\n",
       "      <td>899.000000</td>\n",
       "      <td>899.000000</td>\n",
       "      <td>899.000000</td>\n",
       "    </tr>\n",
       "    <tr>\n",
       "      <th>mean</th>\n",
       "      <td>1998-11-19 19:53:19.555061120</td>\n",
       "      <td>90479.672970</td>\n",
       "      <td>10.200201</td>\n",
       "      <td>99677.876407</td>\n",
       "    </tr>\n",
       "    <tr>\n",
       "      <th>min</th>\n",
       "      <td>1980-01-19 00:00:00</td>\n",
       "      <td>35013.000000</td>\n",
       "      <td>1.015000</td>\n",
       "      <td>36858.930000</td>\n",
       "    </tr>\n",
       "    <tr>\n",
       "      <th>25%</th>\n",
       "      <td>1990-03-21 12:00:00</td>\n",
       "      <td>62412.500000</td>\n",
       "      <td>5.267000</td>\n",
       "      <td>68798.985000</td>\n",
       "    </tr>\n",
       "    <tr>\n",
       "      <th>50%</th>\n",
       "      <td>1999-08-06 00:00:00</td>\n",
       "      <td>90730.000000</td>\n",
       "      <td>9.770000</td>\n",
       "      <td>99308.000000</td>\n",
       "    </tr>\n",
       "    <tr>\n",
       "      <th>75%</th>\n",
       "      <td>2007-09-22 00:00:00</td>\n",
       "      <td>118107.500000</td>\n",
       "      <td>14.868500</td>\n",
       "      <td>129095.255000</td>\n",
       "    </tr>\n",
       "    <tr>\n",
       "      <th>max</th>\n",
       "      <td>2016-07-15 00:00:00</td>\n",
       "      <td>149908.000000</td>\n",
       "      <td>19.944000</td>\n",
       "      <td>178258.600000</td>\n",
       "    </tr>\n",
       "    <tr>\n",
       "      <th>std</th>\n",
       "      <td>NaN</td>\n",
       "      <td>32743.875488</td>\n",
       "      <td>5.551621</td>\n",
       "      <td>36400.444846</td>\n",
       "    </tr>\n",
       "  </tbody>\n",
       "</table>\n",
       "</div>"
      ],
      "text/plain": [
       "                          Start_date         Salary  Bonus_perct  \\\n",
       "count                            899     899.000000   899.000000   \n",
       "mean   1998-11-19 19:53:19.555061120   90479.672970    10.200201   \n",
       "min              1980-01-19 00:00:00   35013.000000     1.015000   \n",
       "25%              1990-03-21 12:00:00   62412.500000     5.267000   \n",
       "50%              1999-08-06 00:00:00   90730.000000     9.770000   \n",
       "75%              2007-09-22 00:00:00  118107.500000    14.868500   \n",
       "max              2016-07-15 00:00:00  149908.000000    19.944000   \n",
       "std                              NaN   32743.875488     5.551621   \n",
       "\n",
       "        Final_salary  \n",
       "count     899.000000  \n",
       "mean    99677.876407  \n",
       "min     36858.930000  \n",
       "25%     68798.985000  \n",
       "50%     99308.000000  \n",
       "75%    129095.255000  \n",
       "max    178258.600000  \n",
       "std     36400.444846  "
      ]
     },
     "execution_count": 46,
     "metadata": {},
     "output_type": "execute_result"
    }
   ],
   "source": [
    "# numerical summary statistics\n",
    "df.describe()"
   ]
  },
  {
   "cell_type": "code",
   "execution_count": null,
   "id": "432ecb17",
   "metadata": {},
   "outputs": [],
   "source": [
    "# categorical summmary stats\n",
    "df.describe(include = ['string','bool'])"
   ]
  },
  {
   "cell_type": "code",
   "execution_count": 47,
   "id": "b8ea68ea",
   "metadata": {
    "collapsed": true
   },
   "outputs": [
    {
     "data": {
      "image/png": "[encoded data removed]",
      "text/plain": [
       "<Figure size 640x480 with 1 Axes>"
      ]
     },
     "metadata": {},
     "output_type": "display_data"
    }
   ],
   "source": [
    "# importing packages\n",
    "import seaborn as sns\n",
    "import matplotlib.pyplot as plt\n",
    "sns.histplot(x='Salary', data=df )\n",
    "plt.show()"
   ]
  },
  {
   "cell_type": "code",
   "execution_count": 48,
   "id": "68dbbb58",
   "metadata": {
    "collapsed": true
   },
   "outputs": [
    {
     "data": {
      "image/png": "[encoded data removed]",
      "text/plain": [
       "<Figure size 640x480 with 1 Axes>"
      ]
     },
     "metadata": {},
     "output_type": "display_data"
    }
   ],
   "source": [
    "sns.histplot(x='Final_salary', data=df )\n",
    "plt.show()"
   ]
  },
  {
   "cell_type": "code",
   "execution_count": 49,
   "id": "3512d920",
   "metadata": {
    "collapsed": true
   },
   "outputs": [
    {
     "data": {
      "image/png": "[encoded data removed]",
      "text/plain": [
       "<Figure size 640x480 with 1 Axes>"
      ]
     },
     "metadata": {},
     "output_type": "display_data"
    }
   ],
   "source": [
    "sns.histplot(x='Salary', hue = 'Gender',data=df )\n",
    "plt.show()"
   ]
  },
  {
   "cell_type": "code",
   "execution_count": 50,
   "id": "0d886a8a",
   "metadata": {
    "collapsed": true
   },
   "outputs": [
    {
     "data": {
      "image/png": "[encoded data removed]",
      "text/plain": [
       "<Figure size 640x480 with 1 Axes>"
      ]
     },
     "metadata": {},
     "output_type": "display_data"
    }
   ],
   "source": [
    "sns.histplot(x = 'Bonus_perct',hue = 'Gender',data = df)\n",
    "plt.show()"
   ]
  },
  {
   "cell_type": "code",
   "execution_count": 52,
   "id": "e399ad73",
   "metadata": {
    "collapsed": true
   },
   "outputs": [
    {
     "data": {
      "image/png": "[encoded data removed]",
      "text/plain": [
       "<Figure size 640x480 with 1 Axes>"
      ]
     },
     "metadata": {},
     "output_type": "display_data"
    }
   ],
   "source": [
    "sns.kdeplot(x=\"Salary\", hue = 'Gender',data=df )\n",
    "plt.show()"
   ]
  },
  {
   "cell_type": "code",
   "execution_count": 55,
   "id": "acd33289",
   "metadata": {
    "collapsed": true
   },
   "outputs": [
    {
     "data": {
      "image/png": "[encoded data removed]",
      "text/plain": [
       "<Figure size 640x480 with 1 Axes>"
      ]
     },
     "metadata": {},
     "output_type": "display_data"
    }
   ],
   "source": [
    "sns.kdeplot(x=\"Bonus_perct\", hue='Gender', data=df )\n",
    "plt.show()"
   ]
  },
  {
   "cell_type": "markdown",
   "id": "225a975d",
   "metadata": {},
   "source": [
    "# Relationship of variables"
   ]
  },
  {
   "cell_type": "code",
   "execution_count": 59,
   "id": "b0b33618",
   "metadata": {
    "collapsed": true
   },
   "outputs": [
    {
     "data": {
      "image/png": "[encoded data removed]",
      "text/plain": [
       "<Figure size 640x480 with 1 Axes>"
      ]
     },
     "metadata": {},
     "output_type": "display_data"
    }
   ],
   "source": [
    "# Relationship of variables\n",
    "sns.scatterplot(x=\"Salary\", y='Bonus_perct', data=df,hue = 'Gender')\n",
    "# Placing Legend outside the Figure\n",
    "plt.legend(bbox_to_anchor=(1, 1), loc=2)\n",
    "plt.show()"
   ]
  },
  {
   "cell_type": "code",
   "execution_count": 60,
   "id": "2319f973",
   "metadata": {},
   "outputs": [
    {
     "data": {
      "text/plain": [
       "-0.01702025486966284"
      ]
     },
     "execution_count": 60,
     "metadata": {},
     "output_type": "execute_result"
    }
   ],
   "source": [
    "df['Salary'].corr(df['Bonus_perct'])"
   ]
  },
  {
   "cell_type": "code",
   "execution_count": 62,
   "id": "6885b98b",
   "metadata": {},
   "outputs": [
    {
     "data": {
      "text/plain": [
       "54"
      ]
     },
     "execution_count": 62,
     "metadata": {},
     "output_type": "execute_result"
    }
   ],
   "source": [
    "len(df[df['Bonus_perct']>=19])"
   ]
  },
  {
   "cell_type": "code",
   "execution_count": 63,
   "id": "37cb3e85",
   "metadata": {},
   "outputs": [],
   "source": [
    "bonus19 = df[df['Bonus_perct']>19].sort_values(['Bonus_perct'],ascending = False)"
   ]
  },
  {
   "cell_type": "code",
   "execution_count": 64,
   "id": "6a10c28e",
   "metadata": {
    "collapsed": true
   },
   "outputs": [
    {
     "data": {
      "text/html": [
       "<div>\n",
       "<style scoped>\n",
       "    .dataframe tbody tr th:only-of-type {\n",
       "        vertical-align: middle;\n",
       "    }\n",
       "\n",
       "    .dataframe tbody tr th {\n",
       "        vertical-align: top;\n",
       "    }\n",
       "\n",
       "    .dataframe thead th {\n",
       "        text-align: right;\n",
       "    }\n",
       "</style>\n",
       "<table border=\"1\" class=\"dataframe\">\n",
       "  <thead>\n",
       "    <tr style=\"text-align: right;\">\n",
       "      <th></th>\n",
       "      <th>First_Name</th>\n",
       "      <th>Gender</th>\n",
       "      <th>Start_date</th>\n",
       "      <th>Last_Login_Time</th>\n",
       "      <th>Salary</th>\n",
       "      <th>Bonus_perct</th>\n",
       "      <th>Senior_Management</th>\n",
       "      <th>Team</th>\n",
       "      <th>Final_salary</th>\n",
       "    </tr>\n",
       "  </thead>\n",
       "  <tbody>\n",
       "    <tr>\n",
       "      <th>442</th>\n",
       "      <td>Robert</td>\n",
       "      <td>Male</td>\n",
       "      <td>2007-03-11</td>\n",
       "      <td>11:20 AM</td>\n",
       "      <td>135882</td>\n",
       "      <td>19.944</td>\n",
       "      <td>False</td>\n",
       "      <td>Legal</td>\n",
       "      <td>162982.31</td>\n",
       "    </tr>\n",
       "    <tr>\n",
       "      <th>136</th>\n",
       "      <td>Sean</td>\n",
       "      <td>Male</td>\n",
       "      <td>1996-05-04</td>\n",
       "      <td>8:59 PM</td>\n",
       "      <td>135490</td>\n",
       "      <td>19.934</td>\n",
       "      <td>False</td>\n",
       "      <td>Marketing</td>\n",
       "      <td>162498.58</td>\n",
       "    </tr>\n",
       "    <tr>\n",
       "      <th>304</th>\n",
       "      <td>Robert</td>\n",
       "      <td>Male</td>\n",
       "      <td>2014-11-18</td>\n",
       "      <td>5:00 AM</td>\n",
       "      <td>85799</td>\n",
       "      <td>19.930</td>\n",
       "      <td>False</td>\n",
       "      <td>Finance</td>\n",
       "      <td>102898.74</td>\n",
       "    </tr>\n",
       "    <tr>\n",
       "      <th>742</th>\n",
       "      <td>Michael</td>\n",
       "      <td>Male</td>\n",
       "      <td>2002-08-31</td>\n",
       "      <td>1:20 AM</td>\n",
       "      <td>81206</td>\n",
       "      <td>19.908</td>\n",
       "      <td>True</td>\n",
       "      <td>Distribution</td>\n",
       "      <td>97372.49</td>\n",
       "    </tr>\n",
       "    <tr>\n",
       "      <th>317</th>\n",
       "      <td>Philip</td>\n",
       "      <td>Male</td>\n",
       "      <td>1989-08-02</td>\n",
       "      <td>11:21 AM</td>\n",
       "      <td>129968</td>\n",
       "      <td>19.897</td>\n",
       "      <td>False</td>\n",
       "      <td>Finance</td>\n",
       "      <td>155827.73</td>\n",
       "    </tr>\n",
       "    <tr>\n",
       "      <th>350</th>\n",
       "      <td>Robert</td>\n",
       "      <td>Male</td>\n",
       "      <td>1994-10-29</td>\n",
       "      <td>4:26 AM</td>\n",
       "      <td>123294</td>\n",
       "      <td>19.894</td>\n",
       "      <td>False</td>\n",
       "      <td>Client Services</td>\n",
       "      <td>147822.11</td>\n",
       "    </tr>\n",
       "    <tr>\n",
       "      <th>713</th>\n",
       "      <td>Rose</td>\n",
       "      <td>Female</td>\n",
       "      <td>1982-12-31</td>\n",
       "      <td>6:50 PM</td>\n",
       "      <td>145001</td>\n",
       "      <td>19.850</td>\n",
       "      <td>False</td>\n",
       "      <td>Engineering</td>\n",
       "      <td>173783.70</td>\n",
       "    </tr>\n",
       "    <tr>\n",
       "      <th>582</th>\n",
       "      <td>Elizabeth</td>\n",
       "      <td>Female</td>\n",
       "      <td>2010-02-21</td>\n",
       "      <td>7:02 AM</td>\n",
       "      <td>79145</td>\n",
       "      <td>19.780</td>\n",
       "      <td>False</td>\n",
       "      <td>Finance</td>\n",
       "      <td>94799.88</td>\n",
       "    </tr>\n",
       "    <tr>\n",
       "      <th>728</th>\n",
       "      <td>Evelyn</td>\n",
       "      <td>Female</td>\n",
       "      <td>2002-02-10</td>\n",
       "      <td>4:44 AM</td>\n",
       "      <td>123621</td>\n",
       "      <td>19.767</td>\n",
       "      <td>True</td>\n",
       "      <td>Marketing</td>\n",
       "      <td>148057.16</td>\n",
       "    </tr>\n",
       "    <tr>\n",
       "      <th>725</th>\n",
       "      <td>George</td>\n",
       "      <td>Male</td>\n",
       "      <td>1995-09-27</td>\n",
       "      <td>5:04 PM</td>\n",
       "      <td>36749</td>\n",
       "      <td>19.754</td>\n",
       "      <td>False</td>\n",
       "      <td>Finance</td>\n",
       "      <td>44008.40</td>\n",
       "    </tr>\n",
       "    <tr>\n",
       "      <th>443</th>\n",
       "      <td>Sharon</td>\n",
       "      <td>Female</td>\n",
       "      <td>2011-07-01</td>\n",
       "      <td>9:50 AM</td>\n",
       "      <td>46007</td>\n",
       "      <td>19.731</td>\n",
       "      <td>True</td>\n",
       "      <td>Client Services</td>\n",
       "      <td>55084.64</td>\n",
       "    </tr>\n",
       "    <tr>\n",
       "      <th>338</th>\n",
       "      <td>Albert</td>\n",
       "      <td>Male</td>\n",
       "      <td>1997-02-01</td>\n",
       "      <td>4:20 PM</td>\n",
       "      <td>67827</td>\n",
       "      <td>19.717</td>\n",
       "      <td>True</td>\n",
       "      <td>Engineering</td>\n",
       "      <td>81200.45</td>\n",
       "    </tr>\n",
       "    <tr>\n",
       "      <th>408</th>\n",
       "      <td>Willie</td>\n",
       "      <td>Male</td>\n",
       "      <td>2009-08-22</td>\n",
       "      <td>1:03 PM</td>\n",
       "      <td>55038</td>\n",
       "      <td>19.691</td>\n",
       "      <td>False</td>\n",
       "      <td>Legal</td>\n",
       "      <td>65875.53</td>\n",
       "    </tr>\n",
       "    <tr>\n",
       "      <th>124</th>\n",
       "      <td>Henry</td>\n",
       "      <td>Male</td>\n",
       "      <td>1995-04-24</td>\n",
       "      <td>4:18 AM</td>\n",
       "      <td>43542</td>\n",
       "      <td>19.687</td>\n",
       "      <td>False</td>\n",
       "      <td>Legal</td>\n",
       "      <td>52114.11</td>\n",
       "    </tr>\n",
       "    <tr>\n",
       "      <th>895</th>\n",
       "      <td>Phillip</td>\n",
       "      <td>Male</td>\n",
       "      <td>1984-01-31</td>\n",
       "      <td>6:30 AM</td>\n",
       "      <td>42392</td>\n",
       "      <td>19.675</td>\n",
       "      <td>False</td>\n",
       "      <td>Finance</td>\n",
       "      <td>50732.63</td>\n",
       "    </tr>\n",
       "    <tr>\n",
       "      <th>366</th>\n",
       "      <td>Craig</td>\n",
       "      <td>Male</td>\n",
       "      <td>1984-02-08</td>\n",
       "      <td>4:45 AM</td>\n",
       "      <td>113506</td>\n",
       "      <td>19.642</td>\n",
       "      <td>False</td>\n",
       "      <td>Marketing</td>\n",
       "      <td>135800.85</td>\n",
       "    </tr>\n",
       "    <tr>\n",
       "      <th>672</th>\n",
       "      <td>Martha</td>\n",
       "      <td>Female</td>\n",
       "      <td>1997-07-17</td>\n",
       "      <td>11:11 PM</td>\n",
       "      <td>94963</td>\n",
       "      <td>19.626</td>\n",
       "      <td>True</td>\n",
       "      <td>Business Development</td>\n",
       "      <td>113600.44</td>\n",
       "    </tr>\n",
       "    <tr>\n",
       "      <th>191</th>\n",
       "      <td>Linda</td>\n",
       "      <td>Female</td>\n",
       "      <td>2006-06-24</td>\n",
       "      <td>12:04 PM</td>\n",
       "      <td>110967</td>\n",
       "      <td>19.612</td>\n",
       "      <td>True</td>\n",
       "      <td>Human Resources</td>\n",
       "      <td>132729.85</td>\n",
       "    </tr>\n",
       "    <tr>\n",
       "      <th>708</th>\n",
       "      <td>Joseph</td>\n",
       "      <td>Male</td>\n",
       "      <td>1982-11-04</td>\n",
       "      <td>9:46 PM</td>\n",
       "      <td>126010</td>\n",
       "      <td>19.601</td>\n",
       "      <td>False</td>\n",
       "      <td>Legal</td>\n",
       "      <td>150709.22</td>\n",
       "    </tr>\n",
       "    <tr>\n",
       "      <th>866</th>\n",
       "      <td>Thomas</td>\n",
       "      <td>Male</td>\n",
       "      <td>2016-03-12</td>\n",
       "      <td>3:10 PM</td>\n",
       "      <td>105681</td>\n",
       "      <td>19.572</td>\n",
       "      <td>False</td>\n",
       "      <td>Engineering</td>\n",
       "      <td>126364.89</td>\n",
       "    </tr>\n",
       "    <tr>\n",
       "      <th>228</th>\n",
       "      <td>Betty</td>\n",
       "      <td>Female</td>\n",
       "      <td>2002-06-12</td>\n",
       "      <td>3:59 AM</td>\n",
       "      <td>104896</td>\n",
       "      <td>19.550</td>\n",
       "      <td>True</td>\n",
       "      <td>Business Development</td>\n",
       "      <td>125403.17</td>\n",
       "    </tr>\n",
       "    <tr>\n",
       "      <th>567</th>\n",
       "      <td>Debra</td>\n",
       "      <td>Female</td>\n",
       "      <td>1983-03-12</td>\n",
       "      <td>12:19 PM</td>\n",
       "      <td>74911</td>\n",
       "      <td>19.513</td>\n",
       "      <td>False</td>\n",
       "      <td>Marketing</td>\n",
       "      <td>89528.38</td>\n",
       "    </tr>\n",
       "    <tr>\n",
       "      <th>753</th>\n",
       "      <td>Ruby</td>\n",
       "      <td>Female</td>\n",
       "      <td>2006-08-13</td>\n",
       "      <td>6:27 PM</td>\n",
       "      <td>48354</td>\n",
       "      <td>19.501</td>\n",
       "      <td>False</td>\n",
       "      <td>Business Development</td>\n",
       "      <td>57783.51</td>\n",
       "    </tr>\n",
       "    <tr>\n",
       "      <th>409</th>\n",
       "      <td>Terry</td>\n",
       "      <td>No Gender</td>\n",
       "      <td>2016-07-15</td>\n",
       "      <td>12:29 AM</td>\n",
       "      <td>140002</td>\n",
       "      <td>19.490</td>\n",
       "      <td>True</td>\n",
       "      <td>Marketing</td>\n",
       "      <td>167288.39</td>\n",
       "    </tr>\n",
       "    <tr>\n",
       "      <th>828</th>\n",
       "      <td>Judith</td>\n",
       "      <td>Female</td>\n",
       "      <td>2004-03-01</td>\n",
       "      <td>7:32 AM</td>\n",
       "      <td>109324</td>\n",
       "      <td>19.488</td>\n",
       "      <td>False</td>\n",
       "      <td>Distribution</td>\n",
       "      <td>130629.06</td>\n",
       "    </tr>\n",
       "    <tr>\n",
       "      <th>821</th>\n",
       "      <td>Ryan</td>\n",
       "      <td>Male</td>\n",
       "      <td>1999-04-27</td>\n",
       "      <td>3:41 AM</td>\n",
       "      <td>85858</td>\n",
       "      <td>19.475</td>\n",
       "      <td>False</td>\n",
       "      <td>Client Services</td>\n",
       "      <td>102578.85</td>\n",
       "    </tr>\n",
       "    <tr>\n",
       "      <th>744</th>\n",
       "      <td>Keith</td>\n",
       "      <td>Male</td>\n",
       "      <td>2003-02-12</td>\n",
       "      <td>3:02 PM</td>\n",
       "      <td>120672</td>\n",
       "      <td>19.467</td>\n",
       "      <td>False</td>\n",
       "      <td>Legal</td>\n",
       "      <td>144163.22</td>\n",
       "    </tr>\n",
       "    <tr>\n",
       "      <th>392</th>\n",
       "      <td>Andrea</td>\n",
       "      <td>Female</td>\n",
       "      <td>2010-10-01</td>\n",
       "      <td>11:54 AM</td>\n",
       "      <td>79123</td>\n",
       "      <td>19.422</td>\n",
       "      <td>False</td>\n",
       "      <td>Distribution</td>\n",
       "      <td>94490.27</td>\n",
       "    </tr>\n",
       "    <tr>\n",
       "      <th>575</th>\n",
       "      <td>Amanda</td>\n",
       "      <td>No Gender</td>\n",
       "      <td>1991-08-11</td>\n",
       "      <td>2:15 PM</td>\n",
       "      <td>46665</td>\n",
       "      <td>19.391</td>\n",
       "      <td>True</td>\n",
       "      <td>Client Services</td>\n",
       "      <td>55713.81</td>\n",
       "    </tr>\n",
       "    <tr>\n",
       "      <th>359</th>\n",
       "      <td>Rose</td>\n",
       "      <td>Female</td>\n",
       "      <td>2002-07-06</td>\n",
       "      <td>3:57 PM</td>\n",
       "      <td>63494</td>\n",
       "      <td>19.385</td>\n",
       "      <td>True</td>\n",
       "      <td>Human Resources</td>\n",
       "      <td>75802.31</td>\n",
       "    </tr>\n",
       "    <tr>\n",
       "      <th>161</th>\n",
       "      <td>Jessica</td>\n",
       "      <td>Female</td>\n",
       "      <td>1995-10-23</td>\n",
       "      <td>5:53 AM</td>\n",
       "      <td>68759</td>\n",
       "      <td>19.343</td>\n",
       "      <td>True</td>\n",
       "      <td>Finance</td>\n",
       "      <td>82059.05</td>\n",
       "    </tr>\n",
       "    <tr>\n",
       "      <th>382</th>\n",
       "      <td>Justin</td>\n",
       "      <td>Male</td>\n",
       "      <td>1986-05-22</td>\n",
       "      <td>6:30 AM</td>\n",
       "      <td>121508</td>\n",
       "      <td>19.334</td>\n",
       "      <td>True</td>\n",
       "      <td>Finance</td>\n",
       "      <td>145000.36</td>\n",
       "    </tr>\n",
       "    <tr>\n",
       "      <th>779</th>\n",
       "      <td>Brenda</td>\n",
       "      <td>Female</td>\n",
       "      <td>2015-01-18</td>\n",
       "      <td>4:39 PM</td>\n",
       "      <td>73749</td>\n",
       "      <td>19.332</td>\n",
       "      <td>False</td>\n",
       "      <td>Business Development</td>\n",
       "      <td>88006.16</td>\n",
       "    </tr>\n",
       "    <tr>\n",
       "      <th>94</th>\n",
       "      <td>John</td>\n",
       "      <td>Male</td>\n",
       "      <td>1989-12-23</td>\n",
       "      <td>7:01 AM</td>\n",
       "      <td>80740</td>\n",
       "      <td>19.305</td>\n",
       "      <td>False</td>\n",
       "      <td>Marketing</td>\n",
       "      <td>96326.86</td>\n",
       "    </tr>\n",
       "    <tr>\n",
       "      <th>880</th>\n",
       "      <td>James</td>\n",
       "      <td>Male</td>\n",
       "      <td>1993-01-15</td>\n",
       "      <td>5:19 PM</td>\n",
       "      <td>148985</td>\n",
       "      <td>19.280</td>\n",
       "      <td>False</td>\n",
       "      <td>Legal</td>\n",
       "      <td>177709.31</td>\n",
       "    </tr>\n",
       "    <tr>\n",
       "      <th>372</th>\n",
       "      <td>Jeremy</td>\n",
       "      <td>Male</td>\n",
       "      <td>1994-05-29</td>\n",
       "      <td>6:24 AM</td>\n",
       "      <td>47885</td>\n",
       "      <td>19.276</td>\n",
       "      <td>True</td>\n",
       "      <td>Human Resources</td>\n",
       "      <td>57115.31</td>\n",
       "    </tr>\n",
       "    <tr>\n",
       "      <th>754</th>\n",
       "      <td>Sandra</td>\n",
       "      <td>Female</td>\n",
       "      <td>1998-02-07</td>\n",
       "      <td>12:39 PM</td>\n",
       "      <td>132327</td>\n",
       "      <td>19.264</td>\n",
       "      <td>False</td>\n",
       "      <td>Product</td>\n",
       "      <td>157818.47</td>\n",
       "    </tr>\n",
       "    <tr>\n",
       "      <th>767</th>\n",
       "      <td>Robin</td>\n",
       "      <td>Female</td>\n",
       "      <td>2012-10-01</td>\n",
       "      <td>2:44 AM</td>\n",
       "      <td>41808</td>\n",
       "      <td>19.239</td>\n",
       "      <td>False</td>\n",
       "      <td>Business Development</td>\n",
       "      <td>49851.44</td>\n",
       "    </tr>\n",
       "    <tr>\n",
       "      <th>266</th>\n",
       "      <td>Virginia</td>\n",
       "      <td>Female</td>\n",
       "      <td>1999-10-20</td>\n",
       "      <td>6:23 AM</td>\n",
       "      <td>46905</td>\n",
       "      <td>19.154</td>\n",
       "      <td>False</td>\n",
       "      <td>Distribution</td>\n",
       "      <td>55889.18</td>\n",
       "    </tr>\n",
       "    <tr>\n",
       "      <th>514</th>\n",
       "      <td>Susan</td>\n",
       "      <td>Female</td>\n",
       "      <td>1986-04-18</td>\n",
       "      <td>9:31 AM</td>\n",
       "      <td>90829</td>\n",
       "      <td>19.142</td>\n",
       "      <td>False</td>\n",
       "      <td>Marketing</td>\n",
       "      <td>108215.49</td>\n",
       "    </tr>\n",
       "    <tr>\n",
       "      <th>148</th>\n",
       "      <td>Terry</td>\n",
       "      <td>Male</td>\n",
       "      <td>1990-09-03</td>\n",
       "      <td>9:15 PM</td>\n",
       "      <td>52226</td>\n",
       "      <td>19.135</td>\n",
       "      <td>False</td>\n",
       "      <td>Client Services</td>\n",
       "      <td>62219.45</td>\n",
       "    </tr>\n",
       "    <tr>\n",
       "      <th>785</th>\n",
       "      <td>Amy</td>\n",
       "      <td>Female</td>\n",
       "      <td>2009-05-20</td>\n",
       "      <td>6:26 AM</td>\n",
       "      <td>75415</td>\n",
       "      <td>19.132</td>\n",
       "      <td>False</td>\n",
       "      <td>Client Services</td>\n",
       "      <td>89843.40</td>\n",
       "    </tr>\n",
       "    <tr>\n",
       "      <th>177</th>\n",
       "      <td>Steven</td>\n",
       "      <td>Male</td>\n",
       "      <td>1985-11-10</td>\n",
       "      <td>10:53 AM</td>\n",
       "      <td>62719</td>\n",
       "      <td>19.127</td>\n",
       "      <td>False</td>\n",
       "      <td>Client Services</td>\n",
       "      <td>74715.26</td>\n",
       "    </tr>\n",
       "    <tr>\n",
       "      <th>498</th>\n",
       "      <td>Philip</td>\n",
       "      <td>Male</td>\n",
       "      <td>1985-07-18</td>\n",
       "      <td>6:36 AM</td>\n",
       "      <td>122319</td>\n",
       "      <td>19.122</td>\n",
       "      <td>False</td>\n",
       "      <td>Engineering</td>\n",
       "      <td>145708.84</td>\n",
       "    </tr>\n",
       "    <tr>\n",
       "      <th>654</th>\n",
       "      <td>Dorothy</td>\n",
       "      <td>Female</td>\n",
       "      <td>2008-10-08</td>\n",
       "      <td>12:22 AM</td>\n",
       "      <td>82744</td>\n",
       "      <td>19.111</td>\n",
       "      <td>True</td>\n",
       "      <td>Client Services</td>\n",
       "      <td>98557.21</td>\n",
       "    </tr>\n",
       "    <tr>\n",
       "      <th>219</th>\n",
       "      <td>Phyllis</td>\n",
       "      <td>No Gender</td>\n",
       "      <td>1984-04-21</td>\n",
       "      <td>7:05 PM</td>\n",
       "      <td>94088</td>\n",
       "      <td>19.107</td>\n",
       "      <td>False</td>\n",
       "      <td>Distribution</td>\n",
       "      <td>112065.39</td>\n",
       "    </tr>\n",
       "    <tr>\n",
       "      <th>28</th>\n",
       "      <td>Jerry</td>\n",
       "      <td>Male</td>\n",
       "      <td>2004-01-10</td>\n",
       "      <td>12:56 PM</td>\n",
       "      <td>95734</td>\n",
       "      <td>19.096</td>\n",
       "      <td>False</td>\n",
       "      <td>Client Services</td>\n",
       "      <td>114015.36</td>\n",
       "    </tr>\n",
       "    <tr>\n",
       "      <th>15</th>\n",
       "      <td>Diana</td>\n",
       "      <td>Female</td>\n",
       "      <td>1981-10-23</td>\n",
       "      <td>10:27 AM</td>\n",
       "      <td>132940</td>\n",
       "      <td>19.082</td>\n",
       "      <td>False</td>\n",
       "      <td>Client Services</td>\n",
       "      <td>158307.61</td>\n",
       "    </tr>\n",
       "    <tr>\n",
       "      <th>719</th>\n",
       "      <td>Lois</td>\n",
       "      <td>Female</td>\n",
       "      <td>2012-07-28</td>\n",
       "      <td>11:39 AM</td>\n",
       "      <td>53954</td>\n",
       "      <td>19.075</td>\n",
       "      <td>False</td>\n",
       "      <td>Product</td>\n",
       "      <td>64245.73</td>\n",
       "    </tr>\n",
       "    <tr>\n",
       "      <th>559</th>\n",
       "      <td>Beverly</td>\n",
       "      <td>Female</td>\n",
       "      <td>1990-10-22</td>\n",
       "      <td>2:45 PM</td>\n",
       "      <td>59070</td>\n",
       "      <td>19.064</td>\n",
       "      <td>True</td>\n",
       "      <td>Engineering</td>\n",
       "      <td>70331.10</td>\n",
       "    </tr>\n",
       "    <tr>\n",
       "      <th>250</th>\n",
       "      <td>Brenda</td>\n",
       "      <td>No Gender</td>\n",
       "      <td>1991-05-29</td>\n",
       "      <td>6:32 AM</td>\n",
       "      <td>82439</td>\n",
       "      <td>19.062</td>\n",
       "      <td>False</td>\n",
       "      <td>Sales</td>\n",
       "      <td>98153.52</td>\n",
       "    </tr>\n",
       "    <tr>\n",
       "      <th>892</th>\n",
       "      <td>Tina</td>\n",
       "      <td>Female</td>\n",
       "      <td>1997-05-15</td>\n",
       "      <td>3:53 PM</td>\n",
       "      <td>56450</td>\n",
       "      <td>19.040</td>\n",
       "      <td>True</td>\n",
       "      <td>Engineering</td>\n",
       "      <td>67198.08</td>\n",
       "    </tr>\n",
       "    <tr>\n",
       "      <th>271</th>\n",
       "      <td>Emily</td>\n",
       "      <td>Female</td>\n",
       "      <td>1988-01-13</td>\n",
       "      <td>6:42 AM</td>\n",
       "      <td>36711</td>\n",
       "      <td>19.028</td>\n",
       "      <td>True</td>\n",
       "      <td>Human Resources</td>\n",
       "      <td>43696.37</td>\n",
       "    </tr>\n",
       "    <tr>\n",
       "      <th>153</th>\n",
       "      <td>Irene</td>\n",
       "      <td>Female</td>\n",
       "      <td>1992-01-29</td>\n",
       "      <td>11:36 AM</td>\n",
       "      <td>133772</td>\n",
       "      <td>19.020</td>\n",
       "      <td>True</td>\n",
       "      <td>Sales</td>\n",
       "      <td>159215.43</td>\n",
       "    </tr>\n",
       "  </tbody>\n",
       "</table>\n",
       "</div>"
      ],
      "text/plain": [
       "    First_Name     Gender Start_date Last_Login_Time  Salary  Bonus_perct  \\\n",
       "442     Robert       Male 2007-03-11        11:20 AM  135882       19.944   \n",
       "136       Sean       Male 1996-05-04         8:59 PM  135490       19.934   \n",
       "304     Robert       Male 2014-11-18         5:00 AM   85799       19.930   \n",
       "742    Michael       Male 2002-08-31         1:20 AM   81206       19.908   \n",
       "317     Philip       Male 1989-08-02        11:21 AM  129968       19.897   \n",
       "350     Robert       Male 1994-10-29         4:26 AM  123294       19.894   \n",
       "713       Rose     Female 1982-12-31         6:50 PM  145001       19.850   \n",
       "582  Elizabeth     Female 2010-02-21         7:02 AM   79145       19.780   \n",
       "728     Evelyn     Female 2002-02-10         4:44 AM  123621       19.767   \n",
       "725     George       Male 1995-09-27         5:04 PM   36749       19.754   \n",
       "443     Sharon     Female 2011-07-01         9:50 AM   46007       19.731   \n",
       "338     Albert       Male 1997-02-01         4:20 PM   67827       19.717   \n",
       "408     Willie       Male 2009-08-22         1:03 PM   55038       19.691   \n",
       "124      Henry       Male 1995-04-24         4:18 AM   43542       19.687   \n",
       "895    Phillip       Male 1984-01-31         6:30 AM   42392       19.675   \n",
       "366      Craig       Male 1984-02-08         4:45 AM  113506       19.642   \n",
       "672     Martha     Female 1997-07-17        11:11 PM   94963       19.626   \n",
       "191      Linda     Female 2006-06-24        12:04 PM  110967       19.612   \n",
       "708     Joseph       Male 1982-11-04         9:46 PM  126010       19.601   \n",
       "866     Thomas       Male 2016-03-12         3:10 PM  105681       19.572   \n",
       "228      Betty     Female 2002-06-12         3:59 AM  104896       19.550   \n",
       "567      Debra     Female 1983-03-12        12:19 PM   74911       19.513   \n",
       "753       Ruby     Female 2006-08-13         6:27 PM   48354       19.501   \n",
       "409      Terry  No Gender 2016-07-15        12:29 AM  140002       19.490   \n",
       "828     Judith     Female 2004-03-01         7:32 AM  109324       19.488   \n",
       "821       Ryan       Male 1999-04-27         3:41 AM   85858       19.475   \n",
       "744      Keith       Male 2003-02-12         3:02 PM  120672       19.467   \n",
       "392     Andrea     Female 2010-10-01        11:54 AM   79123       19.422   \n",
       "575     Amanda  No Gender 1991-08-11         2:15 PM   46665       19.391   \n",
       "359       Rose     Female 2002-07-06         3:57 PM   63494       19.385   \n",
       "161    Jessica     Female 1995-10-23         5:53 AM   68759       19.343   \n",
       "382     Justin       Male 1986-05-22         6:30 AM  121508       19.334   \n",
       "779     Brenda     Female 2015-01-18         4:39 PM   73749       19.332   \n",
       "94        John       Male 1989-12-23         7:01 AM   80740       19.305   \n",
       "880      James       Male 1993-01-15         5:19 PM  148985       19.280   \n",
       "372     Jeremy       Male 1994-05-29         6:24 AM   47885       19.276   \n",
       "754     Sandra     Female 1998-02-07        12:39 PM  132327       19.264   \n",
       "767      Robin     Female 2012-10-01         2:44 AM   41808       19.239   \n",
       "266   Virginia     Female 1999-10-20         6:23 AM   46905       19.154   \n",
       "514      Susan     Female 1986-04-18         9:31 AM   90829       19.142   \n",
       "148      Terry       Male 1990-09-03         9:15 PM   52226       19.135   \n",
       "785        Amy     Female 2009-05-20         6:26 AM   75415       19.132   \n",
       "177     Steven       Male 1985-11-10        10:53 AM   62719       19.127   \n",
       "498     Philip       Male 1985-07-18         6:36 AM  122319       19.122   \n",
       "654    Dorothy     Female 2008-10-08        12:22 AM   82744       19.111   \n",
       "219    Phyllis  No Gender 1984-04-21         7:05 PM   94088       19.107   \n",
       "28       Jerry       Male 2004-01-10        12:56 PM   95734       19.096   \n",
       "15       Diana     Female 1981-10-23        10:27 AM  132940       19.082   \n",
       "719       Lois     Female 2012-07-28        11:39 AM   53954       19.075   \n",
       "559    Beverly     Female 1990-10-22         2:45 PM   59070       19.064   \n",
       "250     Brenda  No Gender 1991-05-29         6:32 AM   82439       19.062   \n",
       "892       Tina     Female 1997-05-15         3:53 PM   56450       19.040   \n",
       "271      Emily     Female 1988-01-13         6:42 AM   36711       19.028   \n",
       "153      Irene     Female 1992-01-29        11:36 AM  133772       19.020   \n",
       "\n",
       "     Senior_Management                  Team  Final_salary  \n",
       "442              False                 Legal     162982.31  \n",
       "136              False             Marketing     162498.58  \n",
       "304              False               Finance     102898.74  \n",
       "742               True          Distribution      97372.49  \n",
       "317              False               Finance     155827.73  \n",
       "350              False       Client Services     147822.11  \n",
       "713              False           Engineering     173783.70  \n",
       "582              False               Finance      94799.88  \n",
       "728               True             Marketing     148057.16  \n",
       "725              False               Finance      44008.40  \n",
       "443               True       Client Services      55084.64  \n",
       "338               True           Engineering      81200.45  \n",
       "408              False                 Legal      65875.53  \n",
       "124              False                 Legal      52114.11  \n",
       "895              False               Finance      50732.63  \n",
       "366              False             Marketing     135800.85  \n",
       "672               True  Business Development     113600.44  \n",
       "191               True       Human Resources     132729.85  \n",
       "708              False                 Legal     150709.22  \n",
       "866              False           Engineering     126364.89  \n",
       "228               True  Business Development     125403.17  \n",
       "567              False             Marketing      89528.38  \n",
       "753              False  Business Development      57783.51  \n",
       "409               True             Marketing     167288.39  \n",
       "828              False          Distribution     130629.06  \n",
       "821              False       Client Services     102578.85  \n",
       "744              False                 Legal     144163.22  \n",
       "392              False          Distribution      94490.27  \n",
       "575               True       Client Services      55713.81  \n",
       "359               True       Human Resources      75802.31  \n",
       "161               True               Finance      82059.05  \n",
       "382               True               Finance     145000.36  \n",
       "779              False  Business Development      88006.16  \n",
       "94               False             Marketing      96326.86  \n",
       "880              False                 Legal     177709.31  \n",
       "372               True       Human Resources      57115.31  \n",
       "754              False               Product     157818.47  \n",
       "767              False  Business Development      49851.44  \n",
       "266              False          Distribution      55889.18  \n",
       "514              False             Marketing     108215.49  \n",
       "148              False       Client Services      62219.45  \n",
       "785              False       Client Services      89843.40  \n",
       "177              False       Client Services      74715.26  \n",
       "498              False           Engineering     145708.84  \n",
       "654               True       Client Services      98557.21  \n",
       "219              False          Distribution     112065.39  \n",
       "28               False       Client Services     114015.36  \n",
       "15               False       Client Services     158307.61  \n",
       "719              False               Product      64245.73  \n",
       "559               True           Engineering      70331.10  \n",
       "250              False                 Sales      98153.52  \n",
       "892               True           Engineering      67198.08  \n",
       "271               True       Human Resources      43696.37  \n",
       "153               True                 Sales     159215.43  "
      ]
     },
     "execution_count": 64,
     "metadata": {},
     "output_type": "execute_result"
    }
   ],
   "source": [
    "bonus19"
   ]
  },
  {
   "cell_type": "markdown",
   "id": "e8f87c18",
   "metadata": {},
   "source": [
    "# Task: line chart on salary and startdate by team or gender."
   ]
  },
  {
   "cell_type": "code",
   "execution_count": 67,
   "id": "07b49e92",
   "metadata": {},
   "outputs": [
    {
     "data": {
      "text/plain": [
       "<Axes: xlabel='Start_date', ylabel='Salary'>"
      ]
     },
     "execution_count": 67,
     "metadata": {},
     "output_type": "execute_result"
    },
    {
     "data": {
      "image/png": "[encoded data removed]",
      "text/plain": [
       "<Figure size 640x480 with 1 Axes>"
      ]
     },
     "metadata": {},
     "output_type": "display_data"
    }
   ],
   "source": [
    "sns.lineplot(x=\"Start_date\", y='Salary', data=df)"
   ]
  },
  {
   "cell_type": "markdown",
   "id": "da6278ab",
   "metadata": {},
   "source": [
    "# Handling Outliers"
   ]
  },
  {
   "cell_type": "code",
   "execution_count": null,
   "id": "c5200ad9",
   "metadata": {},
   "outputs": [],
   "source": [
    "# Load the dataset\n",
    "df = sns.load_dataset(\"iris\")\n",
    "print(df.head())"
   ]
  },
  {
   "cell_type": "code",
   "execution_count": null,
   "id": "08022eff",
   "metadata": {},
   "outputs": [],
   "source": [
    "df['species'].value_counts()"
   ]
  },
  {
   "cell_type": "code",
   "execution_count": null,
   "id": "bdb25764",
   "metadata": {},
   "outputs": [],
   "source": [
    "sns.get_dataset_names()"
   ]
  },
  {
   "cell_type": "code",
   "execution_count": null,
   "id": "d082eede",
   "metadata": {},
   "outputs": [],
   "source": [
    "sns.boxplot(data=df)"
   ]
  },
  {
   "cell_type": "code",
   "execution_count": null,
   "id": "b3117bd2",
   "metadata": {},
   "outputs": [],
   "source": [
    "df.shape"
   ]
  },
  {
   "cell_type": "code",
   "execution_count": null,
   "id": "fef2baf8",
   "metadata": {},
   "outputs": [],
   "source": [
    "# IQR\n",
    "Q1 = np.percentile(df['sepal_width'], 25, method = 'midpoint')\n",
    "Q3 = np.percentile(df['sepal_width'], 75, method = 'midpoint')\n",
    "# print(Q1,Q3)\n",
    "IQR = (Q3 - Q1)\n",
    "print(\"Old Shape: \", df.shape)\n",
    "Upper = Q3+1.5*IQR\n",
    "# print(Upper)\n",
    "lower =  Q1-1.5*IQR  \n",
    "# print(lower)\n",
    "[lower,Upper]"
   ]
  },
  {
   "cell_type": "code",
   "execution_count": null,
   "id": "8667df01",
   "metadata": {},
   "outputs": [],
   "source": [
    "df['sepal_width'].min(),df['sepal_width'].max()"
   ]
  },
  {
   "cell_type": "code",
   "execution_count": null,
   "id": "e5184cca",
   "metadata": {},
   "outputs": [],
   "source": [
    "# Upper bound\n",
    "max_Upper_value = np.where(df['sepal_width'] >= Upper)\n",
    "print(max_Upper_value[0]) "
   ]
  },
  {
   "cell_type": "code",
   "execution_count": null,
   "id": "2bcaab2c",
   "metadata": {},
   "outputs": [],
   "source": [
    "# Lower bound\n",
    "min_Lower_value = np.where(df['sepal_width'] <= lower)\n",
    "print(min_Lower_value)"
   ]
  },
  {
   "cell_type": "code",
   "execution_count": null,
   "id": "b21d0973",
   "metadata": {},
   "outputs": [],
   "source": [
    "# df.head(35)"
   ]
  },
  {
   "cell_type": "code",
   "execution_count": null,
   "id": "9d716427",
   "metadata": {},
   "outputs": [],
   "source": [
    "df.drop(min_Lower_value[0], inplace = True)"
   ]
  },
  {
   "cell_type": "code",
   "execution_count": null,
   "id": "19e8686d",
   "metadata": {},
   "outputs": [],
   "source": [
    "df.drop(max_Upper_value[0], inplace = True)"
   ]
  },
  {
   "cell_type": "code",
   "execution_count": null,
   "id": "2730a4fd",
   "metadata": {},
   "outputs": [],
   "source": [
    "print(\"New Shape: \", df.shape)"
   ]
  },
  {
   "cell_type": "code",
   "execution_count": null,
   "id": "97b06baf",
   "metadata": {},
   "outputs": [],
   "source": [
    "sns.boxplot(data=df)"
   ]
  },
  {
   "cell_type": "code",
   "execution_count": null,
   "id": "1bda790b",
   "metadata": {},
   "outputs": [],
   "source": [
    "sns.boxplot(x='sepal_length', data=df)"
   ]
  },
  {
   "cell_type": "code",
   "execution_count": null,
   "id": "116147ec",
   "metadata": {},
   "outputs": [],
   "source": [
    "sns.boxplot(x='petal_length', data=df)"
   ]
  },
  {
   "cell_type": "code",
   "execution_count": null,
   "id": "97b698a3",
   "metadata": {},
   "outputs": [],
   "source": [
    "sns.boxplot(x='petal_width', data=df)"
   ]
  },
  {
   "cell_type": "code",
   "execution_count": null,
   "id": "b612307f",
   "metadata": {},
   "outputs": [],
   "source": [
    "sns.pairplot(df)"
   ]
  },
  {
   "cell_type": "code",
   "execution_count": null,
   "id": "ab8828a2",
   "metadata": {},
   "outputs": [],
   "source": [
    "sample_df = pd.read_excel(r\"C:\\Users\\excel\\DATA Science\\Datasets\\Sample - Superstore.xls\",sheet_name='People')\n",
    "sample_df"
   ]
  },
  {
   "cell_type": "code",
   "execution_count": null,
   "id": "af180812",
   "metadata": {},
   "outputs": [],
   "source": [
    "sample_df.shape"
   ]
  },
  {
   "cell_type": "code",
   "execution_count": null,
   "id": "bca82792",
   "metadata": {},
   "outputs": [],
   "source": [
    "!pip install xlrd"
   ]
  },
  {
   "cell_type": "code",
   "execution_count": null,
   "id": "9cbfa9dc",
   "metadata": {},
   "outputs": [],
   "source": []
  }
 ],
 "metadata": {
  "kernelspec": {
   "display_name": "Python 3 (ipykernel)",
   "language": "python",
   "name": "python3"
  },
  "language_info": {
   "codemirror_mode": {
    "name": "ipython",
    "version": 3
   },
   "file_extension": ".py",
   "mimetype": "text/x-python",
   "name": "python",
   "nbconvert_exporter": "python",
   "pygments_lexer": "ipython3",
   "version": "3.11.5"
  }
 },
 "nbformat": 4,
 "nbformat_minor": 5
}
