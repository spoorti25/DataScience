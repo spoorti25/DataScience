{
 "cells": [
  {
   "cell_type": "code",
   "execution_count": 1,
   "id": "59a74772",
   "metadata": {},
   "outputs": [
    {
     "data": {
      "text/html": [
       "<div>\n",
       "<style scoped>\n",
       "    .dataframe tbody tr th:only-of-type {\n",
       "        vertical-align: middle;\n",
       "    }\n",
       "\n",
       "    .dataframe tbody tr th {\n",
       "        vertical-align: top;\n",
       "    }\n",
       "\n",
       "    .dataframe thead th {\n",
       "        text-align: right;\n",
       "    }\n",
       "</style>\n",
       "<table border=\"1\" class=\"dataframe\">\n",
       "  <thead>\n",
       "    <tr style=\"text-align: right;\">\n",
       "      <th></th>\n",
       "      <th>Prepare a model for glass classification using Random Forest</th>\n",
       "    </tr>\n",
       "  </thead>\n",
       "  <tbody>\n",
       "    <tr>\n",
       "      <th>0</th>\n",
       "      <td>Data Description:</td>\n",
       "    </tr>\n",
       "    <tr>\n",
       "      <th>1</th>\n",
       "      <td>RI : refractive index</td>\n",
       "    </tr>\n",
       "    <tr>\n",
       "      <th>2</th>\n",
       "      <td>Na: Sodium (unit measurement: weight percent i...</td>\n",
       "    </tr>\n",
       "    <tr>\n",
       "      <th>3</th>\n",
       "      <td>Mg: Magnesium</td>\n",
       "    </tr>\n",
       "    <tr>\n",
       "      <th>4</th>\n",
       "      <td>AI: Aluminum</td>\n",
       "    </tr>\n",
       "    <tr>\n",
       "      <th>5</th>\n",
       "      <td>Si: Silicon</td>\n",
       "    </tr>\n",
       "    <tr>\n",
       "      <th>6</th>\n",
       "      <td>K:Potassium</td>\n",
       "    </tr>\n",
       "    <tr>\n",
       "      <th>7</th>\n",
       "      <td>Ca: Calcium</td>\n",
       "    </tr>\n",
       "    <tr>\n",
       "      <th>8</th>\n",
       "      <td>Ba: Barium</td>\n",
       "    </tr>\n",
       "    <tr>\n",
       "      <th>9</th>\n",
       "      <td>Fe: Iron</td>\n",
       "    </tr>\n",
       "    <tr>\n",
       "      <th>10</th>\n",
       "      <td>NaN</td>\n",
       "    </tr>\n",
       "    <tr>\n",
       "      <th>11</th>\n",
       "      <td>Type: Type of glass: (class attribute)</td>\n",
       "    </tr>\n",
       "    <tr>\n",
       "      <th>12</th>\n",
       "      <td>1 -- building_windows_float_processed</td>\n",
       "    </tr>\n",
       "    <tr>\n",
       "      <th>13</th>\n",
       "      <td>2 --building_windows_non_float_processed</td>\n",
       "    </tr>\n",
       "    <tr>\n",
       "      <th>14</th>\n",
       "      <td>3 --vehicle_windows_float_processed</td>\n",
       "    </tr>\n",
       "    <tr>\n",
       "      <th>15</th>\n",
       "      <td>4 --vehicle_windows_non_float_processed (none...</td>\n",
       "    </tr>\n",
       "    <tr>\n",
       "      <th>16</th>\n",
       "      <td>5 --containers</td>\n",
       "    </tr>\n",
       "    <tr>\n",
       "      <th>17</th>\n",
       "      <td>6 --tableware</td>\n",
       "    </tr>\n",
       "    <tr>\n",
       "      <th>18</th>\n",
       "      <td>7 --headlamps</td>\n",
       "    </tr>\n",
       "  </tbody>\n",
       "</table>\n",
       "</div>"
      ],
      "text/plain": [
       "   Prepare a model for glass classification using Random Forest\n",
       "0                                   Data Description:          \n",
       "1                               RI : refractive index          \n",
       "2   Na: Sodium (unit measurement: weight percent i...          \n",
       "3                                       Mg: Magnesium          \n",
       "4                                        AI: Aluminum          \n",
       "5                                         Si: Silicon          \n",
       "6                                         K:Potassium          \n",
       "7                                         Ca: Calcium          \n",
       "8                                          Ba: Barium          \n",
       "9                                            Fe: Iron          \n",
       "10                                                NaN          \n",
       "11             Type: Type of glass: (class attribute)          \n",
       "12              1 -- building_windows_float_processed          \n",
       "13           2 --building_windows_non_float_processed          \n",
       "14                3 --vehicle_windows_float_processed          \n",
       "15   4 --vehicle_windows_non_float_processed (none...          \n",
       "16                                     5 --containers          \n",
       "17                                      6 --tableware          \n",
       "18                                      7 --headlamps          "
      ]
     },
     "execution_count": 1,
     "metadata": {},
     "output_type": "execute_result"
    }
   ],
   "source": [
    "import pandas as pd\n",
    "import numpy as np\n",
    "import matplotlib.pyplot as plt\n",
    "import seaborn as sns\n",
    "import plotly.graph_objects as go\n",
    "\n",
    "import warnings\n",
    "warnings.filterwarnings(\"ignore\")\n",
    "\n",
    "# Load the dataset\n",
    "df1 = pd.read_excel(r\"C:\\Users\\J G TECH\\AppData\\Local\\Temp\\199d406c-665d-4a6c-9f6f-b3857779c720_Random Forest (1).zip.720\\Random Forest\\glass.xlsx\")\n",
    "\n",
    "df1.head(19)"
   ]
  },
  {
   "cell_type": "code",
   "execution_count": 2,
   "id": "b52452e8",
   "metadata": {},
   "outputs": [
    {
     "data": {
      "text/html": [
       "<div>\n",
       "<style scoped>\n",
       "    .dataframe tbody tr th:only-of-type {\n",
       "        vertical-align: middle;\n",
       "    }\n",
       "\n",
       "    .dataframe tbody tr th {\n",
       "        vertical-align: top;\n",
       "    }\n",
       "\n",
       "    .dataframe thead th {\n",
       "        text-align: right;\n",
       "    }\n",
       "</style>\n",
       "<table border=\"1\" class=\"dataframe\">\n",
       "  <thead>\n",
       "    <tr style=\"text-align: right;\">\n",
       "      <th></th>\n",
       "      <th>Prepare a model for glass classification using Random Forest</th>\n",
       "    </tr>\n",
       "  </thead>\n",
       "  <tbody>\n",
       "    <tr>\n",
       "      <th>0</th>\n",
       "      <td>Data Description:</td>\n",
       "    </tr>\n",
       "    <tr>\n",
       "      <th>1</th>\n",
       "      <td>RI : refractive index</td>\n",
       "    </tr>\n",
       "    <tr>\n",
       "      <th>2</th>\n",
       "      <td>Na: Sodium (unit measurement: weight percent i...</td>\n",
       "    </tr>\n",
       "    <tr>\n",
       "      <th>3</th>\n",
       "      <td>Mg: Magnesium</td>\n",
       "    </tr>\n",
       "    <tr>\n",
       "      <th>4</th>\n",
       "      <td>AI: Aluminum</td>\n",
       "    </tr>\n",
       "  </tbody>\n",
       "</table>\n",
       "</div>"
      ],
      "text/plain": [
       "  Prepare a model for glass classification using Random Forest\n",
       "0                                  Data Description:          \n",
       "1                              RI : refractive index          \n",
       "2  Na: Sodium (unit measurement: weight percent i...          \n",
       "3                                      Mg: Magnesium          \n",
       "4                                       AI: Aluminum          "
      ]
     },
     "execution_count": 2,
     "metadata": {},
     "output_type": "execute_result"
    }
   ],
   "source": [
    "df = pd.read_excel(r\"C:\\Users\\J G TECH\\AppData\\Local\\Temp\\2050e786-c2e3-4106-a164-3fa358c8c2ba_Random Forest (1).zip.2ba\\Random Forest\\glass.xlsx\")\n",
    "\n",
    "df.head()"
   ]
  },
  {
   "cell_type": "code",
   "execution_count": 3,
   "id": "88fb01b4",
   "metadata": {},
   "outputs": [
    {
     "name": "stdout",
     "output_type": "stream",
     "text": [
      "Shape of the dataset: (19, 1)\n"
     ]
    }
   ],
   "source": [
    "print(\"Shape of the dataset:\", df.shape)"
   ]
  },
  {
   "cell_type": "code",
   "execution_count": 4,
   "id": "c849ed97",
   "metadata": {},
   "outputs": [
    {
     "name": "stdout",
     "output_type": "stream",
     "text": [
      "\n",
      "Data types of each column:\n",
      "Prepare a model for glass classification using Random Forest    object\n",
      "dtype: object\n"
     ]
    }
   ],
   "source": [
    "print(\"\\nData types of each column:\")\n",
    "print(df.dtypes)"
   ]
  },
  {
   "cell_type": "code",
   "execution_count": 5,
   "id": "57cede16",
   "metadata": {},
   "outputs": [
    {
     "name": "stdout",
     "output_type": "stream",
     "text": [
      "\n",
      "Summary statistics of numerical columns:\n",
      "                                                   count unique  \\\n",
      "Prepare a model for glass classification using ...    18     18   \n",
      "\n",
      "                                                                  top freq  \n",
      "Prepare a model for glass classification using ...  Data Description:    1  \n"
     ]
    }
   ],
   "source": [
    "print(\"\\nSummary statistics of numerical columns:\")\n",
    "print(df.describe().T)"
   ]
  },
  {
   "cell_type": "code",
   "execution_count": null,
   "id": "b3548e93",
   "metadata": {},
   "outputs": [],
   "source": [
    "# Create a histogram for each numerical column\n",
    "fig = go.Figure()\n",
    "for column in ['RI', 'Na', 'Mg', 'Al', 'Si', 'K', 'Ca', 'Ba', 'Fe']:\n",
    "    fig.add_trace(go.Histogram(x=df[column], name=column))\n",
    "\n",
    "fig.update_layout(\n",
    "    title=\"Distribution of Numerical Data\",\n",
    "    xaxis_title=\"Values\",\n",
    "    yaxis_title=\"Frequency\"\n",
    ")\n",
    "\n",
    "fig.show()"
   ]
  },
  {
   "cell_type": "code",
   "execution_count": null,
   "id": "96f91ad4",
   "metadata": {},
   "outputs": [],
   "source": [
    "categorical_columns = ['Type']\n",
    "\n",
    "# Create a bar plot for each categorical column\n",
    "fig = go.Figure()\n",
    "for column in categorical_columns:\n",
    "    counts = df[column].value_counts()\n",
    "    fig.add_trace(go.Bar(x=counts.index, y=counts.values, name=column))\n",
    "\n",
    "fig.update_layout(\n",
    "    title=\"Distribution of Categorical Data\",\n",
    "    xaxis_title=\"Categories\",\n",
    "    yaxis_title=\"Number of Samples\"\n",
    ")\n",
    "\n",
    "fig.show()"
   ]
  },
  {
   "cell_type": "code",
   "execution_count": 8,
   "id": "1c41560c",
   "metadata": {},
   "outputs": [
    {
     "name": "stdout",
     "output_type": "stream",
     "text": [
      "\n",
      "Missing values:\n",
      "Prepare a model for glass classification using Random Forest    1\n",
      "dtype: int64\n"
     ]
    }
   ],
   "source": [
    "print(\"\\nMissing values:\")\n",
    "print(df.isnull().sum())"
   ]
  },
  {
   "cell_type": "code",
   "execution_count": 9,
   "id": "c745d59b",
   "metadata": {},
   "outputs": [
    {
     "name": "stdout",
     "output_type": "stream",
     "text": [
      "\n",
      "Duplicate values:\n",
      "0\n"
     ]
    }
   ],
   "source": [
    "print(\"\\nDuplicate values:\")\n",
    "print(df.duplicated().sum())"
   ]
  },
  {
   "cell_type": "code",
   "execution_count": 10,
   "id": "683a3836",
   "metadata": {},
   "outputs": [],
   "source": [
    "df.drop_duplicates(inplace=True)"
   ]
  },
  {
   "cell_type": "code",
   "execution_count": 11,
   "id": "87fe8e3d",
   "metadata": {},
   "outputs": [
    {
     "name": "stdout",
     "output_type": "stream",
     "text": [
      "\n",
      "Duplicate values:\n",
      "0\n"
     ]
    }
   ],
   "source": [
    "print(\"\\nDuplicate values:\")\n",
    "print(df.duplicated().sum())"
   ]
  },
  {
   "cell_type": "code",
   "execution_count": null,
   "id": "fa50c070",
   "metadata": {},
   "outputs": [],
   "source": [
    "# Create a box plot for each numerical column\n",
    "fig = go.Figure()\n",
    "for column in ['RI', 'Na', 'Mg', 'Al', 'Si', 'K', 'Ca', 'Ba', 'Fe']:\n",
    "    fig.add_trace(go.Box(y=df[column], name=column, boxmean='sd'))\n",
    "\n",
    "# Update layout\n",
    "fig.update_layout(\n",
    "    title=\"Box Plot of Numerical Data (Check Outliers)\",\n",
    "    yaxis_title=\"Values\"\n",
    ")\n",
    "\n",
    "# Show the plot\n",
    "fig.show()"
   ]
  },
  {
   "cell_type": "code",
   "execution_count": null,
   "id": "68237604",
   "metadata": {},
   "outputs": [],
   "source": [
    "\n",
    "print(\"\\nCount of each class in the target variable:\")\n",
    "print(df['Type'].value_counts())"
   ]
  },
  {
   "cell_type": "code",
   "execution_count": null,
   "id": "3a66e507",
   "metadata": {},
   "outputs": [],
   "source": [
    "df.hist(figsize=(12, 8))\n",
    "plt.suptitle('Histograms of Numerical Features', y=1.02)\n",
    "plt.tight_layout()\n",
    "plt.show()"
   ]
  },
  {
   "cell_type": "code",
   "execution_count": 17,
   "id": "d4eb6ba9",
   "metadata": {},
   "outputs": [
    {
     "name": "stdout",
     "output_type": "stream",
     "text": [
      "Missing values:\n",
      "Prepare a model for glass classification using Random Forest    1\n",
      "dtype: int64\n"
     ]
    }
   ],
   "source": [
    "\n",
    "print(\"Missing values:\")\n",
    "print(df.isnull().sum())"
   ]
  },
  {
   "cell_type": "code",
   "execution_count": 18,
   "id": "7a542d2f",
   "metadata": {},
   "outputs": [
    {
     "name": "stdout",
     "output_type": "stream",
     "text": [
      "<class 'pandas.core.frame.DataFrame'>\n",
      "RangeIndex: 19 entries, 0 to 18\n",
      "Data columns (total 1 columns):\n",
      " #   Column                                                        Non-Null Count  Dtype \n",
      "---  ------                                                        --------------  ----- \n",
      " 0   Prepare a model for glass classification using Random Forest  18 non-null     object\n",
      "dtypes: object(1)\n",
      "memory usage: 284.0+ bytes\n"
     ]
    }
   ],
   "source": [
    "\n",
    "df.info()"
   ]
  }
 ],
 "metadata": {
  "kernelspec": {
   "display_name": "Python 3 (ipykernel)",
   "language": "python",
   "name": "python3"
  },
  "language_info": {
   "codemirror_mode": {
    "name": "ipython",
    "version": 3
   },
   "file_extension": ".py",
   "mimetype": "text/x-python",
   "name": "python",
   "nbconvert_exporter": "python",
   "pygments_lexer": "ipython3",
   "version": "3.11.5"
  }
 },
 "nbformat": 4,
 "nbformat_minor": 5
}
